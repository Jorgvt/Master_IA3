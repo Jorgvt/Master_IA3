{
 "cells": [
  {
   "cell_type": "code",
   "execution_count": 2,
   "metadata": {},
   "outputs": [],
   "source": [
    "import warnings\n",
    "warnings.filterwarnings('ignore')\n",
    "\n",
    "import numpy as np\n",
    "import seaborn as sns\n",
    "import bokeh.plotting as bp\n",
    "import matplotlib.pyplot as plt\n",
    "from sklearn.datasets.samples_generator import make_regression \n",
    "from scipy import stats \n",
    "from bokeh.models import  WheelZoomTool, ResetTool, PanTool\n",
    "%matplotlib inline "
   ]
  },
  {
   "cell_type": "markdown",
   "metadata": {},
   "source": [
    "## What is \"learning from data\"?\n",
    "\n",
    ">In general **Learning from Data** is a scientific discipline that is concerned with the design and development of algorithms that allow computers to infer (from data) a  model that allows *compact representation* (unsupervised learning) and/or *good generalization* (supervised learning). \n",
    "\n",
    "This is an important technology because it enables computational systems to adaptively improve their performance with experience accumulated from the observed data. \n",
    "\n",
    "Most of these algorithms are based on the *iterative solution* of a mathematical problem that involves data and model. If there was an analytical solution to the problem, this should be the adopted one, but this is not the case for most of the cases.\n",
    "\n",
    "So, the most common strategy for **learning from data** is based on solving a system of equations as a way to find a series of parameters of the model that minimizes a mathematical problem. This is called **optimization**.\n",
    "\n",
    "The most important technique for solving optimization problems is **gradient descend**."
   ]
  },
  {
   "cell_type": "markdown",
   "metadata": {},
   "source": [
    "## Gradient descend (for *hackers*) for function minimization: 1-D\n",
    "\n",
    "Let's suppose that we have a function $f: \\Re \\rightarrow \\Re$. For example: \n",
    "\n",
    "$$f(x) = x^2$$\n",
    "\n",
    "Our objective is to find the argument  $x$ that minimizes this function (for maximization, consider $-f(x)$). To this end, the critical concept is the **derivative**.\n",
    "\n",
    "The derivative of $f$ of a variable $x$, $f'(x)$ or $\\frac{\\mathrm{d}f}{\\mathrm{d}x}$,  is a measure of the rate at which the value of the function changes with respect to the change of the variable. It is defined as the following limit:\n",
    "\n",
    "\n",
    "$$ f'(x) = \\lim_{h \\rightarrow 0} \\frac{f(x + h) - f(x)}{h} $$\n",
    "\n",
    "The derivative specifies how to scale a small change in the input in order to obtain the corresponding change in the output: \n",
    "\n",
    "$$ f(x + h) \\approx f(x) + h f'(x)$$"
   ]
  },
  {
   "cell_type": "code",
   "execution_count": 3,
   "metadata": {},
   "outputs": [
    {
     "output_type": "stream",
     "name": "stdout",
     "text": [
      "4.0000010006480125\n"
     ]
    }
   ],
   "source": [
    "# numerical derivative at a point x\n",
    "\n",
    "def f(x):\n",
    "    return x**2\n",
    "\n",
    "def fin_dif(x, f, h = 0.000001):\n",
    "    return (f(x+h) - f(x))/h\n",
    "\n",
    "x = 2.0\n",
    "print(fin_dif(x,f))"
   ]
  },
  {
   "cell_type": "markdown",
   "metadata": {},
   "source": [
    "The limit as $h$ approaches zero, if it exists, should represent the **slope of the tangent line** to $(x, f(x))$. \n",
    "\n",
    "For values that are not zero it is only an approximation."
   ]
  },
  {
   "cell_type": "code",
   "execution_count": 4,
   "metadata": {},
   "outputs": [
    {
     "output_type": "stream",
     "name": "stdout",
     "text": [
      "25.000000 25.000000\n27.562500 27.500000\n30.250000 30.000001\n33.062500 32.500001\n36.000000 35.000001\n"
     ]
    }
   ],
   "source": [
    "for h in np.linspace(0.0, 1.0 , 5):\n",
    "    print(\"{:3.6f}\".format(f(5+h)), \"{:3.6f}\".format(f(5)+h*fin_dif(5,f)))"
   ]
  },
  {
   "cell_type": "code",
   "execution_count": 5,
   "metadata": {
    "scrolled": true
   },
   "outputs": [
    {
     "output_type": "display_data",
     "data": {
      "text/plain": "<Figure size 432x288 with 1 Axes>",
      "image/svg+xml": "<?xml version=\"1.0\" encoding=\"utf-8\" standalone=\"no\"?>\r\n<!DOCTYPE svg PUBLIC \"-//W3C//DTD SVG 1.1//EN\"\r\n  \"http://www.w3.org/Graphics/SVG/1.1/DTD/svg11.dtd\">\r\n<!-- Created with matplotlib (https://matplotlib.org/) -->\r\n<svg height=\"248.518125pt\" version=\"1.1\" viewBox=\"0 0 372.103125 248.518125\" width=\"372.103125pt\" xmlns=\"http://www.w3.org/2000/svg\" xmlns:xlink=\"http://www.w3.org/1999/xlink\">\r\n <metadata>\r\n  <rdf:RDF xmlns:cc=\"http://creativecommons.org/ns#\" xmlns:dc=\"http://purl.org/dc/elements/1.1/\" xmlns:rdf=\"http://www.w3.org/1999/02/22-rdf-syntax-ns#\">\r\n   <cc:Work>\r\n    <dc:type rdf:resource=\"http://purl.org/dc/dcmitype/StillImage\"/>\r\n    <dc:date>2020-10-23T19:48:23.901902</dc:date>\r\n    <dc:format>image/svg+xml</dc:format>\r\n    <dc:creator>\r\n     <cc:Agent>\r\n      <dc:title>Matplotlib v3.3.1, https://matplotlib.org/</dc:title>\r\n     </cc:Agent>\r\n    </dc:creator>\r\n   </cc:Work>\r\n  </rdf:RDF>\r\n </metadata>\r\n <defs>\r\n  <style type=\"text/css\">*{stroke-linecap:butt;stroke-linejoin:round;}</style>\r\n </defs>\r\n <g id=\"figure_1\">\r\n  <g id=\"patch_1\">\r\n   <path d=\"M 0 248.518125 \r\nL 372.103125 248.518125 \r\nL 372.103125 0 \r\nL 0 0 \r\nz\r\n\" style=\"fill:none;\"/>\r\n  </g>\r\n  <g id=\"axes_1\">\r\n   <g id=\"patch_2\">\r\n    <path d=\"M 30.103125 224.64 \r\nL 364.903125 224.64 \r\nL 364.903125 7.2 \r\nL 30.103125 7.2 \r\nz\r\n\" style=\"fill:#ffffff;\"/>\r\n   </g>\r\n   <g id=\"matplotlib.axis_1\">\r\n    <g id=\"xtick_1\">\r\n     <g id=\"line2d_1\">\r\n      <path clip-path=\"url(#p9ffe67f3c5)\" d=\"M 75.75767 224.64 \r\nL 75.75767 7.2 \r\n\" style=\"fill:none;stroke:#b0b0b0;stroke-linecap:square;stroke-width:0.8;\"/>\r\n     </g>\r\n     <g id=\"line2d_2\">\r\n      <defs>\r\n       <path d=\"M 0 0 \r\nL 0 3.5 \r\n\" id=\"m5ac29d62fa\" style=\"stroke:#000000;stroke-width:0.8;\"/>\r\n      </defs>\r\n      <g>\r\n       <use style=\"stroke:#000000;stroke-width:0.8;\" x=\"75.75767\" xlink:href=\"#m5ac29d62fa\" y=\"224.64\"/>\r\n      </g>\r\n     </g>\r\n     <g id=\"text_1\">\r\n      <!-- −1.4 -->\r\n      <g transform=\"translate(63.616264 239.238437)scale(0.1 -0.1)\">\r\n       <defs>\r\n        <path d=\"M 10.59375 35.5 \r\nL 73.1875 35.5 \r\nL 73.1875 27.203125 \r\nL 10.59375 27.203125 \r\nz\r\n\" id=\"DejaVuSans-8722\"/>\r\n        <path d=\"M 12.40625 8.296875 \r\nL 28.515625 8.296875 \r\nL 28.515625 63.921875 \r\nL 10.984375 60.40625 \r\nL 10.984375 69.390625 \r\nL 28.421875 72.90625 \r\nL 38.28125 72.90625 \r\nL 38.28125 8.296875 \r\nL 54.390625 8.296875 \r\nL 54.390625 0 \r\nL 12.40625 0 \r\nz\r\n\" id=\"DejaVuSans-49\"/>\r\n        <path d=\"M 10.6875 12.40625 \r\nL 21 12.40625 \r\nL 21 0 \r\nL 10.6875 0 \r\nz\r\n\" id=\"DejaVuSans-46\"/>\r\n        <path d=\"M 37.796875 64.3125 \r\nL 12.890625 25.390625 \r\nL 37.796875 25.390625 \r\nz\r\nM 35.203125 72.90625 \r\nL 47.609375 72.90625 \r\nL 47.609375 25.390625 \r\nL 58.015625 25.390625 \r\nL 58.015625 17.1875 \r\nL 47.609375 17.1875 \r\nL 47.609375 0 \r\nL 37.796875 0 \r\nL 37.796875 17.1875 \r\nL 4.890625 17.1875 \r\nL 4.890625 26.703125 \r\nz\r\n\" id=\"DejaVuSans-52\"/>\r\n       </defs>\r\n       <use xlink:href=\"#DejaVuSans-8722\"/>\r\n       <use x=\"83.789062\" xlink:href=\"#DejaVuSans-49\"/>\r\n       <use x=\"147.412109\" xlink:href=\"#DejaVuSans-46\"/>\r\n       <use x=\"179.199219\" xlink:href=\"#DejaVuSans-52\"/>\r\n      </g>\r\n     </g>\r\n    </g>\r\n    <g id=\"xtick_2\">\r\n     <g id=\"line2d_3\">\r\n      <path clip-path=\"url(#p9ffe67f3c5)\" d=\"M 136.630398 224.64 \r\nL 136.630398 7.2 \r\n\" style=\"fill:none;stroke:#b0b0b0;stroke-linecap:square;stroke-width:0.8;\"/>\r\n     </g>\r\n     <g id=\"line2d_4\">\r\n      <g>\r\n       <use style=\"stroke:#000000;stroke-width:0.8;\" x=\"136.630398\" xlink:href=\"#m5ac29d62fa\" y=\"224.64\"/>\r\n      </g>\r\n     </g>\r\n     <g id=\"text_2\">\r\n      <!-- −1.2 -->\r\n      <g transform=\"translate(124.488991 239.238437)scale(0.1 -0.1)\">\r\n       <defs>\r\n        <path d=\"M 19.1875 8.296875 \r\nL 53.609375 8.296875 \r\nL 53.609375 0 \r\nL 7.328125 0 \r\nL 7.328125 8.296875 \r\nQ 12.9375 14.109375 22.625 23.890625 \r\nQ 32.328125 33.6875 34.8125 36.53125 \r\nQ 39.546875 41.84375 41.421875 45.53125 \r\nQ 43.3125 49.21875 43.3125 52.78125 \r\nQ 43.3125 58.59375 39.234375 62.25 \r\nQ 35.15625 65.921875 28.609375 65.921875 \r\nQ 23.96875 65.921875 18.8125 64.3125 \r\nQ 13.671875 62.703125 7.8125 59.421875 \r\nL 7.8125 69.390625 \r\nQ 13.765625 71.78125 18.9375 73 \r\nQ 24.125 74.21875 28.421875 74.21875 \r\nQ 39.75 74.21875 46.484375 68.546875 \r\nQ 53.21875 62.890625 53.21875 53.421875 \r\nQ 53.21875 48.921875 51.53125 44.890625 \r\nQ 49.859375 40.875 45.40625 35.40625 \r\nQ 44.1875 33.984375 37.640625 27.21875 \r\nQ 31.109375 20.453125 19.1875 8.296875 \r\nz\r\n\" id=\"DejaVuSans-50\"/>\r\n       </defs>\r\n       <use xlink:href=\"#DejaVuSans-8722\"/>\r\n       <use x=\"83.789062\" xlink:href=\"#DejaVuSans-49\"/>\r\n       <use x=\"147.412109\" xlink:href=\"#DejaVuSans-46\"/>\r\n       <use x=\"179.199219\" xlink:href=\"#DejaVuSans-50\"/>\r\n      </g>\r\n     </g>\r\n    </g>\r\n    <g id=\"xtick_3\">\r\n     <g id=\"line2d_5\">\r\n      <path clip-path=\"url(#p9ffe67f3c5)\" d=\"M 197.503125 224.64 \r\nL 197.503125 7.2 \r\n\" style=\"fill:none;stroke:#b0b0b0;stroke-linecap:square;stroke-width:0.8;\"/>\r\n     </g>\r\n     <g id=\"line2d_6\">\r\n      <g>\r\n       <use style=\"stroke:#000000;stroke-width:0.8;\" x=\"197.503125\" xlink:href=\"#m5ac29d62fa\" y=\"224.64\"/>\r\n      </g>\r\n     </g>\r\n     <g id=\"text_3\">\r\n      <!-- −1.0 -->\r\n      <g transform=\"translate(185.361719 239.238437)scale(0.1 -0.1)\">\r\n       <defs>\r\n        <path d=\"M 31.78125 66.40625 \r\nQ 24.171875 66.40625 20.328125 58.90625 \r\nQ 16.5 51.421875 16.5 36.375 \r\nQ 16.5 21.390625 20.328125 13.890625 \r\nQ 24.171875 6.390625 31.78125 6.390625 \r\nQ 39.453125 6.390625 43.28125 13.890625 \r\nQ 47.125 21.390625 47.125 36.375 \r\nQ 47.125 51.421875 43.28125 58.90625 \r\nQ 39.453125 66.40625 31.78125 66.40625 \r\nz\r\nM 31.78125 74.21875 \r\nQ 44.046875 74.21875 50.515625 64.515625 \r\nQ 56.984375 54.828125 56.984375 36.375 \r\nQ 56.984375 17.96875 50.515625 8.265625 \r\nQ 44.046875 -1.421875 31.78125 -1.421875 \r\nQ 19.53125 -1.421875 13.0625 8.265625 \r\nQ 6.59375 17.96875 6.59375 36.375 \r\nQ 6.59375 54.828125 13.0625 64.515625 \r\nQ 19.53125 74.21875 31.78125 74.21875 \r\nz\r\n\" id=\"DejaVuSans-48\"/>\r\n       </defs>\r\n       <use xlink:href=\"#DejaVuSans-8722\"/>\r\n       <use x=\"83.789062\" xlink:href=\"#DejaVuSans-49\"/>\r\n       <use x=\"147.412109\" xlink:href=\"#DejaVuSans-46\"/>\r\n       <use x=\"179.199219\" xlink:href=\"#DejaVuSans-48\"/>\r\n      </g>\r\n     </g>\r\n    </g>\r\n    <g id=\"xtick_4\">\r\n     <g id=\"line2d_7\">\r\n      <path clip-path=\"url(#p9ffe67f3c5)\" d=\"M 258.375852 224.64 \r\nL 258.375852 7.2 \r\n\" style=\"fill:none;stroke:#b0b0b0;stroke-linecap:square;stroke-width:0.8;\"/>\r\n     </g>\r\n     <g id=\"line2d_8\">\r\n      <g>\r\n       <use style=\"stroke:#000000;stroke-width:0.8;\" x=\"258.375852\" xlink:href=\"#m5ac29d62fa\" y=\"224.64\"/>\r\n      </g>\r\n     </g>\r\n     <g id=\"text_4\">\r\n      <!-- −0.8 -->\r\n      <g transform=\"translate(246.234446 239.238437)scale(0.1 -0.1)\">\r\n       <defs>\r\n        <path d=\"M 31.78125 34.625 \r\nQ 24.75 34.625 20.71875 30.859375 \r\nQ 16.703125 27.09375 16.703125 20.515625 \r\nQ 16.703125 13.921875 20.71875 10.15625 \r\nQ 24.75 6.390625 31.78125 6.390625 \r\nQ 38.8125 6.390625 42.859375 10.171875 \r\nQ 46.921875 13.96875 46.921875 20.515625 \r\nQ 46.921875 27.09375 42.890625 30.859375 \r\nQ 38.875 34.625 31.78125 34.625 \r\nz\r\nM 21.921875 38.8125 \r\nQ 15.578125 40.375 12.03125 44.71875 \r\nQ 8.5 49.078125 8.5 55.328125 \r\nQ 8.5 64.0625 14.71875 69.140625 \r\nQ 20.953125 74.21875 31.78125 74.21875 \r\nQ 42.671875 74.21875 48.875 69.140625 \r\nQ 55.078125 64.0625 55.078125 55.328125 \r\nQ 55.078125 49.078125 51.53125 44.71875 \r\nQ 48 40.375 41.703125 38.8125 \r\nQ 48.828125 37.15625 52.796875 32.3125 \r\nQ 56.78125 27.484375 56.78125 20.515625 \r\nQ 56.78125 9.90625 50.3125 4.234375 \r\nQ 43.84375 -1.421875 31.78125 -1.421875 \r\nQ 19.734375 -1.421875 13.25 4.234375 \r\nQ 6.78125 9.90625 6.78125 20.515625 \r\nQ 6.78125 27.484375 10.78125 32.3125 \r\nQ 14.796875 37.15625 21.921875 38.8125 \r\nz\r\nM 18.3125 54.390625 \r\nQ 18.3125 48.734375 21.84375 45.5625 \r\nQ 25.390625 42.390625 31.78125 42.390625 \r\nQ 38.140625 42.390625 41.71875 45.5625 \r\nQ 45.3125 48.734375 45.3125 54.390625 \r\nQ 45.3125 60.0625 41.71875 63.234375 \r\nQ 38.140625 66.40625 31.78125 66.40625 \r\nQ 25.390625 66.40625 21.84375 63.234375 \r\nQ 18.3125 60.0625 18.3125 54.390625 \r\nz\r\n\" id=\"DejaVuSans-56\"/>\r\n       </defs>\r\n       <use xlink:href=\"#DejaVuSans-8722\"/>\r\n       <use x=\"83.789062\" xlink:href=\"#DejaVuSans-48\"/>\r\n       <use x=\"147.412109\" xlink:href=\"#DejaVuSans-46\"/>\r\n       <use x=\"179.199219\" xlink:href=\"#DejaVuSans-56\"/>\r\n      </g>\r\n     </g>\r\n    </g>\r\n    <g id=\"xtick_5\">\r\n     <g id=\"line2d_9\">\r\n      <path clip-path=\"url(#p9ffe67f3c5)\" d=\"M 319.24858 224.64 \r\nL 319.24858 7.2 \r\n\" style=\"fill:none;stroke:#b0b0b0;stroke-linecap:square;stroke-width:0.8;\"/>\r\n     </g>\r\n     <g id=\"line2d_10\">\r\n      <g>\r\n       <use style=\"stroke:#000000;stroke-width:0.8;\" x=\"319.24858\" xlink:href=\"#m5ac29d62fa\" y=\"224.64\"/>\r\n      </g>\r\n     </g>\r\n     <g id=\"text_5\">\r\n      <!-- −0.6 -->\r\n      <g transform=\"translate(307.107173 239.238437)scale(0.1 -0.1)\">\r\n       <defs>\r\n        <path d=\"M 33.015625 40.375 \r\nQ 26.375 40.375 22.484375 35.828125 \r\nQ 18.609375 31.296875 18.609375 23.390625 \r\nQ 18.609375 15.53125 22.484375 10.953125 \r\nQ 26.375 6.390625 33.015625 6.390625 \r\nQ 39.65625 6.390625 43.53125 10.953125 \r\nQ 47.40625 15.53125 47.40625 23.390625 \r\nQ 47.40625 31.296875 43.53125 35.828125 \r\nQ 39.65625 40.375 33.015625 40.375 \r\nz\r\nM 52.59375 71.296875 \r\nL 52.59375 62.3125 \r\nQ 48.875 64.0625 45.09375 64.984375 \r\nQ 41.3125 65.921875 37.59375 65.921875 \r\nQ 27.828125 65.921875 22.671875 59.328125 \r\nQ 17.53125 52.734375 16.796875 39.40625 \r\nQ 19.671875 43.65625 24.015625 45.921875 \r\nQ 28.375 48.1875 33.59375 48.1875 \r\nQ 44.578125 48.1875 50.953125 41.515625 \r\nQ 57.328125 34.859375 57.328125 23.390625 \r\nQ 57.328125 12.15625 50.6875 5.359375 \r\nQ 44.046875 -1.421875 33.015625 -1.421875 \r\nQ 20.359375 -1.421875 13.671875 8.265625 \r\nQ 6.984375 17.96875 6.984375 36.375 \r\nQ 6.984375 53.65625 15.1875 63.9375 \r\nQ 23.390625 74.21875 37.203125 74.21875 \r\nQ 40.921875 74.21875 44.703125 73.484375 \r\nQ 48.484375 72.75 52.59375 71.296875 \r\nz\r\n\" id=\"DejaVuSans-54\"/>\r\n       </defs>\r\n       <use xlink:href=\"#DejaVuSans-8722\"/>\r\n       <use x=\"83.789062\" xlink:href=\"#DejaVuSans-48\"/>\r\n       <use x=\"147.412109\" xlink:href=\"#DejaVuSans-46\"/>\r\n       <use x=\"179.199219\" xlink:href=\"#DejaVuSans-54\"/>\r\n      </g>\r\n     </g>\r\n    </g>\r\n   </g>\r\n   <g id=\"matplotlib.axis_2\">\r\n    <g id=\"ytick_1\">\r\n     <g id=\"line2d_11\">\r\n      <path clip-path=\"url(#p9ffe67f3c5)\" d=\"M 30.103125 214.756364 \r\nL 364.903125 214.756364 \r\n\" style=\"fill:none;stroke:#b0b0b0;stroke-linecap:square;stroke-width:0.8;\"/>\r\n     </g>\r\n     <g id=\"line2d_12\">\r\n      <defs>\r\n       <path d=\"M 0 0 \r\nL -3.5 0 \r\n\" id=\"m177bce10f1\" style=\"stroke:#000000;stroke-width:0.8;\"/>\r\n      </defs>\r\n      <g>\r\n       <use style=\"stroke:#000000;stroke-width:0.8;\" x=\"30.103125\" xlink:href=\"#m177bce10f1\" y=\"214.756364\"/>\r\n      </g>\r\n     </g>\r\n     <g id=\"text_6\">\r\n      <!-- 0.0 -->\r\n      <g transform=\"translate(7.2 218.555582)scale(0.1 -0.1)\">\r\n       <use xlink:href=\"#DejaVuSans-48\"/>\r\n       <use x=\"63.623047\" xlink:href=\"#DejaVuSans-46\"/>\r\n       <use x=\"95.410156\" xlink:href=\"#DejaVuSans-48\"/>\r\n      </g>\r\n     </g>\r\n    </g>\r\n    <g id=\"ytick_2\">\r\n     <g id=\"line2d_13\">\r\n      <path clip-path=\"url(#p9ffe67f3c5)\" d=\"M 30.103125 170.829091 \r\nL 364.903125 170.829091 \r\n\" style=\"fill:none;stroke:#b0b0b0;stroke-linecap:square;stroke-width:0.8;\"/>\r\n     </g>\r\n     <g id=\"line2d_14\">\r\n      <g>\r\n       <use style=\"stroke:#000000;stroke-width:0.8;\" x=\"30.103125\" xlink:href=\"#m177bce10f1\" y=\"170.829091\"/>\r\n      </g>\r\n     </g>\r\n     <g id=\"text_7\">\r\n      <!-- 0.5 -->\r\n      <g transform=\"translate(7.2 174.62831)scale(0.1 -0.1)\">\r\n       <defs>\r\n        <path d=\"M 10.796875 72.90625 \r\nL 49.515625 72.90625 \r\nL 49.515625 64.59375 \r\nL 19.828125 64.59375 \r\nL 19.828125 46.734375 \r\nQ 21.96875 47.46875 24.109375 47.828125 \r\nQ 26.265625 48.1875 28.421875 48.1875 \r\nQ 40.625 48.1875 47.75 41.5 \r\nQ 54.890625 34.8125 54.890625 23.390625 \r\nQ 54.890625 11.625 47.5625 5.09375 \r\nQ 40.234375 -1.421875 26.90625 -1.421875 \r\nQ 22.3125 -1.421875 17.546875 -0.640625 \r\nQ 12.796875 0.140625 7.71875 1.703125 \r\nL 7.71875 11.625 \r\nQ 12.109375 9.234375 16.796875 8.0625 \r\nQ 21.484375 6.890625 26.703125 6.890625 \r\nQ 35.15625 6.890625 40.078125 11.328125 \r\nQ 45.015625 15.765625 45.015625 23.390625 \r\nQ 45.015625 31 40.078125 35.4375 \r\nQ 35.15625 39.890625 26.703125 39.890625 \r\nQ 22.75 39.890625 18.8125 39.015625 \r\nQ 14.890625 38.140625 10.796875 36.28125 \r\nz\r\n\" id=\"DejaVuSans-53\"/>\r\n       </defs>\r\n       <use xlink:href=\"#DejaVuSans-48\"/>\r\n       <use x=\"63.623047\" xlink:href=\"#DejaVuSans-46\"/>\r\n       <use x=\"95.410156\" xlink:href=\"#DejaVuSans-53\"/>\r\n      </g>\r\n     </g>\r\n    </g>\r\n    <g id=\"ytick_3\">\r\n     <g id=\"line2d_15\">\r\n      <path clip-path=\"url(#p9ffe67f3c5)\" d=\"M 30.103125 126.901818 \r\nL 364.903125 126.901818 \r\n\" style=\"fill:none;stroke:#b0b0b0;stroke-linecap:square;stroke-width:0.8;\"/>\r\n     </g>\r\n     <g id=\"line2d_16\">\r\n      <g>\r\n       <use style=\"stroke:#000000;stroke-width:0.8;\" x=\"30.103125\" xlink:href=\"#m177bce10f1\" y=\"126.901818\"/>\r\n      </g>\r\n     </g>\r\n     <g id=\"text_8\">\r\n      <!-- 1.0 -->\r\n      <g transform=\"translate(7.2 130.701037)scale(0.1 -0.1)\">\r\n       <use xlink:href=\"#DejaVuSans-49\"/>\r\n       <use x=\"63.623047\" xlink:href=\"#DejaVuSans-46\"/>\r\n       <use x=\"95.410156\" xlink:href=\"#DejaVuSans-48\"/>\r\n      </g>\r\n     </g>\r\n    </g>\r\n    <g id=\"ytick_4\">\r\n     <g id=\"line2d_17\">\r\n      <path clip-path=\"url(#p9ffe67f3c5)\" d=\"M 30.103125 82.974545 \r\nL 364.903125 82.974545 \r\n\" style=\"fill:none;stroke:#b0b0b0;stroke-linecap:square;stroke-width:0.8;\"/>\r\n     </g>\r\n     <g id=\"line2d_18\">\r\n      <g>\r\n       <use style=\"stroke:#000000;stroke-width:0.8;\" x=\"30.103125\" xlink:href=\"#m177bce10f1\" y=\"82.974545\"/>\r\n      </g>\r\n     </g>\r\n     <g id=\"text_9\">\r\n      <!-- 1.5 -->\r\n      <g transform=\"translate(7.2 86.773764)scale(0.1 -0.1)\">\r\n       <use xlink:href=\"#DejaVuSans-49\"/>\r\n       <use x=\"63.623047\" xlink:href=\"#DejaVuSans-46\"/>\r\n       <use x=\"95.410156\" xlink:href=\"#DejaVuSans-53\"/>\r\n      </g>\r\n     </g>\r\n    </g>\r\n    <g id=\"ytick_5\">\r\n     <g id=\"line2d_19\">\r\n      <path clip-path=\"url(#p9ffe67f3c5)\" d=\"M 30.103125 39.047273 \r\nL 364.903125 39.047273 \r\n\" style=\"fill:none;stroke:#b0b0b0;stroke-linecap:square;stroke-width:0.8;\"/>\r\n     </g>\r\n     <g id=\"line2d_20\">\r\n      <g>\r\n       <use style=\"stroke:#000000;stroke-width:0.8;\" x=\"30.103125\" xlink:href=\"#m177bce10f1\" y=\"39.047273\"/>\r\n      </g>\r\n     </g>\r\n     <g id=\"text_10\">\r\n      <!-- 2.0 -->\r\n      <g transform=\"translate(7.2 42.846491)scale(0.1 -0.1)\">\r\n       <use xlink:href=\"#DejaVuSans-50\"/>\r\n       <use x=\"63.623047\" xlink:href=\"#DejaVuSans-46\"/>\r\n       <use x=\"95.410156\" xlink:href=\"#DejaVuSans-48\"/>\r\n      </g>\r\n     </g>\r\n    </g>\r\n   </g>\r\n   <g id=\"line2d_21\">\r\n    <path clip-path=\"url(#p9ffe67f3c5)\" d=\"M 45.321307 17.083636 \r\nL 48.395687 19.736931 \r\nL 51.470067 22.372299 \r\nL 54.544447 24.989739 \r\nL 57.618827 27.589251 \r\nL 60.693208 30.170835 \r\nL 63.767588 32.734492 \r\nL 66.841968 35.280221 \r\nL 69.916348 37.808023 \r\nL 72.990728 40.317896 \r\nL 76.065108 42.809842 \r\nL 79.139489 45.283861 \r\nL 82.213869 47.739952 \r\nL 85.288249 50.178115 \r\nL 88.362629 52.59835 \r\nL 91.437009 55.000658 \r\nL 94.511389 57.385038 \r\nL 97.58577 59.75149 \r\nL 100.66015 62.100015 \r\nL 103.73453 64.430612 \r\nL 106.80891 66.743281 \r\nL 109.88329 69.038023 \r\nL 112.95767 71.314837 \r\nL 116.032051 73.573724 \r\nL 119.106431 75.814682 \r\nL 122.180811 78.037713 \r\nL 125.255191 80.242817 \r\nL 128.329571 82.429992 \r\nL 131.403951 84.599241 \r\nL 134.478332 86.750561 \r\nL 137.552712 88.883954 \r\nL 140.627092 90.999419 \r\nL 143.701472 93.096956 \r\nL 146.775852 95.176566 \r\nL 149.850232 97.238248 \r\nL 152.924613 99.282002 \r\nL 155.998993 101.307829 \r\nL 159.073373 103.315728 \r\nL 162.147753 105.305699 \r\nL 165.222133 107.277743 \r\nL 168.296513 109.231859 \r\nL 171.370894 111.168047 \r\nL 174.445274 113.086308 \r\nL 177.519654 114.986641 \r\nL 180.594034 116.869046 \r\nL 183.668414 118.733524 \r\nL 186.742794 120.580074 \r\nL 189.817175 122.408696 \r\nL 192.891555 124.219391 \r\nL 195.965935 126.012158 \r\nL 199.040315 127.786997 \r\nL 202.114695 129.543909 \r\nL 205.189075 131.282892 \r\nL 208.263456 133.003949 \r\nL 211.337836 134.707077 \r\nL 214.412216 136.392278 \r\nL 217.486596 138.059552 \r\nL 220.560976 139.708897 \r\nL 223.635356 141.340315 \r\nL 226.709737 142.953805 \r\nL 229.784117 144.549368 \r\nL 232.858497 146.127003 \r\nL 235.932877 147.68671 \r\nL 239.007257 149.22849 \r\nL 242.081637 150.752342 \r\nL 245.156018 152.258266 \r\nL 248.230398 153.746263 \r\nL 251.304778 155.216332 \r\nL 254.379158 156.668473 \r\nL 257.453538 158.102686 \r\nL 260.527918 159.518972 \r\nL 263.602299 160.917331 \r\nL 266.676679 162.297761 \r\nL 269.751059 163.660264 \r\nL 272.825439 165.004839 \r\nL 275.899819 166.331487 \r\nL 278.974199 167.640207 \r\nL 282.04858 168.930999 \r\nL 285.12296 170.203863 \r\nL 288.19734 171.4588 \r\nL 291.27172 172.69581 \r\nL 294.3461 173.914891 \r\nL 297.42048 175.116045 \r\nL 300.494861 176.299271 \r\nL 303.569241 177.46457 \r\nL 306.643621 178.611941 \r\nL 309.718001 179.741384 \r\nL 312.792381 180.852899 \r\nL 315.866761 181.946487 \r\nL 318.941142 183.022147 \r\nL 322.015522 184.07988 \r\nL 325.089902 185.119685 \r\nL 328.164282 186.141562 \r\nL 331.238662 187.145511 \r\nL 334.313042 188.131533 \r\nL 337.387423 189.099627 \r\nL 340.461803 190.049794 \r\nL 343.536183 190.982033 \r\nL 346.610563 191.896344 \r\nL 349.684943 192.792727 \r\n\" style=\"fill:none;stroke:#ff0000;stroke-linecap:square;stroke-width:1.5;\"/>\r\n   </g>\r\n   <g id=\"line2d_22\">\r\n    <defs>\r\n     <path d=\"M 0 3 \r\nC 0.795609 3 1.55874 2.683901 2.12132 2.12132 \r\nC 2.683901 1.55874 3 0.795609 3 0 \r\nC 3 -0.795609 2.683901 -1.55874 2.12132 -2.12132 \r\nC 1.55874 -2.683901 0.795609 -3 0 -3 \r\nC -0.795609 -3 -1.55874 -2.683901 -2.12132 -2.12132 \r\nC -2.683901 -1.55874 -3 -0.795609 -3 0 \r\nC -3 0.795609 -2.683901 1.55874 -2.12132 2.12132 \r\nC -1.55874 2.683901 -0.795609 3 0 3 \r\nz\r\n\" id=\"med757bc3e3\" style=\"stroke:#1f77b4;\"/>\r\n    </defs>\r\n    <g clip-path=\"url(#p9ffe67f3c5)\">\r\n     <use style=\"fill:#1f77b4;stroke:#1f77b4;\" x=\"197.503125\" xlink:href=\"#med757bc3e3\" y=\"126.901818\"/>\r\n    </g>\r\n   </g>\r\n   <g id=\"line2d_23\">\r\n    <defs>\r\n     <path d=\"M 0 3 \r\nC 0.795609 3 1.55874 2.683901 2.12132 2.12132 \r\nC 2.683901 1.55874 3 0.795609 3 0 \r\nC 3 -0.795609 2.683901 -1.55874 2.12132 -2.12132 \r\nC 1.55874 -2.683901 0.795609 -3 0 -3 \r\nC -0.795609 -3 -1.55874 -2.683901 -2.12132 -2.12132 \r\nC -2.683901 -1.55874 -3 -0.795609 -3 0 \r\nC -3 0.795609 -2.683901 1.55874 -2.12132 2.12132 \r\nC -1.55874 2.683901 -0.795609 3 0 3 \r\nz\r\n\" id=\"m371ddf06f2\" style=\"stroke:#ff7f0e;\"/>\r\n    </defs>\r\n    <g clip-path=\"url(#p9ffe67f3c5)\">\r\n     <use style=\"fill:#ff7f0e;stroke:#ff7f0e;\" x=\"75.75767\" xlink:href=\"#m371ddf06f2\" y=\"42.561455\"/>\r\n    </g>\r\n   </g>\r\n   <g id=\"line2d_24\">\r\n    <path clip-path=\"url(#p9ffe67f3c5)\" d=\"M 75.75767 42.561455 \r\nL 197.503125 126.901818 \r\n\" style=\"fill:none;stroke:#0000ff;stroke-linecap:square;stroke-width:2;\"/>\r\n   </g>\r\n   <g id=\"line2d_25\">\r\n    <path clip-path=\"url(#p9ffe67f3c5)\" d=\"M 45.321307 39.047273 \r\nL 349.684943 214.756364 \r\n\" style=\"fill:none;stroke:#000000;stroke-linecap:square;stroke-width:2;\"/>\r\n   </g>\r\n   <g id=\"patch_3\">\r\n    <path d=\"M 30.103125 224.64 \r\nL 30.103125 7.2 \r\n\" style=\"fill:none;stroke:#000000;stroke-linecap:square;stroke-linejoin:miter;stroke-width:0.8;\"/>\r\n   </g>\r\n   <g id=\"patch_4\">\r\n    <path d=\"M 364.903125 224.64 \r\nL 364.903125 7.2 \r\n\" style=\"fill:none;stroke:#000000;stroke-linecap:square;stroke-linejoin:miter;stroke-width:0.8;\"/>\r\n   </g>\r\n   <g id=\"patch_5\">\r\n    <path d=\"M 30.103125 224.64 \r\nL 364.903125 224.64 \r\n\" style=\"fill:none;stroke:#000000;stroke-linecap:square;stroke-linejoin:miter;stroke-width:0.8;\"/>\r\n   </g>\r\n   <g id=\"patch_6\">\r\n    <path d=\"M 30.103125 7.2 \r\nL 364.903125 7.2 \r\n\" style=\"fill:none;stroke:#000000;stroke-linecap:square;stroke-linejoin:miter;stroke-width:0.8;\"/>\r\n   </g>\r\n   <g id=\"text_11\">\r\n    <!-- $x,f(x)$ -->\r\n    <g transform=\"translate(197.503125 109.330909)scale(0.1 -0.1)\">\r\n     <defs>\r\n      <path d=\"M 60.015625 54.6875 \r\nL 34.90625 27.875 \r\nL 50.296875 0 \r\nL 39.984375 0 \r\nL 28.421875 21.6875 \r\nL 8.296875 0 \r\nL -2.59375 0 \r\nL 24.3125 28.8125 \r\nL 10.015625 54.6875 \r\nL 20.3125 54.6875 \r\nL 30.8125 34.90625 \r\nL 49.125 54.6875 \r\nz\r\n\" id=\"DejaVuSans-Oblique-120\"/>\r\n      <path d=\"M 11.71875 12.40625 \r\nL 22.015625 12.40625 \r\nL 22.015625 4 \r\nL 14.015625 -11.625 \r\nL 7.71875 -11.625 \r\nL 11.71875 4 \r\nz\r\n\" id=\"DejaVuSans-44\"/>\r\n      <path d=\"M 47.796875 75.984375 \r\nL 46.390625 68.5 \r\nL 37.796875 68.5 \r\nQ 32.90625 68.5 30.6875 66.578125 \r\nQ 28.46875 64.65625 27.390625 59.515625 \r\nL 26.421875 54.6875 \r\nL 41.21875 54.6875 \r\nL 39.890625 47.703125 \r\nL 25.09375 47.703125 \r\nL 15.828125 0 \r\nL 6.78125 0 \r\nL 16.109375 47.703125 \r\nL 7.515625 47.703125 \r\nL 8.796875 54.6875 \r\nL 17.390625 54.6875 \r\nL 18.109375 58.5 \r\nQ 19.96875 68.171875 24.625 72.078125 \r\nQ 29.296875 75.984375 39.3125 75.984375 \r\nz\r\n\" id=\"DejaVuSans-Oblique-102\"/>\r\n      <path d=\"M 31 75.875 \r\nQ 24.46875 64.65625 21.28125 53.65625 \r\nQ 18.109375 42.671875 18.109375 31.390625 \r\nQ 18.109375 20.125 21.3125 9.0625 \r\nQ 24.515625 -2 31 -13.1875 \r\nL 23.1875 -13.1875 \r\nQ 15.875 -1.703125 12.234375 9.375 \r\nQ 8.59375 20.453125 8.59375 31.390625 \r\nQ 8.59375 42.28125 12.203125 53.3125 \r\nQ 15.828125 64.359375 23.1875 75.875 \r\nz\r\n\" id=\"DejaVuSans-40\"/>\r\n      <path d=\"M 8.015625 75.875 \r\nL 15.828125 75.875 \r\nQ 23.140625 64.359375 26.78125 53.3125 \r\nQ 30.421875 42.28125 30.421875 31.390625 \r\nQ 30.421875 20.453125 26.78125 9.375 \r\nQ 23.140625 -1.703125 15.828125 -13.1875 \r\nL 8.015625 -13.1875 \r\nQ 14.5 -2 17.703125 9.0625 \r\nQ 20.90625 20.125 20.90625 31.390625 \r\nQ 20.90625 42.671875 17.703125 53.65625 \r\nQ 14.5 64.65625 8.015625 75.875 \r\nz\r\n\" id=\"DejaVuSans-41\"/>\r\n     </defs>\r\n     <use transform=\"translate(0 0.015625)\" xlink:href=\"#DejaVuSans-Oblique-120\"/>\r\n     <use transform=\"translate(59.179688 0.015625)\" xlink:href=\"#DejaVuSans-44\"/>\r\n     <use transform=\"translate(110.449219 0.015625)\" xlink:href=\"#DejaVuSans-Oblique-102\"/>\r\n     <use transform=\"translate(145.654297 0.015625)\" xlink:href=\"#DejaVuSans-40\"/>\r\n     <use transform=\"translate(184.667969 0.015625)\" xlink:href=\"#DejaVuSans-Oblique-120\"/>\r\n     <use transform=\"translate(243.847656 0.015625)\" xlink:href=\"#DejaVuSans-41\"/>\r\n    </g>\r\n   </g>\r\n   <g id=\"text_12\">\r\n    <!-- $(x-h),f(x-h)$ -->\r\n    <g transform=\"translate(75.75767 21.476364)scale(0.1 -0.1)\">\r\n     <defs>\r\n      <path d=\"M 55.71875 33.015625 \r\nL 49.3125 0 \r\nL 40.28125 0 \r\nL 46.6875 32.671875 \r\nQ 47.125 34.96875 47.359375 36.71875 \r\nQ 47.609375 38.484375 47.609375 39.5 \r\nQ 47.609375 43.609375 45.015625 45.890625 \r\nQ 42.4375 48.1875 37.796875 48.1875 \r\nQ 30.5625 48.1875 25.265625 43.296875 \r\nQ 19.96875 38.421875 18.40625 30.328125 \r\nL 12.5 0 \r\nL 3.515625 0 \r\nL 18.3125 75.984375 \r\nL 27.296875 75.984375 \r\nL 21.484375 46.09375 \r\nQ 24.90625 50.6875 30.21875 53.34375 \r\nQ 35.546875 56 41.40625 56 \r\nQ 48.640625 56 52.609375 52.09375 \r\nQ 56.59375 48.1875 56.59375 41.109375 \r\nQ 56.59375 39.359375 56.375 37.359375 \r\nQ 56.15625 35.359375 55.71875 33.015625 \r\nz\r\n\" id=\"DejaVuSans-Oblique-104\"/>\r\n     </defs>\r\n     <use transform=\"translate(0 0.015625)\" xlink:href=\"#DejaVuSans-40\"/>\r\n     <use transform=\"translate(39.013672 0.015625)\" xlink:href=\"#DejaVuSans-Oblique-120\"/>\r\n     <use transform=\"translate(117.675781 0.015625)\" xlink:href=\"#DejaVuSans-8722\"/>\r\n     <use transform=\"translate(220.947266 0.015625)\" xlink:href=\"#DejaVuSans-Oblique-104\"/>\r\n     <use transform=\"translate(284.326172 0.015625)\" xlink:href=\"#DejaVuSans-41\"/>\r\n     <use transform=\"translate(323.339844 0.015625)\" xlink:href=\"#DejaVuSans-44\"/>\r\n     <use transform=\"translate(374.609375 0.015625)\" xlink:href=\"#DejaVuSans-Oblique-102\"/>\r\n     <use transform=\"translate(409.814453 0.015625)\" xlink:href=\"#DejaVuSans-40\"/>\r\n     <use transform=\"translate(448.828125 0.015625)\" xlink:href=\"#DejaVuSans-Oblique-120\"/>\r\n     <use transform=\"translate(527.490234 0.015625)\" xlink:href=\"#DejaVuSans-8722\"/>\r\n     <use transform=\"translate(630.761719 0.015625)\" xlink:href=\"#DejaVuSans-Oblique-104\"/>\r\n     <use transform=\"translate(694.140625 0.015625)\" xlink:href=\"#DejaVuSans-41\"/>\r\n    </g>\r\n   </g>\r\n  </g>\r\n </g>\r\n <defs>\r\n  <clipPath id=\"p9ffe67f3c5\">\r\n   <rect height=\"217.44\" width=\"334.8\" x=\"30.103125\" y=\"7.2\"/>\r\n  </clipPath>\r\n </defs>\r\n</svg>\r\n",
      "image/png": "[encoded data removed]"
     },
     "metadata": {
      "needs_background": "light"
     }
    }
   ],
   "source": [
    "x = np.linspace(-1.5,-0.5, 100)\n",
    "f = [i**2 for i in x]\n",
    "plt.plot(x,f, 'r-')\n",
    "plt.plot([-1],[1],'o')\n",
    "plt.plot([-1.4],[1.96],'o') # h=0.4\n",
    "plt.text(-1.0, 1.2,'$x,f(x)$')\n",
    "plt.text(-1.4, 2.2,'$(x-h),f(x-h)$')\n",
    "plt.plot([-1.4, -1.0], [1.96, 1.0], 'b-', lw=2) #the derivative with h=0.4\n",
    "plt.plot([-1.5, -0.5], [2, 0.0], 'k-', lw=2) #tangent line (y=-2x-1)\n",
    "plt.grid()\n",
    "#plt.show"
   ]
  },
  {
   "cell_type": "markdown",
   "metadata": {},
   "source": [
    "It can be shown that the “centered difference formula\" is better when computing numerical derivatives:\n",
    "\n",
    "$$ \\lim_{h \\rightarrow 0} \\frac{f(x + h) - f(x - h)}{2h} $$\n",
    "\n",
    "The error in the \"finite difference\" approximation can be derived from Taylor's theorem and, assuming that $f$ is differentiable, is $O(h)$. In the case of “centered difference\" the error is $O(h^2)$."
   ]
  },
  {
   "cell_type": "markdown",
   "metadata": {},
   "source": [
    "The derivative tells us how steep the tangent line to the graph would be at a given point $(x, f(x))$. That steepness, or slope varies from point to point: some parts of the graph are flatter, and some parts slope up more steeply.\n",
    "By examining the derivative at a given point $(x, f(x))$, we can know whether the function $f$ is increasing or decreasing at that point, and by how much."
   ]
  },
  {
   "cell_type": "markdown",
   "metadata": {},
   "source": [
    "<center><img src=\"files/graph2-derivative-increasing-decreasing.png\" width=\"600\" height=\"300\">"
   ]
  },
  {
   "cell_type": "markdown",
   "metadata": {},
   "source": [
    "We can follow these steps to **decrease** the value of the function:\n",
    "\n",
    "+ Start from a random $x$ value.\n",
    "+ Compute the derivative $f'(x) = \\lim_{h \\rightarrow 0} \\frac{f(x + h) - f(x - h)}{2h}$.\n",
    "+ Walk a small step in the **opposite** direction of the derivative, because we know that $f(x - h \\mbox{ sign}(f'(x))$ < $f(x)$ for  small enough $h$. \n",
    "\n",
    "The search for the minima ends when the derivative is zero because we have no more information about which direction to move. $x$ is a critical o stationary point if $f'(x)=0$. \n",
    "\n",
    " + A **minimum (maximum)** is a critical point where $f(x)$ is lower (higher) than at all neighboring points. \n",
    " + There is a third class of critical points: **saddle points**.\n",
    "\n",
    "If $f$ is a **convex function**, this should be the minimum (maximum) of our functions. In other cases it could be a local minimum (maximum) or a saddle point."
   ]
  },
  {
   "cell_type": "code",
   "execution_count": 6,
   "metadata": {},
   "outputs": [
    {
     "output_type": "display_data",
     "data": {
      "text/html": "\n    <div class=\"bk-root\">\n        <a href=\"https://bokeh.org\" target=\"_blank\" class=\"bk-logo bk-logo-small bk-logo-notebook\"></a>\n        <span id=\"1001\">Loading BokehJS ...</span>\n    </div>"
     },
     "metadata": {}
    },
    {
     "output_type": "display_data",
     "data": {
      "application/javascript": "\n(function(root) {\n  function now() {\n    return new Date();\n  }\n\n  var force = true;\n\n  if (typeof root._bokeh_onload_callbacks === \"undefined\" || force === true) {\n    root._bokeh_onload_callbacks = [];\n    root._bokeh_is_loading = undefined;\n  }\n\n  var JS_MIME_TYPE = 'application/javascript';\n  var HTML_MIME_TYPE = 'text/html';\n  var EXEC_MIME_TYPE = 'application/vnd.bokehjs_exec.v0+json';\n  var CLASS_NAME = 'output_bokeh rendered_html';\n\n  /**\n   * Render data to the DOM node\n   */\n  function render(props, node) {\n    var script = document.createElement(\"script\");\n    node.appendChild(script);\n  }\n\n  /**\n   * Handle when an output is cleared or removed\n   */\n  function handleClearOutput(event, handle) {\n    var cell = handle.cell;\n\n    var id = cell.output_area._bokeh_element_id;\n    var server_id = cell.output_area._bokeh_server_id;\n    // Clean up Bokeh references\n    if (id != null && id in Bokeh.index) {\n      Bokeh.index[id].model.document.clear();\n      delete Bokeh.index[id];\n    }\n\n    if (server_id !== undefined) {\n      // Clean up Bokeh references\n      var cmd = \"from bokeh.io.state import curstate; print(curstate().uuid_to_server['\" + server_id + \"'].get_sessions()[0].document.roots[0]._id)\";\n      cell.notebook.kernel.execute(cmd, {\n        iopub: {\n          output: function(msg) {\n            var id = msg.content.text.trim();\n            if (id in Bokeh.index) {\n              Bokeh.index[id].model.document.clear();\n              delete Bokeh.index[id];\n            }\n          }\n        }\n      });\n      // Destroy server and session\n      var cmd = \"import bokeh.io.notebook as ion; ion.destroy_server('\" + server_id + \"')\";\n      cell.notebook.kernel.execute(cmd);\n    }\n  }\n\n  /**\n   * Handle when a new output is added\n   */\n  function handleAddOutput(event, handle) {\n    var output_area = handle.output_area;\n    var output = handle.output;\n\n    // limit handleAddOutput to display_data with EXEC_MIME_TYPE content only\n    if ((output.output_type != \"display_data\") || (!output.data.hasOwnProperty(EXEC_MIME_TYPE))) {\n      return\n    }\n\n    var toinsert = output_area.element.find(\".\" + CLASS_NAME.split(' ')[0]);\n\n    if (output.metadata[EXEC_MIME_TYPE][\"id\"] !== undefined) {\n      toinsert[toinsert.length - 1].firstChild.textContent = output.data[JS_MIME_TYPE];\n      // store reference to embed id on output_area\n      output_area._bokeh_element_id = output.metadata[EXEC_MIME_TYPE][\"id\"];\n    }\n    if (output.metadata[EXEC_MIME_TYPE][\"server_id\"] !== undefined) {\n      var bk_div = document.createElement(\"div\");\n      bk_div.innerHTML = output.data[HTML_MIME_TYPE];\n      var script_attrs = bk_div.children[0].attributes;\n      for (var i = 0; i < script_attrs.length; i++) {\n        toinsert[toinsert.length - 1].firstChild.setAttribute(script_attrs[i].name, script_attrs[i].value);\n        toinsert[toinsert.length - 1].firstChild.textContent = bk_div.children[0].textContent\n      }\n      // store reference to server id on output_area\n      output_area._bokeh_server_id = output.metadata[EXEC_MIME_TYPE][\"server_id\"];\n    }\n  }\n\n  function register_renderer(events, OutputArea) {\n\n    function append_mime(data, metadata, element) {\n      // create a DOM node to render to\n      var toinsert = this.create_output_subarea(\n        metadata,\n        CLASS_NAME,\n        EXEC_MIME_TYPE\n      );\n      this.keyboard_manager.register_events(toinsert);\n      // Render to node\n      var props = {data: data, metadata: metadata[EXEC_MIME_TYPE]};\n      render(props, toinsert[toinsert.length - 1]);\n      element.append(toinsert);\n      return toinsert\n    }\n\n    /* Handle when an output is cleared or removed */\n    events.on('clear_output.CodeCell', handleClearOutput);\n    events.on('delete.Cell', handleClearOutput);\n\n    /* Handle when a new output is added */\n    events.on('output_added.OutputArea', handleAddOutput);\n\n    /**\n     * Register the mime type and append_mime function with output_area\n     */\n    OutputArea.prototype.register_mime_type(EXEC_MIME_TYPE, append_mime, {\n      /* Is output safe? */\n      safe: true,\n      /* Index of renderer in `output_area.display_order` */\n      index: 0\n    });\n  }\n\n  // register the mime type if in Jupyter Notebook environment and previously unregistered\n  if (root.Jupyter !== undefined) {\n    var events = require('base/js/events');\n    var OutputArea = require('notebook/js/outputarea').OutputArea;\n\n    if (OutputArea.prototype.mime_types().indexOf(EXEC_MIME_TYPE) == -1) {\n      register_renderer(events, OutputArea);\n    }\n  }\n\n  \n  if (typeof (root._bokeh_timeout) === \"undefined\" || force === true) {\n    root._bokeh_timeout = Date.now() + 5000;\n    root._bokeh_failed_load = false;\n  }\n\n  var NB_LOAD_WARNING = {'data': {'text/html':\n     \"<div style='background-color: #fdd'>\\n\"+\n     \"<p>\\n\"+\n     \"BokehJS does not appear to have successfully loaded. If loading BokehJS from CDN, this \\n\"+\n     \"may be due to a slow or bad network connection. Possible fixes:\\n\"+\n     \"</p>\\n\"+\n     \"<ul>\\n\"+\n     \"<li>re-rerun `output_notebook()` to attempt to load from CDN again, or</li>\\n\"+\n     \"<li>use INLINE resources instead, as so:</li>\\n\"+\n     \"</ul>\\n\"+\n     \"<code>\\n\"+\n     \"from bokeh.resources import INLINE\\n\"+\n     \"output_notebook(resources=INLINE)\\n\"+\n     \"</code>\\n\"+\n     \"</div>\"}};\n\n  function display_loaded() {\n    var el = document.getElementById(\"1001\");\n    if (el != null) {\n      el.textContent = \"BokehJS is loading...\";\n    }\n    if (root.Bokeh !== undefined) {\n      if (el != null) {\n        el.textContent = \"BokehJS \" + root.Bokeh.version + \" successfully loaded.\";\n      }\n    } else if (Date.now() < root._bokeh_timeout) {\n      setTimeout(display_loaded, 100)\n    }\n  }\n\n\n  function run_callbacks() {\n    try {\n      root._bokeh_onload_callbacks.forEach(function(callback) {\n        if (callback != null)\n          callback();\n      });\n    } finally {\n      delete root._bokeh_onload_callbacks\n    }\n    console.debug(\"Bokeh: all callbacks have finished\");\n  }\n\n  function load_libs(css_urls, js_urls, callback) {\n    if (css_urls == null) css_urls = [];\n    if (js_urls == null) js_urls = [];\n\n    root._bokeh_onload_callbacks.push(callback);\n    if (root._bokeh_is_loading > 0) {\n      console.debug(\"Bokeh: BokehJS is being loaded, scheduling callback at\", now());\n      return null;\n    }\n    if (js_urls == null || js_urls.length === 0) {\n      run_callbacks();\n      return null;\n    }\n    console.debug(\"Bokeh: BokehJS not loaded, scheduling load and callback at\", now());\n    root._bokeh_is_loading = css_urls.length + js_urls.length;\n\n    function on_load() {\n      root._bokeh_is_loading--;\n      if (root._bokeh_is_loading === 0) {\n        console.debug(\"Bokeh: all BokehJS libraries/stylesheets loaded\");\n        run_callbacks()\n      }\n    }\n\n    function on_error() {\n      console.error(\"failed to load \" + url);\n    }\n\n    for (var i = 0; i < css_urls.length; i++) {\n      var url = css_urls[i];\n      const element = document.createElement(\"link\");\n      element.onload = on_load;\n      element.onerror = on_error;\n      element.rel = \"stylesheet\";\n      element.type = \"text/css\";\n      element.href = url;\n      console.debug(\"Bokeh: injecting link tag for BokehJS stylesheet: \", url);\n      document.body.appendChild(element);\n    }\n\n    const hashes = {\"https://cdn.bokeh.org/bokeh/release/bokeh-2.2.3.min.js\": \"T2yuo9Oe71Cz/I4X9Ac5+gpEa5a8PpJCDlqKYO0CfAuEszu1JrXLl8YugMqYe3sM\", \"https://cdn.bokeh.org/bokeh/release/bokeh-widgets-2.2.3.min.js\": \"98GDGJ0kOMCUMUePhksaQ/GYgB3+NH9h996V88sh3aOiUNX3N+fLXAtry6xctSZ6\", \"https://cdn.bokeh.org/bokeh/release/bokeh-tables-2.2.3.min.js\": \"89bArO+nlbP3sgakeHjCo1JYxYR5wufVgA3IbUvDY+K7w4zyxJqssu7wVnfeKCq8\"};\n\n    for (var i = 0; i < js_urls.length; i++) {\n      var url = js_urls[i];\n      var element = document.createElement('script');\n      element.onload = on_load;\n      element.onerror = on_error;\n      element.async = false;\n      element.src = url;\n      if (url in hashes) {\n        element.crossOrigin = \"anonymous\";\n        element.integrity = \"sha384-\" + hashes[url];\n      }\n      console.debug(\"Bokeh: injecting script tag for BokehJS library: \", url);\n      document.head.appendChild(element);\n    }\n  };\n\n  function inject_raw_css(css) {\n    const element = document.createElement(\"style\");\n    element.appendChild(document.createTextNode(css));\n    document.body.appendChild(element);\n  }\n\n  \n  var js_urls = [\"https://cdn.bokeh.org/bokeh/release/bokeh-2.2.3.min.js\", \"https://cdn.bokeh.org/bokeh/release/bokeh-widgets-2.2.3.min.js\", \"https://cdn.bokeh.org/bokeh/release/bokeh-tables-2.2.3.min.js\"];\n  var css_urls = [];\n  \n\n  var inline_js = [\n    function(Bokeh) {\n      Bokeh.set_log_level(\"info\");\n    },\n    function(Bokeh) {\n    \n    \n    }\n  ];\n\n  function run_inline_js() {\n    \n    if (root.Bokeh !== undefined || force === true) {\n      \n    for (var i = 0; i < inline_js.length; i++) {\n      inline_js[i].call(root, root.Bokeh);\n    }\n    if (force === true) {\n        display_loaded();\n      }} else if (Date.now() < root._bokeh_timeout) {\n      setTimeout(run_inline_js, 100);\n    } else if (!root._bokeh_failed_load) {\n      console.log(\"Bokeh: BokehJS failed to load within specified timeout.\");\n      root._bokeh_failed_load = true;\n    } else if (force !== true) {\n      var cell = $(document.getElementById(\"1001\")).parents('.cell').data().cell;\n      cell.output_area.append_execute_result(NB_LOAD_WARNING)\n    }\n\n  }\n\n  if (root._bokeh_is_loading === 0) {\n    console.debug(\"Bokeh: BokehJS loaded, going straight to plotting\");\n    run_inline_js();\n  } else {\n    load_libs(css_urls, js_urls, function() {\n      console.debug(\"Bokeh: BokehJS plotting callback run at\", now());\n      run_inline_js();\n    });\n  }\n}(window));",
      "application/vnd.bokehjs_load.v0+json": "\n(function(root) {\n  function now() {\n    return new Date();\n  }\n\n  var force = true;\n\n  if (typeof root._bokeh_onload_callbacks === \"undefined\" || force === true) {\n    root._bokeh_onload_callbacks = [];\n    root._bokeh_is_loading = undefined;\n  }\n\n  \n\n  \n  if (typeof (root._bokeh_timeout) === \"undefined\" || force === true) {\n    root._bokeh_timeout = Date.now() + 5000;\n    root._bokeh_failed_load = false;\n  }\n\n  var NB_LOAD_WARNING = {'data': {'text/html':\n     \"<div style='background-color: #fdd'>\\n\"+\n     \"<p>\\n\"+\n     \"BokehJS does not appear to have successfully loaded. If loading BokehJS from CDN, this \\n\"+\n     \"may be due to a slow or bad network connection. Possible fixes:\\n\"+\n     \"</p>\\n\"+\n     \"<ul>\\n\"+\n     \"<li>re-rerun `output_notebook()` to attempt to load from CDN again, or</li>\\n\"+\n     \"<li>use INLINE resources instead, as so:</li>\\n\"+\n     \"</ul>\\n\"+\n     \"<code>\\n\"+\n     \"from bokeh.resources import INLINE\\n\"+\n     \"output_notebook(resources=INLINE)\\n\"+\n     \"</code>\\n\"+\n     \"</div>\"}};\n\n  function display_loaded() {\n    var el = document.getElementById(\"1001\");\n    if (el != null) {\n      el.textContent = \"BokehJS is loading...\";\n    }\n    if (root.Bokeh !== undefined) {\n      if (el != null) {\n        el.textContent = \"BokehJS \" + root.Bokeh.version + \" successfully loaded.\";\n      }\n    } else if (Date.now() < root._bokeh_timeout) {\n      setTimeout(display_loaded, 100)\n    }\n  }\n\n\n  function run_callbacks() {\n    try {\n      root._bokeh_onload_callbacks.forEach(function(callback) {\n        if (callback != null)\n          callback();\n      });\n    } finally {\n      delete root._bokeh_onload_callbacks\n    }\n    console.debug(\"Bokeh: all callbacks have finished\");\n  }\n\n  function load_libs(css_urls, js_urls, callback) {\n    if (css_urls == null) css_urls = [];\n    if (js_urls == null) js_urls = [];\n\n    root._bokeh_onload_callbacks.push(callback);\n    if (root._bokeh_is_loading > 0) {\n      console.debug(\"Bokeh: BokehJS is being loaded, scheduling callback at\", now());\n      return null;\n    }\n    if (js_urls == null || js_urls.length === 0) {\n      run_callbacks();\n      return null;\n    }\n    console.debug(\"Bokeh: BokehJS not loaded, scheduling load and callback at\", now());\n    root._bokeh_is_loading = css_urls.length + js_urls.length;\n\n    function on_load() {\n      root._bokeh_is_loading--;\n      if (root._bokeh_is_loading === 0) {\n        console.debug(\"Bokeh: all BokehJS libraries/stylesheets loaded\");\n        run_callbacks()\n      }\n    }\n\n    function on_error() {\n      console.error(\"failed to load \" + url);\n    }\n\n    for (var i = 0; i < css_urls.length; i++) {\n      var url = css_urls[i];\n      const element = document.createElement(\"link\");\n      element.onload = on_load;\n      element.onerror = on_error;\n      element.rel = \"stylesheet\";\n      element.type = \"text/css\";\n      element.href = url;\n      console.debug(\"Bokeh: injecting link tag for BokehJS stylesheet: \", url);\n      document.body.appendChild(element);\n    }\n\n    const hashes = {\"https://cdn.bokeh.org/bokeh/release/bokeh-2.2.3.min.js\": \"T2yuo9Oe71Cz/I4X9Ac5+gpEa5a8PpJCDlqKYO0CfAuEszu1JrXLl8YugMqYe3sM\", \"https://cdn.bokeh.org/bokeh/release/bokeh-widgets-2.2.3.min.js\": \"98GDGJ0kOMCUMUePhksaQ/GYgB3+NH9h996V88sh3aOiUNX3N+fLXAtry6xctSZ6\", \"https://cdn.bokeh.org/bokeh/release/bokeh-tables-2.2.3.min.js\": \"89bArO+nlbP3sgakeHjCo1JYxYR5wufVgA3IbUvDY+K7w4zyxJqssu7wVnfeKCq8\"};\n\n    for (var i = 0; i < js_urls.length; i++) {\n      var url = js_urls[i];\n      var element = document.createElement('script');\n      element.onload = on_load;\n      element.onerror = on_error;\n      element.async = false;\n      element.src = url;\n      if (url in hashes) {\n        element.crossOrigin = \"anonymous\";\n        element.integrity = \"sha384-\" + hashes[url];\n      }\n      console.debug(\"Bokeh: injecting script tag for BokehJS library: \", url);\n      document.head.appendChild(element);\n    }\n  };\n\n  function inject_raw_css(css) {\n    const element = document.createElement(\"style\");\n    element.appendChild(document.createTextNode(css));\n    document.body.appendChild(element);\n  }\n\n  \n  var js_urls = [\"https://cdn.bokeh.org/bokeh/release/bokeh-2.2.3.min.js\", \"https://cdn.bokeh.org/bokeh/release/bokeh-widgets-2.2.3.min.js\", \"https://cdn.bokeh.org/bokeh/release/bokeh-tables-2.2.3.min.js\"];\n  var css_urls = [];\n  \n\n  var inline_js = [\n    function(Bokeh) {\n      Bokeh.set_log_level(\"info\");\n    },\n    function(Bokeh) {\n    \n    \n    }\n  ];\n\n  function run_inline_js() {\n    \n    if (root.Bokeh !== undefined || force === true) {\n      \n    for (var i = 0; i < inline_js.length; i++) {\n      inline_js[i].call(root, root.Bokeh);\n    }\n    if (force === true) {\n        display_loaded();\n      }} else if (Date.now() < root._bokeh_timeout) {\n      setTimeout(run_inline_js, 100);\n    } else if (!root._bokeh_failed_load) {\n      console.log(\"Bokeh: BokehJS failed to load within specified timeout.\");\n      root._bokeh_failed_load = true;\n    } else if (force !== true) {\n      var cell = $(document.getElementById(\"1001\")).parents('.cell').data().cell;\n      cell.output_area.append_execute_result(NB_LOAD_WARNING)\n    }\n\n  }\n\n  if (root._bokeh_is_loading === 0) {\n    console.debug(\"Bokeh: BokehJS loaded, going straight to plotting\");\n    run_inline_js();\n  } else {\n    load_libs(css_urls, js_urls, function() {\n      console.debug(\"Bokeh: BokehJS plotting callback run at\", now());\n      run_inline_js();\n    });\n  }\n}(window));"
     },
     "metadata": {}
    }
   ],
   "source": [
    "W = 400\n",
    "H = 250\n",
    "bp.output_notebook()"
   ]
  },
  {
   "cell_type": "code",
   "execution_count": 7,
   "metadata": {},
   "outputs": [
    {
     "output_type": "display_data",
     "data": {
      "text/html": "\n\n\n\n\n\n  <div class=\"bk-root\" id=\"9077692b-af24-403a-92b0-1ea14c1d33e5\" data-root-id=\"1005\"></div>\n"
     },
     "metadata": {}
    },
    {
     "output_type": "display_data",
     "data": {
      "application/javascript": "(function(root) {\n  function embed_document(root) {\n    \n  var docs_json = {\"9d2f3fcd-3f85-4695-98d0-612f6c4cb1aa\":{\"roots\":{\"references\":[{\"attributes\":{\"below\":[{\"id\":\"1016\"}],\"center\":[{\"id\":\"1019\"},{\"id\":\"1023\"}],\"left\":[{\"id\":\"1020\"}],\"plot_height\":250,\"plot_width\":400,\"renderers\":[{\"id\":\"1031\"},{\"id\":\"1036\"}],\"title\":{\"id\":\"1006\"},\"toolbar\":{\"id\":\"1024\"},\"x_range\":{\"id\":\"1008\"},\"x_scale\":{\"id\":\"1012\"},\"y_range\":{\"id\":\"1010\"},\"y_scale\":{\"id\":\"1014\"}},\"id\":\"1005\",\"subtype\":\"Figure\",\"type\":\"Plot\"},{\"attributes\":{\"axis\":{\"id\":\"1016\"},\"ticker\":null},\"id\":\"1019\",\"type\":\"Grid\"},{\"attributes\":{\"data_source\":{\"id\":\"1028\"},\"glyph\":{\"id\":\"1029\"},\"hover_glyph\":null,\"muted_glyph\":null,\"nonselection_glyph\":{\"id\":\"1030\"},\"selection_glyph\":null,\"view\":{\"id\":\"1032\"}},\"id\":\"1031\",\"type\":\"GlyphRenderer\"},{\"attributes\":{},\"id\":\"1004\",\"type\":\"PanTool\"},{\"attributes\":{\"data_source\":{\"id\":\"1033\"},\"glyph\":{\"id\":\"1034\"},\"hover_glyph\":null,\"muted_glyph\":null,\"nonselection_glyph\":{\"id\":\"1035\"},\"selection_glyph\":null,\"view\":{\"id\":\"1037\"}},\"id\":\"1036\",\"type\":\"GlyphRenderer\"},{\"attributes\":{},\"id\":\"1002\",\"type\":\"WheelZoomTool\"},{\"attributes\":{},\"id\":\"1012\",\"type\":\"LinearScale\"},{\"attributes\":{},\"id\":\"1010\",\"type\":\"DataRange1d\"},{\"attributes\":{},\"id\":\"1021\",\"type\":\"BasicTicker\"},{\"attributes\":{},\"id\":\"1043\",\"type\":\"UnionRenderers\"},{\"attributes\":{},\"id\":\"1044\",\"type\":\"Selection\"},{\"attributes\":{\"data\":{\"x\":{\"__ndarray__\":\"AAAAAAAALsBlk0022WQtwMomm2yyySzALrrooosuLMCTTTbZZJMrwPjggw8++CrAXXTRRRddKsDCBx988MEpwCebbLLJJinAjC666KKLKMDwwQcffPAnwFVVVVVVVSfAuuiiiy66JsAffPDBBx8mwIQPPvjggyXA6KKLLrroJMBONtlkk00kwLLJJptssiPAF1100UUXI8B88MEHH3wiwOGDDz744CHARhdddNFFIcCqqqqqqqogwBA++OCDDyDA6KKLLrroHsCyySabbLIdwHzwwQcffBzARhdddNFFG8AQPvjggw8awNhkk0022RjAoosuuuiiF8Bssskmm2wWwDbZZJNNNhXAAAAAAAAAFMDKJptssskSwJRNNtlkkxHAXHTRRRddEMBMNtlkk00OwOCDDz744AvAdNFFF110CcAIH3zwwQcHwJxssskmmwTALLrooosuAsCADz744IP/v6iqqqqqqvq/0EUXXXTR9b/44IMPPvjwv0D44IMPPui/AF100UUX3b9Ak0022WTDv4CTTTbZZMM/IF100UUX3T9A+OCDDz7oPwDhgw8++PA/0EUXXXTR9T+wqqqqqqr6P4APPvjgg/8/MLrooosuAkCgbLLJJpsEQAgffPDBBwdAeNFFF110CUDggw8++OALQFA22WSTTQ5AXHTRRRddEECUTTbZZJMRQMwmm2yyyRJAAAAAAAAAFEA42WSTTTYVQGyyySabbBZApIsuuuiiF0DYZJNNNtkYQBA++OCDDxpASBdddNFFG0B88MEHH3wcQLTJJptssh1A6KKLLrroHkAQPvjggw8gQKyqqqqqqiBARhdddNFFIUDigw8++OAhQHzwwQcffCJAGF100UUXI0CyySabbLIjQE422WSTTSRA6qKLLrroJECEDz744IMlQCB88MEHHyZAuuiiiy66JkBWVVVVVVUnQPDBBx988CdAjC666KKLKEAom2yyySYpQMIHH3zwwSlAXnTRRRddKkD44IMPPvgqQJRNNtlkkytAMLrooosuLEDKJptsssksQGaTTTbZZC1AAAAAAAAALkA=\",\"dtype\":\"float64\",\"order\":\"little\",\"shape\":[100]},\"y\":{\"__ndarray__\":\"AAAAAAAgbEDZaMKFBwBrQKe6Zovv5WlAa/XsELjRaEAnGVUWYcNnQNkln5vqumZAgRvLoFS4ZUAg+tgln7tkQLXByCrKxGNAQHKar9XTYkDAC060wehhQDiO4ziOA2FAp/laPTskYEAXnGiDkZVeQM4W34tt7lxAbmMZlApTW0ABghecaMNZQHty2aOHP1hA5DRfq2fHVkA6yaiyCFtVQHwvtrlq+lNArGeHwI2lUkDGcRzHcVxRQNFNdc0WH1BAiPcjp/naTUBN9+SyR49LQOqaLb4XW0lAYuL9yGk+R0CyzVXTPTlFQNlcNd2TS0NA3Y+c5mt1QUB0zRbfi20/QODCA/BDHzxAAAAAAAAAOUDShAsPwA82QFhRJh2ETjNAjGVQKky8MEDtghNtMLIsQCnKpIPQSShAy6BUmHg/JEDSBiOrKJMgQHz4H3jBiRpAGAI3lkGpFEASVRZhowkPQIrjOI7jOAZAMV+rZ4fA/T97ctmjh//xP+QB+KGPXeI/dlSYeD9yyj8Z2aOH/4GXP7TZo4f/gZc/sVSYeD9yyj/kAfihj13iP4xy2aOH//E/MV+rZ4fA/T+X4ziO4zgGQBJVFmGjCQ9AIQI3lkGpFECH+B94wYkaQNIGI6sokyBA0aBUmHg/JEApyqSD0EkoQPWCE20wsixAjGVQKky8MEBYUSYdhE4zQNeECw/ADzZAAAAAAAAAOUDmwgPwQx88QHTNFt+LbT9A4I+c5mt1QUDZXDXdk0tDQLLNVdM9OUVAZeL9yGk+R0Dqmi2+F1tJQFD35LJHj0tAiPcjp/naTUDRTXXNFh9QQMpxHMdxXFFArGeHwI2lUkB/L7a5avpTQDrJqLIIW1VA5jRfq2fHVkB7ctmjhz9YQAGCF5xow1lAc2MZlApTW0DOFt+Lbe5cQBqcaIORlV5Ap/laPTskYEA6juM4jgNhQMALTrTB6GFAQHKar9XTYkC2wcgqysRjQCD62CWfu2RAgxvLoFS4ZUDZJZ+b6rpmQCgZVRZhw2dAbvXsELjRaECnumaL7+VpQNpowoUHAGtAAAAAAAAgbEA=\",\"dtype\":\"float64\",\"order\":\"little\",\"shape\":[100]}},\"selected\":{\"id\":\"1044\"},\"selection_policy\":{\"id\":\"1043\"}},\"id\":\"1028\",\"type\":\"ColumnDataSource\"},{\"attributes\":{\"active_drag\":\"auto\",\"active_inspect\":\"auto\",\"active_multi\":null,\"active_scroll\":\"auto\",\"active_tap\":\"auto\",\"tools\":[{\"id\":\"1002\"},{\"id\":\"1003\"},{\"id\":\"1004\"}]},\"id\":\"1024\",\"type\":\"Toolbar\"},{\"attributes\":{\"source\":{\"id\":\"1028\"}},\"id\":\"1032\",\"type\":\"CDSView\"},{\"attributes\":{},\"id\":\"1041\",\"type\":\"BasicTickFormatter\"},{\"attributes\":{},\"id\":\"1008\",\"type\":\"DataRange1d\"},{\"attributes\":{},\"id\":\"1017\",\"type\":\"BasicTicker\"},{\"attributes\":{},\"id\":\"1039\",\"type\":\"BasicTickFormatter\"},{\"attributes\":{\"source\":{\"id\":\"1033\"}},\"id\":\"1037\",\"type\":\"CDSView\"},{\"attributes\":{},\"id\":\"1003\",\"type\":\"ResetTool\"},{\"attributes\":{\"line_alpha\":0.1,\"line_color\":\"navy\",\"line_width\":3,\"x\":{\"field\":\"x\"},\"y\":{\"field\":\"y\"}},\"id\":\"1030\",\"type\":\"Line\"},{\"attributes\":{\"line_alpha\":0.5,\"line_color\":\"navy\",\"line_width\":3,\"x\":{\"field\":\"x\"},\"y\":{\"field\":\"y\"}},\"id\":\"1029\",\"type\":\"Line\"},{\"attributes\":{\"axis_label_text_font_size\":\"14pt\",\"formatter\":{\"id\":\"1039\"},\"ticker\":{\"id\":\"1021\"}},\"id\":\"1020\",\"type\":\"LinearAxis\"},{\"attributes\":{},\"id\":\"1045\",\"type\":\"UnionRenderers\"},{\"attributes\":{},\"id\":\"1046\",\"type\":\"Selection\"},{\"attributes\":{\"fill_alpha\":{\"value\":0.1},\"fill_color\":{\"value\":\"orange\"},\"line_alpha\":{\"value\":0.1},\"line_color\":{\"value\":\"orange\"},\"size\":{\"units\":\"screen\",\"value\":10},\"x\":{\"value\":0},\"y\":{\"value\":0}},\"id\":\"1035\",\"type\":\"Circle\"},{\"attributes\":{\"data\":{},\"selected\":{\"id\":\"1046\"},\"selection_policy\":{\"id\":\"1045\"}},\"id\":\"1033\",\"type\":\"ColumnDataSource\"},{\"attributes\":{\"text\":\"Local minimum of function\",\"text_font_size\":{\"value\":\"12pt\"}},\"id\":\"1006\",\"type\":\"Title\"},{\"attributes\":{\"axis\":{\"id\":\"1020\"},\"dimension\":1,\"ticker\":null},\"id\":\"1023\",\"type\":\"Grid\"},{\"attributes\":{\"fill_color\":{\"value\":\"orange\"},\"line_color\":{\"value\":\"orange\"},\"size\":{\"units\":\"screen\",\"value\":10},\"x\":{\"value\":0},\"y\":{\"value\":0}},\"id\":\"1034\",\"type\":\"Circle\"},{\"attributes\":{\"axis_label_text_font_size\":\"14pt\",\"formatter\":{\"id\":\"1041\"},\"ticker\":{\"id\":\"1017\"}},\"id\":\"1016\",\"type\":\"LinearAxis\"},{\"attributes\":{},\"id\":\"1014\",\"type\":\"LinearScale\"}],\"root_ids\":[\"1005\"]},\"title\":\"Bokeh Application\",\"version\":\"2.2.3\"}};\n  var render_items = [{\"docid\":\"9d2f3fcd-3f85-4695-98d0-612f6c4cb1aa\",\"root_ids\":[\"1005\"],\"roots\":{\"1005\":\"9077692b-af24-403a-92b0-1ea14c1d33e5\"}}];\n  root.Bokeh.embed.embed_items_notebook(docs_json, render_items);\n\n  }\n  if (root.Bokeh !== undefined) {\n    embed_document(root);\n  } else {\n    var attempts = 0;\n    var timer = setInterval(function(root) {\n      if (root.Bokeh !== undefined) {\n        clearInterval(timer);\n        embed_document(root);\n      } else {\n        attempts++;\n        if (attempts > 100) {\n          clearInterval(timer);\n          console.log(\"Bokeh: ERROR: Unable to run BokehJS code because BokehJS library is missing\");\n        }\n      }\n    }, 10, root)\n  }\n})(window);",
      "application/vnd.bokehjs_exec.v0+json": ""
     },
     "metadata": {
      "application/vnd.bokehjs_exec.v0+json": {
       "id": "1005"
      }
     }
    }
   ],
   "source": [
    "x = np.linspace(-15,15,100)\n",
    "y = x**2\n",
    "\n",
    "TOOLS = [WheelZoomTool(), ResetTool(), PanTool()]\n",
    "\n",
    "s1 = bp.figure(width=W, plot_height=H, \n",
    "               title='Local minimum of function',  \n",
    "               tools=TOOLS)\n",
    "s1.line(x, y, color=\"navy\", alpha=0.5, line_width=3)\n",
    "s1.circle(0, 0, size =10, color=\"orange\")\n",
    "s1.title.text_font_size = '12pt'\n",
    "s1.yaxis.axis_label_text_font_size = \"14pt\"\n",
    "s1.xaxis.axis_label_text_font_size = \"14pt\"\n",
    "\n",
    "bp.show(s1)"
   ]
  },
  {
   "cell_type": "code",
   "execution_count": 8,
   "metadata": {},
   "outputs": [
    {
     "output_type": "display_data",
     "data": {
      "text/html": "\n\n\n\n\n\n  <div class=\"bk-root\" id=\"7dfeee4f-e9ae-4df6-9102-251b3df4d35b\" data-root-id=\"1095\"></div>\n"
     },
     "metadata": {}
    },
    {
     "output_type": "display_data",
     "data": {
      "application/javascript": "(function(root) {\n  function embed_document(root) {\n    \n  var docs_json = {\"d8fd7d47-b427-4234-aa68-3a27a4f750bf\":{\"roots\":{\"references\":[{\"attributes\":{\"below\":[{\"id\":\"1106\"}],\"center\":[{\"id\":\"1109\"},{\"id\":\"1113\"}],\"left\":[{\"id\":\"1110\"}],\"plot_height\":250,\"plot_width\":400,\"renderers\":[{\"id\":\"1121\"},{\"id\":\"1126\"}],\"title\":{\"id\":\"1096\"},\"toolbar\":{\"id\":\"1114\"},\"x_range\":{\"id\":\"1098\"},\"x_scale\":{\"id\":\"1102\"},\"y_range\":{\"id\":\"1100\"},\"y_scale\":{\"id\":\"1104\"}},\"id\":\"1095\",\"subtype\":\"Figure\",\"type\":\"Plot\"},{\"attributes\":{},\"id\":\"1143\",\"type\":\"Selection\"},{\"attributes\":{\"data_source\":{\"id\":\"1123\"},\"glyph\":{\"id\":\"1124\"},\"hover_glyph\":null,\"muted_glyph\":null,\"nonselection_glyph\":{\"id\":\"1125\"},\"selection_glyph\":null,\"view\":{\"id\":\"1127\"}},\"id\":\"1126\",\"type\":\"GlyphRenderer\"},{\"attributes\":{},\"id\":\"1142\",\"type\":\"UnionRenderers\"},{\"attributes\":{},\"id\":\"1138\",\"type\":\"BasicTickFormatter\"},{\"attributes\":{},\"id\":\"1093\",\"type\":\"ResetTool\"},{\"attributes\":{\"line_alpha\":0.5,\"line_color\":\"navy\",\"line_width\":3,\"x\":{\"field\":\"x\"},\"y\":{\"field\":\"y\"}},\"id\":\"1119\",\"type\":\"Line\"},{\"attributes\":{},\"id\":\"1098\",\"type\":\"DataRange1d\"},{\"attributes\":{},\"id\":\"1092\",\"type\":\"WheelZoomTool\"},{\"attributes\":{},\"id\":\"1145\",\"type\":\"Selection\"},{\"attributes\":{},\"id\":\"1094\",\"type\":\"PanTool\"},{\"attributes\":{},\"id\":\"1102\",\"type\":\"LinearScale\"},{\"attributes\":{},\"id\":\"1144\",\"type\":\"UnionRenderers\"},{\"attributes\":{},\"id\":\"1107\",\"type\":\"BasicTicker\"},{\"attributes\":{},\"id\":\"1100\",\"type\":\"DataRange1d\"},{\"attributes\":{},\"id\":\"1140\",\"type\":\"BasicTickFormatter\"},{\"attributes\":{},\"id\":\"1111\",\"type\":\"BasicTicker\"},{\"attributes\":{\"fill_color\":{\"value\":\"orange\"},\"line_color\":{\"value\":\"orange\"},\"size\":{\"units\":\"screen\",\"value\":10},\"x\":{\"value\":0},\"y\":{\"value\":0}},\"id\":\"1124\",\"type\":\"Circle\"},{\"attributes\":{\"source\":{\"id\":\"1118\"}},\"id\":\"1122\",\"type\":\"CDSView\"},{\"attributes\":{\"text\":\"Local maximum of function\",\"text_font_size\":{\"value\":\"12pt\"}},\"id\":\"1096\",\"type\":\"Title\"},{\"attributes\":{\"axis_label_text_font_size\":\"14pt\",\"formatter\":{\"id\":\"1140\"},\"ticker\":{\"id\":\"1107\"}},\"id\":\"1106\",\"type\":\"LinearAxis\"},{\"attributes\":{\"data\":{\"x\":{\"__ndarray__\":\"AAAAAAAALsBlk0022WQtwMomm2yyySzALrrooosuLMCTTTbZZJMrwPjggw8++CrAXXTRRRddKsDCBx988MEpwCebbLLJJinAjC666KKLKMDwwQcffPAnwFVVVVVVVSfAuuiiiy66JsAffPDBBx8mwIQPPvjggyXA6KKLLrroJMBONtlkk00kwLLJJptssiPAF1100UUXI8B88MEHH3wiwOGDDz744CHARhdddNFFIcCqqqqqqqogwBA++OCDDyDA6KKLLrroHsCyySabbLIdwHzwwQcffBzARhdddNFFG8AQPvjggw8awNhkk0022RjAoosuuuiiF8Bssskmm2wWwDbZZJNNNhXAAAAAAAAAFMDKJptssskSwJRNNtlkkxHAXHTRRRddEMBMNtlkk00OwOCDDz744AvAdNFFF110CcAIH3zwwQcHwJxssskmmwTALLrooosuAsCADz744IP/v6iqqqqqqvq/0EUXXXTR9b/44IMPPvjwv0D44IMPPui/AF100UUX3b9Ak0022WTDv4CTTTbZZMM/IF100UUX3T9A+OCDDz7oPwDhgw8++PA/0EUXXXTR9T+wqqqqqqr6P4APPvjgg/8/MLrooosuAkCgbLLJJpsEQAgffPDBBwdAeNFFF110CUDggw8++OALQFA22WSTTQ5AXHTRRRddEECUTTbZZJMRQMwmm2yyyRJAAAAAAAAAFEA42WSTTTYVQGyyySabbBZApIsuuuiiF0DYZJNNNtkYQBA++OCDDxpASBdddNFFG0B88MEHH3wcQLTJJptssh1A6KKLLrroHkAQPvjggw8gQKyqqqqqqiBARhdddNFFIUDigw8++OAhQHzwwQcffCJAGF100UUXI0CyySabbLIjQE422WSTTSRA6qKLLrroJECEDz744IMlQCB88MEHHyZAuuiiiy66JkBWVVVVVVUnQPDBBx988CdAjC666KKLKEAom2yyySYpQMIHH3zwwSlAXnTRRRddKkD44IMPPvgqQJRNNtlkkytAMLrooosuLEDKJptsssksQGaTTTbZZC1AAAAAAAAALkA=\",\"dtype\":\"float64\",\"order\":\"little\",\"shape\":[100]},\"y\":{\"__ndarray__\":\"AAAAAAAgbMDZaMKFBwBrwKe6Zovv5WnAa/XsELjRaMAnGVUWYcNnwNkln5vqumbAgRvLoFS4ZcAg+tgln7tkwLXByCrKxGPAQHKar9XTYsDAC060wehhwDiO4ziOA2HAp/laPTskYMAXnGiDkZVewM4W34tt7lzAbmMZlApTW8ABghecaMNZwHty2aOHP1jA5DRfq2fHVsA6yaiyCFtVwHwvtrlq+lPArGeHwI2lUsDGcRzHcVxRwNFNdc0WH1DAiPcjp/naTcBN9+SyR49LwOqaLb4XW0nAYuL9yGk+R8CyzVXTPTlFwNlcNd2TS0PA3Y+c5mt1QcB0zRbfi20/wODCA/BDHzzAAAAAAAAAOcDShAsPwA82wFhRJh2ETjPAjGVQKky8MMDtghNtMLIswCnKpIPQSSjAy6BUmHg/JMDSBiOrKJMgwHz4H3jBiRrAGAI3lkGpFMASVRZhowkPwIrjOI7jOAbAMV+rZ4fA/b97ctmjh//xv+QB+KGPXeK/dlSYeD9yyr8Z2aOH/4GXv7TZo4f/gZe/sVSYeD9yyr/kAfihj13iv4xy2aOH//G/MV+rZ4fA/b+X4ziO4zgGwBJVFmGjCQ/AIQI3lkGpFMCH+B94wYkawNIGI6sokyDA0aBUmHg/JMApyqSD0EkowPWCE20wsizAjGVQKky8MMBYUSYdhE4zwNeECw/ADzbAAAAAAAAAOcDmwgPwQx88wHTNFt+LbT/A4I+c5mt1QcDZXDXdk0tDwLLNVdM9OUXAZeL9yGk+R8Dqmi2+F1tJwFD35LJHj0vAiPcjp/naTcDRTXXNFh9QwMpxHMdxXFHArGeHwI2lUsB/L7a5avpTwDrJqLIIW1XA5jRfq2fHVsB7ctmjhz9YwAGCF5xow1nAc2MZlApTW8DOFt+Lbe5cwBqcaIORlV7Ap/laPTskYMA6juM4jgNhwMALTrTB6GHAQHKar9XTYsC2wcgqysRjwCD62CWfu2TAgxvLoFS4ZcDZJZ+b6rpmwCgZVRZhw2fAbvXsELjRaMCnumaL7+VpwNpowoUHAGvAAAAAAAAgbMA=\",\"dtype\":\"float64\",\"order\":\"little\",\"shape\":[100]}},\"selected\":{\"id\":\"1143\"},\"selection_policy\":{\"id\":\"1142\"}},\"id\":\"1118\",\"type\":\"ColumnDataSource\"},{\"attributes\":{\"axis_label_text_font_size\":\"14pt\",\"formatter\":{\"id\":\"1138\"},\"ticker\":{\"id\":\"1111\"}},\"id\":\"1110\",\"type\":\"LinearAxis\"},{\"attributes\":{\"fill_alpha\":{\"value\":0.1},\"fill_color\":{\"value\":\"orange\"},\"line_alpha\":{\"value\":0.1},\"line_color\":{\"value\":\"orange\"},\"size\":{\"units\":\"screen\",\"value\":10},\"x\":{\"value\":0},\"y\":{\"value\":0}},\"id\":\"1125\",\"type\":\"Circle\"},{\"attributes\":{\"line_alpha\":0.1,\"line_color\":\"navy\",\"line_width\":3,\"x\":{\"field\":\"x\"},\"y\":{\"field\":\"y\"}},\"id\":\"1120\",\"type\":\"Line\"},{\"attributes\":{\"axis\":{\"id\":\"1110\"},\"dimension\":1,\"ticker\":null},\"id\":\"1113\",\"type\":\"Grid\"},{\"attributes\":{\"data\":{},\"selected\":{\"id\":\"1145\"},\"selection_policy\":{\"id\":\"1144\"}},\"id\":\"1123\",\"type\":\"ColumnDataSource\"},{\"attributes\":{},\"id\":\"1104\",\"type\":\"LinearScale\"},{\"attributes\":{\"data_source\":{\"id\":\"1118\"},\"glyph\":{\"id\":\"1119\"},\"hover_glyph\":null,\"muted_glyph\":null,\"nonselection_glyph\":{\"id\":\"1120\"},\"selection_glyph\":null,\"view\":{\"id\":\"1122\"}},\"id\":\"1121\",\"type\":\"GlyphRenderer\"},{\"attributes\":{\"axis\":{\"id\":\"1106\"},\"ticker\":null},\"id\":\"1109\",\"type\":\"Grid\"},{\"attributes\":{\"source\":{\"id\":\"1123\"}},\"id\":\"1127\",\"type\":\"CDSView\"},{\"attributes\":{\"active_drag\":\"auto\",\"active_inspect\":\"auto\",\"active_multi\":null,\"active_scroll\":\"auto\",\"active_tap\":\"auto\",\"tools\":[{\"id\":\"1092\"},{\"id\":\"1093\"},{\"id\":\"1094\"}]},\"id\":\"1114\",\"type\":\"Toolbar\"}],\"root_ids\":[\"1095\"]},\"title\":\"Bokeh Application\",\"version\":\"2.2.3\"}};\n  var render_items = [{\"docid\":\"d8fd7d47-b427-4234-aa68-3a27a4f750bf\",\"root_ids\":[\"1095\"],\"roots\":{\"1095\":\"7dfeee4f-e9ae-4df6-9102-251b3df4d35b\"}}];\n  root.Bokeh.embed.embed_items_notebook(docs_json, render_items);\n\n  }\n  if (root.Bokeh !== undefined) {\n    embed_document(root);\n  } else {\n    var attempts = 0;\n    var timer = setInterval(function(root) {\n      if (root.Bokeh !== undefined) {\n        clearInterval(timer);\n        embed_document(root);\n      } else {\n        attempts++;\n        if (attempts > 100) {\n          clearInterval(timer);\n          console.log(\"Bokeh: ERROR: Unable to run BokehJS code because BokehJS library is missing\");\n        }\n      }\n    }, 10, root)\n  }\n})(window);",
      "application/vnd.bokehjs_exec.v0+json": ""
     },
     "metadata": {
      "application/vnd.bokehjs_exec.v0+json": {
       "id": "1095"
      }
     }
    }
   ],
   "source": [
    "x = np.linspace(-15,15,100)\n",
    "y = -x**2\n",
    "\n",
    "TOOLS = [WheelZoomTool(), ResetTool(), PanTool()]\n",
    "\n",
    "\n",
    "s1 = bp.figure(width=W, plot_height=H, \n",
    "               title='Local maximum of function',  \n",
    "               tools=TOOLS)\n",
    "s1.line(x, y, color=\"navy\", alpha=0.5, line_width=3)\n",
    "s1.circle(0, 0, size =10, color=\"orange\")\n",
    "s1.title.text_font_size = '12pt'\n",
    "s1.yaxis.axis_label_text_font_size = \"14pt\"\n",
    "s1.xaxis.axis_label_text_font_size = \"14pt\"\n",
    "\n",
    "bp.show(s1)"
   ]
  },
  {
   "cell_type": "code",
   "execution_count": 9,
   "metadata": {},
   "outputs": [
    {
     "output_type": "display_data",
     "data": {
      "text/html": "\n\n\n\n\n\n  <div class=\"bk-root\" id=\"2d2ab826-088b-4777-aae4-f027186094af\" data-root-id=\"1194\"></div>\n"
     },
     "metadata": {}
    },
    {
     "output_type": "display_data",
     "data": {
      "application/javascript": "(function(root) {\n  function embed_document(root) {\n    \n  var docs_json = {\"37a061c6-58c2-4c1c-a8dc-258f467278dd\":{\"roots\":{\"references\":[{\"attributes\":{\"below\":[{\"id\":\"1205\"}],\"center\":[{\"id\":\"1208\"},{\"id\":\"1212\"}],\"left\":[{\"id\":\"1209\"}],\"plot_height\":250,\"plot_width\":400,\"renderers\":[{\"id\":\"1220\"},{\"id\":\"1225\"}],\"title\":{\"id\":\"1195\"},\"toolbar\":{\"id\":\"1213\"},\"x_range\":{\"id\":\"1197\"},\"x_scale\":{\"id\":\"1201\"},\"y_range\":{\"id\":\"1199\"},\"y_scale\":{\"id\":\"1203\"}},\"id\":\"1194\",\"subtype\":\"Figure\",\"type\":\"Plot\"},{\"attributes\":{},\"id\":\"1246\",\"type\":\"BasicTickFormatter\"},{\"attributes\":{},\"id\":\"1193\",\"type\":\"PanTool\"},{\"attributes\":{},\"id\":\"1252\",\"type\":\"UnionRenderers\"},{\"attributes\":{\"text\":\"Saddle point of function\",\"text_font_size\":{\"value\":\"12pt\"}},\"id\":\"1195\",\"type\":\"Title\"},{\"attributes\":{\"data\":{\"x\":{\"__ndarray__\":\"AAAAAAAALsBlk0022WQtwMomm2yyySzALrrooosuLMCTTTbZZJMrwPjggw8++CrAXXTRRRddKsDCBx988MEpwCebbLLJJinAjC666KKLKMDwwQcffPAnwFVVVVVVVSfAuuiiiy66JsAffPDBBx8mwIQPPvjggyXA6KKLLrroJMBONtlkk00kwLLJJptssiPAF1100UUXI8B88MEHH3wiwOGDDz744CHARhdddNFFIcCqqqqqqqogwBA++OCDDyDA6KKLLrroHsCyySabbLIdwHzwwQcffBzARhdddNFFG8AQPvjggw8awNhkk0022RjAoosuuuiiF8Bssskmm2wWwDbZZJNNNhXAAAAAAAAAFMDKJptssskSwJRNNtlkkxHAXHTRRRddEMBMNtlkk00OwOCDDz744AvAdNFFF110CcAIH3zwwQcHwJxssskmmwTALLrooosuAsCADz744IP/v6iqqqqqqvq/0EUXXXTR9b/44IMPPvjwv0D44IMPPui/AF100UUX3b9Ak0022WTDv4CTTTbZZMM/IF100UUX3T9A+OCDDz7oPwDhgw8++PA/0EUXXXTR9T+wqqqqqqr6P4APPvjgg/8/MLrooosuAkCgbLLJJpsEQAgffPDBBwdAeNFFF110CUDggw8++OALQFA22WSTTQ5AXHTRRRddEECUTTbZZJMRQMwmm2yyyRJAAAAAAAAAFEA42WSTTTYVQGyyySabbBZApIsuuuiiF0DYZJNNNtkYQBA++OCDDxpASBdddNFFG0B88MEHH3wcQLTJJptssh1A6KKLLrroHkAQPvjggw8gQKyqqqqqqiBARhdddNFFIUDigw8++OAhQHzwwQcffCJAGF100UUXI0CyySabbLIjQE422WSTTSRA6qKLLrroJECEDz744IMlQCB88MEHHyZAuuiiiy66JkBWVVVVVVUnQPDBBx988CdAjC666KKLKEAom2yyySYpQMIHH3zwwSlAXnTRRRddKkD44IMPPvgqQJRNNtlkkytAMLrooosuLEDKJptsssksQGaTTTbZZC1AAAAAAAAALkA=\",\"dtype\":\"float64\",\"order\":\"little\",\"shape\":[100]},\"y\":{\"__ndarray__\":\"AAAAAABeqsC7sr4uHs2owJ6Rh0luTKfAlmm51JrbpcCdB7NUTnqkwKA4000zKKPAkcl4RPTkocBkhwK9O7CgwBN+nndoE5/A6Hp7ihDinMAon1m7xMuawL2E9hLaz5jAh8UPmqXtlsBr+2JZfCSVwE3ArVmzc5PAD66to5/akcCbXiBAlliQwJjXhm/Y2Y3AG9+oJu0ti8CCByK3FKyIwJSEbTL5UobAGooGqkQhhMDYS2gvoRWCwKD9DdS4LoDAXablUmvWfMCnACSCg5N5wKhxzVgOknbA8GDY+V/Pc8ARNjuIzEhxwCmx2E1Q923AKGDE8Y3KacA2SCZC+gVmwHQ464Q9pGLAAAAAAABAX8D326Ly0+dZwA6jmG1HNVXAfPO6/KodUcAh18ZXnixLwAhT1w0JKUXALZdaMzcbQMAewAfAk9s3wGDUDFfEFjHAL8hVtoR6J8BXoSHvP5EewEZoL6G9hBLAWpLdgBZJBMA1oOYpxhbzv4OOns6T09u/nu9bVsUKuL/ZqQQRi35sv/OqBBGLfmw/7u9bVsUKuD+Djp7Ok9PbP1Cg5inGFvM/WpLdgBZJBEBXaC+hvYQSQFehIe8/kR5AP8hVtoR6J0Bq1AxXxBYxQB7AB8CT2zdANJdaMzcbQEAIU9cNCSlFQCzXxleeLEtAfPO6/KodUUAOo5htRzVVQADcovLT51lAAAAAAABAX0B5OOuEPaRiQDZIJkL6BWZAL2DE8Y3KaUApsdhNUPdtQBE2O4jMSHFA9WDY+V/Pc0Cocc1YDpJ2QKwAJIKDk3lAXablUmvWfECg/Q3UuC6AQN5LaC+hFYJAGooGqkQhhECYhG0y+VKGQIIHIrcUrIhAH9+oJu0ti0CY14Zv2NmNQJteIECWWJBAFK6to5/akUBNwK1Zs3OTQG77Yll8JJVAh8UPmqXtlkDAhPYS2s+YQCifWbvEy5pA6Hp7ihDinEAXfp53aBOfQGSHAr07sKBAk8l4RPTkoUCgONNNMyijQJ8Hs1ROeqRAm2m51JrbpUCekYdJbkynQL6yvi4ezahAAAAAAABeqkA=\",\"dtype\":\"float64\",\"order\":\"little\",\"shape\":[100]}},\"selected\":{\"id\":\"1251\"},\"selection_policy\":{\"id\":\"1250\"}},\"id\":\"1217\",\"type\":\"ColumnDataSource\"},{\"attributes\":{},\"id\":\"1191\",\"type\":\"WheelZoomTool\"},{\"attributes\":{\"data_source\":{\"id\":\"1217\"},\"glyph\":{\"id\":\"1218\"},\"hover_glyph\":null,\"muted_glyph\":null,\"nonselection_glyph\":{\"id\":\"1219\"},\"selection_glyph\":null,\"view\":{\"id\":\"1221\"}},\"id\":\"1220\",\"type\":\"GlyphRenderer\"},{\"attributes\":{\"line_alpha\":0.5,\"line_color\":\"navy\",\"line_width\":3,\"x\":{\"field\":\"x\"},\"y\":{\"field\":\"y\"}},\"id\":\"1218\",\"type\":\"Line\"},{\"attributes\":{},\"id\":\"1248\",\"type\":\"BasicTickFormatter\"},{\"attributes\":{},\"id\":\"1192\",\"type\":\"ResetTool\"},{\"attributes\":{\"data\":{},\"selected\":{\"id\":\"1253\"},\"selection_policy\":{\"id\":\"1252\"}},\"id\":\"1222\",\"type\":\"ColumnDataSource\"},{\"attributes\":{},\"id\":\"1201\",\"type\":\"LinearScale\"},{\"attributes\":{\"fill_color\":{\"value\":\"orange\"},\"line_color\":{\"value\":\"orange\"},\"size\":{\"units\":\"screen\",\"value\":10},\"x\":{\"value\":0},\"y\":{\"value\":0}},\"id\":\"1223\",\"type\":\"Circle\"},{\"attributes\":{},\"id\":\"1199\",\"type\":\"DataRange1d\"},{\"attributes\":{\"active_drag\":\"auto\",\"active_inspect\":\"auto\",\"active_multi\":null,\"active_scroll\":\"auto\",\"active_tap\":\"auto\",\"tools\":[{\"id\":\"1191\"},{\"id\":\"1192\"},{\"id\":\"1193\"}]},\"id\":\"1213\",\"type\":\"Toolbar\"},{\"attributes\":{\"axis_label_text_font_size\":\"14pt\",\"formatter\":{\"id\":\"1246\"},\"ticker\":{\"id\":\"1210\"}},\"id\":\"1209\",\"type\":\"LinearAxis\"},{\"attributes\":{},\"id\":\"1197\",\"type\":\"DataRange1d\"},{\"attributes\":{\"source\":{\"id\":\"1222\"}},\"id\":\"1226\",\"type\":\"CDSView\"},{\"attributes\":{},\"id\":\"1206\",\"type\":\"BasicTicker\"},{\"attributes\":{},\"id\":\"1203\",\"type\":\"LinearScale\"},{\"attributes\":{\"axis_label_text_font_size\":\"14pt\",\"formatter\":{\"id\":\"1248\"},\"ticker\":{\"id\":\"1206\"}},\"id\":\"1205\",\"type\":\"LinearAxis\"},{\"attributes\":{\"source\":{\"id\":\"1217\"}},\"id\":\"1221\",\"type\":\"CDSView\"},{\"attributes\":{\"line_alpha\":0.1,\"line_color\":\"navy\",\"line_width\":3,\"x\":{\"field\":\"x\"},\"y\":{\"field\":\"y\"}},\"id\":\"1219\",\"type\":\"Line\"},{\"attributes\":{\"axis\":{\"id\":\"1205\"},\"ticker\":null},\"id\":\"1208\",\"type\":\"Grid\"},{\"attributes\":{},\"id\":\"1253\",\"type\":\"Selection\"},{\"attributes\":{\"fill_alpha\":{\"value\":0.1},\"fill_color\":{\"value\":\"orange\"},\"line_alpha\":{\"value\":0.1},\"line_color\":{\"value\":\"orange\"},\"size\":{\"units\":\"screen\",\"value\":10},\"x\":{\"value\":0},\"y\":{\"value\":0}},\"id\":\"1224\",\"type\":\"Circle\"},{\"attributes\":{\"axis\":{\"id\":\"1209\"},\"dimension\":1,\"ticker\":null},\"id\":\"1212\",\"type\":\"Grid\"},{\"attributes\":{},\"id\":\"1210\",\"type\":\"BasicTicker\"},{\"attributes\":{\"data_source\":{\"id\":\"1222\"},\"glyph\":{\"id\":\"1223\"},\"hover_glyph\":null,\"muted_glyph\":null,\"nonselection_glyph\":{\"id\":\"1224\"},\"selection_glyph\":null,\"view\":{\"id\":\"1226\"}},\"id\":\"1225\",\"type\":\"GlyphRenderer\"},{\"attributes\":{},\"id\":\"1250\",\"type\":\"UnionRenderers\"},{\"attributes\":{},\"id\":\"1251\",\"type\":\"Selection\"}],\"root_ids\":[\"1194\"]},\"title\":\"Bokeh Application\",\"version\":\"2.2.3\"}};\n  var render_items = [{\"docid\":\"37a061c6-58c2-4c1c-a8dc-258f467278dd\",\"root_ids\":[\"1194\"],\"roots\":{\"1194\":\"2d2ab826-088b-4777-aae4-f027186094af\"}}];\n  root.Bokeh.embed.embed_items_notebook(docs_json, render_items);\n\n  }\n  if (root.Bokeh !== undefined) {\n    embed_document(root);\n  } else {\n    var attempts = 0;\n    var timer = setInterval(function(root) {\n      if (root.Bokeh !== undefined) {\n        clearInterval(timer);\n        embed_document(root);\n      } else {\n        attempts++;\n        if (attempts > 100) {\n          clearInterval(timer);\n          console.log(\"Bokeh: ERROR: Unable to run BokehJS code because BokehJS library is missing\");\n        }\n      }\n    }, 10, root)\n  }\n})(window);",
      "application/vnd.bokehjs_exec.v0+json": ""
     },
     "metadata": {
      "application/vnd.bokehjs_exec.v0+json": {
       "id": "1194"
      }
     }
    }
   ],
   "source": [
    "x = np.linspace(-15,15,100)\n",
    "y = x**3\n",
    "\n",
    "TOOLS = [WheelZoomTool(), ResetTool(), PanTool()]\n",
    "\n",
    "\n",
    "s1 = bp.figure(width=W, plot_height=H, \n",
    "               title='Saddle point of function',  \n",
    "               tools=TOOLS)\n",
    "s1.line(x, y, color=\"navy\", alpha=0.5, line_width=3)\n",
    "s1.circle(0, 0, size =10, color=\"orange\")\n",
    "s1.title.text_font_size = '12pt'\n",
    "s1.yaxis.axis_label_text_font_size = \"14pt\"\n",
    "s1.xaxis.axis_label_text_font_size = \"14pt\"\n",
    "\n",
    "bp.show(s1)"
   ]
  },
  {
   "cell_type": "markdown",
   "metadata": {},
   "source": [
    "There are two problems with numerical derivatives:\n",
    "+ It is approximate.\n",
    "+ It is very slow to evaluate (two function evaluations: $f(x + h) , f(x - h)$ ).\n",
    "\n",
    "Our knowledge from Calculus could help!"
   ]
  },
  {
   "cell_type": "markdown",
   "metadata": {},
   "source": [
    "We know that we can get an **analytical expression** of the derivative for **some** functions. \n",
    "\n",
    "For example, let's suppose we have a simple quadratic function, $f(x)=x^2−6x+5$, and we want to find the minimum of this function. \n",
    "\n",
    "#### First approach\n",
    "\n",
    "We can solve this analytically using Calculus, by finding the derivate $f'(x)  =  2x-6$ and setting it to zero:\n",
    "\n",
    "\\begin{equation}\n",
    "\\begin{split}\n",
    "2x-6  & = & 0 \\\\\n",
    "2x  & = & 6 \\\\\n",
    "x & = & 3 \\\\\n",
    "\\end{split}\n",
    "\\end{equation} "
   ]
  },
  {
   "cell_type": "code",
   "execution_count": 10,
   "metadata": {},
   "outputs": [
    {
     "output_type": "display_data",
     "data": {
      "text/html": "\n\n\n\n\n\n  <div class=\"bk-root\" id=\"08353136-dc0c-4270-8012-42f376f72990\" data-root-id=\"1302\"></div>\n"
     },
     "metadata": {}
    },
    {
     "output_type": "display_data",
     "data": {
      "application/javascript": "(function(root) {\n  function embed_document(root) {\n    \n  var docs_json = {\"f9592a1f-142f-4697-86a8-aef58f9a0882\":{\"roots\":{\"references\":[{\"attributes\":{\"below\":[{\"id\":\"1311\"}],\"center\":[{\"id\":\"1314\"},{\"id\":\"1318\"}],\"left\":[{\"id\":\"1315\"}],\"plot_height\":250,\"plot_width\":400,\"renderers\":[{\"id\":\"1326\"},{\"id\":\"1331\"}],\"title\":{\"id\":\"1333\"},\"toolbar\":{\"id\":\"1319\"},\"x_range\":{\"id\":\"1303\"},\"x_scale\":{\"id\":\"1307\"},\"y_range\":{\"id\":\"1305\"},\"y_scale\":{\"id\":\"1309\"}},\"id\":\"1302\",\"subtype\":\"Figure\",\"type\":\"Plot\"},{\"attributes\":{\"active_drag\":\"auto\",\"active_inspect\":\"auto\",\"active_multi\":null,\"active_scroll\":\"auto\",\"active_tap\":\"auto\",\"tools\":[{\"id\":\"1299\"},{\"id\":\"1300\"},{\"id\":\"1301\"}]},\"id\":\"1319\",\"type\":\"Toolbar\"},{\"attributes\":{},\"id\":\"1316\",\"type\":\"BasicTicker\"},{\"attributes\":{\"axis_label_text_font_size\":\"14pt\",\"formatter\":{\"id\":\"1363\"},\"ticker\":{\"id\":\"1316\"}},\"id\":\"1315\",\"type\":\"LinearAxis\"},{\"attributes\":{},\"id\":\"1368\",\"type\":\"Selection\"},{\"attributes\":{},\"id\":\"1367\",\"type\":\"UnionRenderers\"},{\"attributes\":{},\"id\":\"1369\",\"type\":\"UnionRenderers\"},{\"attributes\":{},\"id\":\"1365\",\"type\":\"BasicTickFormatter\"},{\"attributes\":{},\"id\":\"1301\",\"type\":\"PanTool\"},{\"attributes\":{\"fill_color\":{\"value\":\"orange\"},\"line_color\":{\"value\":\"orange\"},\"size\":{\"units\":\"screen\",\"value\":10},\"x\":{\"value\":3},\"y\":{\"value\":-4}},\"id\":\"1329\",\"type\":\"Circle\"},{\"attributes\":{\"axis\":{\"id\":\"1311\"},\"ticker\":null},\"id\":\"1314\",\"type\":\"Grid\"},{\"attributes\":{\"line_alpha\":0.1,\"line_color\":\"navy\",\"line_width\":3,\"x\":{\"field\":\"x\"},\"y\":{\"field\":\"y\"}},\"id\":\"1325\",\"type\":\"Line\"},{\"attributes\":{},\"id\":\"1299\",\"type\":\"WheelZoomTool\"},{\"attributes\":{\"source\":{\"id\":\"1323\"}},\"id\":\"1327\",\"type\":\"CDSView\"},{\"attributes\":{},\"id\":\"1300\",\"type\":\"ResetTool\"},{\"attributes\":{\"data_source\":{\"id\":\"1323\"},\"glyph\":{\"id\":\"1324\"},\"hover_glyph\":null,\"muted_glyph\":null,\"nonselection_glyph\":{\"id\":\"1325\"},\"selection_glyph\":null,\"view\":{\"id\":\"1327\"}},\"id\":\"1326\",\"type\":\"GlyphRenderer\"},{\"attributes\":{},\"id\":\"1363\",\"type\":\"BasicTickFormatter\"},{\"attributes\":{},\"id\":\"1370\",\"type\":\"Selection\"},{\"attributes\":{\"text\":\"\",\"text_font_size\":{\"value\":\"12pt\"}},\"id\":\"1333\",\"type\":\"Title\"},{\"attributes\":{},\"id\":\"1303\",\"type\":\"DataRange1d\"},{\"attributes\":{\"axis\":{\"id\":\"1315\"},\"dimension\":1,\"ticker\":null},\"id\":\"1318\",\"type\":\"Grid\"},{\"attributes\":{\"data\":{\"x\":{\"__ndarray__\":\"AAAAAAAAJMBlk0022WQjwMomm2yyySLALrrooosuIsCTTTbZZJMhwPjggw8++CDAXXTRRRddIMCEDz744IMfwE422WSTTR7AF1100UUXHcDhgw8++OAbwKqqqqqqqhrAdNFFF110GcA++OCDDz4YwAgffPDBBxfA0UUXXXTRFcCbbLLJJpsUwGWTTTbZZBPALrrooosuEsD44IMPPvgQwIQPPvjggw/AFl100UUXDcCqqqqqqqoKwD744IMPPgjA0EUXXXTRBcBkk0022WQDwPjggw8++ADAGF100UUX/b9A+OCDDz74v2CTTTbZZPO/EF100UUX7b9gk0022WTjv2CTTTbZZNO/AAAAAAAAAABgk0022WTTP2CTTTbZZOM/IF100UUX7T9ok0022WTzP0D44IMPPvg/GF100UUX/T/44IMPPvgAQGSTTTbZZANA1EUXXXTRBUBA+OCDDz4IQKyqqqqqqgpAGF100UUXDUCEDz744IMPQPjggw8++BBAMLrooosuEkBmk0022WQTQJxssskmmxRA0kUXXXTRFUAIH3zwwQcXQED44IMPPhhAdNFFF110GUCsqqqqqqoaQOCDDz744BtAGF100UUXHUBQNtlkk00eQIQPPvjggx9AXnTRRRddIED44IMPPvggQJRNNtlkkyFALrrooosuIkDKJptssskiQGaTTTbZZCNAAAAAAAAAJECcbLLJJpskQDbZZJNNNiVA0kUXXXTRJUBssskmm2wmQAgffPDBBydApIsuuuiiJ0A++OCDDz4oQNpkk0022ShAdNFFF110KUAQPvjggw8qQKyqqqqqqipARhdddNFFK0Digw8++OArQHzwwQcffCxAGF100UUXLUCyySabbLItQE422WSTTS5A6qKLLrroLkCEDz744IMvQBA++OCDDzBAXXTRRRddMECrqqqqqqowQPjggw8++DBARhdddNFFMUCUTTbZZJMxQOGDDz744DFAL7rooosuMkB88MEHH3wyQMomm2yyyTJAGF100UUXM0Blk0022WQzQLPJJptssjNAAAAAAAAANEA=\",\"dtype\":\"float64\",\"order\":\"little\",\"shape\":[100]},\"y\":{\"__ndarray__\":\"AAAAAACgZEAABC840aZjQPXwP/CCs2JA38YyKBXGYUDChQfgh95gQDVbfC+2+V9A1Hytnh1CXkBecKINRpZcQNY1W3wv9lpAOM3X6tlhWUCKNhhZRdlXQMZxHMdxXFZA8X7kNF/rVEAIXnCiDYZTQAwPwA99LFJA/JHTfK3eUECxzVXTPTlPQEYbjKyizExAsAxKhYl3SkD4oY9d8jlIQBjbXDXdE0ZAELixDEoFREDjOI7jOA5CQI9d8rmpLkBAKEy8HznNPEDnJKPKImw5QFlFmXQQOjZAfa2eHQI3M0BUXbPF92IwQLWprtnieytALygVJt6PJkAPNppw4QEiQKqme3LZoxtAAAAAAAAAFEBD8IITbTAKQDo8AD/0sfs/4Eu8HznN1z/wNVt8L7bpv7jNVdM9ufy/psLE+5HTBMDYYGQVZdIJwHjBiTYYWQ3AgOQ0X6tnD8DwyWWPHv4PwMhxHMdxHA/ACNxYBqXCDMC0CBtNuPAIwMj3YpurpgPAcFJh4v3I+b+AdBA6yajiv0CyijLpIOQ/0LND4MYyAEDA+F5sc9UMQKA9evgfeBVAoB0CN5ZBHUA8juM4juMiQASdZFRZhCdAQDsEbiyDLEByNOHCA/AwQOySz011zTNAJjnN1+rZNkAEJ9pgZBU6QKRc9ujhfz1A8+wQuLGMQEB1Ty579HBCQNFV0z25bERAAAAAAACARkAOTrTByKpIQO8/8IIT7UpAsNWzQ+BGTUBGD/8DL7hPQF726OF/IFFABTeWQalwUkCUSQehk8xTQBQuPAA/NFVAf+Q0X6unVkDYbPG92CZYQB/HcRzHsVlAUPO1enZIW0Bw8b3Y5upcQHfBiTYYmV5AubEMSoUpYECqa7b4XgxhQJQOQicZ9WFAdJqv1bPjYkBID/8DL9hjQBZtMLKK0mRA1rND4MbSZUCQ4ziO49hmQDz8D7zg5GdA5P3Iab72aECB6GOXfA5qQA+84EQbLGtAm3g/cppPbEAXHoAf+nhtQIysokw6qG5A+iOn+Vrdb0AtwkYTLoxwQNrmqumeLHFAAAAAAADQcUA=\",\"dtype\":\"float64\",\"order\":\"little\",\"shape\":[100]}},\"selected\":{\"id\":\"1368\"},\"selection_policy\":{\"id\":\"1367\"}},\"id\":\"1323\",\"type\":\"ColumnDataSource\"},{\"attributes\":{\"fill_alpha\":{\"value\":0.1},\"fill_color\":{\"value\":\"orange\"},\"line_alpha\":{\"value\":0.1},\"line_color\":{\"value\":\"orange\"},\"size\":{\"units\":\"screen\",\"value\":10},\"x\":{\"value\":3},\"y\":{\"value\":-4}},\"id\":\"1330\",\"type\":\"Circle\"},{\"attributes\":{\"axis_label_text_font_size\":\"14pt\",\"formatter\":{\"id\":\"1365\"},\"ticker\":{\"id\":\"1312\"}},\"id\":\"1311\",\"type\":\"LinearAxis\"},{\"attributes\":{\"data\":{},\"selected\":{\"id\":\"1370\"},\"selection_policy\":{\"id\":\"1369\"}},\"id\":\"1328\",\"type\":\"ColumnDataSource\"},{\"attributes\":{},\"id\":\"1309\",\"type\":\"LinearScale\"},{\"attributes\":{\"line_alpha\":0.5,\"line_color\":\"navy\",\"line_width\":3,\"x\":{\"field\":\"x\"},\"y\":{\"field\":\"y\"}},\"id\":\"1324\",\"type\":\"Line\"},{\"attributes\":{},\"id\":\"1307\",\"type\":\"LinearScale\"},{\"attributes\":{\"source\":{\"id\":\"1328\"}},\"id\":\"1332\",\"type\":\"CDSView\"},{\"attributes\":{},\"id\":\"1305\",\"type\":\"DataRange1d\"},{\"attributes\":{\"data_source\":{\"id\":\"1328\"},\"glyph\":{\"id\":\"1329\"},\"hover_glyph\":null,\"muted_glyph\":null,\"nonselection_glyph\":{\"id\":\"1330\"},\"selection_glyph\":null,\"view\":{\"id\":\"1332\"}},\"id\":\"1331\",\"type\":\"GlyphRenderer\"},{\"attributes\":{},\"id\":\"1312\",\"type\":\"BasicTicker\"}],\"root_ids\":[\"1302\"]},\"title\":\"Bokeh Application\",\"version\":\"2.2.3\"}};\n  var render_items = [{\"docid\":\"f9592a1f-142f-4697-86a8-aef58f9a0882\",\"root_ids\":[\"1302\"],\"roots\":{\"1302\":\"08353136-dc0c-4270-8012-42f376f72990\"}}];\n  root.Bokeh.embed.embed_items_notebook(docs_json, render_items);\n\n  }\n  if (root.Bokeh !== undefined) {\n    embed_document(root);\n  } else {\n    var attempts = 0;\n    var timer = setInterval(function(root) {\n      if (root.Bokeh !== undefined) {\n        clearInterval(timer);\n        embed_document(root);\n      } else {\n        attempts++;\n        if (attempts > 100) {\n          clearInterval(timer);\n          console.log(\"Bokeh: ERROR: Unable to run BokehJS code because BokehJS library is missing\");\n        }\n      }\n    }, 10, root)\n  }\n})(window);",
      "application/vnd.bokehjs_exec.v0+json": ""
     },
     "metadata": {
      "application/vnd.bokehjs_exec.v0+json": {
       "id": "1302"
      }
     }
    }
   ],
   "source": [
    "x = np.linspace(-10,20,100)\n",
    "y = x**2 - 6*x + 5\n",
    " \n",
    "TOOLS = [WheelZoomTool(), ResetTool(), PanTool()]\n",
    "\n",
    "\n",
    "s1 = bp.figure(width=W, plot_height=H, \n",
    "               tools=TOOLS)\n",
    "s1.line(x, y, color=\"navy\", alpha=0.5, line_width=3)\n",
    "s1.circle(3, 3**2 - 6*3 + 5, size =10, color=\"orange\")\n",
    "s1.title.text_font_size = '12pt'\n",
    "s1.yaxis.axis_label_text_font_size = \"14pt\"\n",
    "s1.xaxis.axis_label_text_font_size = \"14pt\"\n",
    "\n",
    "bp.show(s1)"
   ]
  },
  {
   "cell_type": "markdown",
   "metadata": {},
   "source": [
    "#### Second approach\n",
    "\n",
    "To find the local minimum using **gradient descend**: you start at a random point, and move into the direction of steepest **descent** relative to the derivative:\n",
    "\n",
    "+ Start from a random $x$ value.\n",
    "+ Compute the derivative $f'(x)$ analitically.\n",
    "+ Walk a small step in the **opposite** direction of the derivative. \n",
    "\n",
    "In this example, let's suppose we start at $x=15$. The derivative at this point is $2*15−6=24$. \n",
    "\n",
    "Because we're using gradient descent, we need to subtract the gradient from our $x$-coordinate: $f(x - f'(x))$. However, notice that $15−24$ gives us $−9$, clearly overshooting over target of $3$. "
   ]
  },
  {
   "cell_type": "code",
   "execution_count": 11,
   "metadata": {},
   "outputs": [
    {
     "output_type": "display_data",
     "data": {
      "text/html": "\n\n\n\n\n\n  <div class=\"bk-root\" id=\"1eeaaeaf-546a-44e9-82f8-9fb887223a76\" data-root-id=\"1424\"></div>\n"
     },
     "metadata": {}
    },
    {
     "output_type": "display_data",
     "data": {
      "application/javascript": "(function(root) {\n  function embed_document(root) {\n    \n  var docs_json = {\"ad0cdffe-1159-4846-af8d-3eefdb84017b\":{\"roots\":{\"references\":[{\"attributes\":{\"below\":[{\"id\":\"1433\"}],\"center\":[{\"id\":\"1436\"},{\"id\":\"1440\"}],\"left\":[{\"id\":\"1437\"}],\"plot_height\":250,\"plot_width\":400,\"renderers\":[{\"id\":\"1448\"},{\"id\":\"1453\"},{\"id\":\"1458\"}],\"title\":{\"id\":\"1460\"},\"toolbar\":{\"id\":\"1441\"},\"x_range\":{\"id\":\"1425\"},\"x_scale\":{\"id\":\"1429\"},\"y_range\":{\"id\":\"1427\"},\"y_scale\":{\"id\":\"1431\"}},\"id\":\"1424\",\"subtype\":\"Figure\",\"type\":\"Plot\"},{\"attributes\":{\"data\":{\"x\":{\"__ndarray__\":\"AAAAAAAAJMBlk0022WQjwMomm2yyySLALrrooosuIsCTTTbZZJMhwPjggw8++CDAXXTRRRddIMCEDz744IMfwE422WSTTR7AF1100UUXHcDhgw8++OAbwKqqqqqqqhrAdNFFF110GcA++OCDDz4YwAgffPDBBxfA0UUXXXTRFcCbbLLJJpsUwGWTTTbZZBPALrrooosuEsD44IMPPvgQwIQPPvjggw/AFl100UUXDcCqqqqqqqoKwD744IMPPgjA0EUXXXTRBcBkk0022WQDwPjggw8++ADAGF100UUX/b9A+OCDDz74v2CTTTbZZPO/EF100UUX7b9gk0022WTjv2CTTTbZZNO/AAAAAAAAAABgk0022WTTP2CTTTbZZOM/IF100UUX7T9ok0022WTzP0D44IMPPvg/GF100UUX/T/44IMPPvgAQGSTTTbZZANA1EUXXXTRBUBA+OCDDz4IQKyqqqqqqgpAGF100UUXDUCEDz744IMPQPjggw8++BBAMLrooosuEkBmk0022WQTQJxssskmmxRA0kUXXXTRFUAIH3zwwQcXQED44IMPPhhAdNFFF110GUCsqqqqqqoaQOCDDz744BtAGF100UUXHUBQNtlkk00eQIQPPvjggx9AXnTRRRddIED44IMPPvggQJRNNtlkkyFALrrooosuIkDKJptssskiQGaTTTbZZCNAAAAAAAAAJECcbLLJJpskQDbZZJNNNiVA0kUXXXTRJUBssskmm2wmQAgffPDBBydApIsuuuiiJ0A++OCDDz4oQNpkk0022ShAdNFFF110KUAQPvjggw8qQKyqqqqqqipARhdddNFFK0Digw8++OArQHzwwQcffCxAGF100UUXLUCyySabbLItQE422WSTTS5A6qKLLrroLkCEDz744IMvQBA++OCDDzBAXXTRRRddMECrqqqqqqowQPjggw8++DBARhdddNFFMUCUTTbZZJMxQOGDDz744DFAL7rooosuMkB88MEHH3wyQMomm2yyyTJAGF100UUXM0Blk0022WQzQLPJJptssjNAAAAAAAAANEA=\",\"dtype\":\"float64\",\"order\":\"little\",\"shape\":[100]},\"y\":{\"__ndarray__\":\"AAAAAACgZEAABC840aZjQPXwP/CCs2JA38YyKBXGYUDChQfgh95gQDVbfC+2+V9A1Hytnh1CXkBecKINRpZcQNY1W3wv9lpAOM3X6tlhWUCKNhhZRdlXQMZxHMdxXFZA8X7kNF/rVEAIXnCiDYZTQAwPwA99LFJA/JHTfK3eUECxzVXTPTlPQEYbjKyizExAsAxKhYl3SkD4oY9d8jlIQBjbXDXdE0ZAELixDEoFREDjOI7jOA5CQI9d8rmpLkBAKEy8HznNPEDnJKPKImw5QFlFmXQQOjZAfa2eHQI3M0BUXbPF92IwQLWprtnieytALygVJt6PJkAPNppw4QEiQKqme3LZoxtAAAAAAAAAFEBD8IITbTAKQDo8AD/0sfs/4Eu8HznN1z/wNVt8L7bpv7jNVdM9ufy/psLE+5HTBMDYYGQVZdIJwHjBiTYYWQ3AgOQ0X6tnD8DwyWWPHv4PwMhxHMdxHA/ACNxYBqXCDMC0CBtNuPAIwMj3YpurpgPAcFJh4v3I+b+AdBA6yajiv0CyijLpIOQ/0LND4MYyAEDA+F5sc9UMQKA9evgfeBVAoB0CN5ZBHUA8juM4juMiQASdZFRZhCdAQDsEbiyDLEByNOHCA/AwQOySz011zTNAJjnN1+rZNkAEJ9pgZBU6QKRc9ujhfz1A8+wQuLGMQEB1Ty579HBCQNFV0z25bERAAAAAAACARkAOTrTByKpIQO8/8IIT7UpAsNWzQ+BGTUBGD/8DL7hPQF726OF/IFFABTeWQalwUkCUSQehk8xTQBQuPAA/NFVAf+Q0X6unVkDYbPG92CZYQB/HcRzHsVlAUPO1enZIW0Bw8b3Y5upcQHfBiTYYmV5AubEMSoUpYECqa7b4XgxhQJQOQicZ9WFAdJqv1bPjYkBID/8DL9hjQBZtMLKK0mRA1rND4MbSZUCQ4ziO49hmQDz8D7zg5GdA5P3Iab72aECB6GOXfA5qQA+84EQbLGtAm3g/cppPbEAXHoAf+nhtQIysokw6qG5A+iOn+Vrdb0AtwkYTLoxwQNrmqumeLHFAAAAAAADQcUA=\",\"dtype\":\"float64\",\"order\":\"little\",\"shape\":[100]}},\"selected\":{\"id\":\"1505\"},\"selection_policy\":{\"id\":\"1504\"}},\"id\":\"1445\",\"type\":\"ColumnDataSource\"},{\"attributes\":{},\"id\":\"1421\",\"type\":\"WheelZoomTool\"},{\"attributes\":{},\"id\":\"1423\",\"type\":\"PanTool\"},{\"attributes\":{\"text\":\"\",\"text_font_size\":{\"value\":\"12pt\"}},\"id\":\"1460\",\"type\":\"Title\"},{\"attributes\":{\"data_source\":{\"id\":\"1445\"},\"glyph\":{\"id\":\"1446\"},\"hover_glyph\":null,\"muted_glyph\":null,\"nonselection_glyph\":{\"id\":\"1447\"},\"selection_glyph\":null,\"view\":{\"id\":\"1449\"}},\"id\":\"1448\",\"type\":\"GlyphRenderer\"},{\"attributes\":{},\"id\":\"1422\",\"type\":\"ResetTool\"},{\"attributes\":{\"line_alpha\":0.1,\"line_color\":\"navy\",\"line_width\":3,\"x\":{\"field\":\"x\"},\"y\":{\"field\":\"y\"}},\"id\":\"1447\",\"type\":\"Line\"},{\"attributes\":{},\"id\":\"1425\",\"type\":\"DataRange1d\"},{\"attributes\":{\"fill_color\":{\"value\":\"orange\"},\"line_color\":{\"value\":\"orange\"},\"size\":{\"units\":\"screen\",\"value\":10},\"x\":{\"value\":15},\"y\":{\"value\":140}},\"id\":\"1451\",\"type\":\"Circle\"},{\"attributes\":{},\"id\":\"1504\",\"type\":\"UnionRenderers\"},{\"attributes\":{\"source\":{\"id\":\"1445\"}},\"id\":\"1449\",\"type\":\"CDSView\"},{\"attributes\":{\"axis_label_text_font_size\":\"14pt\",\"formatter\":{\"id\":\"1500\"},\"ticker\":{\"id\":\"1438\"}},\"id\":\"1437\",\"type\":\"LinearAxis\"},{\"attributes\":{},\"id\":\"1505\",\"type\":\"Selection\"},{\"attributes\":{\"data\":{},\"selected\":{\"id\":\"1509\"},\"selection_policy\":{\"id\":\"1508\"}},\"id\":\"1455\",\"type\":\"ColumnDataSource\"},{\"attributes\":{},\"id\":\"1429\",\"type\":\"LinearScale\"},{\"attributes\":{\"data_source\":{\"id\":\"1450\"},\"glyph\":{\"id\":\"1451\"},\"hover_glyph\":null,\"muted_glyph\":null,\"nonselection_glyph\":{\"id\":\"1452\"},\"selection_glyph\":null,\"view\":{\"id\":\"1454\"}},\"id\":\"1453\",\"type\":\"GlyphRenderer\"},{\"attributes\":{\"axis_label_text_font_size\":\"14pt\",\"formatter\":{\"id\":\"1502\"},\"ticker\":{\"id\":\"1434\"}},\"id\":\"1433\",\"type\":\"LinearAxis\"},{\"attributes\":{},\"id\":\"1427\",\"type\":\"DataRange1d\"},{\"attributes\":{\"fill_alpha\":{\"value\":0.1},\"fill_color\":{\"value\":\"orange\"},\"line_alpha\":{\"value\":0.1},\"line_color\":{\"value\":\"orange\"},\"size\":{\"units\":\"screen\",\"value\":10},\"x\":{\"value\":15},\"y\":{\"value\":140}},\"id\":\"1452\",\"type\":\"Circle\"},{\"attributes\":{},\"id\":\"1431\",\"type\":\"LinearScale\"},{\"attributes\":{\"data\":{},\"selected\":{\"id\":\"1507\"},\"selection_policy\":{\"id\":\"1506\"}},\"id\":\"1450\",\"type\":\"ColumnDataSource\"},{\"attributes\":{\"source\":{\"id\":\"1455\"}},\"id\":\"1459\",\"type\":\"CDSView\"},{\"attributes\":{},\"id\":\"1434\",\"type\":\"BasicTicker\"},{\"attributes\":{\"fill_color\":{\"value\":\"red\"},\"line_color\":{\"value\":\"red\"},\"size\":{\"units\":\"screen\",\"value\":10},\"x\":{\"value\":-9},\"y\":{\"value\":140}},\"id\":\"1456\",\"type\":\"Circle\"},{\"attributes\":{\"fill_alpha\":{\"value\":0.1},\"fill_color\":{\"value\":\"red\"},\"line_alpha\":{\"value\":0.1},\"line_color\":{\"value\":\"red\"},\"size\":{\"units\":\"screen\",\"value\":10},\"x\":{\"value\":-9},\"y\":{\"value\":140}},\"id\":\"1457\",\"type\":\"Circle\"},{\"attributes\":{\"axis\":{\"id\":\"1433\"},\"ticker\":null},\"id\":\"1436\",\"type\":\"Grid\"},{\"attributes\":{\"source\":{\"id\":\"1450\"}},\"id\":\"1454\",\"type\":\"CDSView\"},{\"attributes\":{},\"id\":\"1506\",\"type\":\"UnionRenderers\"},{\"attributes\":{},\"id\":\"1507\",\"type\":\"Selection\"},{\"attributes\":{\"data_source\":{\"id\":\"1455\"},\"glyph\":{\"id\":\"1456\"},\"hover_glyph\":null,\"muted_glyph\":null,\"nonselection_glyph\":{\"id\":\"1457\"},\"selection_glyph\":null,\"view\":{\"id\":\"1459\"}},\"id\":\"1458\",\"type\":\"GlyphRenderer\"},{\"attributes\":{\"axis\":{\"id\":\"1437\"},\"dimension\":1,\"ticker\":null},\"id\":\"1440\",\"type\":\"Grid\"},{\"attributes\":{},\"id\":\"1502\",\"type\":\"BasicTickFormatter\"},{\"attributes\":{},\"id\":\"1438\",\"type\":\"BasicTicker\"},{\"attributes\":{\"line_alpha\":0.5,\"line_color\":\"navy\",\"line_width\":3,\"x\":{\"field\":\"x\"},\"y\":{\"field\":\"y\"}},\"id\":\"1446\",\"type\":\"Line\"},{\"attributes\":{\"active_drag\":\"auto\",\"active_inspect\":\"auto\",\"active_multi\":null,\"active_scroll\":\"auto\",\"active_tap\":\"auto\",\"tools\":[{\"id\":\"1421\"},{\"id\":\"1422\"},{\"id\":\"1423\"}]},\"id\":\"1441\",\"type\":\"Toolbar\"},{\"attributes\":{},\"id\":\"1500\",\"type\":\"BasicTickFormatter\"},{\"attributes\":{},\"id\":\"1508\",\"type\":\"UnionRenderers\"},{\"attributes\":{},\"id\":\"1509\",\"type\":\"Selection\"}],\"root_ids\":[\"1424\"]},\"title\":\"Bokeh Application\",\"version\":\"2.2.3\"}};\n  var render_items = [{\"docid\":\"ad0cdffe-1159-4846-af8d-3eefdb84017b\",\"root_ids\":[\"1424\"],\"roots\":{\"1424\":\"1eeaaeaf-546a-44e9-82f8-9fb887223a76\"}}];\n  root.Bokeh.embed.embed_items_notebook(docs_json, render_items);\n\n  }\n  if (root.Bokeh !== undefined) {\n    embed_document(root);\n  } else {\n    var attempts = 0;\n    var timer = setInterval(function(root) {\n      if (root.Bokeh !== undefined) {\n        clearInterval(timer);\n        embed_document(root);\n      } else {\n        attempts++;\n        if (attempts > 100) {\n          clearInterval(timer);\n          console.log(\"Bokeh: ERROR: Unable to run BokehJS code because BokehJS library is missing\");\n        }\n      }\n    }, 10, root)\n  }\n})(window);",
      "application/vnd.bokehjs_exec.v0+json": ""
     },
     "metadata": {
      "application/vnd.bokehjs_exec.v0+json": {
       "id": "1424"
      }
     }
    }
   ],
   "source": [
    "x = np.linspace(-10,20,100)\n",
    "y = x**2 - 6*x + 5\n",
    "start = 15\n",
    "\n",
    "TOOLS = [WheelZoomTool(), ResetTool(), PanTool()]\n",
    "\n",
    "\n",
    "s1 = bp.figure(width=W, plot_height=H, \n",
    "               tools=TOOLS)\n",
    "s1.line(x, y, color=\"navy\", alpha=0.5, line_width=3)\n",
    "s1.circle(start, start**2 - 6*start + 5, size =10, color=\"orange\")\n",
    "\n",
    "d = 2 * start - 6\n",
    "end = start - d\n",
    "\n",
    "s1.circle(end, end**2 - 6*end + 5, size =10, color=\"red\")\n",
    "s1.title.text_font_size = '12pt'\n",
    "s1.yaxis.axis_label_text_font_size = \"14pt\"\n",
    "s1.xaxis.axis_label_text_font_size = \"14pt\"\n",
    "\n",
    "bp.show(s1)"
   ]
  },
  {
   "cell_type": "markdown",
   "metadata": {},
   "source": [
    "To fix this, we multiply the gradient by a step size. This step size (often called **alpha** or **learning rate**) has to be chosen carefully, as a value too small will result in a long computation time, while a value too large will not give you the right result (by overshooting) or even fail to converge. \n",
    "\n",
    "In this example, we'll set the step size to 0.01, which means we'll subtract $24×0.01$ from $15$, which is $14.76$. \n",
    "\n",
    "This is now our new temporary local minimum: We continue this method until we either don't see a change after we subtracted the derivative step size, or until we've completed a pre-set number of iterations."
   ]
  },
  {
   "cell_type": "code",
   "execution_count": null,
   "metadata": {},
   "outputs": [],
   "source": [
    "old_min = 0\n",
    "temp_min = 15 #initial random point\n",
    "step_size = 0.01\n",
    "precision = 0.0001\n",
    " \n",
    "def f_derivative(x):\n",
    "    return 2*x -6\n",
    "\n",
    "mins = []\n",
    "cost = []\n",
    "\n",
    "while abs(temp_min - old_min) > precision:\n",
    "    old_min = temp_min \n",
    "    gradient = f_derivative(old_min) \n",
    "    move = gradient * step_size\n",
    "    temp_min = old_min - move\n",
    "    cost.append((3-temp_min)**2) #squared distance from temp_min to the true local minimum\n",
    "    mins.append(temp_min)\n",
    "\n",
    "# rounding the result to 2 digits because of the step size\n",
    "print(\"Local minimum occurs at\", round(temp_min,2))"
   ]
  },
  {
   "cell_type": "markdown",
   "metadata": {},
   "source": [
    "An important feature of gradient descent is that **there should be a visible improvement over time**: In this example, we simply plotted the squared distance from the local minima calculated by gradient descent and the true local minimum,  ``cost``, against the iteration during which it was calculated. As we can see, the distance gets smaller over time, but barely changes in later iterations. "
   ]
  },
  {
   "cell_type": "code",
   "execution_count": null,
   "metadata": {},
   "outputs": [],
   "source": [
    "TOOLS = [WheelZoomTool(), ResetTool(), PanTool()]\n",
    "\n",
    "x = list(range(len(cost)))\n",
    "y = cost\n",
    "#x, y = (zip(*enumerate(cost)))\n",
    "s1 = bp.figure(width=W, \n",
    "               height=H, \n",
    "               title='Squared distance to true local minimum',  \n",
    "#                title_text_font_size='14pt', \n",
    "               tools=TOOLS,\n",
    "               x_axis_label = 'Iteration',\n",
    "               y_axis_label = 'Distance'\n",
    ")\n",
    "s1.line(x, y, color=\"navy\", alpha=0.5, line_width=3)\n",
    "s1.title.text_font_size = '16pt'\n",
    "s1.yaxis.axis_label_text_font_size = \"14pt\"\n",
    "s1.xaxis.axis_label_text_font_size = \"14pt\"\n",
    "bp.show(s1)"
   ]
  },
  {
   "cell_type": "markdown",
   "metadata": {},
   "source": [
    "## From derivatives to gradient: $n$-dimensional function minimization.\n",
    "\n",
    "Let's consider a $n$-dimensional function $f: \\Re^n \\rightarrow \\Re$. For example: \n",
    "\n",
    "$$f(\\mathbf{x}) = \\sum_{n} x_n^2$$\n",
    "\n",
    "Our objective is to find the argument  $\\mathbf{x}$ that minimizes this function.\n",
    "\n",
    "The **gradient** of $f$ is the vector whose components are the $n$ partial derivatives of $f$. It is thus a vector-valued function. \n",
    "\n",
    "The gradient points in the direction of the greatest rate of **increase** of the function.\n",
    "\n",
    "$$\\nabla {f} = (\\frac{\\partial f}{\\partial x_1}, \\dots, \\frac{\\partial f}{\\partial x_n})$$"
   ]
  },
  {
   "cell_type": "code",
   "execution_count": null,
   "metadata": {},
   "outputs": [],
   "source": [
    "def f(x):\n",
    "    return sum(x_i**2 for x_i in x)\n",
    "\n",
    "def fin_dif_partial_centered(x, f, i, h=1e-6):\n",
    "    w1 = [x_j + (h if j==i else 0) for j, x_j in enumerate(x)]\n",
    "    w2 = [x_j - (h if j==i else 0) for j, x_j in enumerate(x)]\n",
    "    return (f(w1) - f(w2))/(2*h)\n",
    "\n",
    "def gradient_centered(x, f, h=1e-6):\n",
    "    return[round(fin_dif_partial_centered(x,f,i,h), 10) for i,_ in enumerate(x)]\n",
    "\n",
    "x = [1.0,1.0,1.0]\n",
    "\n",
    "print(f(x), gradient_centered(x,f))"
   ]
  },
  {
   "cell_type": "markdown",
   "metadata": {},
   "source": [
    "The function we have evaluated, $f({\\mathbf x}) = x_1^2+x_2^2+x_3^2$, is $3$ at $(1,1,1)$ and the gradient vector at this point is $(2,2,2)$. \n",
    "\n",
    "Then, we can follow this steps to maximize (or minimize) the function:\n",
    "\n",
    "+ Start from a random $\\mathbf{x}$ vector.\n",
    "+ Compute the gradient vector.\n",
    "+ Walk a small step in the opposite direction of the gradient vector.\n",
    "\n",
    "> It is important to be aware that this gradient computation is very expensive: if $\\mathbf{x}$ has dimension $n$, we have to evaluate $f$ at $2*n$ points."
   ]
  },
  {
   "cell_type": "markdown",
   "metadata": {},
   "source": [
    "### How to use the gradient.\n",
    "\n",
    "$f(x) = \\sum_i x_i^2$, takes its mimimum value when all $x$ are 0. \n",
    "\n",
    "Let's check it for $n=3$: "
   ]
  },
  {
   "cell_type": "markdown",
   "metadata": {},
   "source": [
    "Let's start by choosing a random vector and then walking a step in the opposite direction of the gradient vector. We will stop when the difference between the new solution and the old solution is less than a tolerance value."
   ]
  },
  {
   "cell_type": "code",
   "execution_count": null,
   "metadata": {},
   "outputs": [],
   "source": [
    "# choosing a random vector\n",
    "\n",
    "import random\n",
    "import numpy as np\n",
    "\n",
    "x = [random.randint(-10,10) for i in range(3)]\n",
    "x"
   ]
  },
  {
   "cell_type": "code",
   "execution_count": null,
   "metadata": {},
   "outputs": [],
   "source": [
    "def step(x,grad,alpha):\n",
    "    return [x_i - alpha * grad_i for x_i, grad_i in zip(x,grad)]\n",
    "\n",
    "def euc_dist(v1,v2):\n",
    "    import numpy as np\n",
    "    import math\n",
    "    v = np.array(v1)-np.array(v2)\n",
    "    return math.sqrt(sum(v_i ** 2 for v_i in v))\n",
    "\n",
    "tol = 1e-15\n",
    "alpha = 0.01\n",
    "while True:\n",
    "    grad = gradient_centered(x,f)\n",
    "    next_x = step(x,grad,alpha)\n",
    "    if euc_dist(next_x,x) < tol: #calculate Euclidean distance in n dimensions\n",
    "        break\n",
    "    x = next_x\n",
    "print([round(i,10) for i in x])"
   ]
  },
  {
   "cell_type": "markdown",
   "metadata": {},
   "source": [
    "### Alpha\n",
    "\n",
    "The step size, **alpha**, is a slippy concept: if it is too small we will slowly converge to the solution, if it is too large we can diverge from the solution. \n",
    "\n",
    "There are several policies to follow when selecting the step size:\n",
    "\n",
    "+ Constant size steps. In this case, the size step determines the precision of the solution.\n",
    "+ Decreasing step sizes with iterations.\n",
    "+ At each iteration, select the optimal step.\n",
    "\n",
    "The last policy is good, but too expensive. In this case we will consider a fixed set of values (at each iteration):"
   ]
  },
  {
   "cell_type": "code",
   "execution_count": null,
   "metadata": {},
   "outputs": [],
   "source": [
    "step_size = [100, 10, 1, 0.1, 0.01, 0.001, 0.0001, 0.00001]"
   ]
  },
  {
   "cell_type": "markdown",
   "metadata": {},
   "source": [
    "## Learning from data\n",
    "\n",
    "In general, we have:\n",
    "\n",
    "+ A dataset $(\\mathbf{x},y)$. \n",
    "+ A target function $f_\\mathbf{w}$, that we want to minimize, representing the discrepancy between our data and the model we want to fit. The model is represented by a set of parameters $\\mathbf{w}$. \n",
    "+ The gradient of the target function, $g_f$. \n",
    "\n",
    "\n",
    "In the most common case $f_\\mathbf{w}$ represents the errors from a data representation model $M$. To fit the model is to find the optimal parameters $\\mathbf{w}$ that minimize the following expression:\n",
    "\n",
    "$$ f_\\mathbf{w} = \\sum_{i} (y_i - M(\\mathbf{x}_i,\\mathbf{w}))^2 $$\n",
    "\n",
    "For example, $(\\mathbf{x},y)$ can represent:\n",
    "\n",
    "+ $\\mathbf{x}$: the behavior of a \"Candy Crush\" player; $y$: monthly payments. \n",
    "+ $\\mathbf{x}$: sensor data about your car engine; $y$: probability of engine error.\n",
    "+ $\\mathbf{x}$: finantial data of a bank customer; $y$: customer rating.\n",
    "\n",
    "> If $y$ is a real value, it is called a *regression* problem.\n",
    "\n",
    "> If $y$ is binary/categorical, it is called a *classification* problem. \n",
    "\n",
    "Let's suppose that $M(x_i,\\mathbf{w}) = w * x_i$. \n",
    "\n",
    "### Batch gradient descent\n",
    "\n",
    "We can implement **gradient descent** in the following way (*batch gradient descent*):"
   ]
  },
  {
   "cell_type": "code",
   "execution_count": null,
   "metadata": {},
   "outputs": [],
   "source": [
    "#random.seed(10)\n",
    "\n",
    "# find the value of w that minimizes the target (objective) function f_w: Sum((y-wx)**2)\n",
    "\n",
    "x = range(10)\n",
    "y = [2*i for i in x] # y = 2x\n",
    "\n",
    "# f_target = Sum ((y - wx)**2)\n",
    "def target_f(x,y,w):\n",
    "    import numpy as np\n",
    "    return np.sum((np.array(y) - np.array(x) * w)**2.0)\n",
    "\n",
    "# gradient_f_target = Sum(2wx**2 - 2xy)\n",
    "def gradient_f(x,y,w):\n",
    "    import numpy as np\n",
    "    return np.sum(2*w*(np.array(x)**2) - 2*np.array(x)*np.array(y))\n",
    "\n",
    "def step(w,grad,alpha):\n",
    "    return w - alpha * grad\n",
    "\n",
    "def min_batch(target_f, gradient_f, x, y, toler = 1e-6):\n",
    "    import random\n",
    "    alphas = [100, 10, 1, 0.1, 0.001, 0.00001]\n",
    "    w = random.random()\n",
    "    val = target_f(x,y,w)\n",
    "    print(\"First w:\", w, \"First Val:\", val, \"\\n\")\n",
    "    i = 0\n",
    "    while True:\n",
    "        i += 1\n",
    "        gradient = gradient_f(x,y,w)\n",
    "        next_ws = [step(w, gradient, alpha) for alpha in alphas] #calculate the step for the different alphas\n",
    "        next_vals = [target_f(x,y,w) for w in next_ws] #obtain next values per step\n",
    "        min_val = min(next_vals) # select the minimum value\n",
    "        next_w = next_ws[next_vals.index(min_val)] #save the step corresponding to the minimum value \n",
    "        next_val = next_vals[next_vals.index(min_val)] #save the minimum function value\n",
    "        alpha_val = alphas[next_vals.index(min_val)]   #save the alpha leading to minimum function value\n",
    "        print(i, \"w: {:4.4f}\".format(w), \"Val:{:4.4f}\".format(val), \"Gradient:{:4.4f}\".format(gradient), \"Alpha:\",alpha_val)        \n",
    "        if (abs(val - next_val) < toler) or (i>200):\n",
    "            return w\n",
    "        else:\n",
    "            w, val = next_w, next_val\n",
    "            \n",
    "min_batch(target_f, gradient_f, x, y)"
   ]
  },
  {
   "cell_type": "markdown",
   "metadata": {},
   "source": [
    "### Exercise: \n",
    "+ 1. Consider a set of 100 data points and explain the behavior of the algorithm. \n",
    "+ 2. How could we fix this behavior?\n"
   ]
  },
  {
   "cell_type": "code",
   "execution_count": null,
   "metadata": {},
   "outputs": [],
   "source": [
    "#Your solution here"
   ]
  },
  {
   "cell_type": "markdown",
   "metadata": {},
   "source": [
    "### Stochastic Gradient Descent\n",
    "\n",
    "The last function evals the objective function $f_\\mathbf{w}$ with respect to each parameter/feature at every step.\n",
    "\n",
    "If the dataset is large, this strategy is too costly. In this case we will use a strategy called **SGD** (*Stochastic Gradient Descent*). It consists on replacing the actual gradient (calculated from the entire data set) by an estimate thereof (calculated from a randomly selected subset of the data). \n",
    "\n",
    "Then, we compute the estimate of the gradient (and move towards the minimum) by using only **one data sample** (or a small data sample). We find the minimum by iterating this gradient estimation over the dataset.\n",
    "\n",
    "A full iteration over the dataset is called **epoch**. During an epoch, data must be used in a random order.\n",
    "\n",
    "If we apply this method we have some guarantees to find the minimum. "
   ]
  },
  {
   "cell_type": "code",
   "execution_count": null,
   "metadata": {},
   "outputs": [],
   "source": [
    "import numpy as np\n",
    "x = range(10)\n",
    "y = [2*i for i in x]\n",
    "data = list(zip(x,y))\n",
    "\n",
    "def in_random_order(data):\n",
    "    import random\n",
    "    indexes = [i for i,_ in enumerate(data)]\n",
    "    random.shuffle(indexes)\n",
    "    for i in indexes:\n",
    "        yield data[i]\n",
    "        \n",
    "for (x_i,y_i) in in_random_order(data):\n",
    "    print(x_i,y_i) "
   ]
  },
  {
   "cell_type": "code",
   "execution_count": null,
   "metadata": {},
   "outputs": [],
   "source": [
    "def gradient_f_SGD(x,y,w):\n",
    "    import numpy as np\n",
    "    return 2*w*(np.array(x)**2) - 2*np.array(x)*np.array(y) #Note there is no sum of elements\n",
    "\n",
    "def SGD(target_f, gradient_f, x, y, alpha_0=0.001):\n",
    "    import numpy as np\n",
    "    import random\n",
    "    data = list(zip(x,y))\n",
    "    w = random.random()\n",
    "    alpha = alpha_0\n",
    "    min_w, min_val = float('inf'), float('inf')\n",
    "    iteration_no_increase = 0\n",
    "    alpha_vect = []\n",
    "    min_w_vect = []\n",
    "    while iteration_no_increase < 100: \n",
    "        val = sum(target_f(x_i, y_i, w) for x_i,y_i in data) # full iteration of the global error with updated w\n",
    "        if val < min_val: \n",
    "            # the global error gets lower with updated w\n",
    "            min_w, min_val = w, val\n",
    "            iteration_no_increase = 0\n",
    "            alpha = alpha_0\n",
    "        else:\n",
    "            # the global error is not improving -> decrease alpha temporarily (until out of possible local minima)\n",
    "            iteration_no_increase += 1\n",
    "            alpha *= 0.9 #decrease alpha\n",
    "        for x_i, y_i in in_random_order(data): \n",
    "            gradient_i = gradient_f(x_i, y_i, w)  #gradient evaluation at each point\n",
    "            w = np.array(w) - (alpha *  np.array(gradient_i)) # update w\n",
    "        min_w_vect.append(w)\n",
    "        alpha_vect.append(alpha)\n",
    "    return min_w_vect, alpha_vect"
   ]
  },
  {
   "cell_type": "code",
   "execution_count": null,
   "metadata": {},
   "outputs": [],
   "source": [
    "min_w_vect, alpha_vect = SGD(target_f, gradient_f_SGD, x, y, 0.001)\n",
    "print(\"w= \",min_w_vect[-5:])\n",
    "plt.plot(min_w_vect)\n",
    "plt.show()"
   ]
  },
  {
   "cell_type": "code",
   "execution_count": null,
   "metadata": {},
   "outputs": [],
   "source": [
    "plt.plot(alpha_vect)\n",
    "plt.show()"
   ]
  },
  {
   "cell_type": "markdown",
   "metadata": {},
   "source": [
    "### Exercise: \n",
    " Run SDG considering a set of 100 data points and explain the behavior of the algorithm. \n"
   ]
  },
  {
   "cell_type": "code",
   "execution_count": null,
   "metadata": {},
   "outputs": [],
   "source": [
    "#your solution here"
   ]
  },
  {
   "cell_type": "markdown",
   "metadata": {},
   "source": [
    "## Gradient Descent and Linear Regression\n",
    "\n",
    "The linear regression model assumes a linear relationship between data:\n",
    "\n",
    "$$ y_i = w_1 x_i + w_0 $$\n",
    "\n",
    "Let's generate a more realistic dataset (with noise), where $w_1 = 2$ and $w_0 = 0$:"
   ]
  },
  {
   "cell_type": "code",
   "execution_count": null,
   "metadata": {},
   "outputs": [],
   "source": [
    "import numpy as np\n",
    "x = np.random.uniform(0,1,20)\n",
    "\n",
    "def f(x): return x*2\n",
    "\n",
    "noise_variance =0.2\n",
    "noise = np.random.randn(x.shape[0])*noise_variance\n",
    "y = f(x) + noise\n",
    "\n",
    "plt.plot(x, y, 'o', label='y')\n",
    "plt.plot([0, 1], [f(0), f(1)], 'b-', label='f(x)')\n",
    "plt.xlabel('$x$', fontsize=15)\n",
    "plt.ylabel('$y$', fontsize=15)\n",
    "plt.ylim([0,2])\n",
    "plt.title('inputs (x) vs targets (y)')\n",
    "plt.grid()\n",
    "plt.legend(loc=2)\n",
    "plt.gcf().set_size_inches((10,6))\n",
    "plt.show()"
   ]
  },
  {
   "cell_type": "code",
   "execution_count": null,
   "metadata": {},
   "outputs": [],
   "source": [
    "# Our cost function\n",
    "def cost(y, t): return ((t - y)**2).sum()\n",
    "\n",
    "ws = np.linspace(0, 4, num=100)  \n",
    "cost_ws = np.zeros(ws.shape)\n",
    "for ind,w in enumerate(ws):\n",
    "    cost_ws[ind]=cost(x*w, y) \n",
    "    \n",
    "# Ploting the cost function for different values of w\n",
    "plt.plot(ws, cost_ws, 'r-')\n",
    "plt.xlabel('$w$', fontsize=15)\n",
    "plt.ylabel('Cost', fontsize=15)\n",
    "plt.title('Cost vs. $w$')\n",
    "plt.grid()\n",
    "plt.gcf().set_size_inches((10,6))\n",
    "plt.show()"
   ]
  },
  {
   "cell_type": "markdown",
   "metadata": {},
   "source": [
    "### Exercise\n",
    "\n",
    "Complete the following code and look at the plot of the first gradient descent updates. Explore the behavior of the proposed alpha or learning rate."
   ]
  },
  {
   "cell_type": "code",
   "execution_count": null,
   "metadata": {},
   "outputs": [],
   "source": [
    "#your solution here\n",
    "\n",
    "# gradient_f_target = Sum 2wx**2 - 2xy\n",
    "def gradient_f(x,y,w):\n",
    "    import numpy as np\n",
    "    return np.sum(2*w*(np.array(x)**2) - 2*np.array(x)*np.array(y))\n",
    "\n",
    "# initial value for w\n",
    "w = 0.1\n",
    "\n",
    "# define a learning_rate (alpha) \n",
    "learning_rate = .1\n",
    "\n",
    "nb_of_iterations = 20  \n",
    "w_cost = [(w, cost(x*w, y))] \n",
    "for i in range(nb_of_iterations):\n",
    "    # Here your code in 3 lines: \n",
    "    #1) compute the gradient   \n",
    "    \n",
    "    #2) Walk a small step in the opposite direction of the derivative\n",
    "    \n",
    "    #3) save w and global error in w_cost\n",
    "    \n",
    "    \n",
    "for i in range(0, len(w_cost)):\n",
    "    print('w({}): {:.4f} \\t cost: {:.4f}'.format(i, w_cost[i][0], w_cost[i][1]))"
   ]
  },
  {
   "cell_type": "code",
   "execution_count": null,
   "metadata": {},
   "outputs": [],
   "source": [
    "Plot the gradient descent updates on the cost function"
   ]
  },
  {
   "cell_type": "code",
   "execution_count": null,
   "metadata": {},
   "outputs": [],
   "source": [
    "# your solution here"
   ]
  },
  {
   "cell_type": "markdown",
   "metadata": {},
   "source": [
    "Plot the input data and linear regression results with the obtained w"
   ]
  },
  {
   "cell_type": "code",
   "execution_count": null,
   "metadata": {},
   "outputs": [],
   "source": [
    "# your solution here"
   ]
  },
  {
   "cell_type": "markdown",
   "metadata": {},
   "source": [
    "## Mini-batch Gradient Descent"
   ]
  },
  {
   "cell_type": "markdown",
   "metadata": {},
   "source": [
    "In code, general batch gradient descent looks something like this:\n",
    "\n",
    "```python\n",
    "nb_epochs = 100\n",
    "for i in range(nb_epochs):\n",
    "    grad = evaluate_gradient(target_f, data, w)\n",
    "    w = w - learning_rate * grad\n",
    "```\n",
    "\n",
    "For a pre-defined number of epochs, we first compute the gradient vector of the target function for the whole dataset w.r.t. our parameter vector. \n",
    "\n",
    "Stochastic gradient descent (SGD) in contrast performs a parameter update for each training example and label:\n",
    "\n",
    "```python\n",
    "nb_epochs = 100\n",
    "for i in range(nb_epochs):\n",
    "    np.random.shuffle(data)\n",
    "    for example in data:\n",
    "        grad = evaluate_gradient(target_f, example, w)\n",
    "        w = w - learning_rate * grad\n",
    "```\n",
    "\n",
    "Mini-batch gradient descent finally takes the best of both worlds and performs an update for every mini-batch of $n$ training examples:\n",
    "\n",
    "```python\n",
    "nb_epochs = 100\n",
    "for i in range(nb_epochs):\n",
    "  np.random.shuffle(data)\n",
    "  for batch in get_batches(data, batch_size=50):\n",
    "    grad = evaluate_gradient(target_f, batch, w)\n",
    "    w = w - learning_rate * grad\n",
    "```\n",
    "\n",
    "Minibatch SGD has the advantage that it works with a slightly less noisy estimate of the gradient. However, as the minibatch size increases, the number of updates done per computation done decreases (eventually it becomes very inefficient, like batch gradient descent). \n",
    "\n",
    "There is an optimal trade-off (in terms of computational efficiency) that may vary depending on the data distribution and the particulars of the class of function considered, as well as how computations are implemented."
   ]
  },
  {
   "cell_type": "code",
   "execution_count": null,
   "metadata": {},
   "outputs": [],
   "source": []
  }
 ],
 "metadata": {
  "anaconda-cloud": {},
  "kernelspec": {
   "name": "Python 3.8.5 64-bit ('Master': conda)",
   "display_name": "Python 3.8.5 64-bit ('Master': conda)",
   "metadata": {
    "interpreter": {
     "hash": "57d46a1f3f975f92cc34d815bf69a7d3644582cc16f1cedc66cb95f17202c91e"
    }
   }
  },
  "language_info": {
   "codemirror_mode": {
    "name": "ipython",
    "version": 3
   },
   "file_extension": ".py",
   "mimetype": "text/x-python",
   "name": "python",
   "nbconvert_exporter": "python",
   "pygments_lexer": "ipython3",
   "version": "3.8.5-final"
  },
  "widgets": {
   "state": {},
   "version": "1.1.1"
  }
 },
 "nbformat": 4,
 "nbformat_minor": 1
}