{
  "nbformat": 4,
  "nbformat_minor": 0,
  "metadata": {
    "kernelspec": {
      "name": "Python 3.8.5 64-bit ('Master': conda)",
      "display_name": "Python 3.8.5 64-bit ('Master': conda)",
      "metadata": {
        "interpreter": {
          "hash": "57d46a1f3f975f92cc34d815bf69a7d3644582cc16f1cedc66cb95f17202c91e"
        }
      }
    },
    "language_info": {
      "codemirror_mode": {
        "name": "ipython",
        "version": 3
      },
      "file_extension": ".py",
      "mimetype": "text/x-python",
      "name": "python",
      "nbconvert_exporter": "python",
      "pygments_lexer": "ipython3",
      "version": "3.8.5-final"
    },
    "colab": {
      "name": "Sea_Ice_Extent_Jorge_Vila_Tomas.ipynb",
      "provenance": [],
      "collapsed_sections": [],
      "toc_visible": true
    }
  },
  "cells": [
    {
      "cell_type": "markdown",
      "metadata": {
        "id": "ToN4ah2JjUtF"
      },
      "source": [
        "\n",
        "### Climate Change and Sea Ice Extent\n",
        "\n",
        "We want to answer the question: Has there been a decrease in the amount of ice in the last years?\n",
        "\n",
        "For that we will use the sea ice extent measurements (in millions of square km) from the [National Snow & Ice Data Center](https://nsidc.org).\n",
        "\n",
        "We perform the following processing steps:\n",
        "1. Read and clean the data.\n",
        "2. Normalize the Sea Ice Extent (SIE) data and visualize its temporal trend.\n",
        "3. Compute the SIE temporal trend as a simple linear regression (OLS) and quantitatively evaluate it.\n",
        "4. Estimate the sea ice extent for 2025.\n"
      ]
    },
    {
      "cell_type": "markdown",
      "metadata": {
        "id": "L07_GNNnjUtF"
      },
      "source": [
        "### 1. Read and clean the data.\n",
        "Load the monthly sea ice extent (SIE) monthly data provided in the file 'SeaIce.txt'. Note variables ``extent`` (SIE) and ``area`` should be greater or equal than zero. Detect possible outliers and clean the data.  "
      ]
    },
    {
      "cell_type": "code",
      "metadata": {
        "id": "P572PxyLjUtG"
      },
      "source": [
        "import numpy as np\n",
        "import pandas as pd\n",
        "import matplotlib.pyplot as plt\n",
        "import seaborn as sns"
      ],
      "execution_count": 1,
      "outputs": []
    },
    {
      "cell_type": "code",
      "metadata": {
        "id": "EfKdkfU0jUtI",
        "outputId": "f6af4900-4945-4e43-916d-45b9282f2e7c",
        "colab": {
          "base_uri": "https://localhost:8080/",
          "height": 221
        }
      },
      "source": [
        "#your solution here\n",
        "df = pd.read_csv(\"SeaIce.txt\", sep=\"\\s+\") #We can use the regular expression \\s+ to match any number of spaces as the file doesnt have a fixed structure\n",
        "print(f\"The DataFrame has {len(df)} items.\")\n",
        "df.head(5)"
      ],
      "execution_count": 2,
      "outputs": [
        {
          "output_type": "stream",
          "text": [
            "The DataFrame has 424 items.\n"
          ],
          "name": "stdout"
        },
        {
          "output_type": "execute_result",
          "data": {
            "text/html": [
              "<div>\n",
              "<style scoped>\n",
              "    .dataframe tbody tr th:only-of-type {\n",
              "        vertical-align: middle;\n",
              "    }\n",
              "\n",
              "    .dataframe tbody tr th {\n",
              "        vertical-align: top;\n",
              "    }\n",
              "\n",
              "    .dataframe thead th {\n",
              "        text-align: right;\n",
              "    }\n",
              "</style>\n",
              "<table border=\"1\" class=\"dataframe\">\n",
              "  <thead>\n",
              "    <tr style=\"text-align: right;\">\n",
              "      <th></th>\n",
              "      <th>year</th>\n",
              "      <th>mo</th>\n",
              "      <th>data_type</th>\n",
              "      <th>region</th>\n",
              "      <th>extent</th>\n",
              "      <th>area</th>\n",
              "    </tr>\n",
              "  </thead>\n",
              "  <tbody>\n",
              "    <tr>\n",
              "      <th>0</th>\n",
              "      <td>1979</td>\n",
              "      <td>1</td>\n",
              "      <td>Goddard</td>\n",
              "      <td>N</td>\n",
              "      <td>15.54</td>\n",
              "      <td>12.33</td>\n",
              "    </tr>\n",
              "    <tr>\n",
              "      <th>1</th>\n",
              "      <td>1980</td>\n",
              "      <td>1</td>\n",
              "      <td>Goddard</td>\n",
              "      <td>N</td>\n",
              "      <td>14.96</td>\n",
              "      <td>11.85</td>\n",
              "    </tr>\n",
              "    <tr>\n",
              "      <th>2</th>\n",
              "      <td>1981</td>\n",
              "      <td>1</td>\n",
              "      <td>Goddard</td>\n",
              "      <td>N</td>\n",
              "      <td>15.03</td>\n",
              "      <td>11.82</td>\n",
              "    </tr>\n",
              "    <tr>\n",
              "      <th>3</th>\n",
              "      <td>1982</td>\n",
              "      <td>1</td>\n",
              "      <td>Goddard</td>\n",
              "      <td>N</td>\n",
              "      <td>15.26</td>\n",
              "      <td>12.11</td>\n",
              "    </tr>\n",
              "    <tr>\n",
              "      <th>4</th>\n",
              "      <td>1983</td>\n",
              "      <td>1</td>\n",
              "      <td>Goddard</td>\n",
              "      <td>N</td>\n",
              "      <td>15.10</td>\n",
              "      <td>11.92</td>\n",
              "    </tr>\n",
              "  </tbody>\n",
              "</table>\n",
              "</div>"
            ],
            "text/plain": [
              "   year  mo data_type region  extent   area\n",
              "0  1979   1   Goddard      N   15.54  12.33\n",
              "1  1980   1   Goddard      N   14.96  11.85\n",
              "2  1981   1   Goddard      N   15.03  11.82\n",
              "3  1982   1   Goddard      N   15.26  12.11\n",
              "4  1983   1   Goddard      N   15.10  11.92"
            ]
          },
          "metadata": {
            "tags": []
          },
          "execution_count": 2
        }
      ]
    },
    {
      "cell_type": "markdown",
      "metadata": {
        "id": "enDergvpMZP9"
      },
      "source": [
        "We can compute the correlations between variables. As we see below, extent and area are totally correlated and should give us the same information. Because of that, in this analysis we will focus on the variable ```extent```."
      ]
    },
    {
      "cell_type": "code",
      "metadata": {
        "id": "B9hEBemOjUtL",
        "outputId": "7fbc9a2d-75d9-4121-9ee1-a119104115f8",
        "colab": {
          "base_uri": "https://localhost:8080/",
          "height": 124
        }
      },
      "source": [
        "corr = df.corr()\n",
        "corr.style.background_gradient(cmap='coolwarm')"
      ],
      "execution_count": 3,
      "outputs": [
        {
          "output_type": "execute_result",
          "data": {
            "text/html": [
              "<style  type=\"text/css\" >\n",
              "#T_c2f39cf2_2115_11eb_94f4_0242ac1c0002row0_col0,#T_c2f39cf2_2115_11eb_94f4_0242ac1c0002row1_col1,#T_c2f39cf2_2115_11eb_94f4_0242ac1c0002row2_col2,#T_c2f39cf2_2115_11eb_94f4_0242ac1c0002row2_col3,#T_c2f39cf2_2115_11eb_94f4_0242ac1c0002row3_col2,#T_c2f39cf2_2115_11eb_94f4_0242ac1c0002row3_col3{\n",
              "            background-color:  #b40426;\n",
              "            color:  #f1f1f1;\n",
              "        }#T_c2f39cf2_2115_11eb_94f4_0242ac1c0002row0_col1,#T_c2f39cf2_2115_11eb_94f4_0242ac1c0002row1_col0,#T_c2f39cf2_2115_11eb_94f4_0242ac1c0002row1_col2,#T_c2f39cf2_2115_11eb_94f4_0242ac1c0002row1_col3{\n",
              "            background-color:  #3b4cc0;\n",
              "            color:  #f1f1f1;\n",
              "        }#T_c2f39cf2_2115_11eb_94f4_0242ac1c0002row0_col2,#T_c2f39cf2_2115_11eb_94f4_0242ac1c0002row0_col3{\n",
              "            background-color:  #4c66d6;\n",
              "            color:  #000000;\n",
              "        }#T_c2f39cf2_2115_11eb_94f4_0242ac1c0002row2_col0,#T_c2f39cf2_2115_11eb_94f4_0242ac1c0002row3_col0{\n",
              "            background-color:  #536edd;\n",
              "            color:  #000000;\n",
              "        }#T_c2f39cf2_2115_11eb_94f4_0242ac1c0002row2_col1,#T_c2f39cf2_2115_11eb_94f4_0242ac1c0002row3_col1{\n",
              "            background-color:  #4055c8;\n",
              "            color:  #f1f1f1;\n",
              "        }</style><table id=\"T_c2f39cf2_2115_11eb_94f4_0242ac1c0002\" ><thead>    <tr>        <th class=\"blank level0\" ></th>        <th class=\"col_heading level0 col0\" >year</th>        <th class=\"col_heading level0 col1\" >mo</th>        <th class=\"col_heading level0 col2\" >extent</th>        <th class=\"col_heading level0 col3\" >area</th>    </tr></thead><tbody>\n",
              "                <tr>\n",
              "                        <th id=\"T_c2f39cf2_2115_11eb_94f4_0242ac1c0002level0_row0\" class=\"row_heading level0 row0\" >year</th>\n",
              "                        <td id=\"T_c2f39cf2_2115_11eb_94f4_0242ac1c0002row0_col0\" class=\"data row0 col0\" >1.000000</td>\n",
              "                        <td id=\"T_c2f39cf2_2115_11eb_94f4_0242ac1c0002row0_col1\" class=\"data row0 col1\" >-0.023981</td>\n",
              "                        <td id=\"T_c2f39cf2_2115_11eb_94f4_0242ac1c0002row0_col2\" class=\"data row0 col2\" >0.056609</td>\n",
              "                        <td id=\"T_c2f39cf2_2115_11eb_94f4_0242ac1c0002row0_col3\" class=\"data row0 col3\" >0.057043</td>\n",
              "            </tr>\n",
              "            <tr>\n",
              "                        <th id=\"T_c2f39cf2_2115_11eb_94f4_0242ac1c0002level0_row1\" class=\"row_heading level0 row1\" >mo</th>\n",
              "                        <td id=\"T_c2f39cf2_2115_11eb_94f4_0242ac1c0002row1_col0\" class=\"data row1 col0\" >-0.023981</td>\n",
              "                        <td id=\"T_c2f39cf2_2115_11eb_94f4_0242ac1c0002row1_col1\" class=\"data row1 col1\" >1.000000</td>\n",
              "                        <td id=\"T_c2f39cf2_2115_11eb_94f4_0242ac1c0002row1_col2\" class=\"data row1 col2\" >-0.002868</td>\n",
              "                        <td id=\"T_c2f39cf2_2115_11eb_94f4_0242ac1c0002row1_col3\" class=\"data row1 col3\" >-0.002849</td>\n",
              "            </tr>\n",
              "            <tr>\n",
              "                        <th id=\"T_c2f39cf2_2115_11eb_94f4_0242ac1c0002level0_row2\" class=\"row_heading level0 row2\" >extent</th>\n",
              "                        <td id=\"T_c2f39cf2_2115_11eb_94f4_0242ac1c0002row2_col0\" class=\"data row2 col0\" >0.056609</td>\n",
              "                        <td id=\"T_c2f39cf2_2115_11eb_94f4_0242ac1c0002row2_col1\" class=\"data row2 col1\" >-0.002868</td>\n",
              "                        <td id=\"T_c2f39cf2_2115_11eb_94f4_0242ac1c0002row2_col2\" class=\"data row2 col2\" >1.000000</td>\n",
              "                        <td id=\"T_c2f39cf2_2115_11eb_94f4_0242ac1c0002row2_col3\" class=\"data row2 col3\" >1.000000</td>\n",
              "            </tr>\n",
              "            <tr>\n",
              "                        <th id=\"T_c2f39cf2_2115_11eb_94f4_0242ac1c0002level0_row3\" class=\"row_heading level0 row3\" >area</th>\n",
              "                        <td id=\"T_c2f39cf2_2115_11eb_94f4_0242ac1c0002row3_col0\" class=\"data row3 col0\" >0.057043</td>\n",
              "                        <td id=\"T_c2f39cf2_2115_11eb_94f4_0242ac1c0002row3_col1\" class=\"data row3 col1\" >-0.002849</td>\n",
              "                        <td id=\"T_c2f39cf2_2115_11eb_94f4_0242ac1c0002row3_col2\" class=\"data row3 col2\" >1.000000</td>\n",
              "                        <td id=\"T_c2f39cf2_2115_11eb_94f4_0242ac1c0002row3_col3\" class=\"data row3 col3\" >1.000000</td>\n",
              "            </tr>\n",
              "    </tbody></table>"
            ],
            "text/plain": [
              "<pandas.io.formats.style.Styler at 0x7fc7fc9830b8>"
            ]
          },
          "metadata": {
            "tags": []
          },
          "execution_count": 3
        }
      ]
    },
    {
      "cell_type": "markdown",
      "metadata": {
        "id": "J9YyjyiUMnpM"
      },
      "source": [
        "We can tweak the dataset so that the index represents the year-month combination. This is often done when working with time series to ease plotting and general analysis."
      ]
    },
    {
      "cell_type": "code",
      "metadata": {
        "id": "pNcfnYGvjUtN"
      },
      "source": [
        "cuac = df.year.apply(str) + \"-\" + df.mo.apply(str)"
      ],
      "execution_count": 4,
      "outputs": []
    },
    {
      "cell_type": "code",
      "metadata": {
        "id": "HCYw-8HwjUtQ",
        "outputId": "a594c130-f217-497b-82e3-a3be6349ca38",
        "colab": {
          "base_uri": "https://localhost:8080/"
        }
      },
      "source": [
        "pd.DatetimeIndex(pd.to_datetime(cuac, yearfirst = True)).strftime(\"%Y-%m\")"
      ],
      "execution_count": 5,
      "outputs": [
        {
          "output_type": "execute_result",
          "data": {
            "text/plain": [
              "Index(['1979-01', '1980-01', '1981-01', '1982-01', '1983-01', '1984-01',\n",
              "       '1985-01', '1986-01', '1987-01', '1988-01',\n",
              "       ...\n",
              "       '2004-12', '2005-12', '2006-12', '2007-12', '2008-12', '2009-12',\n",
              "       '2010-12', '2011-12', '2012-12', '2013-12'],\n",
              "      dtype='object', length=424)"
            ]
          },
          "metadata": {
            "tags": []
          },
          "execution_count": 5
        }
      ]
    },
    {
      "cell_type": "code",
      "metadata": {
        "id": "PxJ2t6OkjUtS",
        "outputId": "c8226da1-01a0-496a-c24e-05dc05fbc768",
        "colab": {
          "base_uri": "https://localhost:8080/",
          "height": 204
        }
      },
      "source": [
        "df2 = df.copy()\n",
        "df2.index = pd.DatetimeIndex(pd.to_datetime(cuac, yearfirst = True)).strftime(\"%Y-%m\")\n",
        "df2.head()"
      ],
      "execution_count": 6,
      "outputs": [
        {
          "output_type": "execute_result",
          "data": {
            "text/html": [
              "<div>\n",
              "<style scoped>\n",
              "    .dataframe tbody tr th:only-of-type {\n",
              "        vertical-align: middle;\n",
              "    }\n",
              "\n",
              "    .dataframe tbody tr th {\n",
              "        vertical-align: top;\n",
              "    }\n",
              "\n",
              "    .dataframe thead th {\n",
              "        text-align: right;\n",
              "    }\n",
              "</style>\n",
              "<table border=\"1\" class=\"dataframe\">\n",
              "  <thead>\n",
              "    <tr style=\"text-align: right;\">\n",
              "      <th></th>\n",
              "      <th>year</th>\n",
              "      <th>mo</th>\n",
              "      <th>data_type</th>\n",
              "      <th>region</th>\n",
              "      <th>extent</th>\n",
              "      <th>area</th>\n",
              "    </tr>\n",
              "  </thead>\n",
              "  <tbody>\n",
              "    <tr>\n",
              "      <th>1979-01</th>\n",
              "      <td>1979</td>\n",
              "      <td>1</td>\n",
              "      <td>Goddard</td>\n",
              "      <td>N</td>\n",
              "      <td>15.54</td>\n",
              "      <td>12.33</td>\n",
              "    </tr>\n",
              "    <tr>\n",
              "      <th>1980-01</th>\n",
              "      <td>1980</td>\n",
              "      <td>1</td>\n",
              "      <td>Goddard</td>\n",
              "      <td>N</td>\n",
              "      <td>14.96</td>\n",
              "      <td>11.85</td>\n",
              "    </tr>\n",
              "    <tr>\n",
              "      <th>1981-01</th>\n",
              "      <td>1981</td>\n",
              "      <td>1</td>\n",
              "      <td>Goddard</td>\n",
              "      <td>N</td>\n",
              "      <td>15.03</td>\n",
              "      <td>11.82</td>\n",
              "    </tr>\n",
              "    <tr>\n",
              "      <th>1982-01</th>\n",
              "      <td>1982</td>\n",
              "      <td>1</td>\n",
              "      <td>Goddard</td>\n",
              "      <td>N</td>\n",
              "      <td>15.26</td>\n",
              "      <td>12.11</td>\n",
              "    </tr>\n",
              "    <tr>\n",
              "      <th>1983-01</th>\n",
              "      <td>1983</td>\n",
              "      <td>1</td>\n",
              "      <td>Goddard</td>\n",
              "      <td>N</td>\n",
              "      <td>15.10</td>\n",
              "      <td>11.92</td>\n",
              "    </tr>\n",
              "  </tbody>\n",
              "</table>\n",
              "</div>"
            ],
            "text/plain": [
              "         year  mo data_type region  extent   area\n",
              "1979-01  1979   1   Goddard      N   15.54  12.33\n",
              "1980-01  1980   1   Goddard      N   14.96  11.85\n",
              "1981-01  1981   1   Goddard      N   15.03  11.82\n",
              "1982-01  1982   1   Goddard      N   15.26  12.11\n",
              "1983-01  1983   1   Goddard      N   15.10  11.92"
            ]
          },
          "metadata": {
            "tags": []
          },
          "execution_count": 6
        }
      ]
    },
    {
      "cell_type": "code",
      "metadata": {
        "id": "trr29ctnjUtU",
        "outputId": "feda333a-3b39-4f67-913d-03dc03bda812",
        "colab": {
          "base_uri": "https://localhost:8080/",
          "height": 204
        }
      },
      "source": [
        "df2_s = df2.sort_index()\n",
        "df2_s.head()"
      ],
      "execution_count": 7,
      "outputs": [
        {
          "output_type": "execute_result",
          "data": {
            "text/html": [
              "<div>\n",
              "<style scoped>\n",
              "    .dataframe tbody tr th:only-of-type {\n",
              "        vertical-align: middle;\n",
              "    }\n",
              "\n",
              "    .dataframe tbody tr th {\n",
              "        vertical-align: top;\n",
              "    }\n",
              "\n",
              "    .dataframe thead th {\n",
              "        text-align: right;\n",
              "    }\n",
              "</style>\n",
              "<table border=\"1\" class=\"dataframe\">\n",
              "  <thead>\n",
              "    <tr style=\"text-align: right;\">\n",
              "      <th></th>\n",
              "      <th>year</th>\n",
              "      <th>mo</th>\n",
              "      <th>data_type</th>\n",
              "      <th>region</th>\n",
              "      <th>extent</th>\n",
              "      <th>area</th>\n",
              "    </tr>\n",
              "  </thead>\n",
              "  <tbody>\n",
              "    <tr>\n",
              "      <th>1978-11</th>\n",
              "      <td>1978</td>\n",
              "      <td>11</td>\n",
              "      <td>Goddard</td>\n",
              "      <td>N</td>\n",
              "      <td>12.01</td>\n",
              "      <td>8.97</td>\n",
              "    </tr>\n",
              "    <tr>\n",
              "      <th>1978-12</th>\n",
              "      <td>1978</td>\n",
              "      <td>12</td>\n",
              "      <td>Goddard</td>\n",
              "      <td>N</td>\n",
              "      <td>14.12</td>\n",
              "      <td>10.85</td>\n",
              "    </tr>\n",
              "    <tr>\n",
              "      <th>1979-01</th>\n",
              "      <td>1979</td>\n",
              "      <td>1</td>\n",
              "      <td>Goddard</td>\n",
              "      <td>N</td>\n",
              "      <td>15.54</td>\n",
              "      <td>12.33</td>\n",
              "    </tr>\n",
              "    <tr>\n",
              "      <th>1979-02</th>\n",
              "      <td>1979</td>\n",
              "      <td>2</td>\n",
              "      <td>Goddard</td>\n",
              "      <td>N</td>\n",
              "      <td>16.31</td>\n",
              "      <td>13.11</td>\n",
              "    </tr>\n",
              "    <tr>\n",
              "      <th>1979-03</th>\n",
              "      <td>1979</td>\n",
              "      <td>3</td>\n",
              "      <td>Goddard</td>\n",
              "      <td>N</td>\n",
              "      <td>16.45</td>\n",
              "      <td>13.13</td>\n",
              "    </tr>\n",
              "  </tbody>\n",
              "</table>\n",
              "</div>"
            ],
            "text/plain": [
              "         year  mo data_type region  extent   area\n",
              "1978-11  1978  11   Goddard      N   12.01   8.97\n",
              "1978-12  1978  12   Goddard      N   14.12  10.85\n",
              "1979-01  1979   1   Goddard      N   15.54  12.33\n",
              "1979-02  1979   2   Goddard      N   16.31  13.11\n",
              "1979-03  1979   3   Goddard      N   16.45  13.13"
            ]
          },
          "metadata": {
            "tags": []
          },
          "execution_count": 7
        }
      ]
    },
    {
      "cell_type": "markdown",
      "metadata": {
        "id": "ipsdXl3cM051"
      },
      "source": [
        "We check for NaN values but none were found within the data."
      ]
    },
    {
      "cell_type": "code",
      "metadata": {
        "id": "ezPOjgfxjUtY",
        "outputId": "7edc10b1-204e-4068-892d-7a4b8da5e982",
        "colab": {
          "base_uri": "https://localhost:8080/"
        }
      },
      "source": [
        "df2_s.isna().sum()"
      ],
      "execution_count": 8,
      "outputs": [
        {
          "output_type": "execute_result",
          "data": {
            "text/plain": [
              "year         0\n",
              "mo           0\n",
              "data_type    0\n",
              "region       0\n",
              "extent       0\n",
              "area         0\n",
              "dtype: int64"
            ]
          },
          "metadata": {
            "tags": []
          },
          "execution_count": 8
        }
      ]
    },
    {
      "cell_type": "markdown",
      "metadata": {
        "id": "mrTcKV_3M9Db"
      },
      "source": [
        "Finally, we get ride of clearly wrong values. This is the last step in the data cleaning process."
      ]
    },
    {
      "cell_type": "code",
      "metadata": {
        "id": "-I2CMWVNjUta",
        "outputId": "4edd30c5-c22e-40e5-e686-062e5a07ad60",
        "colab": {
          "base_uri": "https://localhost:8080/",
          "height": 238
        }
      },
      "source": [
        "df3 = df2_s[(df2_s[\"extent\"] >= 0) | (df2_s[\"area\"] >= 0)]\n",
        "print(f\"We have detected and deleted {len(df2_s) - len(df3)} incorrect entries.\\nActual entries: {len(df3)}.\")\n",
        "df3.head()"
      ],
      "execution_count": 9,
      "outputs": [
        {
          "output_type": "stream",
          "text": [
            "We have detected and deleted 2 incorrect entries.\n",
            "Actual entries: 422.\n"
          ],
          "name": "stdout"
        },
        {
          "output_type": "execute_result",
          "data": {
            "text/html": [
              "<div>\n",
              "<style scoped>\n",
              "    .dataframe tbody tr th:only-of-type {\n",
              "        vertical-align: middle;\n",
              "    }\n",
              "\n",
              "    .dataframe tbody tr th {\n",
              "        vertical-align: top;\n",
              "    }\n",
              "\n",
              "    .dataframe thead th {\n",
              "        text-align: right;\n",
              "    }\n",
              "</style>\n",
              "<table border=\"1\" class=\"dataframe\">\n",
              "  <thead>\n",
              "    <tr style=\"text-align: right;\">\n",
              "      <th></th>\n",
              "      <th>year</th>\n",
              "      <th>mo</th>\n",
              "      <th>data_type</th>\n",
              "      <th>region</th>\n",
              "      <th>extent</th>\n",
              "      <th>area</th>\n",
              "    </tr>\n",
              "  </thead>\n",
              "  <tbody>\n",
              "    <tr>\n",
              "      <th>1978-11</th>\n",
              "      <td>1978</td>\n",
              "      <td>11</td>\n",
              "      <td>Goddard</td>\n",
              "      <td>N</td>\n",
              "      <td>12.01</td>\n",
              "      <td>8.97</td>\n",
              "    </tr>\n",
              "    <tr>\n",
              "      <th>1978-12</th>\n",
              "      <td>1978</td>\n",
              "      <td>12</td>\n",
              "      <td>Goddard</td>\n",
              "      <td>N</td>\n",
              "      <td>14.12</td>\n",
              "      <td>10.85</td>\n",
              "    </tr>\n",
              "    <tr>\n",
              "      <th>1979-01</th>\n",
              "      <td>1979</td>\n",
              "      <td>1</td>\n",
              "      <td>Goddard</td>\n",
              "      <td>N</td>\n",
              "      <td>15.54</td>\n",
              "      <td>12.33</td>\n",
              "    </tr>\n",
              "    <tr>\n",
              "      <th>1979-02</th>\n",
              "      <td>1979</td>\n",
              "      <td>2</td>\n",
              "      <td>Goddard</td>\n",
              "      <td>N</td>\n",
              "      <td>16.31</td>\n",
              "      <td>13.11</td>\n",
              "    </tr>\n",
              "    <tr>\n",
              "      <th>1979-03</th>\n",
              "      <td>1979</td>\n",
              "      <td>3</td>\n",
              "      <td>Goddard</td>\n",
              "      <td>N</td>\n",
              "      <td>16.45</td>\n",
              "      <td>13.13</td>\n",
              "    </tr>\n",
              "  </tbody>\n",
              "</table>\n",
              "</div>"
            ],
            "text/plain": [
              "         year  mo data_type region  extent   area\n",
              "1978-11  1978  11   Goddard      N   12.01   8.97\n",
              "1978-12  1978  12   Goddard      N   14.12  10.85\n",
              "1979-01  1979   1   Goddard      N   15.54  12.33\n",
              "1979-02  1979   2   Goddard      N   16.31  13.11\n",
              "1979-03  1979   3   Goddard      N   16.45  13.13"
            ]
          },
          "metadata": {
            "tags": []
          },
          "execution_count": 9
        }
      ]
    },
    {
      "cell_type": "markdown",
      "metadata": {
        "id": "8yfh0_JINLpK"
      },
      "source": [
        "We don't do any outlier cleaning because, as we can see from the figures below, the data looks overall correct. If we did consider outliers the datapoints lying 2/3$\\sigma$ away from the mean, we might miss classify some points which are that far because of the apparent change in time of the serie. One thing we could do is getting rid of the values which don't correspond to full year measurements. There are 4 values of this kind. By doing so we would end up with a closed time serie composed of only full measure cycles."
      ]
    },
    {
      "cell_type": "code",
      "metadata": {
        "id": "cy82_OjujUtc",
        "outputId": "fd7fd4a0-a55e-4d28-f1c5-d6db81ef5dbe",
        "colab": {
          "base_uri": "https://localhost:8080/",
          "height": 513
        }
      },
      "source": [
        "#your response here\n",
        "df3.plot(y = \"extent\")\n",
        "\n",
        "df3.loc[\"1979-01\":\"1979-12\"].plot(y = \"extent\")\n",
        "\n",
        "plt.show()"
      ],
      "execution_count": 10,
      "outputs": [
        {
          "output_type": "display_data",
          "data": {
            "image/png": "[encoded data removed]",
            "text/plain": [
              "<Figure size 432x288 with 1 Axes>"
            ]
          },
          "metadata": {
            "tags": [],
            "needs_background": "light"
          }
        },
        {
          "output_type": "display_data",
          "data": {
            "image/png": "[encoded data removed]",
            "text/plain": [
              "<Figure size 432x288 with 1 Axes>"
            ]
          },
          "metadata": {
            "tags": [],
            "needs_background": "light"
          }
        }
      ]
    },
    {
      "cell_type": "markdown",
      "metadata": {
        "id": "L0353kxijUtc"
      },
      "source": [
        "### 2. Normalize the SIE data and visualize its temporal trend.\n",
        "\n",
        "Visualize there is a monthly dependence of SIE, explore the linear relationship using ``lmplot``.\n",
        "Compute the mean and variance of SIE for each month."
      ]
    },
    {
      "cell_type": "code",
      "metadata": {
        "id": "fHK4QI2SjUtg",
        "outputId": "f2a61810-20a9-4952-d314-68c79f975014",
        "colab": {
          "base_uri": "https://localhost:8080/",
          "height": 398
        }
      },
      "source": [
        "sns.lmplot(x=\"mo\", y=\"extent\", data = df3, height=5.2, aspect=2)\n",
        "plt.show()"
      ],
      "execution_count": 11,
      "outputs": [
        {
          "output_type": "display_data",
          "data": {
            "image/png": "[encoded data removed]",
            "text/plain": [
              "<Figure size 748.8x374.4 with 1 Axes>"
            ]
          },
          "metadata": {
            "tags": [],
            "needs_background": "light"
          }
        }
      ]
    },
    {
      "cell_type": "markdown",
      "metadata": {
        "id": "Tj2hLzprjUti"
      },
      "source": [
        "By using the ```.groupby()``` method we can group the DataFrame by month and calculate its mean and variance with the ```.mean()``` and ```.var()``` methods. \n",
        "\n",
        "*If we wanted to, we could compute the standard deviation as well by using the ```.std()``` method.*"
      ]
    },
    {
      "cell_type": "code",
      "metadata": {
        "id": "sDbgWw9NjUtj",
        "outputId": "be699ee8-bd28-436f-d3a4-026faa163f04",
        "colab": {
          "base_uri": "https://localhost:8080/",
          "height": 452
        }
      },
      "source": [
        "m_mean = df3.groupby([\"mo\"]).mean()\n",
        "m_mean"
      ],
      "execution_count": 12,
      "outputs": [
        {
          "output_type": "execute_result",
          "data": {
            "text/html": [
              "<div>\n",
              "<style scoped>\n",
              "    .dataframe tbody tr th:only-of-type {\n",
              "        vertical-align: middle;\n",
              "    }\n",
              "\n",
              "    .dataframe tbody tr th {\n",
              "        vertical-align: top;\n",
              "    }\n",
              "\n",
              "    .dataframe thead th {\n",
              "        text-align: right;\n",
              "    }\n",
              "</style>\n",
              "<table border=\"1\" class=\"dataframe\">\n",
              "  <thead>\n",
              "    <tr style=\"text-align: right;\">\n",
              "      <th></th>\n",
              "      <th>year</th>\n",
              "      <th>extent</th>\n",
              "      <th>area</th>\n",
              "    </tr>\n",
              "    <tr>\n",
              "      <th>mo</th>\n",
              "      <th></th>\n",
              "      <th></th>\n",
              "      <th></th>\n",
              "    </tr>\n",
              "  </thead>\n",
              "  <tbody>\n",
              "    <tr>\n",
              "      <th>1</th>\n",
              "      <td>1996.742857</td>\n",
              "      <td>14.479429</td>\n",
              "      <td>12.118571</td>\n",
              "    </tr>\n",
              "    <tr>\n",
              "      <th>2</th>\n",
              "      <td>1996.500000</td>\n",
              "      <td>15.298889</td>\n",
              "      <td>12.920833</td>\n",
              "    </tr>\n",
              "    <tr>\n",
              "      <th>3</th>\n",
              "      <td>1996.000000</td>\n",
              "      <td>15.491714</td>\n",
              "      <td>13.076857</td>\n",
              "    </tr>\n",
              "    <tr>\n",
              "      <th>4</th>\n",
              "      <td>1996.000000</td>\n",
              "      <td>14.766000</td>\n",
              "      <td>12.426286</td>\n",
              "    </tr>\n",
              "    <tr>\n",
              "      <th>5</th>\n",
              "      <td>1996.000000</td>\n",
              "      <td>13.396000</td>\n",
              "      <td>11.013714</td>\n",
              "    </tr>\n",
              "    <tr>\n",
              "      <th>6</th>\n",
              "      <td>1996.000000</td>\n",
              "      <td>11.860000</td>\n",
              "      <td>9.015143</td>\n",
              "    </tr>\n",
              "    <tr>\n",
              "      <th>7</th>\n",
              "      <td>1996.000000</td>\n",
              "      <td>9.601143</td>\n",
              "      <td>6.237714</td>\n",
              "    </tr>\n",
              "    <tr>\n",
              "      <th>8</th>\n",
              "      <td>1996.000000</td>\n",
              "      <td>7.122286</td>\n",
              "      <td>4.530571</td>\n",
              "    </tr>\n",
              "    <tr>\n",
              "      <th>9</th>\n",
              "      <td>1996.000000</td>\n",
              "      <td>6.404857</td>\n",
              "      <td>4.246286</td>\n",
              "    </tr>\n",
              "    <tr>\n",
              "      <th>10</th>\n",
              "      <td>1996.000000</td>\n",
              "      <td>8.809143</td>\n",
              "      <td>6.236857</td>\n",
              "    </tr>\n",
              "    <tr>\n",
              "      <th>11</th>\n",
              "      <td>1995.500000</td>\n",
              "      <td>10.964722</td>\n",
              "      <td>8.785833</td>\n",
              "    </tr>\n",
              "    <tr>\n",
              "      <th>12</th>\n",
              "      <td>1995.742857</td>\n",
              "      <td>13.059429</td>\n",
              "      <td>10.755429</td>\n",
              "    </tr>\n",
              "  </tbody>\n",
              "</table>\n",
              "</div>"
            ],
            "text/plain": [
              "           year     extent       area\n",
              "mo                                   \n",
              "1   1996.742857  14.479429  12.118571\n",
              "2   1996.500000  15.298889  12.920833\n",
              "3   1996.000000  15.491714  13.076857\n",
              "4   1996.000000  14.766000  12.426286\n",
              "5   1996.000000  13.396000  11.013714\n",
              "6   1996.000000  11.860000   9.015143\n",
              "7   1996.000000   9.601143   6.237714\n",
              "8   1996.000000   7.122286   4.530571\n",
              "9   1996.000000   6.404857   4.246286\n",
              "10  1996.000000   8.809143   6.236857\n",
              "11  1995.500000  10.964722   8.785833\n",
              "12  1995.742857  13.059429  10.755429"
            ]
          },
          "metadata": {
            "tags": []
          },
          "execution_count": 12
        }
      ]
    },
    {
      "cell_type": "code",
      "metadata": {
        "id": "K11k9WCbjUtl",
        "outputId": "7f6ee774-5195-4c8f-c22e-cec18036a2a7",
        "colab": {
          "base_uri": "https://localhost:8080/",
          "height": 452
        }
      },
      "source": [
        "m_var = df3.groupby([\"mo\"]).var()\n",
        "m_var"
      ],
      "execution_count": 13,
      "outputs": [
        {
          "output_type": "execute_result",
          "data": {
            "text/html": [
              "<div>\n",
              "<style scoped>\n",
              "    .dataframe tbody tr th:only-of-type {\n",
              "        vertical-align: middle;\n",
              "    }\n",
              "\n",
              "    .dataframe tbody tr th {\n",
              "        vertical-align: top;\n",
              "    }\n",
              "\n",
              "    .dataframe thead th {\n",
              "        text-align: right;\n",
              "    }\n",
              "</style>\n",
              "<table border=\"1\" class=\"dataframe\">\n",
              "  <thead>\n",
              "    <tr style=\"text-align: right;\">\n",
              "      <th></th>\n",
              "      <th>year</th>\n",
              "      <th>extent</th>\n",
              "      <th>area</th>\n",
              "    </tr>\n",
              "    <tr>\n",
              "      <th>mo</th>\n",
              "      <th></th>\n",
              "      <th></th>\n",
              "      <th></th>\n",
              "    </tr>\n",
              "  </thead>\n",
              "  <tbody>\n",
              "    <tr>\n",
              "      <th>1</th>\n",
              "      <td>112.078992</td>\n",
              "      <td>0.304906</td>\n",
              "      <td>0.187330</td>\n",
              "    </tr>\n",
              "    <tr>\n",
              "      <th>2</th>\n",
              "      <td>111.000000</td>\n",
              "      <td>0.295804</td>\n",
              "      <td>0.193191</td>\n",
              "    </tr>\n",
              "    <tr>\n",
              "      <th>3</th>\n",
              "      <td>105.000000</td>\n",
              "      <td>0.237209</td>\n",
              "      <td>0.140269</td>\n",
              "    </tr>\n",
              "    <tr>\n",
              "      <th>4</th>\n",
              "      <td>105.000000</td>\n",
              "      <td>0.215378</td>\n",
              "      <td>0.109648</td>\n",
              "    </tr>\n",
              "    <tr>\n",
              "      <th>5</th>\n",
              "      <td>105.000000</td>\n",
              "      <td>0.189901</td>\n",
              "      <td>0.097942</td>\n",
              "    </tr>\n",
              "    <tr>\n",
              "      <th>6</th>\n",
              "      <td>105.000000</td>\n",
              "      <td>0.247918</td>\n",
              "      <td>0.255561</td>\n",
              "    </tr>\n",
              "    <tr>\n",
              "      <th>7</th>\n",
              "      <td>105.000000</td>\n",
              "      <td>0.679175</td>\n",
              "      <td>0.393130</td>\n",
              "    </tr>\n",
              "    <tr>\n",
              "      <th>8</th>\n",
              "      <td>105.000000</td>\n",
              "      <td>0.824577</td>\n",
              "      <td>0.515723</td>\n",
              "    </tr>\n",
              "    <tr>\n",
              "      <th>9</th>\n",
              "      <td>105.000000</td>\n",
              "      <td>1.143902</td>\n",
              "      <td>0.622165</td>\n",
              "    </tr>\n",
              "    <tr>\n",
              "      <th>10</th>\n",
              "      <td>105.000000</td>\n",
              "      <td>0.630361</td>\n",
              "      <td>0.755910</td>\n",
              "    </tr>\n",
              "    <tr>\n",
              "      <th>11</th>\n",
              "      <td>111.000000</td>\n",
              "      <td>0.412511</td>\n",
              "      <td>0.304916</td>\n",
              "    </tr>\n",
              "    <tr>\n",
              "      <th>12</th>\n",
              "      <td>112.078992</td>\n",
              "      <td>0.284870</td>\n",
              "      <td>0.238084</td>\n",
              "    </tr>\n",
              "  </tbody>\n",
              "</table>\n",
              "</div>"
            ],
            "text/plain": [
              "          year    extent      area\n",
              "mo                                \n",
              "1   112.078992  0.304906  0.187330\n",
              "2   111.000000  0.295804  0.193191\n",
              "3   105.000000  0.237209  0.140269\n",
              "4   105.000000  0.215378  0.109648\n",
              "5   105.000000  0.189901  0.097942\n",
              "6   105.000000  0.247918  0.255561\n",
              "7   105.000000  0.679175  0.393130\n",
              "8   105.000000  0.824577  0.515723\n",
              "9   105.000000  1.143902  0.622165\n",
              "10  105.000000  0.630361  0.755910\n",
              "11  111.000000  0.412511  0.304916\n",
              "12  112.078992  0.284870  0.238084"
            ]
          },
          "metadata": {
            "tags": []
          },
          "execution_count": 13
        }
      ]
    },
    {
      "cell_type": "code",
      "metadata": {
        "id": "y8VAHYQ6x535",
        "outputId": "f8451dac-34e6-4879-8e52-a1f94d7e5379",
        "colab": {
          "base_uri": "https://localhost:8080/",
          "height": 452
        }
      },
      "source": [
        "m_std = df3.groupby([\"mo\"]).std()\n",
        "m_std"
      ],
      "execution_count": 14,
      "outputs": [
        {
          "output_type": "execute_result",
          "data": {
            "text/html": [
              "<div>\n",
              "<style scoped>\n",
              "    .dataframe tbody tr th:only-of-type {\n",
              "        vertical-align: middle;\n",
              "    }\n",
              "\n",
              "    .dataframe tbody tr th {\n",
              "        vertical-align: top;\n",
              "    }\n",
              "\n",
              "    .dataframe thead th {\n",
              "        text-align: right;\n",
              "    }\n",
              "</style>\n",
              "<table border=\"1\" class=\"dataframe\">\n",
              "  <thead>\n",
              "    <tr style=\"text-align: right;\">\n",
              "      <th></th>\n",
              "      <th>year</th>\n",
              "      <th>extent</th>\n",
              "      <th>area</th>\n",
              "    </tr>\n",
              "    <tr>\n",
              "      <th>mo</th>\n",
              "      <th></th>\n",
              "      <th></th>\n",
              "      <th></th>\n",
              "    </tr>\n",
              "  </thead>\n",
              "  <tbody>\n",
              "    <tr>\n",
              "      <th>1</th>\n",
              "      <td>10.586737</td>\n",
              "      <td>0.552183</td>\n",
              "      <td>0.432817</td>\n",
              "    </tr>\n",
              "    <tr>\n",
              "      <th>2</th>\n",
              "      <td>10.535654</td>\n",
              "      <td>0.543879</td>\n",
              "      <td>0.439535</td>\n",
              "    </tr>\n",
              "    <tr>\n",
              "      <th>3</th>\n",
              "      <td>10.246951</td>\n",
              "      <td>0.487041</td>\n",
              "      <td>0.374525</td>\n",
              "    </tr>\n",
              "    <tr>\n",
              "      <th>4</th>\n",
              "      <td>10.246951</td>\n",
              "      <td>0.464088</td>\n",
              "      <td>0.331131</td>\n",
              "    </tr>\n",
              "    <tr>\n",
              "      <th>5</th>\n",
              "      <td>10.246951</td>\n",
              "      <td>0.435777</td>\n",
              "      <td>0.312956</td>\n",
              "    </tr>\n",
              "    <tr>\n",
              "      <th>6</th>\n",
              "      <td>10.246951</td>\n",
              "      <td>0.497913</td>\n",
              "      <td>0.505530</td>\n",
              "    </tr>\n",
              "    <tr>\n",
              "      <th>7</th>\n",
              "      <td>10.246951</td>\n",
              "      <td>0.824121</td>\n",
              "      <td>0.627001</td>\n",
              "    </tr>\n",
              "    <tr>\n",
              "      <th>8</th>\n",
              "      <td>10.246951</td>\n",
              "      <td>0.908062</td>\n",
              "      <td>0.718139</td>\n",
              "    </tr>\n",
              "    <tr>\n",
              "      <th>9</th>\n",
              "      <td>10.246951</td>\n",
              "      <td>1.069534</td>\n",
              "      <td>0.788774</td>\n",
              "    </tr>\n",
              "    <tr>\n",
              "      <th>10</th>\n",
              "      <td>10.246951</td>\n",
              "      <td>0.793953</td>\n",
              "      <td>0.869431</td>\n",
              "    </tr>\n",
              "    <tr>\n",
              "      <th>11</th>\n",
              "      <td>10.535654</td>\n",
              "      <td>0.642270</td>\n",
              "      <td>0.552192</td>\n",
              "    </tr>\n",
              "    <tr>\n",
              "      <th>12</th>\n",
              "      <td>10.586737</td>\n",
              "      <td>0.533732</td>\n",
              "      <td>0.487939</td>\n",
              "    </tr>\n",
              "  </tbody>\n",
              "</table>\n",
              "</div>"
            ],
            "text/plain": [
              "         year    extent      area\n",
              "mo                               \n",
              "1   10.586737  0.552183  0.432817\n",
              "2   10.535654  0.543879  0.439535\n",
              "3   10.246951  0.487041  0.374525\n",
              "4   10.246951  0.464088  0.331131\n",
              "5   10.246951  0.435777  0.312956\n",
              "6   10.246951  0.497913  0.505530\n",
              "7   10.246951  0.824121  0.627001\n",
              "8   10.246951  0.908062  0.718139\n",
              "9   10.246951  1.069534  0.788774\n",
              "10  10.246951  0.793953  0.869431\n",
              "11  10.535654  0.642270  0.552192\n",
              "12  10.586737  0.533732  0.487939"
            ]
          },
          "metadata": {
            "tags": []
          },
          "execution_count": 14
        }
      ]
    },
    {
      "cell_type": "markdown",
      "metadata": {
        "id": "2xQvugb3jUtn"
      },
      "source": [
        "Normalize the SIE data: subtract the monthly mean and then convert to percent difference by dividing by the 1981-2013 average and then multiplying by 100."
      ]
    },
    {
      "cell_type": "code",
      "metadata": {
        "id": "HCTg3XyrjUto",
        "outputId": "67ec4a7b-5573-427a-fdc9-c76147995578",
        "colab": {
          "base_uri": "https://localhost:8080/",
          "height": 204
        }
      },
      "source": [
        "#your response here\n",
        "df3_norm = df3.copy() #We make a copy so that we dont break the original dataframe\n",
        "df3_norm.head()"
      ],
      "execution_count": 15,
      "outputs": [
        {
          "output_type": "execute_result",
          "data": {
            "text/html": [
              "<div>\n",
              "<style scoped>\n",
              "    .dataframe tbody tr th:only-of-type {\n",
              "        vertical-align: middle;\n",
              "    }\n",
              "\n",
              "    .dataframe tbody tr th {\n",
              "        vertical-align: top;\n",
              "    }\n",
              "\n",
              "    .dataframe thead th {\n",
              "        text-align: right;\n",
              "    }\n",
              "</style>\n",
              "<table border=\"1\" class=\"dataframe\">\n",
              "  <thead>\n",
              "    <tr style=\"text-align: right;\">\n",
              "      <th></th>\n",
              "      <th>year</th>\n",
              "      <th>mo</th>\n",
              "      <th>data_type</th>\n",
              "      <th>region</th>\n",
              "      <th>extent</th>\n",
              "      <th>area</th>\n",
              "    </tr>\n",
              "  </thead>\n",
              "  <tbody>\n",
              "    <tr>\n",
              "      <th>1978-11</th>\n",
              "      <td>1978</td>\n",
              "      <td>11</td>\n",
              "      <td>Goddard</td>\n",
              "      <td>N</td>\n",
              "      <td>12.01</td>\n",
              "      <td>8.97</td>\n",
              "    </tr>\n",
              "    <tr>\n",
              "      <th>1978-12</th>\n",
              "      <td>1978</td>\n",
              "      <td>12</td>\n",
              "      <td>Goddard</td>\n",
              "      <td>N</td>\n",
              "      <td>14.12</td>\n",
              "      <td>10.85</td>\n",
              "    </tr>\n",
              "    <tr>\n",
              "      <th>1979-01</th>\n",
              "      <td>1979</td>\n",
              "      <td>1</td>\n",
              "      <td>Goddard</td>\n",
              "      <td>N</td>\n",
              "      <td>15.54</td>\n",
              "      <td>12.33</td>\n",
              "    </tr>\n",
              "    <tr>\n",
              "      <th>1979-02</th>\n",
              "      <td>1979</td>\n",
              "      <td>2</td>\n",
              "      <td>Goddard</td>\n",
              "      <td>N</td>\n",
              "      <td>16.31</td>\n",
              "      <td>13.11</td>\n",
              "    </tr>\n",
              "    <tr>\n",
              "      <th>1979-03</th>\n",
              "      <td>1979</td>\n",
              "      <td>3</td>\n",
              "      <td>Goddard</td>\n",
              "      <td>N</td>\n",
              "      <td>16.45</td>\n",
              "      <td>13.13</td>\n",
              "    </tr>\n",
              "  </tbody>\n",
              "</table>\n",
              "</div>"
            ],
            "text/plain": [
              "         year  mo data_type region  extent   area\n",
              "1978-11  1978  11   Goddard      N   12.01   8.97\n",
              "1978-12  1978  12   Goddard      N   14.12  10.85\n",
              "1979-01  1979   1   Goddard      N   15.54  12.33\n",
              "1979-02  1979   2   Goddard      N   16.31  13.11\n",
              "1979-03  1979   3   Goddard      N   16.45  13.13"
            ]
          },
          "metadata": {
            "tags": []
          },
          "execution_count": 15
        }
      ]
    },
    {
      "cell_type": "code",
      "metadata": {
        "id": "YqDkOpW-jUtw",
        "outputId": "be209c29-60be-471b-b3f6-ef1ca32dd459",
        "colab": {
          "base_uri": "https://localhost:8080/"
        }
      },
      "source": [
        "mean_81_13 = df3[np.bitwise_and(df3[\"year\"] >= 1981, df3[\"year\"] <= 2013)].mean(axis = 0)[\"extent\"]\n",
        "mean_81_13"
      ],
      "execution_count": 16,
      "outputs": [
        {
          "output_type": "execute_result",
          "data": {
            "text/plain": [
              "11.714365482233502"
            ]
          },
          "metadata": {
            "tags": []
          },
          "execution_count": 16
        }
      ]
    },
    {
      "cell_type": "code",
      "metadata": {
        "id": "LrP31lrjjUt0",
        "outputId": "ed63bb60-cedf-4d27-efc7-b7cb32492a24",
        "colab": {
          "base_uri": "https://localhost:8080/",
          "height": 204
        }
      },
      "source": [
        "df3_norm[\"extent\"] = df3_norm[[\"mo\", \"extent\"]].apply(lambda x: (x.extent - m_mean.loc[x.mo][\"extent\"]) / mean_81_13 * 100, axis = 1)\n",
        "df3_norm.head()"
      ],
      "execution_count": 17,
      "outputs": [
        {
          "output_type": "execute_result",
          "data": {
            "text/html": [
              "<div>\n",
              "<style scoped>\n",
              "    .dataframe tbody tr th:only-of-type {\n",
              "        vertical-align: middle;\n",
              "    }\n",
              "\n",
              "    .dataframe tbody tr th {\n",
              "        vertical-align: top;\n",
              "    }\n",
              "\n",
              "    .dataframe thead th {\n",
              "        text-align: right;\n",
              "    }\n",
              "</style>\n",
              "<table border=\"1\" class=\"dataframe\">\n",
              "  <thead>\n",
              "    <tr style=\"text-align: right;\">\n",
              "      <th></th>\n",
              "      <th>year</th>\n",
              "      <th>mo</th>\n",
              "      <th>data_type</th>\n",
              "      <th>region</th>\n",
              "      <th>extent</th>\n",
              "      <th>area</th>\n",
              "    </tr>\n",
              "  </thead>\n",
              "  <tbody>\n",
              "    <tr>\n",
              "      <th>1978-11</th>\n",
              "      <td>1978</td>\n",
              "      <td>11</td>\n",
              "      <td>Goddard</td>\n",
              "      <td>N</td>\n",
              "      <td>8.923042</td>\n",
              "      <td>8.97</td>\n",
              "    </tr>\n",
              "    <tr>\n",
              "      <th>1978-12</th>\n",
              "      <td>1978</td>\n",
              "      <td>12</td>\n",
              "      <td>Goddard</td>\n",
              "      <td>N</td>\n",
              "      <td>9.053597</td>\n",
              "      <td>10.85</td>\n",
              "    </tr>\n",
              "    <tr>\n",
              "      <th>1979-01</th>\n",
              "      <td>1979</td>\n",
              "      <td>1</td>\n",
              "      <td>Goddard</td>\n",
              "      <td>N</td>\n",
              "      <td>9.053597</td>\n",
              "      <td>12.33</td>\n",
              "    </tr>\n",
              "    <tr>\n",
              "      <th>1979-02</th>\n",
              "      <td>1979</td>\n",
              "      <td>2</td>\n",
              "      <td>Goddard</td>\n",
              "      <td>N</td>\n",
              "      <td>8.631378</td>\n",
              "      <td>13.11</td>\n",
              "    </tr>\n",
              "    <tr>\n",
              "      <th>1979-03</th>\n",
              "      <td>1979</td>\n",
              "      <td>3</td>\n",
              "      <td>Goddard</td>\n",
              "      <td>N</td>\n",
              "      <td>8.180432</td>\n",
              "      <td>13.13</td>\n",
              "    </tr>\n",
              "  </tbody>\n",
              "</table>\n",
              "</div>"
            ],
            "text/plain": [
              "         year  mo data_type region    extent   area\n",
              "1978-11  1978  11   Goddard      N  8.923042   8.97\n",
              "1978-12  1978  12   Goddard      N  9.053597  10.85\n",
              "1979-01  1979   1   Goddard      N  9.053597  12.33\n",
              "1979-02  1979   2   Goddard      N  8.631378  13.11\n",
              "1979-03  1979   3   Goddard      N  8.180432  13.13"
            ]
          },
          "metadata": {
            "tags": []
          },
          "execution_count": 17
        }
      ]
    },
    {
      "cell_type": "markdown",
      "metadata": {
        "id": "wBIOByHhjUt4"
      },
      "source": [
        "Visualize the trend of SIE per year considering:1) all months, 2) January, 3) August"
      ]
    },
    {
      "cell_type": "code",
      "metadata": {
        "id": "U9F3Wy_mjUt5",
        "outputId": "746c2163-c158-4bbf-bc50-f37c07b03f43",
        "colab": {
          "base_uri": "https://localhost:8080/",
          "height": 295
        }
      },
      "source": [
        "df3_norm.groupby(by = \"year\").mean().plot(y=\"extent\", style = '--')\n",
        "plt.title(\"All months\")\n",
        "plt.show()"
      ],
      "execution_count": 18,
      "outputs": [
        {
          "output_type": "display_data",
          "data": {
            "image/png": "[encoded data removed]",
            "text/plain": [
              "<Figure size 432x288 with 1 Axes>"
            ]
          },
          "metadata": {
            "tags": [],
            "needs_background": "light"
          }
        }
      ]
    },
    {
      "cell_type": "code",
      "metadata": {
        "id": "u9Qj6HMHjUt8",
        "outputId": "fe42af9e-dbbb-4d31-d924-ce9019443dc1",
        "colab": {
          "base_uri": "https://localhost:8080/",
          "height": 295
        }
      },
      "source": [
        "df3_norm[df3_norm[\"mo\"] == 1].groupby(by = \"year\").mean().plot(y = \"extent\", style = \"--\")\n",
        "plt.title(\"January\")\n",
        "plt.show()"
      ],
      "execution_count": 19,
      "outputs": [
        {
          "output_type": "display_data",
          "data": {
            "image/png": "[encoded data removed]",
            "text/plain": [
              "<Figure size 432x288 with 1 Axes>"
            ]
          },
          "metadata": {
            "tags": [],
            "needs_background": "light"
          }
        }
      ]
    },
    {
      "cell_type": "code",
      "metadata": {
        "id": "ux1XZsQ-jUt-",
        "outputId": "44012d46-7fbf-49aa-ae62-e7d0f7656c2d",
        "colab": {
          "base_uri": "https://localhost:8080/",
          "height": 295
        }
      },
      "source": [
        "df3_norm[df3_norm[\"mo\"] == 8].groupby(by = \"year\").mean().plot(y = \"extent\", style = \"--\")\n",
        "plt.title(\"August\")\n",
        "plt.show()"
      ],
      "execution_count": 20,
      "outputs": [
        {
          "output_type": "display_data",
          "data": {
            "image/png": "[encoded data removed]",
            "text/plain": [
              "<Figure size 432x288 with 1 Axes>"
            ]
          },
          "metadata": {
            "tags": [],
            "needs_background": "light"
          }
        }
      ]
    },
    {
      "cell_type": "markdown",
      "metadata": {
        "id": "h3ktq7zEjUuC"
      },
      "source": [
        "Calculate the Pearson correlation coefficient and the p-value for testing non-correlation of the SIE temporal trend (consider all months). Is it significant?"
      ]
    },
    {
      "cell_type": "markdown",
      "metadata": {
        "id": "UTMg8uSP8HK-"
      },
      "source": [
        "We can easily calculate the Pearson correlation coefficient directly from our DataFrame with the method ```.corr()```:"
      ]
    },
    {
      "cell_type": "code",
      "metadata": {
        "id": "XmtttQ-PjUuC",
        "outputId": "66ed4886-54d9-4303-e696-f78bbda61b7b",
        "colab": {
          "base_uri": "https://localhost:8080/",
          "height": 124
        }
      },
      "source": [
        "#your response here\n",
        "corr = df3_norm.corr()\n",
        "corr.style.background_gradient(cmap='coolwarm')"
      ],
      "execution_count": 21,
      "outputs": [
        {
          "output_type": "execute_result",
          "data": {
            "text/html": [
              "<style  type=\"text/css\" >\n",
              "#T_c4050bee_2115_11eb_94f4_0242ac1c0002row0_col0,#T_c4050bee_2115_11eb_94f4_0242ac1c0002row1_col1,#T_c4050bee_2115_11eb_94f4_0242ac1c0002row2_col2,#T_c4050bee_2115_11eb_94f4_0242ac1c0002row3_col3{\n",
              "            background-color:  #b40426;\n",
              "            color:  #f1f1f1;\n",
              "        }#T_c4050bee_2115_11eb_94f4_0242ac1c0002row0_col1{\n",
              "            background-color:  #b6cefa;\n",
              "            color:  #000000;\n",
              "        }#T_c4050bee_2115_11eb_94f4_0242ac1c0002row0_col2,#T_c4050bee_2115_11eb_94f4_0242ac1c0002row1_col3,#T_c4050bee_2115_11eb_94f4_0242ac1c0002row2_col0,#T_c4050bee_2115_11eb_94f4_0242ac1c0002row3_col1{\n",
              "            background-color:  #3b4cc0;\n",
              "            color:  #f1f1f1;\n",
              "        }#T_c4050bee_2115_11eb_94f4_0242ac1c0002row0_col3{\n",
              "            background-color:  #adc9fd;\n",
              "            color:  #000000;\n",
              "        }#T_c4050bee_2115_11eb_94f4_0242ac1c0002row1_col0{\n",
              "            background-color:  #cbd8ee;\n",
              "            color:  #000000;\n",
              "        }#T_c4050bee_2115_11eb_94f4_0242ac1c0002row1_col2{\n",
              "            background-color:  #cfdaea;\n",
              "            color:  #000000;\n",
              "        }#T_c4050bee_2115_11eb_94f4_0242ac1c0002row2_col1{\n",
              "            background-color:  #bbd1f8;\n",
              "            color:  #000000;\n",
              "        }#T_c4050bee_2115_11eb_94f4_0242ac1c0002row2_col3{\n",
              "            background-color:  #d3dbe7;\n",
              "            color:  #000000;\n",
              "        }#T_c4050bee_2115_11eb_94f4_0242ac1c0002row3_col0{\n",
              "            background-color:  #c4d5f3;\n",
              "            color:  #000000;\n",
              "        }#T_c4050bee_2115_11eb_94f4_0242ac1c0002row3_col2{\n",
              "            background-color:  #e2dad5;\n",
              "            color:  #000000;\n",
              "        }</style><table id=\"T_c4050bee_2115_11eb_94f4_0242ac1c0002\" ><thead>    <tr>        <th class=\"blank level0\" ></th>        <th class=\"col_heading level0 col0\" >year</th>        <th class=\"col_heading level0 col1\" >mo</th>        <th class=\"col_heading level0 col2\" >extent</th>        <th class=\"col_heading level0 col3\" >area</th>    </tr></thead><tbody>\n",
              "                <tr>\n",
              "                        <th id=\"T_c4050bee_2115_11eb_94f4_0242ac1c0002level0_row0\" class=\"row_heading level0 row0\" >year</th>\n",
              "                        <td id=\"T_c4050bee_2115_11eb_94f4_0242ac1c0002row0_col0\" class=\"data row0 col0\" >1.000000</td>\n",
              "                        <td id=\"T_c4050bee_2115_11eb_94f4_0242ac1c0002row0_col1\" class=\"data row0 col1\" >-0.023795</td>\n",
              "                        <td id=\"T_c4050bee_2115_11eb_94f4_0242ac1c0002row0_col2\" class=\"data row0 col2\" >-0.818350</td>\n",
              "                        <td id=\"T_c4050bee_2115_11eb_94f4_0242ac1c0002row0_col3\" class=\"data row0 col3\" >-0.067186</td>\n",
              "            </tr>\n",
              "            <tr>\n",
              "                        <th id=\"T_c4050bee_2115_11eb_94f4_0242ac1c0002level0_row1\" class=\"row_heading level0 row1\" >mo</th>\n",
              "                        <td id=\"T_c4050bee_2115_11eb_94f4_0242ac1c0002row1_col0\" class=\"data row1 col0\" >-0.023795</td>\n",
              "                        <td id=\"T_c4050bee_2115_11eb_94f4_0242ac1c0002row1_col1\" class=\"data row1 col1\" >1.000000</td>\n",
              "                        <td id=\"T_c4050bee_2115_11eb_94f4_0242ac1c0002row1_col2\" class=\"data row1 col2\" >0.000000</td>\n",
              "                        <td id=\"T_c4050bee_2115_11eb_94f4_0242ac1c0002row1_col3\" class=\"data row1 col3\" >-0.620291</td>\n",
              "            </tr>\n",
              "            <tr>\n",
              "                        <th id=\"T_c4050bee_2115_11eb_94f4_0242ac1c0002level0_row2\" class=\"row_heading level0 row2\" >extent</th>\n",
              "                        <td id=\"T_c4050bee_2115_11eb_94f4_0242ac1c0002row2_col0\" class=\"data row2 col0\" >-0.818350</td>\n",
              "                        <td id=\"T_c4050bee_2115_11eb_94f4_0242ac1c0002row2_col1\" class=\"data row2 col1\" >0.000000</td>\n",
              "                        <td id=\"T_c4050bee_2115_11eb_94f4_0242ac1c0002row2_col2\" class=\"data row2 col2\" >1.000000</td>\n",
              "                        <td id=\"T_c4050bee_2115_11eb_94f4_0242ac1c0002row2_col3\" class=\"data row2 col3\" >0.130839</td>\n",
              "            </tr>\n",
              "            <tr>\n",
              "                        <th id=\"T_c4050bee_2115_11eb_94f4_0242ac1c0002level0_row3\" class=\"row_heading level0 row3\" >area</th>\n",
              "                        <td id=\"T_c4050bee_2115_11eb_94f4_0242ac1c0002row3_col0\" class=\"data row3 col0\" >-0.067186</td>\n",
              "                        <td id=\"T_c4050bee_2115_11eb_94f4_0242ac1c0002row3_col1\" class=\"data row3 col1\" >-0.620291</td>\n",
              "                        <td id=\"T_c4050bee_2115_11eb_94f4_0242ac1c0002row3_col2\" class=\"data row3 col2\" >0.130839</td>\n",
              "                        <td id=\"T_c4050bee_2115_11eb_94f4_0242ac1c0002row3_col3\" class=\"data row3 col3\" >1.000000</td>\n",
              "            </tr>\n",
              "    </tbody></table>"
            ],
            "text/plain": [
              "<pandas.io.formats.style.Styler at 0x7fc7dfd25470>"
            ]
          },
          "metadata": {
            "tags": []
          },
          "execution_count": 21
        }
      ]
    },
    {
      "cell_type": "markdown",
      "metadata": {
        "id": "OOeLngs38YOS"
      },
      "source": [
        "Note that now, the Pearson correlation between ```extent``` and ```area``` has changed. That's because we have normalized the ```extent``` but not the ```area``` in a non-linear way. This is important because we have to take into account which transformations have we made to the date to interpret the correlations."
      ]
    },
    {
      "cell_type": "markdown",
      "metadata": {
        "id": "nJEwppTd9SNg"
      },
      "source": [
        "If we want to calculate the p-value we can make use of the library ```scipy```:"
      ]
    },
    {
      "cell_type": "code",
      "metadata": {
        "id": "G2CBGLeE9Y7B"
      },
      "source": [
        "from scipy.stats import pearsonr"
      ],
      "execution_count": 22,
      "outputs": []
    },
    {
      "cell_type": "markdown",
      "metadata": {
        "id": "mDJMggOJ-QpR"
      },
      "source": [
        "As we want to test the non-correlation of the SIE temporal trend, we start by assuming there's no temporal trend ($H_{0}$ hypothesis) and check wether it holds or not by calculating the Pearson correlation coefficient. The p-value obtained from this test indicates the probability of an uncorrelated system producing datasets that have a Pearson correlation at least as extreme as the one computed from these datasets. By calculating the p-value, if it lies below 0.05, we could argue it was not due by chance and that the SIE has some temporal trend ($H_{A}$ hypothesis)."
      ]
    },
    {
      "cell_type": "code",
      "metadata": {
        "id": "tWG_-5rIeM4i",
        "outputId": "651068d9-1c10-45d3-c4c1-3baf68711a06",
        "colab": {
          "base_uri": "https://localhost:8080/"
        }
      },
      "source": [
        "r, p = pearsonr(df3_norm.year, df3_norm.extent)\n",
        "print(f\"Pearson R = {r} / p-value = {p}.\")"
      ],
      "execution_count": 23,
      "outputs": [
        {
          "output_type": "stream",
          "text": [
            "Pearson R = -0.8183500709897178 / p-value = 4.4492318168703415e-103.\n"
          ],
          "name": "stdout"
        }
      ]
    },
    {
      "cell_type": "markdown",
      "metadata": {
        "id": "1x-hXks8C7K3"
      },
      "source": [
        "As we saw obtained, the p-value is very very small $\\mathcal{O}(-103)$ and so the result is statistically significant and the null hypothesis wouldn't hold. It looks like the SIE actually has some temporal trend.\n",
        "\n",
        "This shouldn't be a really suprising fact, as we can see that it changes seasonally by looking at the figures above."
      ]
    },
    {
      "cell_type": "markdown",
      "metadata": {
        "id": "EQ8AfLrDcCFN"
      },
      "source": [
        "Another way of testing this dependence could be a t-test. This is a two-sided test for the null hypothesis that 2 independent samples have identical averages. It's p-value gives us the chance of obtaining that difference in mean by random facts when considering true de $H_{0}$ hypothesis.\n",
        "\n",
        "This test may have 2 implementations:\n",
        "1. We can test for two different years in the series. This would give us an indicator of how possible would be to obtain both series if there was no correlation.\n",
        "2. We can create a synthetic dataset containing only the maximum extent value and test it against our dataset. This could make sense under the null hypothesis, because if there was no temporal trend, the extent would not change and would remain constant at its maximum value\n",
        "\n",
        "Lets proceed with both calculations:"
      ]
    },
    {
      "cell_type": "code",
      "metadata": {
        "id": "l3qewbLjeD1I"
      },
      "source": [
        "from scipy.stats import ttest_ind"
      ],
      "execution_count": 24,
      "outputs": []
    },
    {
      "cell_type": "code",
      "metadata": {
        "id": "Y6U6K96yeGl2",
        "outputId": "03fd095d-51f6-4195-d433-68efe46a2846",
        "colab": {
          "base_uri": "https://localhost:8080/"
        }
      },
      "source": [
        "ttest_ind(df3_norm[df3_norm[\"year\"] == 1980].extent, df3_norm[df3_norm[\"year\"] == 2010].extent)"
      ],
      "execution_count": 25,
      "outputs": [
        {
          "output_type": "execute_result",
          "data": {
            "text/plain": [
              "Ttest_indResult(statistic=11.03688189156308, pvalue=1.9476519029808805e-10)"
            ]
          },
          "metadata": {
            "tags": []
          },
          "execution_count": 25
        }
      ]
    },
    {
      "cell_type": "code",
      "metadata": {
        "id": "pp_TG5cgeQbG",
        "outputId": "9cb88a2e-290f-4dbe-aaa3-9f75a2b7821c",
        "colab": {
          "base_uri": "https://localhost:8080/"
        }
      },
      "source": [
        "ttest_ind([df3_norm[\"extent\"].max()]*len(df3_norm), df3_norm.extent, equal_var = False)"
      ],
      "execution_count": 26,
      "outputs": [
        {
          "output_type": "execute_result",
          "data": {
            "text/plain": [
              "Ttest_indResult(statistic=45.52089224674559, pvalue=1.0599313127173104e-164)"
            ]
          },
          "metadata": {
            "tags": []
          },
          "execution_count": 26
        }
      ]
    },
    {
      "cell_type": "markdown",
      "metadata": {
        "id": "CvA2SaMrexM9"
      },
      "source": [
        "As we can see, both test yield the same results as before. The observations are **very** unlikely to be due to chance under the $H_{0}$ hypothesis and there's statistically significant observations supporting that there is temporal correlation between the extent and the time."
      ]
    },
    {
      "cell_type": "markdown",
      "metadata": {
        "id": "maGY8O4ljUuE"
      },
      "source": [
        "### 3. Compute the trend as a simple linear regression (OLS) and quantitatively evaluate it.\n",
        "\n",
        "Provide the estimated parameters for the linear regression. \n",
        "Evaluate the quality of fit quantitatively and graphically."
      ]
    },
    {
      "cell_type": "code",
      "metadata": {
        "id": "qiqrY7zBFD-g",
        "outputId": "a4ce8b3d-a237-4bed-e52b-fa4400e036e4",
        "colab": {
          "base_uri": "https://localhost:8080/"
        }
      },
      "source": [
        "import statsmodels.api as sm"
      ],
      "execution_count": 27,
      "outputs": [
        {
          "output_type": "stream",
          "text": [
            "/usr/local/lib/python3.6/dist-packages/statsmodels/tools/_testing.py:19: FutureWarning: pandas.util.testing is deprecated. Use the functions in the public API at pandas.testing instead.\n",
            "  import pandas.util.testing as tm\n"
          ],
          "name": "stderr"
        }
      ]
    },
    {
      "cell_type": "code",
      "metadata": {
        "id": "Gs4jQQmJjUuE"
      },
      "source": [
        "#your solution here\n",
        "y = df3_norm.groupby(by = \"year\").mean().extent  # response\n",
        "X = df3_norm.groupby(by = \"year\").mean().index  # predictor\n",
        "# Note: no constant is added by the model unless you are using formulas (!!)\n",
        "X = sm.add_constant(X)  # Adds a constant term to the predictor\n",
        "#X.head()"
      ],
      "execution_count": 28,
      "outputs": []
    },
    {
      "cell_type": "code",
      "metadata": {
        "id": "UJ6yK4GNFVw_"
      },
      "source": [
        "est = sm.OLS(y, X)\n",
        "est = est.fit()"
      ],
      "execution_count": 29,
      "outputs": []
    },
    {
      "cell_type": "code",
      "metadata": {
        "id": "NuDRhSgkFiaf",
        "outputId": "e66bd481-0caf-427a-a92d-204ea6b483ad",
        "colab": {
          "base_uri": "https://localhost:8080/"
        }
      },
      "source": [
        "print(est.params)\n",
        "print('MSE: ',est.mse_total)\n",
        "print('R_squared: ',est.rsquared)"
      ],
      "execution_count": 30,
      "outputs": [
        {
          "output_type": "stream",
          "text": [
            "const    905.193902\n",
            "x1        -0.453469\n",
            "dtype: float64\n",
            "MSE:  27.19604144176221\n",
            "R_squared:  0.8859166406785122\n"
          ],
          "name": "stdout"
        }
      ]
    },
    {
      "cell_type": "markdown",
      "metadata": {
        "id": "nttXjRn4vo0r"
      },
      "source": [
        "The OLS tells us that the corelation between both variables is negative (x1 < 0), or in other words, that the SIE gets reduced by each passing year. A not so bad thing to note is that it's being reduced slowly, as the slope of the curve is relatively small. The R$^2$ of the fit is quite close to 1 and so it can be considered a good fit."
      ]
    },
    {
      "cell_type": "code",
      "metadata": {
        "id": "XbLzyFMHFxX6",
        "outputId": "151b70f3-2c76-4cad-f995-063ffb98fa86",
        "colab": {
          "base_uri": "https://localhost:8080/",
          "height": 279
        }
      },
      "source": [
        "# We pick 100 hundred points equally spaced from the min to the max \n",
        "X_prime = np.linspace(df3_norm.groupby(by = \"year\").mean().index.min(), df3_norm.groupby(by = \"year\").mean().index.max(), 100)\n",
        "X_prime = sm.add_constant(X_prime) # add constant as we did before \n",
        "# Now we calculate the predicted values \n",
        "y_hat = est.predict(X_prime) \n",
        "plt.scatter(df3_norm.groupby(by = \"year\").mean().index, y, alpha=0.3) \n",
        "# Plot the raw data \n",
        "plt.xlabel(\"Month\") \n",
        "plt.ylabel(\"Extent\") \n",
        "plt.plot(X_prime[:, 1], y_hat, 'r', alpha=0.9) # Add the regression line, colored in red \n",
        "plt.show()"
      ],
      "execution_count": 31,
      "outputs": [
        {
          "output_type": "display_data",
          "data": {
            "image/png": "[encoded data removed]",
            "text/plain": [
              "<Figure size 432x288 with 1 Axes>"
            ]
          },
          "metadata": {
            "tags": [],
            "needs_background": "light"
          }
        }
      ]
    },
    {
      "cell_type": "markdown",
      "metadata": {
        "id": "x6ctvNY1wRBQ"
      },
      "source": [
        "In the figure above the negative tendency can be clearly observed. Actually, it's interesting to see that the last years have more dispersion towards lower values, indicating that the augment in the global temperature is playing a role in the reduction of the SIE."
      ]
    },
    {
      "cell_type": "code",
      "metadata": {
        "id": "JuwBxLNZFbZf",
        "outputId": "93ffc231-cb32-445e-e4e0-0ce3601445e6",
        "colab": {
          "base_uri": "https://localhost:8080/",
          "height": 478
        }
      },
      "source": [
        "est.summary()"
      ],
      "execution_count": 32,
      "outputs": [
        {
          "output_type": "execute_result",
          "data": {
            "text/html": [
              "<table class=\"simpletable\">\n",
              "<caption>OLS Regression Results</caption>\n",
              "<tr>\n",
              "  <th>Dep. Variable:</th>         <td>extent</td>      <th>  R-squared:         </th> <td>   0.886</td>\n",
              "</tr>\n",
              "<tr>\n",
              "  <th>Model:</th>                   <td>OLS</td>       <th>  Adj. R-squared:    </th> <td>   0.883</td>\n",
              "</tr>\n",
              "<tr>\n",
              "  <th>Method:</th>             <td>Least Squares</td>  <th>  F-statistic:       </th> <td>   271.8</td>\n",
              "</tr>\n",
              "<tr>\n",
              "  <th>Date:</th>             <td>Sat, 07 Nov 2020</td> <th>  Prob (F-statistic):</th> <td>4.50e-18</td>\n",
              "</tr>\n",
              "<tr>\n",
              "  <th>Time:</th>                 <td>16:24:53</td>     <th>  Log-Likelihood:    </th> <td> -72.940</td>\n",
              "</tr>\n",
              "<tr>\n",
              "  <th>No. Observations:</th>      <td>    37</td>      <th>  AIC:               </th> <td>   149.9</td>\n",
              "</tr>\n",
              "<tr>\n",
              "  <th>Df Residuals:</th>          <td>    35</td>      <th>  BIC:               </th> <td>   153.1</td>\n",
              "</tr>\n",
              "<tr>\n",
              "  <th>Df Model:</th>              <td>     1</td>      <th>                     </th>     <td> </td>   \n",
              "</tr>\n",
              "<tr>\n",
              "  <th>Covariance Type:</th>      <td>nonrobust</td>    <th>                     </th>     <td> </td>   \n",
              "</tr>\n",
              "</table>\n",
              "<table class=\"simpletable\">\n",
              "<tr>\n",
              "    <td></td>       <th>coef</th>     <th>std err</th>      <th>t</th>      <th>P>|t|</th>  <th>[0.025</th>    <th>0.975]</th>  \n",
              "</tr>\n",
              "<tr>\n",
              "  <th>const</th> <td>  905.1939</td> <td>   54.903</td> <td>   16.487</td> <td> 0.000</td> <td>  793.735</td> <td> 1016.653</td>\n",
              "</tr>\n",
              "<tr>\n",
              "  <th>x1</th>    <td>   -0.4535</td> <td>    0.028</td> <td>  -16.486</td> <td> 0.000</td> <td>   -0.509</td> <td>   -0.398</td>\n",
              "</tr>\n",
              "</table>\n",
              "<table class=\"simpletable\">\n",
              "<tr>\n",
              "  <th>Omnibus:</th>       <td> 3.124</td> <th>  Durbin-Watson:     </th> <td>   1.343</td>\n",
              "</tr>\n",
              "<tr>\n",
              "  <th>Prob(Omnibus):</th> <td> 0.210</td> <th>  Jarque-Bera (JB):  </th> <td>   2.628</td>\n",
              "</tr>\n",
              "<tr>\n",
              "  <th>Skew:</th>          <td>-0.544</td> <th>  Prob(JB):          </th> <td>   0.269</td>\n",
              "</tr>\n",
              "<tr>\n",
              "  <th>Kurtosis:</th>      <td> 2.277</td> <th>  Cond. No.          </th> <td>3.73e+05</td>\n",
              "</tr>\n",
              "</table><br/><br/>Warnings:<br/>[1] Standard Errors assume that the covariance matrix of the errors is correctly specified.<br/>[2] The condition number is large, 3.73e+05. This might indicate that there are<br/>strong multicollinearity or other numerical problems."
            ],
            "text/plain": [
              "<class 'statsmodels.iolib.summary.Summary'>\n",
              "\"\"\"\n",
              "                            OLS Regression Results                            \n",
              "==============================================================================\n",
              "Dep. Variable:                 extent   R-squared:                       0.886\n",
              "Model:                            OLS   Adj. R-squared:                  0.883\n",
              "Method:                 Least Squares   F-statistic:                     271.8\n",
              "Date:                Sat, 07 Nov 2020   Prob (F-statistic):           4.50e-18\n",
              "Time:                        16:24:53   Log-Likelihood:                -72.940\n",
              "No. Observations:                  37   AIC:                             149.9\n",
              "Df Residuals:                      35   BIC:                             153.1\n",
              "Df Model:                           1                                         \n",
              "Covariance Type:            nonrobust                                         \n",
              "==============================================================================\n",
              "                 coef    std err          t      P>|t|      [0.025      0.975]\n",
              "------------------------------------------------------------------------------\n",
              "const        905.1939     54.903     16.487      0.000     793.735    1016.653\n",
              "x1            -0.4535      0.028    -16.486      0.000      -0.509      -0.398\n",
              "==============================================================================\n",
              "Omnibus:                        3.124   Durbin-Watson:                   1.343\n",
              "Prob(Omnibus):                  0.210   Jarque-Bera (JB):                2.628\n",
              "Skew:                          -0.544   Prob(JB):                        0.269\n",
              "Kurtosis:                       2.277   Cond. No.                     3.73e+05\n",
              "==============================================================================\n",
              "\n",
              "Warnings:\n",
              "[1] Standard Errors assume that the covariance matrix of the errors is correctly specified.\n",
              "[2] The condition number is large, 3.73e+05. This might indicate that there are\n",
              "strong multicollinearity or other numerical problems.\n",
              "\"\"\""
            ]
          },
          "metadata": {
            "tags": []
          },
          "execution_count": 32
        }
      ]
    },
    {
      "cell_type": "markdown",
      "metadata": {
        "id": "zw2YtBCQjUuG"
      },
      "source": [
        "### 4. Estimate the sea ice extent for 2025\n",
        "\n",
        " Is there a negative trend in the evolution of sea ice extent over recent years? "
      ]
    },
    {
      "cell_type": "code",
      "metadata": {
        "id": "ZwWRgLYwjUuG"
      },
      "source": [
        "#your solution here"
      ],
      "execution_count": 33,
      "outputs": []
    },
    {
      "cell_type": "code",
      "metadata": {
        "id": "uAxks5WbIfBW",
        "outputId": "5875593a-51f8-48b5-f329-ec5d18f286e1",
        "colab": {
          "base_uri": "https://localhost:8080/"
        }
      },
      "source": [
        "year = np.array([1, 2025])\n",
        "pred = est.predict(year.reshape(1, -1))\n",
        "print(f\"Estimated SIE for 2025: {pred}.\")"
      ],
      "execution_count": 34,
      "outputs": [
        {
          "output_type": "stream",
          "text": [
            "Estimated SIE for 2025: [-13.08005373].\n"
          ],
          "name": "stdout"
        }
      ]
    },
    {
      "cell_type": "markdown",
      "metadata": {
        "id": "QUwXKfn4gaJC"
      },
      "source": [
        "Now we have to undo the normalization:"
      ]
    },
    {
      "cell_type": "markdown",
      "metadata": {
        "id": "PGWqPD65syob"
      },
      "source": [
        "We know how to undo the normalization for the monthly extent:\n",
        "$$ monthlyExtent =  monthlyExtent_{i}^{*} \\frac{mean_{81-13}}{100} + mMean_{i} $$\n",
        "\n",
        "And, as we calculated the yearly extent as the mean of the montly extent, the un-normalized value should be calculated as follows:\n",
        "$$ yearlyExtent = \\frac{1}{12}\\sum_{i}^{12} monthlyExtent = \\frac{1}{12}\\sum_{i}^{12} monthlyExtent_{i}^{*} \\frac{mean_{81-13}}{100} + mMean_{i} = \\frac{1}{12}\\sum_{i}^{12} monthlyExtent^{*}\\frac{mean_{81-13}}{100} + \\frac{1}{12}\\sum_{i}^{12} mMean_{i} = yearlyExtent^{*}\\frac{mean_{81-13}}{100} +  Mean(mMean_{i})$$\n",
        "\n",
        "Which can be implemented as follows:\n",
        "\n",
        "```pred_real = pred * mean_81_13 / 100 + m_mean.mean()```"
      ]
    },
    {
      "cell_type": "code",
      "metadata": {
        "id": "QIebn5ZssceL",
        "outputId": "60f7c00e-dcea-48f6-c275-364da23100ef",
        "colab": {
          "base_uri": "https://localhost:8080/"
        }
      },
      "source": [
        "pred_real = pred * mean_81_13 / 100 + m_mean.mean()[\"extent\"]\n",
        "print(f\"The estimated SIE for 2025 is {pred_real[0]:.2f} (millions of km^2).\")"
      ],
      "execution_count": 35,
      "outputs": [
        {
          "output_type": "stream",
          "text": [
            "The estimated SIE for 2025 is 10.24 (millions of km^2).\n"
          ],
          "name": "stdout"
        }
      ]
    }
  ]
}