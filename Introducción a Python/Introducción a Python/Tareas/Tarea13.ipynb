{
 "metadata": {
  "language_info": {
   "codemirror_mode": {
    "name": "ipython",
    "version": 3
   },
   "file_extension": ".py",
   "mimetype": "text/x-python",
   "name": "python",
   "nbconvert_exporter": "python",
   "pygments_lexer": "ipython3",
   "version": "3.8.5-final"
  },
  "orig_nbformat": 2,
  "kernelspec": {
   "name": "Python 3.8.5 64-bit ('Master': conda)",
   "display_name": "Python 3.8.5 64-bit ('Master': conda)",
   "metadata": {
    "interpreter": {
     "hash": "57d46a1f3f975f92cc34d815bf69a7d3644582cc16f1cedc66cb95f17202c91e"
    }
   }
  }
 },
 "nbformat": 4,
 "nbformat_minor": 2,
 "cells": [
  {
   "cell_type": "code",
   "execution_count": 1,
   "metadata": {},
   "outputs": [],
   "source": [
    "import numpy as np"
   ]
  },
  {
   "source": [
    "## Ejercicio 1"
   ],
   "cell_type": "markdown",
   "metadata": {}
  },
  {
   "cell_type": "code",
   "execution_count": 21,
   "metadata": {
    "tags": []
   },
   "outputs": [
    {
     "output_type": "stream",
     "name": "stdout",
     "text": "(50, 50)\n"
    }
   ],
   "source": [
    "Ejer3 = np.random.normal(size = (50,50))\n",
    "print(Ejer3.shape)"
   ]
  },
  {
   "cell_type": "code",
   "execution_count": 22,
   "metadata": {
    "tags": []
   },
   "outputs": [],
   "source": [
    "media = Ejer3.mean()\n",
    "std = Ejer3.std()\n",
    "media_fila = Ejer3.mean(axis = 0)\n",
    "std_fila = Ejer3.std(axis = 0)\n",
    "sum_fila = Ejer3.sum(axis = 0)\n",
    "sum_col = Ejer3.sum(axis = 1)"
   ]
  },
  {
   "cell_type": "code",
   "execution_count": 23,
   "metadata": {},
   "outputs": [],
   "source": [
    "np.save(\"TestNumpy\", [media, std, media_fila, std_fila, sum_fila, sum_col], allow_pickle=True)"
   ]
  },
  {
   "cell_type": "code",
   "execution_count": 26,
   "metadata": {},
   "outputs": [],
   "source": [
    "cuac_media, cuac_std, cuac_media_fila, cuac_std_fila, cuac_sum_fila, cuac_sum_col = np.load(\"TestNumpy.npy\", allow_pickle=True)"
   ]
  },
  {
   "cell_type": "code",
   "execution_count": 27,
   "metadata": {
    "tags": []
   },
   "outputs": [
    {
     "output_type": "stream",
     "name": "stdout",
     "text": "-0.008898011511779345\n-0.008898011511779345\n"
    }
   ],
   "source": [
    "print(media)\n",
    "print(cuac_media)"
   ]
  }
 ]
}