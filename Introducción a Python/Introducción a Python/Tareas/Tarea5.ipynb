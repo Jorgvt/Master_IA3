{
 "metadata": {
  "language_info": {
   "codemirror_mode": {
    "name": "ipython",
    "version": 3
   },
   "file_extension": ".py",
   "mimetype": "text/x-python",
   "name": "python",
   "nbconvert_exporter": "python",
   "pygments_lexer": "ipython3",
   "version": "3.8.5-final"
  },
  "orig_nbformat": 2,
  "kernelspec": {
   "name": "python_defaultSpec_1600687331188",
   "display_name": "Python 3.8.5 64-bit ('Master': conda)"
  }
 },
 "nbformat": 4,
 "nbformat_minor": 2,
 "cells": [
  {
   "source": [
    "## Tarea 5. Tipos de datos"
   ],
   "cell_type": "markdown",
   "metadata": {}
  },
  {
   "source": [
    "Empezamos por crear dos variables ``str``:"
   ],
   "cell_type": "markdown",
   "metadata": {}
  },
  {
   "cell_type": "code",
   "execution_count": 4,
   "metadata": {},
   "outputs": [],
   "source": [
    "parte1 = 'las variables string'\n",
    "parte2 = 'son muy útiles'"
   ]
  },
  {
   "source": [
    "Podemos concatenar diferentes variables ``str`` utilizando el operador ``+``:"
   ],
   "cell_type": "markdown",
   "metadata": {}
  },
  {
   "cell_type": "code",
   "execution_count": 3,
   "metadata": {
    "tags": []
   },
   "outputs": [
    {
     "output_type": "stream",
     "name": "stdout",
     "text": "las variables stringson muy útiles\n"
    }
   ],
   "source": [
    "eslogan = parte1 + parte2\n",
    "print(eslogan)"
   ]
  },
  {
   "source": [
    "Utilizando el método ``capitalize()`` podemos hacer que la primera letra de una ``str`` se cambie a mayúscula. Hay que tener en cuenta que los métodos de las variables ``str`` no alteran la variable original, pero sí que devuelven el resultado, por lo que si queremos almacenarlo tendremos que asignarselo a otra variable."
   ],
   "cell_type": "markdown",
   "metadata": {}
  },
  {
   "cell_type": "code",
   "execution_count": 6,
   "metadata": {
    "tags": []
   },
   "outputs": [
    {
     "output_type": "stream",
     "name": "stdout",
     "text": "Las variables stringson muy útiles\n"
    }
   ],
   "source": [
    "Eslogan = eslogan.capitalize()\n",
    "print(Eslogan)"
   ]
  },
  {
   "source": [
    "Si queremos obtener una ``list`` a partir de las palabras contenidas en una string podemos utilizar el método ``split()``, que separa las palabras de una ``str`` respecto al separador que elijamos. La opción por defecto es el espacio."
   ],
   "cell_type": "markdown",
   "metadata": {}
  },
  {
   "cell_type": "code",
   "execution_count": 7,
   "metadata": {
    "tags": []
   },
   "outputs": [
    {
     "output_type": "stream",
     "name": "stdout",
     "text": "['las', 'variables', 'stringson', 'muy', 'útiles']\n"
    }
   ],
   "source": [
    "eslogan_list = eslogan.split()\n",
    "print(eslogan_list)"
   ]
  },
  {
   "source": [
    "También es importante saber que podemos transformar las variables de un tipo a otro. Por ejemplo, en el ejemplo de abajo transformamos una variable ``str`` en una tipo ``float`` para poder hacer la operación. No es necesario transformar la variable ``int`` a ``float`` para realizar operaciones matemáticas."
   ],
   "cell_type": "markdown",
   "metadata": {}
  },
  {
   "cell_type": "code",
   "execution_count": null,
   "metadata": {},
   "outputs": [],
   "source": [
    "#interes es tipo str\n",
    "#cantidad es tipo float\n",
    "#Ncuotas es tipo int\n",
    "cuota=cantidad * (1 + (float(interes) / 100)) / Ncuotas"
   ]
  },
  {
   "source": [
    "Para poder trabajar con fechas y horas podemos utilizar un tipo de dato ``datetime``, para lo que hay que importar el módulo correspondiente. Como ya sabemos cuáles son las funciones que queremos utilzar, no hace falta que importemos el módulo entero, podemos importar solamente estas funciones."
   ],
   "cell_type": "markdown",
   "metadata": {}
  },
  {
   "cell_type": "code",
   "execution_count": 9,
   "metadata": {},
   "outputs": [],
   "source": [
    "from datetime import datetime, date, time"
   ]
  },
  {
   "cell_type": "code",
   "execution_count": 12,
   "metadata": {
    "tags": []
   },
   "outputs": [
    {
     "output_type": "stream",
     "name": "stdout",
     "text": "2020-09-19 09:00:00\n<class 'datetime.datetime'>\n"
    }
   ],
   "source": [
    "InicioClase = datetime(2020, 9, 19, 9, 0, 0)\n",
    "print(InicioClase)\n",
    "print(type(InicioClase))"
   ]
  },
  {
   "source": [
    "Los objetos de tipo ``datetime`` tienen varios módulos que nos permiten formatear el texto de muchas formas diferentes. A modo de ejemplo lo expresaremos con el formato 'dd/mm/YYYY HH:MM:SS'"
   ],
   "cell_type": "markdown",
   "metadata": {}
  },
  {
   "cell_type": "code",
   "execution_count": 16,
   "metadata": {
    "tags": []
   },
   "outputs": [
    {
     "output_type": "stream",
     "name": "stdout",
     "text": "19/09/2020 09:00:00\n"
    }
   ],
   "source": [
    "InicioClase_str = InicioClase.strftime('%d/%m/%Y %H:%M:%S')\n",
    "print(InicioClase_str)"
   ]
  }
 ]
}