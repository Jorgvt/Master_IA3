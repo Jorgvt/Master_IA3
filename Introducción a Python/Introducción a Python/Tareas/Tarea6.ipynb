{
 "metadata": {
  "language_info": {
   "codemirror_mode": {
    "name": "ipython",
    "version": 3
   },
   "file_extension": ".py",
   "mimetype": "text/x-python",
   "name": "python",
   "nbconvert_exporter": "python",
   "pygments_lexer": "ipython3",
   "version": "3.8.5-final"
  },
  "orig_nbformat": 2,
  "kernelspec": {
   "name": "Python 3.8.5 64-bit ('Master': conda)",
   "display_name": "Python 3.8.5 64-bit ('Master': conda)",
   "metadata": {
    "interpreter": {
     "hash": "57d46a1f3f975f92cc34d815bf69a7d3644582cc16f1cedc66cb95f17202c91e"
    }
   }
  }
 },
 "nbformat": 4,
 "nbformat_minor": 2,
 "cells": [
  {
   "source": [
    "## Tarea 6. Sentencias de control"
   ],
   "cell_type": "markdown",
   "metadata": {}
  },
  {
   "source": [
    "Las estructuras de control nos permiten escribir código de forma mucho más ágil y fluida. Por ejemplo, si queremos calcular la suma de los cuadrados de los números enteros hasta que esta suma sea superior a 50000, podemos hacerlo fácilmente con un bucle ``for`` y el condicional ``if``. En realidad tendría más sentido hacerlo utilizando un ``while`` porque no sabemos cuándo terminará el bucle, pero así podemos llevar la cuenta de la cantidad de números que ha sido necesario sumar de forma elegante utilizando ``enumerate()``."
   ],
   "cell_type": "markdown",
   "metadata": {}
  },
  {
   "cell_type": "code",
   "execution_count": 3,
   "metadata": {
    "tags": []
   },
   "outputs": [
    {
     "output_type": "stream",
     "name": "stdout",
     "text": "Ha sido necesario sumar el cuadrado de los 53 primeros números, y se ha obtenido: 51039.\n"
    }
   ],
   "source": [
    "sum = 0\n",
    "max = 50000\n",
    "for i, n in enumerate(range(max)):\n",
    "    sum += n ** 2\n",
    "    if sum > max:\n",
    "        break\n",
    "\n",
    "print(f\"Ha sido necesario sumar el cuadrado de los {i} primeros números, y se ha obtenido: {sum}.\")"
   ]
  },
  {
   "cell_type": "code",
   "execution_count": 5,
   "metadata": {
    "tags": []
   },
   "outputs": [
    {
     "output_type": "stream",
     "name": "stdout",
     "text": "Bajo peso.\n"
    }
   ],
   "source": [
    "peso = float(input(\"Introduzca su peso en kg: \"))\n",
    "altura = float(input(\"Introduzca su altura en m: \"))\n",
    "\n",
    "imc = peso / (altura ** 2)\n",
    "\n",
    "if imc < 16:\n",
    "    print(\"Criterio de ingreso en hospital.\")\n",
    "elif imc >= 16 and imc < 17:\n",
    "    print(\"Infrapeso.\")\n",
    "elif imc >= 17 and imc < 18:\n",
    "    print(\"Bajo peso.\")\n",
    "elif imc >= 18 and imc < 25:\n",
    "    print(\"Peso OK.\")\n",
    "elif imc >= 25 and imc <30:\n",
    "    print(\"Obesidad Grado I.\")\n",
    "elif imc >= 30 and imc <35:\n",
    "    print(\"Obesidad Grado II.\")\n",
    "elif  imc >= 35 and imc < 40:\n",
    "    print(\"Obesidad Grado III.\")\n",
    "elif imc >= 40:\n",
    "    print(\"Obesidad Grado IV.\")"
   ]
  },
  {
   "cell_type": "code",
   "execution_count": 6,
   "metadata": {
    "tags": []
   },
   "outputs": [
    {
     "output_type": "stream",
     "name": "stdout",
     "text": "El factorial de 5 es 120.\n"
    }
   ],
   "source": [
    "argumento = 5\n",
    "\n",
    "factorial = 1 #Empezamos con 1 porque el valor máx pequeño que puede tener el factorial de un número es 1\n",
    "\n",
    "for n in range(argumento):\n",
    "    factorial *= n+1 #Hay que hacer esto porque range() por defecto empieza en 0 y no contiene al número que se le pasa como argumento\n",
    "\n",
    "print(f\"El factorial de {argumento} es {factorial}.\")"
   ]
  },
  {
   "source": [
    "Para saber si una variable se puede convertir en otra podemos utlizar condicionales ``f`` y hacerlo por fuerza bruta o se pueden buscar soluciones más sofísticadas, pero en este caso optaremos por la solución más sencilla de implementar."
   ],
   "cell_type": "markdown",
   "metadata": {}
  },
  {
   "cell_type": "code",
   "execution_count": 7,
   "metadata": {
    "tags": []
   },
   "outputs": [
    {
     "output_type": "stream",
     "name": "stdout",
     "text": "Imposible conversión.\nHola\n"
    }
   ],
   "source": [
    "variable = \"Hola\"\n",
    "\n",
    "try:\n",
    "    variable = float(variable)\n",
    "except:\n",
    "    print(\"Imposible conversión.\")\n",
    "else:\n",
    "    print(\"Conversión OK.\")\n",
    "finally:\n",
    "    print(variable)"
   ]
  }
 ]
}