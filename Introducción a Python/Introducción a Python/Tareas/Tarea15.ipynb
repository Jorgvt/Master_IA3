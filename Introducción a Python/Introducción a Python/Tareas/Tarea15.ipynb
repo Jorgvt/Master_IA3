{
 "cells": [
  {
   "cell_type": "markdown",
   "metadata": {},
   "source": [
    "<img src=\"idal-logo.png\" align=\"right\" style=\"float\" width=\"400\">\n",
    "<font color=\"#CA3532\"><h1 align=\"left\">mIA3</h1></font>\n",
    "<font color=\"#6E6E6E\"><h2 align=\"left\">Ejercicios Pandas. Data Frames</h2></font> \n",
    "\n",
    "\n",
    "\n",
    "### Documentación de Pandas.  Si algo no te lo he explicado... Puedes buscar allí! ;)\n",
    "\n",
    "Abre la web 'http://pandas.pydata.org/pandas-docs/dev/generated/pandas.DataFrame.html' desde Jupyter  y tendrás acceso a toda la documentación de pandas.\n",
    "\n",
    "#### Juan Gómez-Sanchis"
   ]
  },
  {
   "cell_type": "code",
   "execution_count": 1,
   "metadata": {},
   "outputs": [
    {
     "output_type": "execute_result",
     "data": {
      "text/plain": "True"
     },
     "metadata": {},
     "execution_count": 1
    }
   ],
   "source": [
    "#para cargar una web desde python\n",
    "import webbrowser\n",
    "website = 'http://pandas.pydata.org/pandas-docs/dev/generated/pandas.DataFrame.html'\n",
    "webbrowser.open(website)"
   ]
  },
  {
   "cell_type": "markdown",
   "metadata": {},
   "source": [
    "### Ejercicio 0\n",
    "Implementa el código para importar:\n",
    "* La libreria ``numpy`` como ``np`` \n",
    "* Las funciones ``Series``y ``DataFrame``de ``Pandas``\n",
    "* La libreria ``Pandas`` como ``pd``"
   ]
  },
  {
   "cell_type": "code",
   "execution_count": 1,
   "metadata": {},
   "outputs": [],
   "source": [
    "import numpy as np\n",
    "import pandas as pd\n",
    "from pandas import Series, DataFrame"
   ]
  },
  {
   "cell_type": "markdown",
   "metadata": {},
   "source": [
    "### Ejercicio 1. \n",
    "\n",
    "* Carga el fichero \"NFL_jgx.csv\" usando  la función ``read_csv`` de pandas y asignalo a una variable denominada ``data``. Cuidado con las opciones de importación (delimitador de dato, separador decimal y separador de millares).\n",
    "* Renombra el fichero cargado como ``nfl_frame``.\n",
    "* Muestra por pantalla el dataframe"
   ]
  },
  {
   "cell_type": "code",
   "execution_count": 75,
   "metadata": {},
   "outputs": [],
   "source": [
    "data = pd.read_csv(\"NFL_jgx.csv\", sep= \";\", index_col= \"Index \")\n",
    "data.index.name = \"Index\""
   ]
  },
  {
   "cell_type": "code",
   "execution_count": 16,
   "metadata": {},
   "outputs": [
    {
     "output_type": "execute_result",
     "data": {
      "text/plain": "       Rank                  Team  Won  Lost  Tied   Pct.  First NFL Season  \\\nIndex                                                                         \n0         1        Dallas Cowboys  493   367     6  0.573              1960   \n1         2     Green Bay Packers  730   553    37  0.567              1921   \n2         3         Chicago Bears  744   568    42  0.565              1920   \n3         4        Miami Dolphins  439   341     4  0.563              1966   \n4         5  New England Patriots  476   383     9  0.554              1960   \n5         6       New York Giants  684   572    33  0.543              1925   \n6         7        Denver Broncos  465   393    10  0.541              1960   \n7         8     Minnesota Vikings  457   387    10  0.541              1961   \n8         9      Baltimore Ravens  181   154     1  0.540              1996   \n9        10   San Francisco 49ers  522   450    14  0.537              1950   \n10       11    Indianapolis Colts  502   441     7  0.532              1953   \n11       12       Oakland Raiders  456   401    11  0.532              1960   \n12       13   Pittsburgh Steelers  601   535    20  0.529              1933   \n\n      Total Games   Division  \nIndex                         \n0             866   NFC East  \n1           1,320  NFC North  \n2           1,354  NFC North  \n3             784   AFC East  \n4             868   AFC East  \n5           1,289   NFC East  \n6             868   AFC West  \n7             854  NFC North  \n8             336  AFC North  \n9             986   NFC West  \n10            950  AFC South  \n11            868   AFC West  \n12          1,156  AFC North  ",
      "text/html": "<div>\n<style scoped>\n    .dataframe tbody tr th:only-of-type {\n        vertical-align: middle;\n    }\n\n    .dataframe tbody tr th {\n        vertical-align: top;\n    }\n\n    .dataframe thead th {\n        text-align: right;\n    }\n</style>\n<table border=\"1\" class=\"dataframe\">\n  <thead>\n    <tr style=\"text-align: right;\">\n      <th></th>\n      <th>Rank</th>\n      <th>Team</th>\n      <th>Won</th>\n      <th>Lost</th>\n      <th>Tied</th>\n      <th>Pct.</th>\n      <th>First NFL Season</th>\n      <th>Total Games</th>\n      <th>Division</th>\n    </tr>\n    <tr>\n      <th>Index</th>\n      <th></th>\n      <th></th>\n      <th></th>\n      <th></th>\n      <th></th>\n      <th></th>\n      <th></th>\n      <th></th>\n      <th></th>\n    </tr>\n  </thead>\n  <tbody>\n    <tr>\n      <th>0</th>\n      <td>1</td>\n      <td>Dallas Cowboys</td>\n      <td>493</td>\n      <td>367</td>\n      <td>6</td>\n      <td>0.573</td>\n      <td>1960</td>\n      <td>866</td>\n      <td>NFC East</td>\n    </tr>\n    <tr>\n      <th>1</th>\n      <td>2</td>\n      <td>Green Bay Packers</td>\n      <td>730</td>\n      <td>553</td>\n      <td>37</td>\n      <td>0.567</td>\n      <td>1921</td>\n      <td>1,320</td>\n      <td>NFC North</td>\n    </tr>\n    <tr>\n      <th>2</th>\n      <td>3</td>\n      <td>Chicago Bears</td>\n      <td>744</td>\n      <td>568</td>\n      <td>42</td>\n      <td>0.565</td>\n      <td>1920</td>\n      <td>1,354</td>\n      <td>NFC North</td>\n    </tr>\n    <tr>\n      <th>3</th>\n      <td>4</td>\n      <td>Miami Dolphins</td>\n      <td>439</td>\n      <td>341</td>\n      <td>4</td>\n      <td>0.563</td>\n      <td>1966</td>\n      <td>784</td>\n      <td>AFC East</td>\n    </tr>\n    <tr>\n      <th>4</th>\n      <td>5</td>\n      <td>New England Patriots</td>\n      <td>476</td>\n      <td>383</td>\n      <td>9</td>\n      <td>0.554</td>\n      <td>1960</td>\n      <td>868</td>\n      <td>AFC East</td>\n    </tr>\n    <tr>\n      <th>5</th>\n      <td>6</td>\n      <td>New York Giants</td>\n      <td>684</td>\n      <td>572</td>\n      <td>33</td>\n      <td>0.543</td>\n      <td>1925</td>\n      <td>1,289</td>\n      <td>NFC East</td>\n    </tr>\n    <tr>\n      <th>6</th>\n      <td>7</td>\n      <td>Denver Broncos</td>\n      <td>465</td>\n      <td>393</td>\n      <td>10</td>\n      <td>0.541</td>\n      <td>1960</td>\n      <td>868</td>\n      <td>AFC West</td>\n    </tr>\n    <tr>\n      <th>7</th>\n      <td>8</td>\n      <td>Minnesota Vikings</td>\n      <td>457</td>\n      <td>387</td>\n      <td>10</td>\n      <td>0.541</td>\n      <td>1961</td>\n      <td>854</td>\n      <td>NFC North</td>\n    </tr>\n    <tr>\n      <th>8</th>\n      <td>9</td>\n      <td>Baltimore Ravens</td>\n      <td>181</td>\n      <td>154</td>\n      <td>1</td>\n      <td>0.540</td>\n      <td>1996</td>\n      <td>336</td>\n      <td>AFC North</td>\n    </tr>\n    <tr>\n      <th>9</th>\n      <td>10</td>\n      <td>San Francisco 49ers</td>\n      <td>522</td>\n      <td>450</td>\n      <td>14</td>\n      <td>0.537</td>\n      <td>1950</td>\n      <td>986</td>\n      <td>NFC West</td>\n    </tr>\n    <tr>\n      <th>10</th>\n      <td>11</td>\n      <td>Indianapolis Colts</td>\n      <td>502</td>\n      <td>441</td>\n      <td>7</td>\n      <td>0.532</td>\n      <td>1953</td>\n      <td>950</td>\n      <td>AFC South</td>\n    </tr>\n    <tr>\n      <th>11</th>\n      <td>12</td>\n      <td>Oakland Raiders</td>\n      <td>456</td>\n      <td>401</td>\n      <td>11</td>\n      <td>0.532</td>\n      <td>1960</td>\n      <td>868</td>\n      <td>AFC West</td>\n    </tr>\n    <tr>\n      <th>12</th>\n      <td>13</td>\n      <td>Pittsburgh Steelers</td>\n      <td>601</td>\n      <td>535</td>\n      <td>20</td>\n      <td>0.529</td>\n      <td>1933</td>\n      <td>1,156</td>\n      <td>AFC North</td>\n    </tr>\n  </tbody>\n</table>\n</div>"
     },
     "metadata": {},
     "execution_count": 16
    }
   ],
   "source": [
    "data"
   ]
  },
  {
   "cell_type": "markdown",
   "metadata": {},
   "source": [
    "### Ejercicio 2.  \n",
    "\n",
    "Determina los nombres de las columnas del data frame utilizando un método del mismo."
   ]
  },
  {
   "cell_type": "code",
   "execution_count": 9,
   "metadata": {},
   "outputs": [
    {
     "output_type": "execute_result",
     "data": {
      "text/plain": "Index(['Index ', 'Rank', 'Team', 'Won', 'Lost', 'Tied', 'Pct.',\n       'First NFL Season', 'Total Games', 'Division'],\n      dtype='object')"
     },
     "metadata": {},
     "execution_count": 9
    }
   ],
   "source": [
    "data.columns"
   ]
  },
  {
   "cell_type": "markdown",
   "metadata": {},
   "source": [
    "### Ejercicio 3. \n",
    "\n",
    "* Consigue un nuevo dataframe denominado ``df1``, empleando la función ``DataFrame`` de ``Pandas`` y su argumento ``Columns``   que contenga las columnas ``Team``, ``First Season`` y  ``Total Games`` del dataframe original ``nfl_frame``.\n",
    "\n",
    "* Crea un dataframe idéntico a ``df1`` pero denominado ``df2``indexando las columnas directamente."
   ]
  },
  {
   "cell_type": "code",
   "execution_count": 24,
   "metadata": {},
   "outputs": [],
   "source": [
    "df1 = DataFrame(data, columns = [\"Team\", \"First NFL Season\", \"Total Games\"])"
   ]
  },
  {
   "cell_type": "code",
   "execution_count": 25,
   "metadata": {},
   "outputs": [
    {
     "output_type": "execute_result",
     "data": {
      "text/plain": "                       Team  First NFL Season Total Games\nIndex                                                    \n0            Dallas Cowboys              1960         866\n1         Green Bay Packers              1921       1,320\n2             Chicago Bears              1920       1,354\n3            Miami Dolphins              1966         784\n4      New England Patriots              1960         868\n5           New York Giants              1925       1,289\n6            Denver Broncos              1960         868\n7         Minnesota Vikings              1961         854\n8          Baltimore Ravens              1996         336\n9       San Francisco 49ers              1950         986\n10       Indianapolis Colts              1953         950\n11          Oakland Raiders              1960         868\n12      Pittsburgh Steelers              1933       1,156",
      "text/html": "<div>\n<style scoped>\n    .dataframe tbody tr th:only-of-type {\n        vertical-align: middle;\n    }\n\n    .dataframe tbody tr th {\n        vertical-align: top;\n    }\n\n    .dataframe thead th {\n        text-align: right;\n    }\n</style>\n<table border=\"1\" class=\"dataframe\">\n  <thead>\n    <tr style=\"text-align: right;\">\n      <th></th>\n      <th>Team</th>\n      <th>First NFL Season</th>\n      <th>Total Games</th>\n    </tr>\n    <tr>\n      <th>Index</th>\n      <th></th>\n      <th></th>\n      <th></th>\n    </tr>\n  </thead>\n  <tbody>\n    <tr>\n      <th>0</th>\n      <td>Dallas Cowboys</td>\n      <td>1960</td>\n      <td>866</td>\n    </tr>\n    <tr>\n      <th>1</th>\n      <td>Green Bay Packers</td>\n      <td>1921</td>\n      <td>1,320</td>\n    </tr>\n    <tr>\n      <th>2</th>\n      <td>Chicago Bears</td>\n      <td>1920</td>\n      <td>1,354</td>\n    </tr>\n    <tr>\n      <th>3</th>\n      <td>Miami Dolphins</td>\n      <td>1966</td>\n      <td>784</td>\n    </tr>\n    <tr>\n      <th>4</th>\n      <td>New England Patriots</td>\n      <td>1960</td>\n      <td>868</td>\n    </tr>\n    <tr>\n      <th>5</th>\n      <td>New York Giants</td>\n      <td>1925</td>\n      <td>1,289</td>\n    </tr>\n    <tr>\n      <th>6</th>\n      <td>Denver Broncos</td>\n      <td>1960</td>\n      <td>868</td>\n    </tr>\n    <tr>\n      <th>7</th>\n      <td>Minnesota Vikings</td>\n      <td>1961</td>\n      <td>854</td>\n    </tr>\n    <tr>\n      <th>8</th>\n      <td>Baltimore Ravens</td>\n      <td>1996</td>\n      <td>336</td>\n    </tr>\n    <tr>\n      <th>9</th>\n      <td>San Francisco 49ers</td>\n      <td>1950</td>\n      <td>986</td>\n    </tr>\n    <tr>\n      <th>10</th>\n      <td>Indianapolis Colts</td>\n      <td>1953</td>\n      <td>950</td>\n    </tr>\n    <tr>\n      <th>11</th>\n      <td>Oakland Raiders</td>\n      <td>1960</td>\n      <td>868</td>\n    </tr>\n    <tr>\n      <th>12</th>\n      <td>Pittsburgh Steelers</td>\n      <td>1933</td>\n      <td>1,156</td>\n    </tr>\n  </tbody>\n</table>\n</div>"
     },
     "metadata": {},
     "execution_count": 25
    }
   ],
   "source": [
    "df1"
   ]
  },
  {
   "cell_type": "markdown",
   "metadata": {},
   "source": [
    "## Ejercico 4. \n",
    "\n",
    "* Repite el ejercicio 3.1, llamando al resultsdso ``df3`` incluyendo una columna que no existe (por ejemplo ``Stadium``) en el dataframe original. ¿Qué ocurre?."
   ]
  },
  {
   "cell_type": "code",
   "execution_count": 26,
   "metadata": {},
   "outputs": [],
   "source": [
    "df3 = DataFrame(data, columns = [\"Team\", \"First NFL Season\", \"Total Games\", \"Stadium\"])"
   ]
  },
  {
   "cell_type": "code",
   "execution_count": 27,
   "metadata": {},
   "outputs": [
    {
     "output_type": "execute_result",
     "data": {
      "text/plain": "                       Team  First NFL Season Total Games  Stadium\nIndex                                                             \n0            Dallas Cowboys              1960         866      NaN\n1         Green Bay Packers              1921       1,320      NaN\n2             Chicago Bears              1920       1,354      NaN\n3            Miami Dolphins              1966         784      NaN\n4      New England Patriots              1960         868      NaN\n5           New York Giants              1925       1,289      NaN\n6            Denver Broncos              1960         868      NaN\n7         Minnesota Vikings              1961         854      NaN\n8          Baltimore Ravens              1996         336      NaN\n9       San Francisco 49ers              1950         986      NaN\n10       Indianapolis Colts              1953         950      NaN\n11          Oakland Raiders              1960         868      NaN\n12      Pittsburgh Steelers              1933       1,156      NaN",
      "text/html": "<div>\n<style scoped>\n    .dataframe tbody tr th:only-of-type {\n        vertical-align: middle;\n    }\n\n    .dataframe tbody tr th {\n        vertical-align: top;\n    }\n\n    .dataframe thead th {\n        text-align: right;\n    }\n</style>\n<table border=\"1\" class=\"dataframe\">\n  <thead>\n    <tr style=\"text-align: right;\">\n      <th></th>\n      <th>Team</th>\n      <th>First NFL Season</th>\n      <th>Total Games</th>\n      <th>Stadium</th>\n    </tr>\n    <tr>\n      <th>Index</th>\n      <th></th>\n      <th></th>\n      <th></th>\n      <th></th>\n    </tr>\n  </thead>\n  <tbody>\n    <tr>\n      <th>0</th>\n      <td>Dallas Cowboys</td>\n      <td>1960</td>\n      <td>866</td>\n      <td>NaN</td>\n    </tr>\n    <tr>\n      <th>1</th>\n      <td>Green Bay Packers</td>\n      <td>1921</td>\n      <td>1,320</td>\n      <td>NaN</td>\n    </tr>\n    <tr>\n      <th>2</th>\n      <td>Chicago Bears</td>\n      <td>1920</td>\n      <td>1,354</td>\n      <td>NaN</td>\n    </tr>\n    <tr>\n      <th>3</th>\n      <td>Miami Dolphins</td>\n      <td>1966</td>\n      <td>784</td>\n      <td>NaN</td>\n    </tr>\n    <tr>\n      <th>4</th>\n      <td>New England Patriots</td>\n      <td>1960</td>\n      <td>868</td>\n      <td>NaN</td>\n    </tr>\n    <tr>\n      <th>5</th>\n      <td>New York Giants</td>\n      <td>1925</td>\n      <td>1,289</td>\n      <td>NaN</td>\n    </tr>\n    <tr>\n      <th>6</th>\n      <td>Denver Broncos</td>\n      <td>1960</td>\n      <td>868</td>\n      <td>NaN</td>\n    </tr>\n    <tr>\n      <th>7</th>\n      <td>Minnesota Vikings</td>\n      <td>1961</td>\n      <td>854</td>\n      <td>NaN</td>\n    </tr>\n    <tr>\n      <th>8</th>\n      <td>Baltimore Ravens</td>\n      <td>1996</td>\n      <td>336</td>\n      <td>NaN</td>\n    </tr>\n    <tr>\n      <th>9</th>\n      <td>San Francisco 49ers</td>\n      <td>1950</td>\n      <td>986</td>\n      <td>NaN</td>\n    </tr>\n    <tr>\n      <th>10</th>\n      <td>Indianapolis Colts</td>\n      <td>1953</td>\n      <td>950</td>\n      <td>NaN</td>\n    </tr>\n    <tr>\n      <th>11</th>\n      <td>Oakland Raiders</td>\n      <td>1960</td>\n      <td>868</td>\n      <td>NaN</td>\n    </tr>\n    <tr>\n      <th>12</th>\n      <td>Pittsburgh Steelers</td>\n      <td>1933</td>\n      <td>1,156</td>\n      <td>NaN</td>\n    </tr>\n  </tbody>\n</table>\n</div>"
     },
     "metadata": {},
     "execution_count": 27
    }
   ],
   "source": [
    "df3 #Como se puede ver, si añadimos una columna que no tiene salen todos nans"
   ]
  },
  {
   "cell_type": "markdown",
   "metadata": {},
   "source": [
    "### Ejercicio 5. \n",
    "\n",
    "* Consigue, de alguna de las maneras que hemos visto en la introducción teórica, acceder  a la serie contenida en la columna ``Team``. \n",
    "\n",
    "* Repite el ejercicio accediendo, de otra manera,  a los elementos de la columna ``Total Games``"
   ]
  },
  {
   "cell_type": "code",
   "execution_count": 49,
   "metadata": {},
   "outputs": [
    {
     "output_type": "execute_result",
     "data": {
      "text/plain": "Index\n0           Dallas Cowboys\n1        Green Bay Packers\n2            Chicago Bears\n3           Miami Dolphins\n4     New England Patriots\n5          New York Giants\n6           Denver Broncos\n7        Minnesota Vikings\n8         Baltimore Ravens\n9      San Francisco 49ers\n10      Indianapolis Colts\n11         Oakland Raiders\n12     Pittsburgh Steelers\nName: Team, dtype: object"
     },
     "metadata": {},
     "execution_count": 49
    }
   ],
   "source": [
    "df3.Team"
   ]
  },
  {
   "cell_type": "code",
   "execution_count": 50,
   "metadata": {},
   "outputs": [
    {
     "output_type": "execute_result",
     "data": {
      "text/plain": "Index\n0       866\n1     1,320\n2     1,354\n3       784\n4       868\n5     1,289\n6       868\n7       854\n8       336\n9       986\n10      950\n11      868\n12    1,156\nName: Total Games, dtype: object"
     },
     "metadata": {},
     "execution_count": 50
    }
   ],
   "source": [
    "df3[\"Total Games\"]"
   ]
  },
  {
   "cell_type": "markdown",
   "metadata": {},
   "source": [
    "### Ejercicio 6. \n",
    "\n",
    "Queremos acceder al contenido de todas las variables asociadas a la muestra ``Miami Dolphins``. Para ello utiliza dos estrategias:\n",
    "\n",
    "* Emplea el método ``iloc`` del data frame ``nfl_frame`` para conseguir una serie  con los elementos del índice donde se encuentra la muestra Miami Dolphins.\n",
    "* Consigue un nuevo data frame, a partir de indexar automáticamente  aquellas muestras donde la columna ``Team``tome el valor ``Miami Dolphins``"
   ]
  },
  {
   "cell_type": "code",
   "execution_count": 51,
   "metadata": {},
   "outputs": [
    {
     "output_type": "execute_result",
     "data": {
      "text/plain": "Rank                             4\nTeam                Miami Dolphins\nWon                            439\nLost                           341\nTied                             4\nPct.                         0.563\nFirst NFL Season              1966\nTotal Games                    784\nDivision                  AFC East\nName: 3, dtype: object"
     },
     "metadata": {},
     "execution_count": 51
    }
   ],
   "source": [
    "data.iloc[3]"
   ]
  },
  {
   "cell_type": "code",
   "execution_count": 54,
   "metadata": {},
   "outputs": [
    {
     "output_type": "execute_result",
     "data": {
      "text/plain": "       Rank            Team  Won  Lost  Tied   Pct.  First NFL Season  \\\nIndex                                                                   \n3         4  Miami Dolphins  439   341     4  0.563              1966   \n\n      Total Games  Division  \nIndex                        \n3             784  AFC East  ",
      "text/html": "<div>\n<style scoped>\n    .dataframe tbody tr th:only-of-type {\n        vertical-align: middle;\n    }\n\n    .dataframe tbody tr th {\n        vertical-align: top;\n    }\n\n    .dataframe thead th {\n        text-align: right;\n    }\n</style>\n<table border=\"1\" class=\"dataframe\">\n  <thead>\n    <tr style=\"text-align: right;\">\n      <th></th>\n      <th>Rank</th>\n      <th>Team</th>\n      <th>Won</th>\n      <th>Lost</th>\n      <th>Tied</th>\n      <th>Pct.</th>\n      <th>First NFL Season</th>\n      <th>Total Games</th>\n      <th>Division</th>\n    </tr>\n    <tr>\n      <th>Index</th>\n      <th></th>\n      <th></th>\n      <th></th>\n      <th></th>\n      <th></th>\n      <th></th>\n      <th></th>\n      <th></th>\n      <th></th>\n    </tr>\n  </thead>\n  <tbody>\n    <tr>\n      <th>3</th>\n      <td>4</td>\n      <td>Miami Dolphins</td>\n      <td>439</td>\n      <td>341</td>\n      <td>4</td>\n      <td>0.563</td>\n      <td>1966</td>\n      <td>784</td>\n      <td>AFC East</td>\n    </tr>\n  </tbody>\n</table>\n</div>"
     },
     "metadata": {},
     "execution_count": 54
    }
   ],
   "source": [
    "data[data.Team == \"Miami Dolphins\"]"
   ]
  },
  {
   "cell_type": "markdown",
   "metadata": {},
   "source": [
    "### Ejercicio 7. \n",
    "\n",
    "* Añade un columna denominada ``Stadium`` que contenga el estadio de cada equipo. Pero que inicialmente estará inicializada con el string ``'Mestalla'``\n",
    "\n",
    "* ¿Qué hariamos para inicializar la variable ``Stadium`` al valor ``NULL``?. Emplea una forma alternativa de indexado a la empleada en el ejercicio anterior "
   ]
  },
  {
   "cell_type": "code",
   "execution_count": 62,
   "metadata": {
    "tags": []
   },
   "outputs": [
    {
     "output_type": "execute_result",
     "data": {
      "text/plain": "       Rank                  Team  Won  Lost  Tied   Pct.  First NFL Season  \\\nIndex                                                                         \n0         1        Dallas Cowboys  493   367     6  0.573              1960   \n1         2     Green Bay Packers  730   553    37  0.567              1921   \n2         3         Chicago Bears  744   568    42  0.565              1920   \n3         4        Miami Dolphins  439   341     4  0.563              1966   \n4         5  New England Patriots  476   383     9  0.554              1960   \n5         6       New York Giants  684   572    33  0.543              1925   \n6         7        Denver Broncos  465   393    10  0.541              1960   \n7         8     Minnesota Vikings  457   387    10  0.541              1961   \n8         9      Baltimore Ravens  181   154     1  0.540              1996   \n9        10   San Francisco 49ers  522   450    14  0.537              1950   \n10       11    Indianapolis Colts  502   441     7  0.532              1953   \n11       12       Oakland Raiders  456   401    11  0.532              1960   \n12       13   Pittsburgh Steelers  601   535    20  0.529              1933   \n\n      Total Games   Division   Stadium  \nIndex                                   \n0             866   NFC East  Mestalla  \n1           1,320  NFC North  Mestalla  \n2           1,354  NFC North  Mestalla  \n3             784   AFC East  Mestalla  \n4             868   AFC East  Mestalla  \n5           1,289   NFC East  Mestalla  \n6             868   AFC West  Mestalla  \n7             854  NFC North  Mestalla  \n8             336  AFC North  Mestalla  \n9             986   NFC West  Mestalla  \n10            950  AFC South  Mestalla  \n11            868   AFC West  Mestalla  \n12          1,156  AFC North  Mestalla  ",
      "text/html": "<div>\n<style scoped>\n    .dataframe tbody tr th:only-of-type {\n        vertical-align: middle;\n    }\n\n    .dataframe tbody tr th {\n        vertical-align: top;\n    }\n\n    .dataframe thead th {\n        text-align: right;\n    }\n</style>\n<table border=\"1\" class=\"dataframe\">\n  <thead>\n    <tr style=\"text-align: right;\">\n      <th></th>\n      <th>Rank</th>\n      <th>Team</th>\n      <th>Won</th>\n      <th>Lost</th>\n      <th>Tied</th>\n      <th>Pct.</th>\n      <th>First NFL Season</th>\n      <th>Total Games</th>\n      <th>Division</th>\n      <th>Stadium</th>\n    </tr>\n    <tr>\n      <th>Index</th>\n      <th></th>\n      <th></th>\n      <th></th>\n      <th></th>\n      <th></th>\n      <th></th>\n      <th></th>\n      <th></th>\n      <th></th>\n      <th></th>\n    </tr>\n  </thead>\n  <tbody>\n    <tr>\n      <th>0</th>\n      <td>1</td>\n      <td>Dallas Cowboys</td>\n      <td>493</td>\n      <td>367</td>\n      <td>6</td>\n      <td>0.573</td>\n      <td>1960</td>\n      <td>866</td>\n      <td>NFC East</td>\n      <td>Mestalla</td>\n    </tr>\n    <tr>\n      <th>1</th>\n      <td>2</td>\n      <td>Green Bay Packers</td>\n      <td>730</td>\n      <td>553</td>\n      <td>37</td>\n      <td>0.567</td>\n      <td>1921</td>\n      <td>1,320</td>\n      <td>NFC North</td>\n      <td>Mestalla</td>\n    </tr>\n    <tr>\n      <th>2</th>\n      <td>3</td>\n      <td>Chicago Bears</td>\n      <td>744</td>\n      <td>568</td>\n      <td>42</td>\n      <td>0.565</td>\n      <td>1920</td>\n      <td>1,354</td>\n      <td>NFC North</td>\n      <td>Mestalla</td>\n    </tr>\n    <tr>\n      <th>3</th>\n      <td>4</td>\n      <td>Miami Dolphins</td>\n      <td>439</td>\n      <td>341</td>\n      <td>4</td>\n      <td>0.563</td>\n      <td>1966</td>\n      <td>784</td>\n      <td>AFC East</td>\n      <td>Mestalla</td>\n    </tr>\n    <tr>\n      <th>4</th>\n      <td>5</td>\n      <td>New England Patriots</td>\n      <td>476</td>\n      <td>383</td>\n      <td>9</td>\n      <td>0.554</td>\n      <td>1960</td>\n      <td>868</td>\n      <td>AFC East</td>\n      <td>Mestalla</td>\n    </tr>\n    <tr>\n      <th>5</th>\n      <td>6</td>\n      <td>New York Giants</td>\n      <td>684</td>\n      <td>572</td>\n      <td>33</td>\n      <td>0.543</td>\n      <td>1925</td>\n      <td>1,289</td>\n      <td>NFC East</td>\n      <td>Mestalla</td>\n    </tr>\n    <tr>\n      <th>6</th>\n      <td>7</td>\n      <td>Denver Broncos</td>\n      <td>465</td>\n      <td>393</td>\n      <td>10</td>\n      <td>0.541</td>\n      <td>1960</td>\n      <td>868</td>\n      <td>AFC West</td>\n      <td>Mestalla</td>\n    </tr>\n    <tr>\n      <th>7</th>\n      <td>8</td>\n      <td>Minnesota Vikings</td>\n      <td>457</td>\n      <td>387</td>\n      <td>10</td>\n      <td>0.541</td>\n      <td>1961</td>\n      <td>854</td>\n      <td>NFC North</td>\n      <td>Mestalla</td>\n    </tr>\n    <tr>\n      <th>8</th>\n      <td>9</td>\n      <td>Baltimore Ravens</td>\n      <td>181</td>\n      <td>154</td>\n      <td>1</td>\n      <td>0.540</td>\n      <td>1996</td>\n      <td>336</td>\n      <td>AFC North</td>\n      <td>Mestalla</td>\n    </tr>\n    <tr>\n      <th>9</th>\n      <td>10</td>\n      <td>San Francisco 49ers</td>\n      <td>522</td>\n      <td>450</td>\n      <td>14</td>\n      <td>0.537</td>\n      <td>1950</td>\n      <td>986</td>\n      <td>NFC West</td>\n      <td>Mestalla</td>\n    </tr>\n    <tr>\n      <th>10</th>\n      <td>11</td>\n      <td>Indianapolis Colts</td>\n      <td>502</td>\n      <td>441</td>\n      <td>7</td>\n      <td>0.532</td>\n      <td>1953</td>\n      <td>950</td>\n      <td>AFC South</td>\n      <td>Mestalla</td>\n    </tr>\n    <tr>\n      <th>11</th>\n      <td>12</td>\n      <td>Oakland Raiders</td>\n      <td>456</td>\n      <td>401</td>\n      <td>11</td>\n      <td>0.532</td>\n      <td>1960</td>\n      <td>868</td>\n      <td>AFC West</td>\n      <td>Mestalla</td>\n    </tr>\n    <tr>\n      <th>12</th>\n      <td>13</td>\n      <td>Pittsburgh Steelers</td>\n      <td>601</td>\n      <td>535</td>\n      <td>20</td>\n      <td>0.529</td>\n      <td>1933</td>\n      <td>1,156</td>\n      <td>AFC North</td>\n      <td>Mestalla</td>\n    </tr>\n  </tbody>\n</table>\n</div>"
     },
     "metadata": {},
     "execution_count": 62
    }
   ],
   "source": [
    "data[\"Stadium\"] = \"Mestalla\"\n",
    "data"
   ]
  },
  {
   "cell_type": "code",
   "execution_count": 64,
   "metadata": {},
   "outputs": [
    {
     "output_type": "execute_result",
     "data": {
      "text/plain": "       Rank                  Team  Won  Lost  Tied   Pct.  First NFL Season  \\\nIndex                                                                         \n0         1        Dallas Cowboys  493   367     6  0.573              1960   \n1         2     Green Bay Packers  730   553    37  0.567              1921   \n2         3         Chicago Bears  744   568    42  0.565              1920   \n3         4        Miami Dolphins  439   341     4  0.563              1966   \n4         5  New England Patriots  476   383     9  0.554              1960   \n5         6       New York Giants  684   572    33  0.543              1925   \n6         7        Denver Broncos  465   393    10  0.541              1960   \n7         8     Minnesota Vikings  457   387    10  0.541              1961   \n8         9      Baltimore Ravens  181   154     1  0.540              1996   \n9        10   San Francisco 49ers  522   450    14  0.537              1950   \n10       11    Indianapolis Colts  502   441     7  0.532              1953   \n11       12       Oakland Raiders  456   401    11  0.532              1960   \n12       13   Pittsburgh Steelers  601   535    20  0.529              1933   \n\n      Total Games   Division Stadium  \nIndex                                 \n0             866   NFC East    NULL  \n1           1,320  NFC North    NULL  \n2           1,354  NFC North    NULL  \n3             784   AFC East    NULL  \n4             868   AFC East    NULL  \n5           1,289   NFC East    NULL  \n6             868   AFC West    NULL  \n7             854  NFC North    NULL  \n8             336  AFC North    NULL  \n9             986   NFC West    NULL  \n10            950  AFC South    NULL  \n11            868   AFC West    NULL  \n12          1,156  AFC North    NULL  ",
      "text/html": "<div>\n<style scoped>\n    .dataframe tbody tr th:only-of-type {\n        vertical-align: middle;\n    }\n\n    .dataframe tbody tr th {\n        vertical-align: top;\n    }\n\n    .dataframe thead th {\n        text-align: right;\n    }\n</style>\n<table border=\"1\" class=\"dataframe\">\n  <thead>\n    <tr style=\"text-align: right;\">\n      <th></th>\n      <th>Rank</th>\n      <th>Team</th>\n      <th>Won</th>\n      <th>Lost</th>\n      <th>Tied</th>\n      <th>Pct.</th>\n      <th>First NFL Season</th>\n      <th>Total Games</th>\n      <th>Division</th>\n      <th>Stadium</th>\n    </tr>\n    <tr>\n      <th>Index</th>\n      <th></th>\n      <th></th>\n      <th></th>\n      <th></th>\n      <th></th>\n      <th></th>\n      <th></th>\n      <th></th>\n      <th></th>\n      <th></th>\n    </tr>\n  </thead>\n  <tbody>\n    <tr>\n      <th>0</th>\n      <td>1</td>\n      <td>Dallas Cowboys</td>\n      <td>493</td>\n      <td>367</td>\n      <td>6</td>\n      <td>0.573</td>\n      <td>1960</td>\n      <td>866</td>\n      <td>NFC East</td>\n      <td>NULL</td>\n    </tr>\n    <tr>\n      <th>1</th>\n      <td>2</td>\n      <td>Green Bay Packers</td>\n      <td>730</td>\n      <td>553</td>\n      <td>37</td>\n      <td>0.567</td>\n      <td>1921</td>\n      <td>1,320</td>\n      <td>NFC North</td>\n      <td>NULL</td>\n    </tr>\n    <tr>\n      <th>2</th>\n      <td>3</td>\n      <td>Chicago Bears</td>\n      <td>744</td>\n      <td>568</td>\n      <td>42</td>\n      <td>0.565</td>\n      <td>1920</td>\n      <td>1,354</td>\n      <td>NFC North</td>\n      <td>NULL</td>\n    </tr>\n    <tr>\n      <th>3</th>\n      <td>4</td>\n      <td>Miami Dolphins</td>\n      <td>439</td>\n      <td>341</td>\n      <td>4</td>\n      <td>0.563</td>\n      <td>1966</td>\n      <td>784</td>\n      <td>AFC East</td>\n      <td>NULL</td>\n    </tr>\n    <tr>\n      <th>4</th>\n      <td>5</td>\n      <td>New England Patriots</td>\n      <td>476</td>\n      <td>383</td>\n      <td>9</td>\n      <td>0.554</td>\n      <td>1960</td>\n      <td>868</td>\n      <td>AFC East</td>\n      <td>NULL</td>\n    </tr>\n    <tr>\n      <th>5</th>\n      <td>6</td>\n      <td>New York Giants</td>\n      <td>684</td>\n      <td>572</td>\n      <td>33</td>\n      <td>0.543</td>\n      <td>1925</td>\n      <td>1,289</td>\n      <td>NFC East</td>\n      <td>NULL</td>\n    </tr>\n    <tr>\n      <th>6</th>\n      <td>7</td>\n      <td>Denver Broncos</td>\n      <td>465</td>\n      <td>393</td>\n      <td>10</td>\n      <td>0.541</td>\n      <td>1960</td>\n      <td>868</td>\n      <td>AFC West</td>\n      <td>NULL</td>\n    </tr>\n    <tr>\n      <th>7</th>\n      <td>8</td>\n      <td>Minnesota Vikings</td>\n      <td>457</td>\n      <td>387</td>\n      <td>10</td>\n      <td>0.541</td>\n      <td>1961</td>\n      <td>854</td>\n      <td>NFC North</td>\n      <td>NULL</td>\n    </tr>\n    <tr>\n      <th>8</th>\n      <td>9</td>\n      <td>Baltimore Ravens</td>\n      <td>181</td>\n      <td>154</td>\n      <td>1</td>\n      <td>0.540</td>\n      <td>1996</td>\n      <td>336</td>\n      <td>AFC North</td>\n      <td>NULL</td>\n    </tr>\n    <tr>\n      <th>9</th>\n      <td>10</td>\n      <td>San Francisco 49ers</td>\n      <td>522</td>\n      <td>450</td>\n      <td>14</td>\n      <td>0.537</td>\n      <td>1950</td>\n      <td>986</td>\n      <td>NFC West</td>\n      <td>NULL</td>\n    </tr>\n    <tr>\n      <th>10</th>\n      <td>11</td>\n      <td>Indianapolis Colts</td>\n      <td>502</td>\n      <td>441</td>\n      <td>7</td>\n      <td>0.532</td>\n      <td>1953</td>\n      <td>950</td>\n      <td>AFC South</td>\n      <td>NULL</td>\n    </tr>\n    <tr>\n      <th>11</th>\n      <td>12</td>\n      <td>Oakland Raiders</td>\n      <td>456</td>\n      <td>401</td>\n      <td>11</td>\n      <td>0.532</td>\n      <td>1960</td>\n      <td>868</td>\n      <td>AFC West</td>\n      <td>NULL</td>\n    </tr>\n    <tr>\n      <th>12</th>\n      <td>13</td>\n      <td>Pittsburgh Steelers</td>\n      <td>601</td>\n      <td>535</td>\n      <td>20</td>\n      <td>0.529</td>\n      <td>1933</td>\n      <td>1,156</td>\n      <td>AFC North</td>\n      <td>NULL</td>\n    </tr>\n  </tbody>\n</table>\n</div>"
     },
     "metadata": {},
     "execution_count": 64
    }
   ],
   "source": [
    "data.Stadium = 'NULL'\n",
    "data"
   ]
  },
  {
   "cell_type": "markdown",
   "metadata": {},
   "source": [
    "## Ejercicio 8. \n",
    "\n",
    "* Modifica el contenido de la columna ``Stadium``, de manera que el primer equipo juegue en el estadio ``0`` y el último en el estadio ``12``. Puedes utilizar la función de numpy ``arange``.\n",
    "* Muestra las variables del dataframe ``nfl_frame`` después de las modificaciones realizadas."
   ]
  },
  {
   "cell_type": "code",
   "execution_count": 77,
   "metadata": {},
   "outputs": [
    {
     "output_type": "execute_result",
     "data": {
      "text/plain": "       Rank                  Team  Won  Lost  Tied   Pct.  First NFL Season  \\\nIndex                                                                         \n0         1        Dallas Cowboys  493   367     6  0.573              1960   \n1         2     Green Bay Packers  730   553    37  0.567              1921   \n2         3         Chicago Bears  744   568    42  0.565              1920   \n3         4        Miami Dolphins  439   341     4  0.563              1966   \n4         5  New England Patriots  476   383     9  0.554              1960   \n5         6       New York Giants  684   572    33  0.543              1925   \n6         7        Denver Broncos  465   393    10  0.541              1960   \n7         8     Minnesota Vikings  457   387    10  0.541              1961   \n8         9      Baltimore Ravens  181   154     1  0.540              1996   \n9        10   San Francisco 49ers  522   450    14  0.537              1950   \n10       11    Indianapolis Colts  502   441     7  0.532              1953   \n11       12       Oakland Raiders  456   401    11  0.532              1960   \n12       13   Pittsburgh Steelers  601   535    20  0.529              1933   \n\n      Total Games   Division  \nIndex                         \n0             866   NFC East  \n1           1,320  NFC North  \n2           1,354  NFC North  \n3             784   AFC East  \n4             868   AFC East  \n5           1,289   NFC East  \n6             868   AFC West  \n7             854  NFC North  \n8             336  AFC North  \n9             986   NFC West  \n10            950  AFC South  \n11            868   AFC West  \n12          1,156  AFC North  ",
      "text/html": "<div>\n<style scoped>\n    .dataframe tbody tr th:only-of-type {\n        vertical-align: middle;\n    }\n\n    .dataframe tbody tr th {\n        vertical-align: top;\n    }\n\n    .dataframe thead th {\n        text-align: right;\n    }\n</style>\n<table border=\"1\" class=\"dataframe\">\n  <thead>\n    <tr style=\"text-align: right;\">\n      <th></th>\n      <th>Rank</th>\n      <th>Team</th>\n      <th>Won</th>\n      <th>Lost</th>\n      <th>Tied</th>\n      <th>Pct.</th>\n      <th>First NFL Season</th>\n      <th>Total Games</th>\n      <th>Division</th>\n    </tr>\n    <tr>\n      <th>Index</th>\n      <th></th>\n      <th></th>\n      <th></th>\n      <th></th>\n      <th></th>\n      <th></th>\n      <th></th>\n      <th></th>\n      <th></th>\n    </tr>\n  </thead>\n  <tbody>\n    <tr>\n      <th>0</th>\n      <td>1</td>\n      <td>Dallas Cowboys</td>\n      <td>493</td>\n      <td>367</td>\n      <td>6</td>\n      <td>0.573</td>\n      <td>1960</td>\n      <td>866</td>\n      <td>NFC East</td>\n    </tr>\n    <tr>\n      <th>1</th>\n      <td>2</td>\n      <td>Green Bay Packers</td>\n      <td>730</td>\n      <td>553</td>\n      <td>37</td>\n      <td>0.567</td>\n      <td>1921</td>\n      <td>1,320</td>\n      <td>NFC North</td>\n    </tr>\n    <tr>\n      <th>2</th>\n      <td>3</td>\n      <td>Chicago Bears</td>\n      <td>744</td>\n      <td>568</td>\n      <td>42</td>\n      <td>0.565</td>\n      <td>1920</td>\n      <td>1,354</td>\n      <td>NFC North</td>\n    </tr>\n    <tr>\n      <th>3</th>\n      <td>4</td>\n      <td>Miami Dolphins</td>\n      <td>439</td>\n      <td>341</td>\n      <td>4</td>\n      <td>0.563</td>\n      <td>1966</td>\n      <td>784</td>\n      <td>AFC East</td>\n    </tr>\n    <tr>\n      <th>4</th>\n      <td>5</td>\n      <td>New England Patriots</td>\n      <td>476</td>\n      <td>383</td>\n      <td>9</td>\n      <td>0.554</td>\n      <td>1960</td>\n      <td>868</td>\n      <td>AFC East</td>\n    </tr>\n    <tr>\n      <th>5</th>\n      <td>6</td>\n      <td>New York Giants</td>\n      <td>684</td>\n      <td>572</td>\n      <td>33</td>\n      <td>0.543</td>\n      <td>1925</td>\n      <td>1,289</td>\n      <td>NFC East</td>\n    </tr>\n    <tr>\n      <th>6</th>\n      <td>7</td>\n      <td>Denver Broncos</td>\n      <td>465</td>\n      <td>393</td>\n      <td>10</td>\n      <td>0.541</td>\n      <td>1960</td>\n      <td>868</td>\n      <td>AFC West</td>\n    </tr>\n    <tr>\n      <th>7</th>\n      <td>8</td>\n      <td>Minnesota Vikings</td>\n      <td>457</td>\n      <td>387</td>\n      <td>10</td>\n      <td>0.541</td>\n      <td>1961</td>\n      <td>854</td>\n      <td>NFC North</td>\n    </tr>\n    <tr>\n      <th>8</th>\n      <td>9</td>\n      <td>Baltimore Ravens</td>\n      <td>181</td>\n      <td>154</td>\n      <td>1</td>\n      <td>0.540</td>\n      <td>1996</td>\n      <td>336</td>\n      <td>AFC North</td>\n    </tr>\n    <tr>\n      <th>9</th>\n      <td>10</td>\n      <td>San Francisco 49ers</td>\n      <td>522</td>\n      <td>450</td>\n      <td>14</td>\n      <td>0.537</td>\n      <td>1950</td>\n      <td>986</td>\n      <td>NFC West</td>\n    </tr>\n    <tr>\n      <th>10</th>\n      <td>11</td>\n      <td>Indianapolis Colts</td>\n      <td>502</td>\n      <td>441</td>\n      <td>7</td>\n      <td>0.532</td>\n      <td>1953</td>\n      <td>950</td>\n      <td>AFC South</td>\n    </tr>\n    <tr>\n      <th>11</th>\n      <td>12</td>\n      <td>Oakland Raiders</td>\n      <td>456</td>\n      <td>401</td>\n      <td>11</td>\n      <td>0.532</td>\n      <td>1960</td>\n      <td>868</td>\n      <td>AFC West</td>\n    </tr>\n    <tr>\n      <th>12</th>\n      <td>13</td>\n      <td>Pittsburgh Steelers</td>\n      <td>601</td>\n      <td>535</td>\n      <td>20</td>\n      <td>0.529</td>\n      <td>1933</td>\n      <td>1,156</td>\n      <td>AFC North</td>\n    </tr>\n  </tbody>\n</table>\n</div>"
     },
     "metadata": {},
     "execution_count": 77
    }
   ],
   "source": [
    "data.Stadium = np.arange(0, 13)\n",
    "data"
   ]
  },
  {
   "cell_type": "markdown",
   "metadata": {},
   "source": [
    "### Ejercicio 9. \n",
    "\n",
    "* Crea una serie  denominada ``stadiums`` compuesta por dos elementos \"Mestalla\" y \"Wanda\" y cuyos índices (nombre de las muestras) sean 0  y 4. \n",
    "* Asigna  a la columna ``Stadium`` el valor de la serie ``stadiums`` y comprueba que ha ocurrido."
   ]
  },
  {
   "cell_type": "code",
   "execution_count": 67,
   "metadata": {},
   "outputs": [],
   "source": [
    "stadiums = Series([\"Mestalla\", \"Wanda\"], index = [0, 4])"
   ]
  },
  {
   "cell_type": "code",
   "execution_count": 76,
   "metadata": {},
   "outputs": [
    {
     "output_type": "execute_result",
     "data": {
      "text/plain": "       Rank                  Team  Won  Lost  Tied   Pct.  First NFL Season  \\\nIndex                                                                         \n0         1        Dallas Cowboys  493   367     6  0.573              1960   \n1         2     Green Bay Packers  730   553    37  0.567              1921   \n2         3         Chicago Bears  744   568    42  0.565              1920   \n3         4        Miami Dolphins  439   341     4  0.563              1966   \n4         5  New England Patriots  476   383     9  0.554              1960   \n5         6       New York Giants  684   572    33  0.543              1925   \n6         7        Denver Broncos  465   393    10  0.541              1960   \n7         8     Minnesota Vikings  457   387    10  0.541              1961   \n8         9      Baltimore Ravens  181   154     1  0.540              1996   \n9        10   San Francisco 49ers  522   450    14  0.537              1950   \n10       11    Indianapolis Colts  502   441     7  0.532              1953   \n11       12       Oakland Raiders  456   401    11  0.532              1960   \n12       13   Pittsburgh Steelers  601   535    20  0.529              1933   \n\n      Total Games   Division  \nIndex                         \n0             866   NFC East  \n1           1,320  NFC North  \n2           1,354  NFC North  \n3             784   AFC East  \n4             868   AFC East  \n5           1,289   NFC East  \n6             868   AFC West  \n7             854  NFC North  \n8             336  AFC North  \n9             986   NFC West  \n10            950  AFC South  \n11            868   AFC West  \n12          1,156  AFC North  ",
      "text/html": "<div>\n<style scoped>\n    .dataframe tbody tr th:only-of-type {\n        vertical-align: middle;\n    }\n\n    .dataframe tbody tr th {\n        vertical-align: top;\n    }\n\n    .dataframe thead th {\n        text-align: right;\n    }\n</style>\n<table border=\"1\" class=\"dataframe\">\n  <thead>\n    <tr style=\"text-align: right;\">\n      <th></th>\n      <th>Rank</th>\n      <th>Team</th>\n      <th>Won</th>\n      <th>Lost</th>\n      <th>Tied</th>\n      <th>Pct.</th>\n      <th>First NFL Season</th>\n      <th>Total Games</th>\n      <th>Division</th>\n    </tr>\n    <tr>\n      <th>Index</th>\n      <th></th>\n      <th></th>\n      <th></th>\n      <th></th>\n      <th></th>\n      <th></th>\n      <th></th>\n      <th></th>\n      <th></th>\n    </tr>\n  </thead>\n  <tbody>\n    <tr>\n      <th>0</th>\n      <td>1</td>\n      <td>Dallas Cowboys</td>\n      <td>493</td>\n      <td>367</td>\n      <td>6</td>\n      <td>0.573</td>\n      <td>1960</td>\n      <td>866</td>\n      <td>NFC East</td>\n    </tr>\n    <tr>\n      <th>1</th>\n      <td>2</td>\n      <td>Green Bay Packers</td>\n      <td>730</td>\n      <td>553</td>\n      <td>37</td>\n      <td>0.567</td>\n      <td>1921</td>\n      <td>1,320</td>\n      <td>NFC North</td>\n    </tr>\n    <tr>\n      <th>2</th>\n      <td>3</td>\n      <td>Chicago Bears</td>\n      <td>744</td>\n      <td>568</td>\n      <td>42</td>\n      <td>0.565</td>\n      <td>1920</td>\n      <td>1,354</td>\n      <td>NFC North</td>\n    </tr>\n    <tr>\n      <th>3</th>\n      <td>4</td>\n      <td>Miami Dolphins</td>\n      <td>439</td>\n      <td>341</td>\n      <td>4</td>\n      <td>0.563</td>\n      <td>1966</td>\n      <td>784</td>\n      <td>AFC East</td>\n    </tr>\n    <tr>\n      <th>4</th>\n      <td>5</td>\n      <td>New England Patriots</td>\n      <td>476</td>\n      <td>383</td>\n      <td>9</td>\n      <td>0.554</td>\n      <td>1960</td>\n      <td>868</td>\n      <td>AFC East</td>\n    </tr>\n    <tr>\n      <th>5</th>\n      <td>6</td>\n      <td>New York Giants</td>\n      <td>684</td>\n      <td>572</td>\n      <td>33</td>\n      <td>0.543</td>\n      <td>1925</td>\n      <td>1,289</td>\n      <td>NFC East</td>\n    </tr>\n    <tr>\n      <th>6</th>\n      <td>7</td>\n      <td>Denver Broncos</td>\n      <td>465</td>\n      <td>393</td>\n      <td>10</td>\n      <td>0.541</td>\n      <td>1960</td>\n      <td>868</td>\n      <td>AFC West</td>\n    </tr>\n    <tr>\n      <th>7</th>\n      <td>8</td>\n      <td>Minnesota Vikings</td>\n      <td>457</td>\n      <td>387</td>\n      <td>10</td>\n      <td>0.541</td>\n      <td>1961</td>\n      <td>854</td>\n      <td>NFC North</td>\n    </tr>\n    <tr>\n      <th>8</th>\n      <td>9</td>\n      <td>Baltimore Ravens</td>\n      <td>181</td>\n      <td>154</td>\n      <td>1</td>\n      <td>0.540</td>\n      <td>1996</td>\n      <td>336</td>\n      <td>AFC North</td>\n    </tr>\n    <tr>\n      <th>9</th>\n      <td>10</td>\n      <td>San Francisco 49ers</td>\n      <td>522</td>\n      <td>450</td>\n      <td>14</td>\n      <td>0.537</td>\n      <td>1950</td>\n      <td>986</td>\n      <td>NFC West</td>\n    </tr>\n    <tr>\n      <th>10</th>\n      <td>11</td>\n      <td>Indianapolis Colts</td>\n      <td>502</td>\n      <td>441</td>\n      <td>7</td>\n      <td>0.532</td>\n      <td>1953</td>\n      <td>950</td>\n      <td>AFC South</td>\n    </tr>\n    <tr>\n      <th>11</th>\n      <td>12</td>\n      <td>Oakland Raiders</td>\n      <td>456</td>\n      <td>401</td>\n      <td>11</td>\n      <td>0.532</td>\n      <td>1960</td>\n      <td>868</td>\n      <td>AFC West</td>\n    </tr>\n    <tr>\n      <th>12</th>\n      <td>13</td>\n      <td>Pittsburgh Steelers</td>\n      <td>601</td>\n      <td>535</td>\n      <td>20</td>\n      <td>0.529</td>\n      <td>1933</td>\n      <td>1,156</td>\n      <td>AFC North</td>\n    </tr>\n  </tbody>\n</table>\n</div>"
     },
     "metadata": {},
     "execution_count": 76
    }
   ],
   "source": [
    "data.Stadium = stadiums #Los que no tienen valor se ponen con NaN y los que sí tienen pues se quedan con ese\n",
    "data"
   ]
  },
  {
   "cell_type": "markdown",
   "metadata": {},
   "source": [
    "### Ejercicio 10. \n",
    "\n",
    "* Elimina la columna ``stadium`` del dataframe nfl_frame."
   ]
  },
  {
   "cell_type": "code",
   "execution_count": 69,
   "metadata": {},
   "outputs": [
    {
     "output_type": "execute_result",
     "data": {
      "text/plain": "       Rank                  Team  Won  Lost  Tied   Pct.  First NFL Season  \\\nIndex                                                                         \n0         1        Dallas Cowboys  493   367     6  0.573              1960   \n1         2     Green Bay Packers  730   553    37  0.567              1921   \n2         3         Chicago Bears  744   568    42  0.565              1920   \n3         4        Miami Dolphins  439   341     4  0.563              1966   \n4         5  New England Patriots  476   383     9  0.554              1960   \n5         6       New York Giants  684   572    33  0.543              1925   \n6         7        Denver Broncos  465   393    10  0.541              1960   \n7         8     Minnesota Vikings  457   387    10  0.541              1961   \n8         9      Baltimore Ravens  181   154     1  0.540              1996   \n9        10   San Francisco 49ers  522   450    14  0.537              1950   \n10       11    Indianapolis Colts  502   441     7  0.532              1953   \n11       12       Oakland Raiders  456   401    11  0.532              1960   \n12       13   Pittsburgh Steelers  601   535    20  0.529              1933   \n\n      Total Games   Division  \nIndex                         \n0             866   NFC East  \n1           1,320  NFC North  \n2           1,354  NFC North  \n3             784   AFC East  \n4             868   AFC East  \n5           1,289   NFC East  \n6             868   AFC West  \n7             854  NFC North  \n8             336  AFC North  \n9             986   NFC West  \n10            950  AFC South  \n11            868   AFC West  \n12          1,156  AFC North  ",
      "text/html": "<div>\n<style scoped>\n    .dataframe tbody tr th:only-of-type {\n        vertical-align: middle;\n    }\n\n    .dataframe tbody tr th {\n        vertical-align: top;\n    }\n\n    .dataframe thead th {\n        text-align: right;\n    }\n</style>\n<table border=\"1\" class=\"dataframe\">\n  <thead>\n    <tr style=\"text-align: right;\">\n      <th></th>\n      <th>Rank</th>\n      <th>Team</th>\n      <th>Won</th>\n      <th>Lost</th>\n      <th>Tied</th>\n      <th>Pct.</th>\n      <th>First NFL Season</th>\n      <th>Total Games</th>\n      <th>Division</th>\n    </tr>\n    <tr>\n      <th>Index</th>\n      <th></th>\n      <th></th>\n      <th></th>\n      <th></th>\n      <th></th>\n      <th></th>\n      <th></th>\n      <th></th>\n      <th></th>\n    </tr>\n  </thead>\n  <tbody>\n    <tr>\n      <th>0</th>\n      <td>1</td>\n      <td>Dallas Cowboys</td>\n      <td>493</td>\n      <td>367</td>\n      <td>6</td>\n      <td>0.573</td>\n      <td>1960</td>\n      <td>866</td>\n      <td>NFC East</td>\n    </tr>\n    <tr>\n      <th>1</th>\n      <td>2</td>\n      <td>Green Bay Packers</td>\n      <td>730</td>\n      <td>553</td>\n      <td>37</td>\n      <td>0.567</td>\n      <td>1921</td>\n      <td>1,320</td>\n      <td>NFC North</td>\n    </tr>\n    <tr>\n      <th>2</th>\n      <td>3</td>\n      <td>Chicago Bears</td>\n      <td>744</td>\n      <td>568</td>\n      <td>42</td>\n      <td>0.565</td>\n      <td>1920</td>\n      <td>1,354</td>\n      <td>NFC North</td>\n    </tr>\n    <tr>\n      <th>3</th>\n      <td>4</td>\n      <td>Miami Dolphins</td>\n      <td>439</td>\n      <td>341</td>\n      <td>4</td>\n      <td>0.563</td>\n      <td>1966</td>\n      <td>784</td>\n      <td>AFC East</td>\n    </tr>\n    <tr>\n      <th>4</th>\n      <td>5</td>\n      <td>New England Patriots</td>\n      <td>476</td>\n      <td>383</td>\n      <td>9</td>\n      <td>0.554</td>\n      <td>1960</td>\n      <td>868</td>\n      <td>AFC East</td>\n    </tr>\n    <tr>\n      <th>5</th>\n      <td>6</td>\n      <td>New York Giants</td>\n      <td>684</td>\n      <td>572</td>\n      <td>33</td>\n      <td>0.543</td>\n      <td>1925</td>\n      <td>1,289</td>\n      <td>NFC East</td>\n    </tr>\n    <tr>\n      <th>6</th>\n      <td>7</td>\n      <td>Denver Broncos</td>\n      <td>465</td>\n      <td>393</td>\n      <td>10</td>\n      <td>0.541</td>\n      <td>1960</td>\n      <td>868</td>\n      <td>AFC West</td>\n    </tr>\n    <tr>\n      <th>7</th>\n      <td>8</td>\n      <td>Minnesota Vikings</td>\n      <td>457</td>\n      <td>387</td>\n      <td>10</td>\n      <td>0.541</td>\n      <td>1961</td>\n      <td>854</td>\n      <td>NFC North</td>\n    </tr>\n    <tr>\n      <th>8</th>\n      <td>9</td>\n      <td>Baltimore Ravens</td>\n      <td>181</td>\n      <td>154</td>\n      <td>1</td>\n      <td>0.540</td>\n      <td>1996</td>\n      <td>336</td>\n      <td>AFC North</td>\n    </tr>\n    <tr>\n      <th>9</th>\n      <td>10</td>\n      <td>San Francisco 49ers</td>\n      <td>522</td>\n      <td>450</td>\n      <td>14</td>\n      <td>0.537</td>\n      <td>1950</td>\n      <td>986</td>\n      <td>NFC West</td>\n    </tr>\n    <tr>\n      <th>10</th>\n      <td>11</td>\n      <td>Indianapolis Colts</td>\n      <td>502</td>\n      <td>441</td>\n      <td>7</td>\n      <td>0.532</td>\n      <td>1953</td>\n      <td>950</td>\n      <td>AFC South</td>\n    </tr>\n    <tr>\n      <th>11</th>\n      <td>12</td>\n      <td>Oakland Raiders</td>\n      <td>456</td>\n      <td>401</td>\n      <td>11</td>\n      <td>0.532</td>\n      <td>1960</td>\n      <td>868</td>\n      <td>AFC West</td>\n    </tr>\n    <tr>\n      <th>12</th>\n      <td>13</td>\n      <td>Pittsburgh Steelers</td>\n      <td>601</td>\n      <td>535</td>\n      <td>20</td>\n      <td>0.529</td>\n      <td>1933</td>\n      <td>1,156</td>\n      <td>AFC North</td>\n    </tr>\n  </tbody>\n</table>\n</div>"
     },
     "metadata": {},
     "execution_count": 69
    }
   ],
   "source": [
    "data.pop(\"Stadium\")\n",
    "data"
   ]
  },
  {
   "cell_type": "markdown",
   "metadata": {},
   "source": [
    "### Ejercicio 11.\n",
    "\n",
    "Construye un dataframe,  a partir de un diccionario python con dos claves ('City' y 'Population') y una lista de 3 valores para cada clave (['SF','LA','NYC'] y [837000,3880000,8400000]). Para ello:\n",
    "\n",
    "* Crea un diccionario de python denominado ``data`` con las especificaciones arriba indicadas.\n",
    "\n",
    "* Emplea la función Dataframe para convertir el diccionario en un data frame denominado ``city_frame``."
   ]
  },
  {
   "cell_type": "code",
   "execution_count": 70,
   "metadata": {},
   "outputs": [],
   "source": [
    "data = {\"City\":['SF','LA','NYC'], \"Population\":[837000,3880000,8400000]}"
   ]
  },
  {
   "cell_type": "code",
   "execution_count": 73,
   "metadata": {},
   "outputs": [
    {
     "output_type": "execute_result",
     "data": {
      "text/plain": "  City  Population\n0   SF      837000\n1   LA     3880000\n2  NYC     8400000",
      "text/html": "<div>\n<style scoped>\n    .dataframe tbody tr th:only-of-type {\n        vertical-align: middle;\n    }\n\n    .dataframe tbody tr th {\n        vertical-align: top;\n    }\n\n    .dataframe thead th {\n        text-align: right;\n    }\n</style>\n<table border=\"1\" class=\"dataframe\">\n  <thead>\n    <tr style=\"text-align: right;\">\n      <th></th>\n      <th>City</th>\n      <th>Population</th>\n    </tr>\n  </thead>\n  <tbody>\n    <tr>\n      <th>0</th>\n      <td>SF</td>\n      <td>837000</td>\n    </tr>\n    <tr>\n      <th>1</th>\n      <td>LA</td>\n      <td>3880000</td>\n    </tr>\n    <tr>\n      <th>2</th>\n      <td>NYC</td>\n      <td>8400000</td>\n    </tr>\n  </tbody>\n</table>\n</div>"
     },
     "metadata": {},
     "execution_count": 73
    }
   ],
   "source": [
    "city_frame = DataFrame(data)\n",
    "city_frame"
   ]
  },
  {
   "cell_type": "markdown",
   "metadata": {},
   "source": [
    "### Ejercicio 12.\n",
    "\n",
    "* Visualiza las 5 primeras filas del dataframe ``nfl_frame``.\n",
    "\n",
    "* Visualiza las 5 últimas filas del dataframe ``nfl_frame``."
   ]
  },
  {
   "cell_type": "code",
   "execution_count": 78,
   "metadata": {},
   "outputs": [
    {
     "output_type": "execute_result",
     "data": {
      "text/plain": "       Rank                  Team  Won  Lost  Tied   Pct.  First NFL Season  \\\nIndex                                                                         \n0         1        Dallas Cowboys  493   367     6  0.573              1960   \n1         2     Green Bay Packers  730   553    37  0.567              1921   \n2         3         Chicago Bears  744   568    42  0.565              1920   \n3         4        Miami Dolphins  439   341     4  0.563              1966   \n4         5  New England Patriots  476   383     9  0.554              1960   \n\n      Total Games   Division  \nIndex                         \n0             866   NFC East  \n1           1,320  NFC North  \n2           1,354  NFC North  \n3             784   AFC East  \n4             868   AFC East  ",
      "text/html": "<div>\n<style scoped>\n    .dataframe tbody tr th:only-of-type {\n        vertical-align: middle;\n    }\n\n    .dataframe tbody tr th {\n        vertical-align: top;\n    }\n\n    .dataframe thead th {\n        text-align: right;\n    }\n</style>\n<table border=\"1\" class=\"dataframe\">\n  <thead>\n    <tr style=\"text-align: right;\">\n      <th></th>\n      <th>Rank</th>\n      <th>Team</th>\n      <th>Won</th>\n      <th>Lost</th>\n      <th>Tied</th>\n      <th>Pct.</th>\n      <th>First NFL Season</th>\n      <th>Total Games</th>\n      <th>Division</th>\n    </tr>\n    <tr>\n      <th>Index</th>\n      <th></th>\n      <th></th>\n      <th></th>\n      <th></th>\n      <th></th>\n      <th></th>\n      <th></th>\n      <th></th>\n      <th></th>\n    </tr>\n  </thead>\n  <tbody>\n    <tr>\n      <th>0</th>\n      <td>1</td>\n      <td>Dallas Cowboys</td>\n      <td>493</td>\n      <td>367</td>\n      <td>6</td>\n      <td>0.573</td>\n      <td>1960</td>\n      <td>866</td>\n      <td>NFC East</td>\n    </tr>\n    <tr>\n      <th>1</th>\n      <td>2</td>\n      <td>Green Bay Packers</td>\n      <td>730</td>\n      <td>553</td>\n      <td>37</td>\n      <td>0.567</td>\n      <td>1921</td>\n      <td>1,320</td>\n      <td>NFC North</td>\n    </tr>\n    <tr>\n      <th>2</th>\n      <td>3</td>\n      <td>Chicago Bears</td>\n      <td>744</td>\n      <td>568</td>\n      <td>42</td>\n      <td>0.565</td>\n      <td>1920</td>\n      <td>1,354</td>\n      <td>NFC North</td>\n    </tr>\n    <tr>\n      <th>3</th>\n      <td>4</td>\n      <td>Miami Dolphins</td>\n      <td>439</td>\n      <td>341</td>\n      <td>4</td>\n      <td>0.563</td>\n      <td>1966</td>\n      <td>784</td>\n      <td>AFC East</td>\n    </tr>\n    <tr>\n      <th>4</th>\n      <td>5</td>\n      <td>New England Patriots</td>\n      <td>476</td>\n      <td>383</td>\n      <td>9</td>\n      <td>0.554</td>\n      <td>1960</td>\n      <td>868</td>\n      <td>AFC East</td>\n    </tr>\n  </tbody>\n</table>\n</div>"
     },
     "metadata": {},
     "execution_count": 78
    }
   ],
   "source": [
    "data.head(5)"
   ]
  },
  {
   "cell_type": "code",
   "execution_count": 80,
   "metadata": {},
   "outputs": [
    {
     "output_type": "execute_result",
     "data": {
      "text/plain": "       Rank                 Team  Won  Lost  Tied   Pct.  First NFL Season  \\\nIndex                                                                        \n8         9     Baltimore Ravens  181   154     1  0.540              1996   \n9        10  San Francisco 49ers  522   450    14  0.537              1950   \n10       11   Indianapolis Colts  502   441     7  0.532              1953   \n11       12      Oakland Raiders  456   401    11  0.532              1960   \n12       13  Pittsburgh Steelers  601   535    20  0.529              1933   \n\n      Total Games   Division  \nIndex                         \n8             336  AFC North  \n9             986   NFC West  \n10            950  AFC South  \n11            868   AFC West  \n12          1,156  AFC North  ",
      "text/html": "<div>\n<style scoped>\n    .dataframe tbody tr th:only-of-type {\n        vertical-align: middle;\n    }\n\n    .dataframe tbody tr th {\n        vertical-align: top;\n    }\n\n    .dataframe thead th {\n        text-align: right;\n    }\n</style>\n<table border=\"1\" class=\"dataframe\">\n  <thead>\n    <tr style=\"text-align: right;\">\n      <th></th>\n      <th>Rank</th>\n      <th>Team</th>\n      <th>Won</th>\n      <th>Lost</th>\n      <th>Tied</th>\n      <th>Pct.</th>\n      <th>First NFL Season</th>\n      <th>Total Games</th>\n      <th>Division</th>\n    </tr>\n    <tr>\n      <th>Index</th>\n      <th></th>\n      <th></th>\n      <th></th>\n      <th></th>\n      <th></th>\n      <th></th>\n      <th></th>\n      <th></th>\n      <th></th>\n    </tr>\n  </thead>\n  <tbody>\n    <tr>\n      <th>8</th>\n      <td>9</td>\n      <td>Baltimore Ravens</td>\n      <td>181</td>\n      <td>154</td>\n      <td>1</td>\n      <td>0.540</td>\n      <td>1996</td>\n      <td>336</td>\n      <td>AFC North</td>\n    </tr>\n    <tr>\n      <th>9</th>\n      <td>10</td>\n      <td>San Francisco 49ers</td>\n      <td>522</td>\n      <td>450</td>\n      <td>14</td>\n      <td>0.537</td>\n      <td>1950</td>\n      <td>986</td>\n      <td>NFC West</td>\n    </tr>\n    <tr>\n      <th>10</th>\n      <td>11</td>\n      <td>Indianapolis Colts</td>\n      <td>502</td>\n      <td>441</td>\n      <td>7</td>\n      <td>0.532</td>\n      <td>1953</td>\n      <td>950</td>\n      <td>AFC South</td>\n    </tr>\n    <tr>\n      <th>11</th>\n      <td>12</td>\n      <td>Oakland Raiders</td>\n      <td>456</td>\n      <td>401</td>\n      <td>11</td>\n      <td>0.532</td>\n      <td>1960</td>\n      <td>868</td>\n      <td>AFC West</td>\n    </tr>\n    <tr>\n      <th>12</th>\n      <td>13</td>\n      <td>Pittsburgh Steelers</td>\n      <td>601</td>\n      <td>535</td>\n      <td>20</td>\n      <td>0.529</td>\n      <td>1933</td>\n      <td>1,156</td>\n      <td>AFC North</td>\n    </tr>\n  </tbody>\n</table>\n</div>"
     },
     "metadata": {},
     "execution_count": 80
    }
   ],
   "source": [
    "data.tail(5)"
   ]
  },
  {
   "cell_type": "markdown",
   "metadata": {},
   "source": [
    "### Ejercicio 13\n",
    "Una de las formas más lógicas de crear un data frame es a partir de un diccionario de python. Cada variable de un data frame puede contener diferentes tipos de datos, como muestra el ejemplo a continuación.\n",
    "\n",
    "* ¿Cuáles son los tipos de datos contenidos en el data frame de ejemplo ``df_N``\n",
    "? \n"
   ]
  },
  {
   "cell_type": "code",
   "execution_count": 81,
   "metadata": {},
   "outputs": [
    {
     "output_type": "execute_result",
     "data": {
      "text/plain": "   Reales  Series  Arrays 1D     Fechas Categoricas Strings\n0     1.0     1.0       9999 2020-01-10  Validacion  España\n1     1.0     1.0       9999 2020-01-10        test  España\n2     1.0     1.0       9999 2020-01-10        test  España\n3     1.0     1.0       9999 2020-01-10       train  España",
      "text/html": "<div>\n<style scoped>\n    .dataframe tbody tr th:only-of-type {\n        vertical-align: middle;\n    }\n\n    .dataframe tbody tr th {\n        vertical-align: top;\n    }\n\n    .dataframe thead th {\n        text-align: right;\n    }\n</style>\n<table border=\"1\" class=\"dataframe\">\n  <thead>\n    <tr style=\"text-align: right;\">\n      <th></th>\n      <th>Reales</th>\n      <th>Series</th>\n      <th>Arrays 1D</th>\n      <th>Fechas</th>\n      <th>Categoricas</th>\n      <th>Strings</th>\n    </tr>\n  </thead>\n  <tbody>\n    <tr>\n      <th>0</th>\n      <td>1.0</td>\n      <td>1.0</td>\n      <td>9999</td>\n      <td>2020-01-10</td>\n      <td>Validacion</td>\n      <td>España</td>\n    </tr>\n    <tr>\n      <th>1</th>\n      <td>1.0</td>\n      <td>1.0</td>\n      <td>9999</td>\n      <td>2020-01-10</td>\n      <td>test</td>\n      <td>España</td>\n    </tr>\n    <tr>\n      <th>2</th>\n      <td>1.0</td>\n      <td>1.0</td>\n      <td>9999</td>\n      <td>2020-01-10</td>\n      <td>test</td>\n      <td>España</td>\n    </tr>\n    <tr>\n      <th>3</th>\n      <td>1.0</td>\n      <td>1.0</td>\n      <td>9999</td>\n      <td>2020-01-10</td>\n      <td>train</td>\n      <td>España</td>\n    </tr>\n  </tbody>\n</table>\n</div>"
     },
     "metadata": {},
     "execution_count": 81
    }
   ],
   "source": [
    "df_N= pd.DataFrame({'Reales': 1.,\n",
    "                    'Series': pd.Series(1, index=list(range(4)), dtype='float32'),\n",
    "                    'Arrays 1D': np.array([9999] * 4, dtype='int32'),\n",
    "                    'Fechas': pd.Timestamp('20200110'),\n",
    "                    'Categoricas': pd.Categorical([\"Validacion\", \"test\", \"test\", \"train\"]),\n",
    "                    'Strings':'España'})\n",
    "\n",
    "df_N\n",
    "\n"
   ]
  },
  {
   "cell_type": "code",
   "execution_count": 83,
   "metadata": {},
   "outputs": [
    {
     "output_type": "execute_result",
     "data": {
      "text/plain": "Reales                float64\nSeries                float32\nArrays 1D               int32\nFechas         datetime64[ns]\nCategoricas          category\nStrings                object\ndtype: object"
     },
     "metadata": {},
     "execution_count": 83
    }
   ],
   "source": [
    "df_N.dtypes"
   ]
  },
  {
   "cell_type": "markdown",
   "metadata": {},
   "source": [
    "### Ejercicio 14\n",
    "\n",
    "Ordena los elementos del data frame ``nfl_frame`` en orden descendente para conocer:\n",
    "\n",
    "* ¿Qué equipo tiene el mayor número de victorias?\n",
    "* ¿Qué equipo tiene el mayor número de derrotas?\n",
    "* ¿Qué equipo tiene el mayor número de empates, (ordena ahora en orden descendente)?\n"
   ]
  },
  {
   "cell_type": "code",
   "execution_count": 85,
   "metadata": {},
   "outputs": [
    {
     "output_type": "execute_result",
     "data": {
      "text/plain": "       Rank                  Team  Won  Lost  Tied   Pct.  First NFL Season  \\\nIndex                                                                         \n2         3         Chicago Bears  744   568    42  0.565              1920   \n1         2     Green Bay Packers  730   553    37  0.567              1921   \n5         6       New York Giants  684   572    33  0.543              1925   \n12       13   Pittsburgh Steelers  601   535    20  0.529              1933   \n9        10   San Francisco 49ers  522   450    14  0.537              1950   \n10       11    Indianapolis Colts  502   441     7  0.532              1953   \n0         1        Dallas Cowboys  493   367     6  0.573              1960   \n4         5  New England Patriots  476   383     9  0.554              1960   \n6         7        Denver Broncos  465   393    10  0.541              1960   \n7         8     Minnesota Vikings  457   387    10  0.541              1961   \n11       12       Oakland Raiders  456   401    11  0.532              1960   \n3         4        Miami Dolphins  439   341     4  0.563              1966   \n8         9      Baltimore Ravens  181   154     1  0.540              1996   \n\n      Total Games   Division  \nIndex                         \n2           1,354  NFC North  \n1           1,320  NFC North  \n5           1,289   NFC East  \n12          1,156  AFC North  \n9             986   NFC West  \n10            950  AFC South  \n0             866   NFC East  \n4             868   AFC East  \n6             868   AFC West  \n7             854  NFC North  \n11            868   AFC West  \n3             784   AFC East  \n8             336  AFC North  ",
      "text/html": "<div>\n<style scoped>\n    .dataframe tbody tr th:only-of-type {\n        vertical-align: middle;\n    }\n\n    .dataframe tbody tr th {\n        vertical-align: top;\n    }\n\n    .dataframe thead th {\n        text-align: right;\n    }\n</style>\n<table border=\"1\" class=\"dataframe\">\n  <thead>\n    <tr style=\"text-align: right;\">\n      <th></th>\n      <th>Rank</th>\n      <th>Team</th>\n      <th>Won</th>\n      <th>Lost</th>\n      <th>Tied</th>\n      <th>Pct.</th>\n      <th>First NFL Season</th>\n      <th>Total Games</th>\n      <th>Division</th>\n    </tr>\n    <tr>\n      <th>Index</th>\n      <th></th>\n      <th></th>\n      <th></th>\n      <th></th>\n      <th></th>\n      <th></th>\n      <th></th>\n      <th></th>\n      <th></th>\n    </tr>\n  </thead>\n  <tbody>\n    <tr>\n      <th>2</th>\n      <td>3</td>\n      <td>Chicago Bears</td>\n      <td>744</td>\n      <td>568</td>\n      <td>42</td>\n      <td>0.565</td>\n      <td>1920</td>\n      <td>1,354</td>\n      <td>NFC North</td>\n    </tr>\n    <tr>\n      <th>1</th>\n      <td>2</td>\n      <td>Green Bay Packers</td>\n      <td>730</td>\n      <td>553</td>\n      <td>37</td>\n      <td>0.567</td>\n      <td>1921</td>\n      <td>1,320</td>\n      <td>NFC North</td>\n    </tr>\n    <tr>\n      <th>5</th>\n      <td>6</td>\n      <td>New York Giants</td>\n      <td>684</td>\n      <td>572</td>\n      <td>33</td>\n      <td>0.543</td>\n      <td>1925</td>\n      <td>1,289</td>\n      <td>NFC East</td>\n    </tr>\n    <tr>\n      <th>12</th>\n      <td>13</td>\n      <td>Pittsburgh Steelers</td>\n      <td>601</td>\n      <td>535</td>\n      <td>20</td>\n      <td>0.529</td>\n      <td>1933</td>\n      <td>1,156</td>\n      <td>AFC North</td>\n    </tr>\n    <tr>\n      <th>9</th>\n      <td>10</td>\n      <td>San Francisco 49ers</td>\n      <td>522</td>\n      <td>450</td>\n      <td>14</td>\n      <td>0.537</td>\n      <td>1950</td>\n      <td>986</td>\n      <td>NFC West</td>\n    </tr>\n    <tr>\n      <th>10</th>\n      <td>11</td>\n      <td>Indianapolis Colts</td>\n      <td>502</td>\n      <td>441</td>\n      <td>7</td>\n      <td>0.532</td>\n      <td>1953</td>\n      <td>950</td>\n      <td>AFC South</td>\n    </tr>\n    <tr>\n      <th>0</th>\n      <td>1</td>\n      <td>Dallas Cowboys</td>\n      <td>493</td>\n      <td>367</td>\n      <td>6</td>\n      <td>0.573</td>\n      <td>1960</td>\n      <td>866</td>\n      <td>NFC East</td>\n    </tr>\n    <tr>\n      <th>4</th>\n      <td>5</td>\n      <td>New England Patriots</td>\n      <td>476</td>\n      <td>383</td>\n      <td>9</td>\n      <td>0.554</td>\n      <td>1960</td>\n      <td>868</td>\n      <td>AFC East</td>\n    </tr>\n    <tr>\n      <th>6</th>\n      <td>7</td>\n      <td>Denver Broncos</td>\n      <td>465</td>\n      <td>393</td>\n      <td>10</td>\n      <td>0.541</td>\n      <td>1960</td>\n      <td>868</td>\n      <td>AFC West</td>\n    </tr>\n    <tr>\n      <th>7</th>\n      <td>8</td>\n      <td>Minnesota Vikings</td>\n      <td>457</td>\n      <td>387</td>\n      <td>10</td>\n      <td>0.541</td>\n      <td>1961</td>\n      <td>854</td>\n      <td>NFC North</td>\n    </tr>\n    <tr>\n      <th>11</th>\n      <td>12</td>\n      <td>Oakland Raiders</td>\n      <td>456</td>\n      <td>401</td>\n      <td>11</td>\n      <td>0.532</td>\n      <td>1960</td>\n      <td>868</td>\n      <td>AFC West</td>\n    </tr>\n    <tr>\n      <th>3</th>\n      <td>4</td>\n      <td>Miami Dolphins</td>\n      <td>439</td>\n      <td>341</td>\n      <td>4</td>\n      <td>0.563</td>\n      <td>1966</td>\n      <td>784</td>\n      <td>AFC East</td>\n    </tr>\n    <tr>\n      <th>8</th>\n      <td>9</td>\n      <td>Baltimore Ravens</td>\n      <td>181</td>\n      <td>154</td>\n      <td>1</td>\n      <td>0.540</td>\n      <td>1996</td>\n      <td>336</td>\n      <td>AFC North</td>\n    </tr>\n  </tbody>\n</table>\n</div>"
     },
     "metadata": {},
     "execution_count": 85
    }
   ],
   "source": [
    "data.sort_values(\"Won\", ascending=False)"
   ]
  },
  {
   "cell_type": "code",
   "execution_count": 86,
   "metadata": {},
   "outputs": [
    {
     "output_type": "execute_result",
     "data": {
      "text/plain": "       Rank                  Team  Won  Lost  Tied   Pct.  First NFL Season  \\\nIndex                                                                         \n5         6       New York Giants  684   572    33  0.543              1925   \n2         3         Chicago Bears  744   568    42  0.565              1920   \n1         2     Green Bay Packers  730   553    37  0.567              1921   \n12       13   Pittsburgh Steelers  601   535    20  0.529              1933   \n9        10   San Francisco 49ers  522   450    14  0.537              1950   \n10       11    Indianapolis Colts  502   441     7  0.532              1953   \n11       12       Oakland Raiders  456   401    11  0.532              1960   \n6         7        Denver Broncos  465   393    10  0.541              1960   \n7         8     Minnesota Vikings  457   387    10  0.541              1961   \n4         5  New England Patriots  476   383     9  0.554              1960   \n0         1        Dallas Cowboys  493   367     6  0.573              1960   \n3         4        Miami Dolphins  439   341     4  0.563              1966   \n8         9      Baltimore Ravens  181   154     1  0.540              1996   \n\n      Total Games   Division  \nIndex                         \n5           1,289   NFC East  \n2           1,354  NFC North  \n1           1,320  NFC North  \n12          1,156  AFC North  \n9             986   NFC West  \n10            950  AFC South  \n11            868   AFC West  \n6             868   AFC West  \n7             854  NFC North  \n4             868   AFC East  \n0             866   NFC East  \n3             784   AFC East  \n8             336  AFC North  ",
      "text/html": "<div>\n<style scoped>\n    .dataframe tbody tr th:only-of-type {\n        vertical-align: middle;\n    }\n\n    .dataframe tbody tr th {\n        vertical-align: top;\n    }\n\n    .dataframe thead th {\n        text-align: right;\n    }\n</style>\n<table border=\"1\" class=\"dataframe\">\n  <thead>\n    <tr style=\"text-align: right;\">\n      <th></th>\n      <th>Rank</th>\n      <th>Team</th>\n      <th>Won</th>\n      <th>Lost</th>\n      <th>Tied</th>\n      <th>Pct.</th>\n      <th>First NFL Season</th>\n      <th>Total Games</th>\n      <th>Division</th>\n    </tr>\n    <tr>\n      <th>Index</th>\n      <th></th>\n      <th></th>\n      <th></th>\n      <th></th>\n      <th></th>\n      <th></th>\n      <th></th>\n      <th></th>\n      <th></th>\n    </tr>\n  </thead>\n  <tbody>\n    <tr>\n      <th>5</th>\n      <td>6</td>\n      <td>New York Giants</td>\n      <td>684</td>\n      <td>572</td>\n      <td>33</td>\n      <td>0.543</td>\n      <td>1925</td>\n      <td>1,289</td>\n      <td>NFC East</td>\n    </tr>\n    <tr>\n      <th>2</th>\n      <td>3</td>\n      <td>Chicago Bears</td>\n      <td>744</td>\n      <td>568</td>\n      <td>42</td>\n      <td>0.565</td>\n      <td>1920</td>\n      <td>1,354</td>\n      <td>NFC North</td>\n    </tr>\n    <tr>\n      <th>1</th>\n      <td>2</td>\n      <td>Green Bay Packers</td>\n      <td>730</td>\n      <td>553</td>\n      <td>37</td>\n      <td>0.567</td>\n      <td>1921</td>\n      <td>1,320</td>\n      <td>NFC North</td>\n    </tr>\n    <tr>\n      <th>12</th>\n      <td>13</td>\n      <td>Pittsburgh Steelers</td>\n      <td>601</td>\n      <td>535</td>\n      <td>20</td>\n      <td>0.529</td>\n      <td>1933</td>\n      <td>1,156</td>\n      <td>AFC North</td>\n    </tr>\n    <tr>\n      <th>9</th>\n      <td>10</td>\n      <td>San Francisco 49ers</td>\n      <td>522</td>\n      <td>450</td>\n      <td>14</td>\n      <td>0.537</td>\n      <td>1950</td>\n      <td>986</td>\n      <td>NFC West</td>\n    </tr>\n    <tr>\n      <th>10</th>\n      <td>11</td>\n      <td>Indianapolis Colts</td>\n      <td>502</td>\n      <td>441</td>\n      <td>7</td>\n      <td>0.532</td>\n      <td>1953</td>\n      <td>950</td>\n      <td>AFC South</td>\n    </tr>\n    <tr>\n      <th>11</th>\n      <td>12</td>\n      <td>Oakland Raiders</td>\n      <td>456</td>\n      <td>401</td>\n      <td>11</td>\n      <td>0.532</td>\n      <td>1960</td>\n      <td>868</td>\n      <td>AFC West</td>\n    </tr>\n    <tr>\n      <th>6</th>\n      <td>7</td>\n      <td>Denver Broncos</td>\n      <td>465</td>\n      <td>393</td>\n      <td>10</td>\n      <td>0.541</td>\n      <td>1960</td>\n      <td>868</td>\n      <td>AFC West</td>\n    </tr>\n    <tr>\n      <th>7</th>\n      <td>8</td>\n      <td>Minnesota Vikings</td>\n      <td>457</td>\n      <td>387</td>\n      <td>10</td>\n      <td>0.541</td>\n      <td>1961</td>\n      <td>854</td>\n      <td>NFC North</td>\n    </tr>\n    <tr>\n      <th>4</th>\n      <td>5</td>\n      <td>New England Patriots</td>\n      <td>476</td>\n      <td>383</td>\n      <td>9</td>\n      <td>0.554</td>\n      <td>1960</td>\n      <td>868</td>\n      <td>AFC East</td>\n    </tr>\n    <tr>\n      <th>0</th>\n      <td>1</td>\n      <td>Dallas Cowboys</td>\n      <td>493</td>\n      <td>367</td>\n      <td>6</td>\n      <td>0.573</td>\n      <td>1960</td>\n      <td>866</td>\n      <td>NFC East</td>\n    </tr>\n    <tr>\n      <th>3</th>\n      <td>4</td>\n      <td>Miami Dolphins</td>\n      <td>439</td>\n      <td>341</td>\n      <td>4</td>\n      <td>0.563</td>\n      <td>1966</td>\n      <td>784</td>\n      <td>AFC East</td>\n    </tr>\n    <tr>\n      <th>8</th>\n      <td>9</td>\n      <td>Baltimore Ravens</td>\n      <td>181</td>\n      <td>154</td>\n      <td>1</td>\n      <td>0.540</td>\n      <td>1996</td>\n      <td>336</td>\n      <td>AFC North</td>\n    </tr>\n  </tbody>\n</table>\n</div>"
     },
     "metadata": {},
     "execution_count": 86
    }
   ],
   "source": [
    "data.sort_values(\"Lost\", ascending=False)"
   ]
  },
  {
   "cell_type": "code",
   "execution_count": 87,
   "metadata": {},
   "outputs": [
    {
     "output_type": "execute_result",
     "data": {
      "text/plain": "       Rank                  Team  Won  Lost  Tied   Pct.  First NFL Season  \\\nIndex                                                                         \n2         3         Chicago Bears  744   568    42  0.565              1920   \n1         2     Green Bay Packers  730   553    37  0.567              1921   \n5         6       New York Giants  684   572    33  0.543              1925   \n12       13   Pittsburgh Steelers  601   535    20  0.529              1933   \n9        10   San Francisco 49ers  522   450    14  0.537              1950   \n11       12       Oakland Raiders  456   401    11  0.532              1960   \n6         7        Denver Broncos  465   393    10  0.541              1960   \n7         8     Minnesota Vikings  457   387    10  0.541              1961   \n4         5  New England Patriots  476   383     9  0.554              1960   \n10       11    Indianapolis Colts  502   441     7  0.532              1953   \n0         1        Dallas Cowboys  493   367     6  0.573              1960   \n3         4        Miami Dolphins  439   341     4  0.563              1966   \n8         9      Baltimore Ravens  181   154     1  0.540              1996   \n\n      Total Games   Division  \nIndex                         \n2           1,354  NFC North  \n1           1,320  NFC North  \n5           1,289   NFC East  \n12          1,156  AFC North  \n9             986   NFC West  \n11            868   AFC West  \n6             868   AFC West  \n7             854  NFC North  \n4             868   AFC East  \n10            950  AFC South  \n0             866   NFC East  \n3             784   AFC East  \n8             336  AFC North  ",
      "text/html": "<div>\n<style scoped>\n    .dataframe tbody tr th:only-of-type {\n        vertical-align: middle;\n    }\n\n    .dataframe tbody tr th {\n        vertical-align: top;\n    }\n\n    .dataframe thead th {\n        text-align: right;\n    }\n</style>\n<table border=\"1\" class=\"dataframe\">\n  <thead>\n    <tr style=\"text-align: right;\">\n      <th></th>\n      <th>Rank</th>\n      <th>Team</th>\n      <th>Won</th>\n      <th>Lost</th>\n      <th>Tied</th>\n      <th>Pct.</th>\n      <th>First NFL Season</th>\n      <th>Total Games</th>\n      <th>Division</th>\n    </tr>\n    <tr>\n      <th>Index</th>\n      <th></th>\n      <th></th>\n      <th></th>\n      <th></th>\n      <th></th>\n      <th></th>\n      <th></th>\n      <th></th>\n      <th></th>\n    </tr>\n  </thead>\n  <tbody>\n    <tr>\n      <th>2</th>\n      <td>3</td>\n      <td>Chicago Bears</td>\n      <td>744</td>\n      <td>568</td>\n      <td>42</td>\n      <td>0.565</td>\n      <td>1920</td>\n      <td>1,354</td>\n      <td>NFC North</td>\n    </tr>\n    <tr>\n      <th>1</th>\n      <td>2</td>\n      <td>Green Bay Packers</td>\n      <td>730</td>\n      <td>553</td>\n      <td>37</td>\n      <td>0.567</td>\n      <td>1921</td>\n      <td>1,320</td>\n      <td>NFC North</td>\n    </tr>\n    <tr>\n      <th>5</th>\n      <td>6</td>\n      <td>New York Giants</td>\n      <td>684</td>\n      <td>572</td>\n      <td>33</td>\n      <td>0.543</td>\n      <td>1925</td>\n      <td>1,289</td>\n      <td>NFC East</td>\n    </tr>\n    <tr>\n      <th>12</th>\n      <td>13</td>\n      <td>Pittsburgh Steelers</td>\n      <td>601</td>\n      <td>535</td>\n      <td>20</td>\n      <td>0.529</td>\n      <td>1933</td>\n      <td>1,156</td>\n      <td>AFC North</td>\n    </tr>\n    <tr>\n      <th>9</th>\n      <td>10</td>\n      <td>San Francisco 49ers</td>\n      <td>522</td>\n      <td>450</td>\n      <td>14</td>\n      <td>0.537</td>\n      <td>1950</td>\n      <td>986</td>\n      <td>NFC West</td>\n    </tr>\n    <tr>\n      <th>11</th>\n      <td>12</td>\n      <td>Oakland Raiders</td>\n      <td>456</td>\n      <td>401</td>\n      <td>11</td>\n      <td>0.532</td>\n      <td>1960</td>\n      <td>868</td>\n      <td>AFC West</td>\n    </tr>\n    <tr>\n      <th>6</th>\n      <td>7</td>\n      <td>Denver Broncos</td>\n      <td>465</td>\n      <td>393</td>\n      <td>10</td>\n      <td>0.541</td>\n      <td>1960</td>\n      <td>868</td>\n      <td>AFC West</td>\n    </tr>\n    <tr>\n      <th>7</th>\n      <td>8</td>\n      <td>Minnesota Vikings</td>\n      <td>457</td>\n      <td>387</td>\n      <td>10</td>\n      <td>0.541</td>\n      <td>1961</td>\n      <td>854</td>\n      <td>NFC North</td>\n    </tr>\n    <tr>\n      <th>4</th>\n      <td>5</td>\n      <td>New England Patriots</td>\n      <td>476</td>\n      <td>383</td>\n      <td>9</td>\n      <td>0.554</td>\n      <td>1960</td>\n      <td>868</td>\n      <td>AFC East</td>\n    </tr>\n    <tr>\n      <th>10</th>\n      <td>11</td>\n      <td>Indianapolis Colts</td>\n      <td>502</td>\n      <td>441</td>\n      <td>7</td>\n      <td>0.532</td>\n      <td>1953</td>\n      <td>950</td>\n      <td>AFC South</td>\n    </tr>\n    <tr>\n      <th>0</th>\n      <td>1</td>\n      <td>Dallas Cowboys</td>\n      <td>493</td>\n      <td>367</td>\n      <td>6</td>\n      <td>0.573</td>\n      <td>1960</td>\n      <td>866</td>\n      <td>NFC East</td>\n    </tr>\n    <tr>\n      <th>3</th>\n      <td>4</td>\n      <td>Miami Dolphins</td>\n      <td>439</td>\n      <td>341</td>\n      <td>4</td>\n      <td>0.563</td>\n      <td>1966</td>\n      <td>784</td>\n      <td>AFC East</td>\n    </tr>\n    <tr>\n      <th>8</th>\n      <td>9</td>\n      <td>Baltimore Ravens</td>\n      <td>181</td>\n      <td>154</td>\n      <td>1</td>\n      <td>0.540</td>\n      <td>1996</td>\n      <td>336</td>\n      <td>AFC North</td>\n    </tr>\n  </tbody>\n</table>\n</div>"
     },
     "metadata": {},
     "execution_count": 87
    }
   ],
   "source": [
    "data.sort_values(\"Tied\", ascending=False)"
   ]
  },
  {
   "cell_type": "markdown",
   "metadata": {},
   "source": [
    "### Ejercicio 15\n",
    "\n",
    "Vamos a ejercitar algunas de las funcionalidades que nos ofrecen los data frames, para ello resuelve los siguientes ejercicios:\n",
    "\n",
    "* Carga el data set contenido en el fichero ``GlobalLandTemperatures_GlobalLandTemperaturesByMajorCity_jgx.csv`` y almacenalo en la variable ``df_climate1``.\n",
    "\n",
    "* Emplea un método del dataframe para conocer su tamaño.\n",
    "\n",
    "* Obtén los nombres de las variables del data frame.\n",
    "\n",
    "* Visualiza las 6 primeras muestras del data frame.\n",
    "\n",
    "* Elimina la primera columna del data frame.\n",
    "\n",
    "* Elimina en aquellas muestras que no estén completas (contengan datos ausentes NaN).\n",
    "\n",
    "* Visualiza las 6 últimas muestras del data frame.\n",
    "\n",
    "* Crea una copia de ``df_climate1`` en un nuevo data frame denominado ``df_climate3`` que apunte a un objeto en memoria diferente. \n",
    "\n",
    "* Crea un nuevo data frame denominado ``df_climate3_country`` a partir de ``df_climate3`` que contenga las muestras climáticas correspondientes a la ciudad de Xian.\n",
    "\n",
    "* Convierte la variable ``dt`` en una variable de tipo ``datetime`` con formato \"%Y-%m-%d\".\n",
    "\n",
    "* Obtén los estadísticos descriptivos de las variables numéricas del dataframe ``df_climate3`` (media, min, max, cuartiles 1 2 y 3, etc..).\n",
    "\n",
    "\n",
    "* Crea un nuevo dataframe denominado ``df_climate4`` a partir de una copia de ``df_climate3`` y cuyo índice (nombre de la muestra) esté constituído por los valores de la variable ``dt``. \n",
    "\n",
    "* Elimina las muestras del data frame ``df_climate4`` anteriores a la fecha \"1900-1-2\".\n",
    "\n",
    "* Crea un dataframe denominado ``df_climate_80s`` con las muestras del data frame correspondientes a los años 80.\n"
   ]
  },
  {
   "cell_type": "code",
   "execution_count": 2,
   "metadata": {},
   "outputs": [],
   "source": [
    "df_climate1 = pd.read_csv(\"GlobalLandTemperatures_GlobalLandTemperaturesByMajorCity_jgx.csv\")"
   ]
  },
  {
   "cell_type": "code",
   "execution_count": 3,
   "metadata": {},
   "outputs": [
    {
     "output_type": "execute_result",
     "data": {
      "text/plain": "(239177, 8)"
     },
     "metadata": {},
     "execution_count": 3
    }
   ],
   "source": [
    "df_climate1.shape"
   ]
  },
  {
   "cell_type": "code",
   "execution_count": 4,
   "metadata": {},
   "outputs": [
    {
     "output_type": "execute_result",
     "data": {
      "text/plain": "Index(['Unnamed: 0', 'dt', 'AverageTemperature',\n       'AverageTemperatureUncertainty', 'City', 'Country', 'Latitude',\n       'Longitude'],\n      dtype='object')"
     },
     "metadata": {},
     "execution_count": 4
    }
   ],
   "source": [
    "df_climate1.columns"
   ]
  },
  {
   "cell_type": "code",
   "execution_count": 5,
   "metadata": {},
   "outputs": [
    {
     "output_type": "execute_result",
     "data": {
      "text/plain": "   Unnamed: 0          dt  AverageTemperature  AverageTemperatureUncertainty  \\\n0           0  1849-01-01              26.704                          1.435   \n1           1  1849-02-01              27.434                          1.362   \n2           2  1849-03-01              28.101                          1.612   \n3           3  1849-04-01              26.140                          1.387   \n4           4  1849-05-01              25.427                          1.200   \n5           5  1849-06-01              24.844                          1.402   \n\n      City        Country Latitude Longitude  \n0  Abidjan  Côte D'Ivoire    5.63N     3.23W  \n1  Abidjan  Côte D'Ivoire    5.63N     3.23W  \n2  Abidjan  Côte D'Ivoire    5.63N     3.23W  \n3  Abidjan  Côte D'Ivoire    5.63N     3.23W  \n4  Abidjan  Côte D'Ivoire    5.63N     3.23W  \n5  Abidjan  Côte D'Ivoire    5.63N     3.23W  ",
      "text/html": "<div>\n<style scoped>\n    .dataframe tbody tr th:only-of-type {\n        vertical-align: middle;\n    }\n\n    .dataframe tbody tr th {\n        vertical-align: top;\n    }\n\n    .dataframe thead th {\n        text-align: right;\n    }\n</style>\n<table border=\"1\" class=\"dataframe\">\n  <thead>\n    <tr style=\"text-align: right;\">\n      <th></th>\n      <th>Unnamed: 0</th>\n      <th>dt</th>\n      <th>AverageTemperature</th>\n      <th>AverageTemperatureUncertainty</th>\n      <th>City</th>\n      <th>Country</th>\n      <th>Latitude</th>\n      <th>Longitude</th>\n    </tr>\n  </thead>\n  <tbody>\n    <tr>\n      <th>0</th>\n      <td>0</td>\n      <td>1849-01-01</td>\n      <td>26.704</td>\n      <td>1.435</td>\n      <td>Abidjan</td>\n      <td>Côte D'Ivoire</td>\n      <td>5.63N</td>\n      <td>3.23W</td>\n    </tr>\n    <tr>\n      <th>1</th>\n      <td>1</td>\n      <td>1849-02-01</td>\n      <td>27.434</td>\n      <td>1.362</td>\n      <td>Abidjan</td>\n      <td>Côte D'Ivoire</td>\n      <td>5.63N</td>\n      <td>3.23W</td>\n    </tr>\n    <tr>\n      <th>2</th>\n      <td>2</td>\n      <td>1849-03-01</td>\n      <td>28.101</td>\n      <td>1.612</td>\n      <td>Abidjan</td>\n      <td>Côte D'Ivoire</td>\n      <td>5.63N</td>\n      <td>3.23W</td>\n    </tr>\n    <tr>\n      <th>3</th>\n      <td>3</td>\n      <td>1849-04-01</td>\n      <td>26.140</td>\n      <td>1.387</td>\n      <td>Abidjan</td>\n      <td>Côte D'Ivoire</td>\n      <td>5.63N</td>\n      <td>3.23W</td>\n    </tr>\n    <tr>\n      <th>4</th>\n      <td>4</td>\n      <td>1849-05-01</td>\n      <td>25.427</td>\n      <td>1.200</td>\n      <td>Abidjan</td>\n      <td>Côte D'Ivoire</td>\n      <td>5.63N</td>\n      <td>3.23W</td>\n    </tr>\n    <tr>\n      <th>5</th>\n      <td>5</td>\n      <td>1849-06-01</td>\n      <td>24.844</td>\n      <td>1.402</td>\n      <td>Abidjan</td>\n      <td>Côte D'Ivoire</td>\n      <td>5.63N</td>\n      <td>3.23W</td>\n    </tr>\n  </tbody>\n</table>\n</div>"
     },
     "metadata": {},
     "execution_count": 5
    }
   ],
   "source": [
    "df_climate1.head(6)"
   ]
  },
  {
   "cell_type": "code",
   "execution_count": 6,
   "metadata": {},
   "outputs": [
    {
     "output_type": "execute_result",
     "data": {
      "text/plain": "           dt  AverageTemperature  AverageTemperatureUncertainty     City  \\\n0  1849-01-01              26.704                          1.435  Abidjan   \n1  1849-02-01              27.434                          1.362  Abidjan   \n2  1849-03-01              28.101                          1.612  Abidjan   \n3  1849-04-01              26.140                          1.387  Abidjan   \n4  1849-05-01              25.427                          1.200  Abidjan   \n\n         Country Latitude Longitude  \n0  Côte D'Ivoire    5.63N     3.23W  \n1  Côte D'Ivoire    5.63N     3.23W  \n2  Côte D'Ivoire    5.63N     3.23W  \n3  Côte D'Ivoire    5.63N     3.23W  \n4  Côte D'Ivoire    5.63N     3.23W  ",
      "text/html": "<div>\n<style scoped>\n    .dataframe tbody tr th:only-of-type {\n        vertical-align: middle;\n    }\n\n    .dataframe tbody tr th {\n        vertical-align: top;\n    }\n\n    .dataframe thead th {\n        text-align: right;\n    }\n</style>\n<table border=\"1\" class=\"dataframe\">\n  <thead>\n    <tr style=\"text-align: right;\">\n      <th></th>\n      <th>dt</th>\n      <th>AverageTemperature</th>\n      <th>AverageTemperatureUncertainty</th>\n      <th>City</th>\n      <th>Country</th>\n      <th>Latitude</th>\n      <th>Longitude</th>\n    </tr>\n  </thead>\n  <tbody>\n    <tr>\n      <th>0</th>\n      <td>1849-01-01</td>\n      <td>26.704</td>\n      <td>1.435</td>\n      <td>Abidjan</td>\n      <td>Côte D'Ivoire</td>\n      <td>5.63N</td>\n      <td>3.23W</td>\n    </tr>\n    <tr>\n      <th>1</th>\n      <td>1849-02-01</td>\n      <td>27.434</td>\n      <td>1.362</td>\n      <td>Abidjan</td>\n      <td>Côte D'Ivoire</td>\n      <td>5.63N</td>\n      <td>3.23W</td>\n    </tr>\n    <tr>\n      <th>2</th>\n      <td>1849-03-01</td>\n      <td>28.101</td>\n      <td>1.612</td>\n      <td>Abidjan</td>\n      <td>Côte D'Ivoire</td>\n      <td>5.63N</td>\n      <td>3.23W</td>\n    </tr>\n    <tr>\n      <th>3</th>\n      <td>1849-04-01</td>\n      <td>26.140</td>\n      <td>1.387</td>\n      <td>Abidjan</td>\n      <td>Côte D'Ivoire</td>\n      <td>5.63N</td>\n      <td>3.23W</td>\n    </tr>\n    <tr>\n      <th>4</th>\n      <td>1849-05-01</td>\n      <td>25.427</td>\n      <td>1.200</td>\n      <td>Abidjan</td>\n      <td>Côte D'Ivoire</td>\n      <td>5.63N</td>\n      <td>3.23W</td>\n    </tr>\n  </tbody>\n</table>\n</div>"
     },
     "metadata": {},
     "execution_count": 6
    }
   ],
   "source": [
    "df_climate1.drop(columns = df_climate1.columns[0], inplace = True)\n",
    "df_climate1.head()"
   ]
  },
  {
   "cell_type": "code",
   "execution_count": 7,
   "metadata": {
    "tags": []
   },
   "outputs": [
    {
     "output_type": "stream",
     "name": "stdout",
     "text": "(228175, 7)\n"
    },
    {
     "output_type": "execute_result",
     "data": {
      "text/plain": "           dt  AverageTemperature  AverageTemperatureUncertainty     City  \\\n0  1849-01-01              26.704                          1.435  Abidjan   \n1  1849-02-01              27.434                          1.362  Abidjan   \n2  1849-03-01              28.101                          1.612  Abidjan   \n3  1849-04-01              26.140                          1.387  Abidjan   \n4  1849-05-01              25.427                          1.200  Abidjan   \n\n         Country Latitude Longitude  \n0  Côte D'Ivoire    5.63N     3.23W  \n1  Côte D'Ivoire    5.63N     3.23W  \n2  Côte D'Ivoire    5.63N     3.23W  \n3  Côte D'Ivoire    5.63N     3.23W  \n4  Côte D'Ivoire    5.63N     3.23W  ",
      "text/html": "<div>\n<style scoped>\n    .dataframe tbody tr th:only-of-type {\n        vertical-align: middle;\n    }\n\n    .dataframe tbody tr th {\n        vertical-align: top;\n    }\n\n    .dataframe thead th {\n        text-align: right;\n    }\n</style>\n<table border=\"1\" class=\"dataframe\">\n  <thead>\n    <tr style=\"text-align: right;\">\n      <th></th>\n      <th>dt</th>\n      <th>AverageTemperature</th>\n      <th>AverageTemperatureUncertainty</th>\n      <th>City</th>\n      <th>Country</th>\n      <th>Latitude</th>\n      <th>Longitude</th>\n    </tr>\n  </thead>\n  <tbody>\n    <tr>\n      <th>0</th>\n      <td>1849-01-01</td>\n      <td>26.704</td>\n      <td>1.435</td>\n      <td>Abidjan</td>\n      <td>Côte D'Ivoire</td>\n      <td>5.63N</td>\n      <td>3.23W</td>\n    </tr>\n    <tr>\n      <th>1</th>\n      <td>1849-02-01</td>\n      <td>27.434</td>\n      <td>1.362</td>\n      <td>Abidjan</td>\n      <td>Côte D'Ivoire</td>\n      <td>5.63N</td>\n      <td>3.23W</td>\n    </tr>\n    <tr>\n      <th>2</th>\n      <td>1849-03-01</td>\n      <td>28.101</td>\n      <td>1.612</td>\n      <td>Abidjan</td>\n      <td>Côte D'Ivoire</td>\n      <td>5.63N</td>\n      <td>3.23W</td>\n    </tr>\n    <tr>\n      <th>3</th>\n      <td>1849-04-01</td>\n      <td>26.140</td>\n      <td>1.387</td>\n      <td>Abidjan</td>\n      <td>Côte D'Ivoire</td>\n      <td>5.63N</td>\n      <td>3.23W</td>\n    </tr>\n    <tr>\n      <th>4</th>\n      <td>1849-05-01</td>\n      <td>25.427</td>\n      <td>1.200</td>\n      <td>Abidjan</td>\n      <td>Côte D'Ivoire</td>\n      <td>5.63N</td>\n      <td>3.23W</td>\n    </tr>\n  </tbody>\n</table>\n</div>"
     },
     "metadata": {},
     "execution_count": 7
    }
   ],
   "source": [
    "df_climate1.dropna(inplace = True)\n",
    "print(df_climate1.shape) #Como vemos, se han eliminado bastantes filas\n",
    "df_climate1.head()"
   ]
  },
  {
   "cell_type": "code",
   "execution_count": 8,
   "metadata": {},
   "outputs": [
    {
     "output_type": "execute_result",
     "data": {
      "text/plain": "                dt  AverageTemperature  AverageTemperatureUncertainty  City  \\\n239170  2013-03-01              10.110                          0.480  Xian   \n239171  2013-04-01              12.563                          1.823  Xian   \n239172  2013-05-01              18.979                          0.807  Xian   \n239173  2013-06-01              23.522                          0.647  Xian   \n239174  2013-07-01              25.251                          1.042  Xian   \n239175  2013-08-01              24.528                          0.840  Xian   \n\n       Country Latitude Longitude  \n239170   China   34.56N   108.97E  \n239171   China   34.56N   108.97E  \n239172   China   34.56N   108.97E  \n239173   China   34.56N   108.97E  \n239174   China   34.56N   108.97E  \n239175   China   34.56N   108.97E  ",
      "text/html": "<div>\n<style scoped>\n    .dataframe tbody tr th:only-of-type {\n        vertical-align: middle;\n    }\n\n    .dataframe tbody tr th {\n        vertical-align: top;\n    }\n\n    .dataframe thead th {\n        text-align: right;\n    }\n</style>\n<table border=\"1\" class=\"dataframe\">\n  <thead>\n    <tr style=\"text-align: right;\">\n      <th></th>\n      <th>dt</th>\n      <th>AverageTemperature</th>\n      <th>AverageTemperatureUncertainty</th>\n      <th>City</th>\n      <th>Country</th>\n      <th>Latitude</th>\n      <th>Longitude</th>\n    </tr>\n  </thead>\n  <tbody>\n    <tr>\n      <th>239170</th>\n      <td>2013-03-01</td>\n      <td>10.110</td>\n      <td>0.480</td>\n      <td>Xian</td>\n      <td>China</td>\n      <td>34.56N</td>\n      <td>108.97E</td>\n    </tr>\n    <tr>\n      <th>239171</th>\n      <td>2013-04-01</td>\n      <td>12.563</td>\n      <td>1.823</td>\n      <td>Xian</td>\n      <td>China</td>\n      <td>34.56N</td>\n      <td>108.97E</td>\n    </tr>\n    <tr>\n      <th>239172</th>\n      <td>2013-05-01</td>\n      <td>18.979</td>\n      <td>0.807</td>\n      <td>Xian</td>\n      <td>China</td>\n      <td>34.56N</td>\n      <td>108.97E</td>\n    </tr>\n    <tr>\n      <th>239173</th>\n      <td>2013-06-01</td>\n      <td>23.522</td>\n      <td>0.647</td>\n      <td>Xian</td>\n      <td>China</td>\n      <td>34.56N</td>\n      <td>108.97E</td>\n    </tr>\n    <tr>\n      <th>239174</th>\n      <td>2013-07-01</td>\n      <td>25.251</td>\n      <td>1.042</td>\n      <td>Xian</td>\n      <td>China</td>\n      <td>34.56N</td>\n      <td>108.97E</td>\n    </tr>\n    <tr>\n      <th>239175</th>\n      <td>2013-08-01</td>\n      <td>24.528</td>\n      <td>0.840</td>\n      <td>Xian</td>\n      <td>China</td>\n      <td>34.56N</td>\n      <td>108.97E</td>\n    </tr>\n  </tbody>\n</table>\n</div>"
     },
     "metadata": {},
     "execution_count": 8
    }
   ],
   "source": [
    "df_climate1.tail(6)"
   ]
  },
  {
   "cell_type": "code",
   "execution_count": 9,
   "metadata": {},
   "outputs": [],
   "source": [
    "df_climate3 = df_climate1.copy()"
   ]
  },
  {
   "cell_type": "code",
   "execution_count": 10,
   "metadata": {},
   "outputs": [
    {
     "output_type": "execute_result",
     "data": {
      "text/plain": "                dt  AverageTemperature  AverageTemperatureUncertainty  City  \\\n236859  1820-08-01              20.683                          2.218  Xian   \n236860  1820-09-01              16.879                          1.712  Xian   \n236861  1820-10-01               9.787                          1.713  Xian   \n236862  1820-11-01               3.184                          1.752  Xian   \n236863  1820-12-01              -2.781                          2.022  Xian   \n\n       Country Latitude Longitude  \n236859   China   34.56N   108.97E  \n236860   China   34.56N   108.97E  \n236861   China   34.56N   108.97E  \n236862   China   34.56N   108.97E  \n236863   China   34.56N   108.97E  ",
      "text/html": "<div>\n<style scoped>\n    .dataframe tbody tr th:only-of-type {\n        vertical-align: middle;\n    }\n\n    .dataframe tbody tr th {\n        vertical-align: top;\n    }\n\n    .dataframe thead th {\n        text-align: right;\n    }\n</style>\n<table border=\"1\" class=\"dataframe\">\n  <thead>\n    <tr style=\"text-align: right;\">\n      <th></th>\n      <th>dt</th>\n      <th>AverageTemperature</th>\n      <th>AverageTemperatureUncertainty</th>\n      <th>City</th>\n      <th>Country</th>\n      <th>Latitude</th>\n      <th>Longitude</th>\n    </tr>\n  </thead>\n  <tbody>\n    <tr>\n      <th>236859</th>\n      <td>1820-08-01</td>\n      <td>20.683</td>\n      <td>2.218</td>\n      <td>Xian</td>\n      <td>China</td>\n      <td>34.56N</td>\n      <td>108.97E</td>\n    </tr>\n    <tr>\n      <th>236860</th>\n      <td>1820-09-01</td>\n      <td>16.879</td>\n      <td>1.712</td>\n      <td>Xian</td>\n      <td>China</td>\n      <td>34.56N</td>\n      <td>108.97E</td>\n    </tr>\n    <tr>\n      <th>236861</th>\n      <td>1820-10-01</td>\n      <td>9.787</td>\n      <td>1.713</td>\n      <td>Xian</td>\n      <td>China</td>\n      <td>34.56N</td>\n      <td>108.97E</td>\n    </tr>\n    <tr>\n      <th>236862</th>\n      <td>1820-11-01</td>\n      <td>3.184</td>\n      <td>1.752</td>\n      <td>Xian</td>\n      <td>China</td>\n      <td>34.56N</td>\n      <td>108.97E</td>\n    </tr>\n    <tr>\n      <th>236863</th>\n      <td>1820-12-01</td>\n      <td>-2.781</td>\n      <td>2.022</td>\n      <td>Xian</td>\n      <td>China</td>\n      <td>34.56N</td>\n      <td>108.97E</td>\n    </tr>\n  </tbody>\n</table>\n</div>"
     },
     "metadata": {},
     "execution_count": 10
    }
   ],
   "source": [
    "df_climate3_country = df_climate3[df_climate3[\"City\"] == \"Xian\"]\n",
    "df_climate3_country.head()"
   ]
  },
  {
   "cell_type": "code",
   "execution_count": 11,
   "metadata": {},
   "outputs": [
    {
     "output_type": "execute_result",
     "data": {
      "text/plain": "               dt  AverageTemperature  AverageTemperatureUncertainty  City  \\\n236859 1820-08-01              20.683                          2.218  Xian   \n236860 1820-09-01              16.879                          1.712  Xian   \n236861 1820-10-01               9.787                          1.713  Xian   \n236862 1820-11-01               3.184                          1.752  Xian   \n236863 1820-12-01              -2.781                          2.022  Xian   \n\n       Country Latitude Longitude  \n236859   China   34.56N   108.97E  \n236860   China   34.56N   108.97E  \n236861   China   34.56N   108.97E  \n236862   China   34.56N   108.97E  \n236863   China   34.56N   108.97E  ",
      "text/html": "<div>\n<style scoped>\n    .dataframe tbody tr th:only-of-type {\n        vertical-align: middle;\n    }\n\n    .dataframe tbody tr th {\n        vertical-align: top;\n    }\n\n    .dataframe thead th {\n        text-align: right;\n    }\n</style>\n<table border=\"1\" class=\"dataframe\">\n  <thead>\n    <tr style=\"text-align: right;\">\n      <th></th>\n      <th>dt</th>\n      <th>AverageTemperature</th>\n      <th>AverageTemperatureUncertainty</th>\n      <th>City</th>\n      <th>Country</th>\n      <th>Latitude</th>\n      <th>Longitude</th>\n    </tr>\n  </thead>\n  <tbody>\n    <tr>\n      <th>236859</th>\n      <td>1820-08-01</td>\n      <td>20.683</td>\n      <td>2.218</td>\n      <td>Xian</td>\n      <td>China</td>\n      <td>34.56N</td>\n      <td>108.97E</td>\n    </tr>\n    <tr>\n      <th>236860</th>\n      <td>1820-09-01</td>\n      <td>16.879</td>\n      <td>1.712</td>\n      <td>Xian</td>\n      <td>China</td>\n      <td>34.56N</td>\n      <td>108.97E</td>\n    </tr>\n    <tr>\n      <th>236861</th>\n      <td>1820-10-01</td>\n      <td>9.787</td>\n      <td>1.713</td>\n      <td>Xian</td>\n      <td>China</td>\n      <td>34.56N</td>\n      <td>108.97E</td>\n    </tr>\n    <tr>\n      <th>236862</th>\n      <td>1820-11-01</td>\n      <td>3.184</td>\n      <td>1.752</td>\n      <td>Xian</td>\n      <td>China</td>\n      <td>34.56N</td>\n      <td>108.97E</td>\n    </tr>\n    <tr>\n      <th>236863</th>\n      <td>1820-12-01</td>\n      <td>-2.781</td>\n      <td>2.022</td>\n      <td>Xian</td>\n      <td>China</td>\n      <td>34.56N</td>\n      <td>108.97E</td>\n    </tr>\n  </tbody>\n</table>\n</div>"
     },
     "metadata": {},
     "execution_count": 11
    }
   ],
   "source": [
    "df_climate3_country[\"dt\"] = pd.to_datetime(df_climate3_country[\"dt\"], format=\"%Y-%m-%d\")\n",
    "df_climate3_country.head()"
   ]
  },
  {
   "cell_type": "code",
   "execution_count": 12,
   "metadata": {},
   "outputs": [
    {
     "output_type": "execute_result",
     "data": {
      "text/plain": "dt                               datetime64[ns]\nAverageTemperature                      float64\nAverageTemperatureUncertainty           float64\nCity                                     object\nCountry                                  object\nLatitude                                 object\nLongitude                                object\ndtype: object"
     },
     "metadata": {},
     "execution_count": 12
    }
   ],
   "source": [
    "df_climate3_country.dtypes"
   ]
  },
  {
   "cell_type": "code",
   "execution_count": 13,
   "metadata": {},
   "outputs": [
    {
     "output_type": "execute_result",
     "data": {
      "text/plain": "       AverageTemperature  AverageTemperatureUncertainty\ncount       228175.000000                  228175.000000\nmean            18.125969                       0.969343\nstd             10.024800                       0.979644\nmin            -26.772000                       0.040000\n25%             12.710000                       0.340000\n50%             20.428000                       0.592000\n75%             25.918000                       1.320000\nmax             38.283000                      14.037000",
      "text/html": "<div>\n<style scoped>\n    .dataframe tbody tr th:only-of-type {\n        vertical-align: middle;\n    }\n\n    .dataframe tbody tr th {\n        vertical-align: top;\n    }\n\n    .dataframe thead th {\n        text-align: right;\n    }\n</style>\n<table border=\"1\" class=\"dataframe\">\n  <thead>\n    <tr style=\"text-align: right;\">\n      <th></th>\n      <th>AverageTemperature</th>\n      <th>AverageTemperatureUncertainty</th>\n    </tr>\n  </thead>\n  <tbody>\n    <tr>\n      <th>count</th>\n      <td>228175.000000</td>\n      <td>228175.000000</td>\n    </tr>\n    <tr>\n      <th>mean</th>\n      <td>18.125969</td>\n      <td>0.969343</td>\n    </tr>\n    <tr>\n      <th>std</th>\n      <td>10.024800</td>\n      <td>0.979644</td>\n    </tr>\n    <tr>\n      <th>min</th>\n      <td>-26.772000</td>\n      <td>0.040000</td>\n    </tr>\n    <tr>\n      <th>25%</th>\n      <td>12.710000</td>\n      <td>0.340000</td>\n    </tr>\n    <tr>\n      <th>50%</th>\n      <td>20.428000</td>\n      <td>0.592000</td>\n    </tr>\n    <tr>\n      <th>75%</th>\n      <td>25.918000</td>\n      <td>1.320000</td>\n    </tr>\n    <tr>\n      <th>max</th>\n      <td>38.283000</td>\n      <td>14.037000</td>\n    </tr>\n  </tbody>\n</table>\n</div>"
     },
     "metadata": {},
     "execution_count": 13
    }
   ],
   "source": [
    "df_climate3.describe()"
   ]
  },
  {
   "cell_type": "code",
   "execution_count": 14,
   "metadata": {},
   "outputs": [
    {
     "output_type": "execute_result",
     "data": {
      "text/plain": "            AverageTemperature  AverageTemperatureUncertainty     City  \\\ndt                                                                       \n1849-01-01              26.704                          1.435  Abidjan   \n1849-02-01              27.434                          1.362  Abidjan   \n1849-03-01              28.101                          1.612  Abidjan   \n1849-04-01              26.140                          1.387  Abidjan   \n1849-05-01              25.427                          1.200  Abidjan   \n\n                  Country Latitude Longitude  \ndt                                            \n1849-01-01  Côte D'Ivoire    5.63N     3.23W  \n1849-02-01  Côte D'Ivoire    5.63N     3.23W  \n1849-03-01  Côte D'Ivoire    5.63N     3.23W  \n1849-04-01  Côte D'Ivoire    5.63N     3.23W  \n1849-05-01  Côte D'Ivoire    5.63N     3.23W  ",
      "text/html": "<div>\n<style scoped>\n    .dataframe tbody tr th:only-of-type {\n        vertical-align: middle;\n    }\n\n    .dataframe tbody tr th {\n        vertical-align: top;\n    }\n\n    .dataframe thead th {\n        text-align: right;\n    }\n</style>\n<table border=\"1\" class=\"dataframe\">\n  <thead>\n    <tr style=\"text-align: right;\">\n      <th></th>\n      <th>AverageTemperature</th>\n      <th>AverageTemperatureUncertainty</th>\n      <th>City</th>\n      <th>Country</th>\n      <th>Latitude</th>\n      <th>Longitude</th>\n    </tr>\n    <tr>\n      <th>dt</th>\n      <th></th>\n      <th></th>\n      <th></th>\n      <th></th>\n      <th></th>\n      <th></th>\n    </tr>\n  </thead>\n  <tbody>\n    <tr>\n      <th>1849-01-01</th>\n      <td>26.704</td>\n      <td>1.435</td>\n      <td>Abidjan</td>\n      <td>Côte D'Ivoire</td>\n      <td>5.63N</td>\n      <td>3.23W</td>\n    </tr>\n    <tr>\n      <th>1849-02-01</th>\n      <td>27.434</td>\n      <td>1.362</td>\n      <td>Abidjan</td>\n      <td>Côte D'Ivoire</td>\n      <td>5.63N</td>\n      <td>3.23W</td>\n    </tr>\n    <tr>\n      <th>1849-03-01</th>\n      <td>28.101</td>\n      <td>1.612</td>\n      <td>Abidjan</td>\n      <td>Côte D'Ivoire</td>\n      <td>5.63N</td>\n      <td>3.23W</td>\n    </tr>\n    <tr>\n      <th>1849-04-01</th>\n      <td>26.140</td>\n      <td>1.387</td>\n      <td>Abidjan</td>\n      <td>Côte D'Ivoire</td>\n      <td>5.63N</td>\n      <td>3.23W</td>\n    </tr>\n    <tr>\n      <th>1849-05-01</th>\n      <td>25.427</td>\n      <td>1.200</td>\n      <td>Abidjan</td>\n      <td>Côte D'Ivoire</td>\n      <td>5.63N</td>\n      <td>3.23W</td>\n    </tr>\n  </tbody>\n</table>\n</div>"
     },
     "metadata": {},
     "execution_count": 14
    }
   ],
   "source": [
    "df_climate4 = df_climate3.copy()\n",
    "df_climate4.set_index(\"dt\", inplace = True)\n",
    "df_climate4.head()"
   ]
  },
  {
   "cell_type": "code",
   "execution_count": 21,
   "metadata": {
    "tags": []
   },
   "outputs": [
    {
     "output_type": "stream",
     "name": "stdout",
     "text": "(136307, 6)\n"
    },
    {
     "output_type": "execute_result",
     "data": {
      "text/plain": "            AverageTemperature  AverageTemperatureUncertainty     City  \\\ndt                                                                       \n1900-02-01              27.816                          0.789  Abidjan   \n1900-03-01              28.395                          1.296  Abidjan   \n1900-04-01              27.706                          0.501  Abidjan   \n1900-05-01              26.753                          0.458  Abidjan   \n1900-06-01              25.180                          0.733  Abidjan   \n\n                  Country Latitude Longitude  \ndt                                            \n1900-02-01  Côte D'Ivoire    5.63N     3.23W  \n1900-03-01  Côte D'Ivoire    5.63N     3.23W  \n1900-04-01  Côte D'Ivoire    5.63N     3.23W  \n1900-05-01  Côte D'Ivoire    5.63N     3.23W  \n1900-06-01  Côte D'Ivoire    5.63N     3.23W  ",
      "text/html": "<div>\n<style scoped>\n    .dataframe tbody tr th:only-of-type {\n        vertical-align: middle;\n    }\n\n    .dataframe tbody tr th {\n        vertical-align: top;\n    }\n\n    .dataframe thead th {\n        text-align: right;\n    }\n</style>\n<table border=\"1\" class=\"dataframe\">\n  <thead>\n    <tr style=\"text-align: right;\">\n      <th></th>\n      <th>AverageTemperature</th>\n      <th>AverageTemperatureUncertainty</th>\n      <th>City</th>\n      <th>Country</th>\n      <th>Latitude</th>\n      <th>Longitude</th>\n    </tr>\n    <tr>\n      <th>dt</th>\n      <th></th>\n      <th></th>\n      <th></th>\n      <th></th>\n      <th></th>\n      <th></th>\n    </tr>\n  </thead>\n  <tbody>\n    <tr>\n      <th>1900-02-01</th>\n      <td>27.816</td>\n      <td>0.789</td>\n      <td>Abidjan</td>\n      <td>Côte D'Ivoire</td>\n      <td>5.63N</td>\n      <td>3.23W</td>\n    </tr>\n    <tr>\n      <th>1900-03-01</th>\n      <td>28.395</td>\n      <td>1.296</td>\n      <td>Abidjan</td>\n      <td>Côte D'Ivoire</td>\n      <td>5.63N</td>\n      <td>3.23W</td>\n    </tr>\n    <tr>\n      <th>1900-04-01</th>\n      <td>27.706</td>\n      <td>0.501</td>\n      <td>Abidjan</td>\n      <td>Côte D'Ivoire</td>\n      <td>5.63N</td>\n      <td>3.23W</td>\n    </tr>\n    <tr>\n      <th>1900-05-01</th>\n      <td>26.753</td>\n      <td>0.458</td>\n      <td>Abidjan</td>\n      <td>Côte D'Ivoire</td>\n      <td>5.63N</td>\n      <td>3.23W</td>\n    </tr>\n    <tr>\n      <th>1900-06-01</th>\n      <td>25.180</td>\n      <td>0.733</td>\n      <td>Abidjan</td>\n      <td>Côte D'Ivoire</td>\n      <td>5.63N</td>\n      <td>3.23W</td>\n    </tr>\n  </tbody>\n</table>\n</div>"
     },
     "metadata": {},
     "execution_count": 21
    }
   ],
   "source": [
    "cuac = df_climate4.loc[df_climate4.index>\"1900-01-02\"]\n",
    "print(cuac.shape)\n",
    "cuac.head()"
   ]
  },
  {
   "cell_type": "code",
   "execution_count": 20,
   "metadata": {
    "tags": []
   },
   "outputs": [
    {
     "output_type": "stream",
     "name": "stdout",
     "text": "(11900, 6)\n"
    },
    {
     "output_type": "execute_result",
     "data": {
      "text/plain": "            AverageTemperature  AverageTemperatureUncertainty     City  \\\ndt                                                                       \n1980-02-01              28.192                          0.358  Abidjan   \n1980-03-01              28.303                          0.430  Abidjan   \n1980-04-01              28.284                          0.223  Abidjan   \n1980-05-01              26.709                          0.383  Abidjan   \n1980-06-01              25.913                          0.295  Abidjan   \n\n                  Country Latitude Longitude  \ndt                                            \n1980-02-01  Côte D'Ivoire    5.63N     3.23W  \n1980-03-01  Côte D'Ivoire    5.63N     3.23W  \n1980-04-01  Côte D'Ivoire    5.63N     3.23W  \n1980-05-01  Côte D'Ivoire    5.63N     3.23W  \n1980-06-01  Côte D'Ivoire    5.63N     3.23W  ",
      "text/html": "<div>\n<style scoped>\n    .dataframe tbody tr th:only-of-type {\n        vertical-align: middle;\n    }\n\n    .dataframe tbody tr th {\n        vertical-align: top;\n    }\n\n    .dataframe thead th {\n        text-align: right;\n    }\n</style>\n<table border=\"1\" class=\"dataframe\">\n  <thead>\n    <tr style=\"text-align: right;\">\n      <th></th>\n      <th>AverageTemperature</th>\n      <th>AverageTemperatureUncertainty</th>\n      <th>City</th>\n      <th>Country</th>\n      <th>Latitude</th>\n      <th>Longitude</th>\n    </tr>\n    <tr>\n      <th>dt</th>\n      <th></th>\n      <th></th>\n      <th></th>\n      <th></th>\n      <th></th>\n      <th></th>\n    </tr>\n  </thead>\n  <tbody>\n    <tr>\n      <th>1980-02-01</th>\n      <td>28.192</td>\n      <td>0.358</td>\n      <td>Abidjan</td>\n      <td>Côte D'Ivoire</td>\n      <td>5.63N</td>\n      <td>3.23W</td>\n    </tr>\n    <tr>\n      <th>1980-03-01</th>\n      <td>28.303</td>\n      <td>0.430</td>\n      <td>Abidjan</td>\n      <td>Côte D'Ivoire</td>\n      <td>5.63N</td>\n      <td>3.23W</td>\n    </tr>\n    <tr>\n      <th>1980-04-01</th>\n      <td>28.284</td>\n      <td>0.223</td>\n      <td>Abidjan</td>\n      <td>Côte D'Ivoire</td>\n      <td>5.63N</td>\n      <td>3.23W</td>\n    </tr>\n    <tr>\n      <th>1980-05-01</th>\n      <td>26.709</td>\n      <td>0.383</td>\n      <td>Abidjan</td>\n      <td>Côte D'Ivoire</td>\n      <td>5.63N</td>\n      <td>3.23W</td>\n    </tr>\n    <tr>\n      <th>1980-06-01</th>\n      <td>25.913</td>\n      <td>0.295</td>\n      <td>Abidjan</td>\n      <td>Côte D'Ivoire</td>\n      <td>5.63N</td>\n      <td>3.23W</td>\n    </tr>\n  </tbody>\n</table>\n</div>"
     },
     "metadata": {},
     "execution_count": 20
    }
   ],
   "source": [
    "df_climate_80s = df_climate4.loc[(df_climate4.index>'1980-01-01') & (df_climate4.index<'1990-01-01')]\n",
    "print(df_climate_80s.shape)\n",
    "df_climate_80s.head()"
   ]
  },
  {
   "cell_type": "code",
   "execution_count": null,
   "metadata": {},
   "outputs": [],
   "source": []
  }
 ],
 "metadata": {
  "kernelspec": {
   "name": "Python 3.8.5 64-bit ('Master': conda)",
   "display_name": "Python 3.8.5 64-bit ('Master': conda)",
   "metadata": {
    "interpreter": {
     "hash": "57d46a1f3f975f92cc34d815bf69a7d3644582cc16f1cedc66cb95f17202c91e"
    }
   }
  },
  "language_info": {
   "codemirror_mode": {
    "name": "ipython",
    "version": 3
   },
   "file_extension": ".py",
   "mimetype": "text/x-python",
   "name": "python",
   "nbconvert_exporter": "python",
   "pygments_lexer": "ipython3",
   "version": "3.8.5-final"
  }
 },
 "nbformat": 4,
 "nbformat_minor": 2
}