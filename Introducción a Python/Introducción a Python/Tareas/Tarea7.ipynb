{
 "metadata": {
  "language_info": {
   "codemirror_mode": {
    "name": "ipython",
    "version": 3
   },
   "file_extension": ".py",
   "mimetype": "text/x-python",
   "name": "python",
   "nbconvert_exporter": "python",
   "pygments_lexer": "ipython3",
   "version": "3.8.5-final"
  },
  "orig_nbformat": 2,
  "kernelspec": {
   "name": "Python 3.8.5 64-bit ('Master': conda)",
   "display_name": "Python 3.8.5 64-bit ('Master': conda)",
   "metadata": {
    "interpreter": {
     "hash": "57d46a1f3f975f92cc34d815bf69a7d3644582cc16f1cedc66cb95f17202c91e"
    }
   }
  }
 },
 "nbformat": 4,
 "nbformat_minor": 2,
 "cells": [
  {
   "source": [
    "## Tarea 7. Estructuras de datos II"
   ],
   "cell_type": "markdown",
   "metadata": {}
  },
  {
   "cell_type": "code",
   "execution_count": 3,
   "metadata": {
    "tags": []
   },
   "outputs": [
    {
     "output_type": "stream",
     "name": "stdout",
     "text": "['Jorge', 'Vila']\n('Jorge', 'Vila', 'Tomás')\n"
    }
   ],
   "source": [
    "A = [\"Jorge\", \"Vila\"]\n",
    "A_bis = (\"Jorge\", \"Vila\", \"Tomás\")\n",
    "\n",
    "print(A)\n",
    "print(A_bis)"
   ]
  },
  {
   "source": [
    "Las listas son objetos mutables, por lo que es posible tanto añadir como eliminar elementos utilizando ``remove()``/``pop()`` y ``append()`` respectivamente."
   ],
   "cell_type": "markdown",
   "metadata": {}
  },
  {
   "cell_type": "code",
   "execution_count": 4,
   "metadata": {
    "tags": []
   },
   "outputs": [
    {
     "output_type": "stream",
     "name": "stdout",
     "text": "['Jorge', 'Vila', 'Tomás']\n"
    }
   ],
   "source": [
    "A.append(\"Tomás\")\n",
    "print(A)"
   ]
  },
  {
   "source": [
    "Al ser objetos mutables, también es sencillo modificar elementos. La forma más conveniente suele ser acceder al elemento por índice y darle una nueva asignación. Hay que recordar que en Python se empieza a indexar por 0."
   ],
   "cell_type": "markdown",
   "metadata": {}
  },
  {
   "cell_type": "code",
   "execution_count": 5,
   "metadata": {
    "tags": []
   },
   "outputs": [
    {
     "output_type": "stream",
     "name": "stdout",
     "text": "['Jorge', 'Vila', 'Valencia']\n"
    }
   ],
   "source": [
    "A[2] = \"Valencia\"\n",
    "print(A)"
   ]
  },
  {
   "source": [
    "En Python una lista puede albergar cualquier otro objeto, así que podemos hacer cosas como estas:"
   ],
   "cell_type": "markdown",
   "metadata": {}
  },
  {
   "cell_type": "code",
   "execution_count": 6,
   "metadata": {
    "tags": []
   },
   "outputs": [
    {
     "output_type": "stream",
     "name": "stdout",
     "text": "[['Jorge', 'Vila', 'Valencia'], (1, 3, 5), [2, 4, 6]]\n"
    }
   ],
   "source": [
    "B = [A, (1, 3, 5), [2, 4, 6]]\n",
    "print(B)"
   ]
  },
  {
   "source": [
    "Esto que hemos hecho se conoce como listas anidadas (ya que tenemos varias listas unas dentro de otras), por lo que para acceder a los elementos de las mismas hay que tener un poco más de cuidado, pero no es de gran complicación:"
   ],
   "cell_type": "markdown",
   "metadata": {}
  },
  {
   "cell_type": "code",
   "execution_count": 7,
   "metadata": {
    "tags": []
   },
   "outputs": [
    {
     "output_type": "stream",
     "name": "stdout",
     "text": "Nombre: Jorge\nNúmero 1: 1\nNúmero 4: 4\n"
    }
   ],
   "source": [
    "nombre = B[0][0]\n",
    "uno = B[1][0]\n",
    "cuatro = B[2][1]\n",
    "\n",
    "print(f\"Nombre: {nombre}\")\n",
    "print(f'Número 1: {uno}')\n",
    "print(f'Número 4: {cuatro}')"
   ]
  },
  {
   "cell_type": "code",
   "execution_count": 3,
   "metadata": {
    "tags": []
   },
   "outputs": [
    {
     "output_type": "stream",
     "name": "stdout",
     "text": "Lista original: ['acasf', 'ab', 'abc', 'patata']\nLista ordenada: ['ab', 'abc', 'acasf', 'patata'].\nEl primer elemento de la lista es de tipo: <class 'str'>\n"
    }
   ],
   "source": [
    "C = [\"acasf\", \"ab\", \"abc\", \"patata\"]\n",
    "print(f\"Lista original: {C}\")\n",
    "\n",
    "try: #Intentamos hacer esto\n",
    "    C.sort()\n",
    "\n",
    "except: #Si da error hacemos esto\n",
    "    print(\"Imposible ordenación.\")\n",
    "\n",
    "else: #Si no hay errores hacemos esto\n",
    "    print(f\"Lista ordenada: {C}.\")  \n",
    "\n",
    "finally: #Pase lo que pase hacemos esto\n",
    "    print(f\"El primer elemento de la lista es de tipo: {type(C[0])}\")\n",
    "\n"
   ]
  },
  {
   "cell_type": "code",
   "execution_count": null,
   "metadata": {},
   "outputs": [],
   "source": []
  }
 ]
}