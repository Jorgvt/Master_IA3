{
 "cells": [
  {
   "cell_type": "markdown",
   "metadata": {},
   "source": [
    "<img src=\"idal-logo.png\" align=\"right\" style=\"float\" width=\"400\">\n",
    "<font color=\"#CA3532\"><h1 align=\"left\">mIA3</h1></font>\n",
    "<font color=\"#6E6E6E\"><h2 align=\"left\">Ejercicios Pandas. Series</h2></font> \n",
    "\n",
    "#### Juan Gómez-Sanchis"
   ]
  },
  {
   "cell_type": "markdown",
   "metadata": {},
   "source": [
    "### Ejercicio 1.\n",
    "\n",
    "Importa el módulo numpy como np,pandas como pd y las fuciones Series y DataFrame de Pandas.\n",
    "\n",
    "\n",
    "\n",
    "\n"
   ]
  },
  {
   "cell_type": "code",
   "execution_count": 1,
   "metadata": {},
   "outputs": [],
   "source": [
    "import numpy as np\n",
    "import pandas as pd\n",
    "from pandas import Series, DataFrame"
   ]
  },
  {
   "cell_type": "markdown",
   "metadata": {},
   "source": [
    "### Ejercicio 2. \n",
    "\n",
    "Crea una serie denominada ``obj`` que contenga los valores 4,8,10 y 24. Muestra la serie."
   ]
  },
  {
   "cell_type": "code",
   "execution_count": 2,
   "metadata": {
    "tags": []
   },
   "outputs": [
    {
     "output_type": "stream",
     "name": "stdout",
     "text": "0     4\n1     8\n2    10\n3    24\ndtype: int64\n"
    }
   ],
   "source": [
    "obs = Series([4, 8, 10, 24])\n",
    "print(obs)"
   ]
  },
  {
   "cell_type": "markdown",
   "metadata": {},
   "source": [
    "### Ejercicio 3. \n",
    "\n",
    "Muestra los valores contenidos en la serie que has creado en el ejercicio anterior."
   ]
  },
  {
   "cell_type": "code",
   "execution_count": 3,
   "metadata": {},
   "outputs": [
    {
     "output_type": "execute_result",
     "data": {
      "text/plain": "array([ 4,  8, 10, 24], dtype=int64)"
     },
     "metadata": {},
     "execution_count": 3
    }
   ],
   "source": [
    "obs.values"
   ]
  },
  {
   "cell_type": "markdown",
   "metadata": {},
   "source": [
    "### Ejercicio 4. \n",
    "\n",
    "Muestra los índices contenidos en la serie que has creado en el ejercicio anterior."
   ]
  },
  {
   "cell_type": "code",
   "execution_count": 4,
   "metadata": {},
   "outputs": [
    {
     "output_type": "execute_result",
     "data": {
      "text/plain": "RangeIndex(start=0, stop=4, step=1)"
     },
     "metadata": {},
     "execution_count": 4
    }
   ],
   "source": [
    "obs.index"
   ]
  },
  {
   "cell_type": "markdown",
   "metadata": {},
   "source": [
    "### Ejercicio 5. \n",
    "\n",
    "Crea la serie ``ww2_cas`` cuyos valores son 8700000,4300000,3000000,2100000,400000 y los índices 'USSR','Germany','China','Japan','USA'."
   ]
  },
  {
   "cell_type": "code",
   "execution_count": 6,
   "metadata": {
    "tags": []
   },
   "outputs": [
    {
     "output_type": "stream",
     "name": "stdout",
     "text": "USSR       8700000\nGermany    4300000\nChina      3000000\nJapan      2100000\nUSA         400000\ndtype: int64\n"
    }
   ],
   "source": [
    "ww2_cas = Series([8700000,4300000,3000000,2100000,400000], index = ['USSR','Germany','China','Japan','USA'])\n",
    "print(ww2_cas)"
   ]
  },
  {
   "cell_type": "markdown",
   "metadata": {},
   "source": [
    "### Ejercicio 6. \n",
    "\n",
    "Muestra el valor del índice USA de la serie."
   ]
  },
  {
   "cell_type": "code",
   "execution_count": 7,
   "metadata": {},
   "outputs": [
    {
     "output_type": "execute_result",
     "data": {
      "text/plain": "400000"
     },
     "metadata": {},
     "execution_count": 7
    }
   ],
   "source": [
    "ww2_cas[\"USA\"]"
   ]
  },
  {
   "cell_type": "markdown",
   "metadata": {},
   "source": [
    "### Ejercicio 7.\n",
    "\n",
    "Comprueba cuantos índices de la serie ``ww2_cas`` tienen un valor mayor de 4000000."
   ]
  },
  {
   "cell_type": "code",
   "execution_count": 16,
   "metadata": {},
   "outputs": [
    {
     "output_type": "execute_result",
     "data": {
      "text/plain": "5"
     },
     "metadata": {},
     "execution_count": 16
    }
   ],
   "source": [
    "len(ww2_cas.values > 4000000)"
   ]
  },
  {
   "cell_type": "markdown",
   "metadata": {},
   "source": [
    "### Ejercicio 8. \n",
    "\n",
    "Comprueba si el índice USSR está contenido en la serie ``ww2_cas``."
   ]
  },
  {
   "cell_type": "code",
   "execution_count": 22,
   "metadata": {},
   "outputs": [
    {
     "output_type": "execute_result",
     "data": {
      "text/plain": "array([ True, False, False, False, False])"
     },
     "metadata": {},
     "execution_count": 22
    }
   ],
   "source": [
    "ww2_cas.index == \"USSR\""
   ]
  },
  {
   "cell_type": "markdown",
   "metadata": {},
   "source": [
    "### Ejercicio 9\n",
    "\n",
    "Convierte la serie ``ww2_cas`` en un diccionario denominado ``ww2_dict``. Una pista, explora el método ``to_dict`` de una serie."
   ]
  },
  {
   "cell_type": "code",
   "execution_count": 24,
   "metadata": {
    "tags": []
   },
   "outputs": [
    {
     "output_type": "stream",
     "name": "stdout",
     "text": "{'USSR': 8700000, 'Germany': 4300000, 'China': 3000000, 'Japan': 2100000, 'USA': 400000}\n"
    }
   ],
   "source": [
    "ww2_dict = ww2_cas.to_dict()\n",
    "print(ww2_dict)"
   ]
  },
  {
   "cell_type": "markdown",
   "metadata": {},
   "source": [
    "### Ejercicio 10. \n",
    "\n",
    "Realiza la operación opuesta, convierte el diccionario ``ww2_dict`` a una nueva serie denominada  ``WW2_Serie``"
   ]
  },
  {
   "cell_type": "code",
   "execution_count": 25,
   "metadata": {
    "tags": []
   },
   "outputs": [
    {
     "output_type": "stream",
     "name": "stdout",
     "text": "USSR       8700000\nGermany    4300000\nChina      3000000\nJapan      2100000\nUSA         400000\ndtype: int64\n"
    }
   ],
   "source": [
    "WW2_Serie = Series(ww2_dict)\n",
    "print(WW2_Serie)"
   ]
  },
  {
   "cell_type": "markdown",
   "metadata": {},
   "source": [
    "### Ejercicio 11. \n",
    "\n",
    "Crea una serie denominada ``obj2`` a partir del diccionario ``ww2_dict`` cuyos índices vengan dados por  la lista,  ``countries`` = ['China','Germany','Japan','USA','USSR','Argentina']"
   ]
  },
  {
   "cell_type": "code",
   "execution_count": 55,
   "metadata": {
    "tags": []
   },
   "outputs": [
    {
     "output_type": "stream",
     "name": "stdout",
     "text": "China        3000000.0\nGermany      4300000.0\nJapan        2100000.0\nUSA           400000.0\nUSSR         8700000.0\nArgentina          NaN\ndtype: float64\n"
    }
   ],
   "source": [
    "countries = 'China','Germany','Japan','USA','USSR','Argentina'\n",
    "obj2 = Series(ww2_dict, index = countries)\n",
    "print(obj2)"
   ]
  },
  {
   "cell_type": "markdown",
   "metadata": {},
   "source": [
    "### Ejercicio 12. \n",
    "\n",
    "Encuentra los valores ``NaN`` de la serie ``obj2``\n",
    "."
   ]
  },
  {
   "cell_type": "code",
   "execution_count": 29,
   "metadata": {},
   "outputs": [
    {
     "output_type": "execute_result",
     "data": {
      "text/plain": "China        False\nGermany      False\nJapan        False\nUSA          False\nUSSR         False\nArgentina     True\ndtype: bool"
     },
     "metadata": {},
     "execution_count": 29
    }
   ],
   "source": [
    "obj2.isnull()"
   ]
  },
  {
   "cell_type": "markdown",
   "metadata": {},
   "source": [
    "### Ejercicio 13. \n",
    "\n",
    "Es posible sumar los valores de bajas en la WWII (es el valor de la serie que estamos trabajando) de la series ``WW2_Series``  y ``obj2``? Cómo lo harías?"
   ]
  },
  {
   "cell_type": "code",
   "execution_count": 30,
   "metadata": {
    "tags": []
   },
   "outputs": [
    {
     "output_type": "stream",
     "name": "stdout",
     "text": "18500000\n18500000.0\n"
    }
   ],
   "source": [
    "sum1 = WW2_Serie.sum()\n",
    "sum2 = obj2.sum()\n",
    "print(sum1)\n",
    "print(sum2)"
   ]
  },
  {
   "cell_type": "markdown",
   "metadata": {},
   "source": [
    "### Ejercicio 14. \n",
    "\n",
    "Proporcionale un nombre a la serie ``obj2``, en concreto \"World War 2 Casualties\". Pista, utiliza el atributo ``name``."
   ]
  },
  {
   "cell_type": "code",
   "execution_count": 56,
   "metadata": {
    "tags": []
   },
   "outputs": [
    {
     "output_type": "stream",
     "name": "stdout",
     "text": "China        3000000.0\nGermany      4300000.0\nJapan        2100000.0\nUSA           400000.0\nUSSR         8700000.0\nArgentina          NaN\nName: World War 2 Casualties, dtype: float64\n"
    }
   ],
   "source": [
    "obj2.name = \"World War 2 Casualties\"\n",
    "print(obj2)"
   ]
  },
  {
   "cell_type": "markdown",
   "metadata": {},
   "source": [
    "### Ejercicio 15. \n",
    "\n",
    "Otra cosa nueva, os pido un poco de imaginación y poder de extrapolación... Intenta añadir un nombre ('Countries') al índice de una serie. Pista, utiliza el atributo de la serie ``index.name``"
   ]
  },
  {
   "cell_type": "code",
   "execution_count": 57,
   "metadata": {
    "tags": []
   },
   "outputs": [
    {
     "output_type": "stream",
     "name": "stdout",
     "text": "Countries\nChina        3000000.0\nGermany      4300000.0\nJapan        2100000.0\nUSA           400000.0\nUSSR         8700000.0\nArgentina          NaN\nName: World War 2 Casualties, dtype: float64\n"
    }
   ],
   "source": [
    "obj2.index.name=\"Countries\"\n",
    "print(obj2)"
   ]
  },
  {
   "cell_type": "markdown",
   "metadata": {
    "collapsed": true
   },
   "source": [
    "### Vamos a por los dataframes!!!!"
   ]
  }
 ],
 "metadata": {
  "kernelspec": {
   "display_name": "Python 3.8.5 64-bit ('Master': conda)",
   "language": "python",
   "name": "python_defaultSpec_1601121720300"
  },
  "language_info": {
   "codemirror_mode": {
    "name": "ipython",
    "version": 3
   },
   "file_extension": ".py",
   "mimetype": "text/x-python",
   "name": "python",
   "nbconvert_exporter": "python",
   "pygments_lexer": "ipython3",
   "version": "3.8.5-final"
  }
 },
 "nbformat": 4,
 "nbformat_minor": 2
}