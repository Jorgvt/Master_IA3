{
 "metadata": {
  "language_info": {
   "codemirror_mode": {
    "name": "ipython",
    "version": 3
   },
   "file_extension": ".py",
   "mimetype": "text/x-python",
   "name": "python",
   "nbconvert_exporter": "python",
   "pygments_lexer": "ipython3",
   "version": "3.8.5-final"
  },
  "orig_nbformat": 2,
  "kernelspec": {
   "name": "Python 3.8.5 64-bit ('Master': conda)",
   "display_name": "Python 3.8.5 64-bit ('Master': conda)",
   "metadata": {
    "interpreter": {
     "hash": "57d46a1f3f975f92cc34d815bf69a7d3644582cc16f1cedc66cb95f17202c91e"
    }
   }
  }
 },
 "nbformat": 4,
 "nbformat_minor": 2,
 "cells": [
  {
   "source": [
    "## Tarea 8. Estructuras de datos III"
   ],
   "cell_type": "markdown",
   "metadata": {}
  },
  {
   "cell_type": "code",
   "execution_count": 2,
   "metadata": {},
   "outputs": [],
   "source": [
    "import random"
   ]
  },
  {
   "cell_type": "code",
   "execution_count": 3,
   "metadata": {
    "tags": []
   },
   "outputs": [
    {
     "output_type": "stream",
     "name": "stdout",
     "text": "Lista resultante: [65, 25, 26, 90, 35, 59, 20, 4, 58, 39, 65, 15, 74, 7, 4, 49, 52, 12, 28, 21, 62, 12, 1, 45, 94, 27, 96, 95, 49, 68, 6, 4, 99, 38, 77, 59, 17, 88, 21, 41, 82, 32, 82, 45, 82, 2, 74, 69, 77, 89, 84, 6, 70, 24, 23, 90, 26, 1, 10, 63, 0, 98, 44, 3, 73, 30, 48, 77, 60, 30, 14, 9, 11, 20, 29, 84, 23, 16, 32, 83, 87, 54, 9, 78, 96, 24, 8, 89, 88, 68, 14, 10, 98, 95, 76, 42, 82, 42, 93, 99, 45, 41, 17, 96, 32, 27, 93, 95, 97, 68, 2, 28, 54, 7, 68, 46, 25, 94, 59, 77, 72, 0, 45, 8, 48, 15, 89, 1, 90, 52, 19, 97, 1, 50, 12, 93, 10, 17, 59, 89, 92, 54, 28, 87, 62, 46, 15, 30, 17, 9, 7, 90, 85, 92, 61, 95, 48, 89, 17, 94, 2, 20, 61, 78, 19, 61, 38, 99, 34, 36, 37, 77, 54, 56, 33, 60, 12, 60, 74, 49, 62, 22, 19, 52, 82, 50, 48, 26, 48, 64, 79, 9, 66, 12, 35, 52, 41, 30, 38, 68]\nLista resultante ordenada: [0, 0, 1, 1, 1, 1, 2, 2, 2, 3, 4, 4, 4, 6, 6, 7, 7, 7, 8, 8, 9, 9, 9, 9, 10, 10, 10, 11, 12, 12, 12, 12, 12, 14, 14, 15, 15, 15, 16, 17, 17, 17, 17, 17, 19, 19, 19, 20, 20, 20, 21, 21, 22, 23, 23, 24, 24, 25, 25, 26, 26, 26, 27, 27, 28, 28, 28, 29, 30, 30, 30, 30, 32, 32, 32, 33, 34, 35, 35, 36, 37, 38, 38, 38, 39, 41, 41, 41, 42, 42, 44, 45, 45, 45, 45, 46, 46, 48, 48, 48, 48, 48, 49, 49, 49, 50, 50, 52, 52, 52, 52, 54, 54, 54, 54, 56, 58, 59, 59, 59, 59, 60, 60, 60, 61, 61, 61, 62, 62, 62, 63, 64, 65, 65, 66, 68, 68, 68, 68, 68, 69, 70, 72, 73, 74, 74, 74, 76, 77, 77, 77, 77, 77, 78, 78, 79, 82, 82, 82, 82, 82, 83, 84, 84, 85, 87, 87, 88, 88, 89, 89, 89, 89, 89, 90, 90, 90, 90, 92, 92, 93, 93, 93, 94, 94, 94, 95, 95, 95, 95, 96, 96, 96, 97, 97, 98, 98, 99, 99, 99]\n"
    }
   ],
   "source": [
    "size = 200\n",
    "min = 0\n",
    "max = 100\n",
    "Ejer8a = []\n",
    "\n",
    "for i in range(size):\n",
    "    Ejer8a.append(random.randrange(min, max))\n",
    "\n",
    "print(f\"Lista resultante: {Ejer8a}\")\n",
    "Ejer8a.sort()\n",
    "print(f\"Lista resultante ordenada: {Ejer8a}\")"
   ]
  },
  {
   "cell_type": "code",
   "execution_count": 14,
   "metadata": {
    "tags": []
   },
   "outputs": [
    {
     "output_type": "stream",
     "name": "stdout",
     "text": "[('ana', 55.7), ('pedro', 80.6), ('juan', 87.8), ('oscar', 75.4), ('julia', 60.1)]\n"
    }
   ],
   "source": [
    "Nombre = [\"ana\", \"pedro\", \"juan\", \"oscar\", \"julia\"]\n",
    "Peso = [55.7, 80.6, 87.8, 75.4, 60.1]\n",
    "\n",
    "tuplas = []\n",
    "for nombre, peso in zip(Nombre, Peso):\n",
    "    tuplas.append((nombre, peso))\n",
    "\n",
    "print(tuplas)"
   ]
  },
  {
   "source": [
    "Es posible crear un diccionario a partir de una lista de tuplas:"
   ],
   "cell_type": "markdown",
   "metadata": {}
  },
  {
   "cell_type": "code",
   "execution_count": 5,
   "metadata": {
    "tags": []
   },
   "outputs": [
    {
     "output_type": "stream",
     "name": "stdout",
     "text": "{'ana': 55.7, 'pedro': 80.6, 'juan': 87.8, 'oscar': 75.4, 'julia': 60.1}\n"
    }
   ],
   "source": [
    "diccionario = dict(tuplas)\n",
    "print(diccionario)"
   ]
  },
  {
   "source": [
    "Hay que tener cuidado porque si hemos escrito la ``str`` con ``'`` tenemos que acceder igual, no vale escribirla con ``'`` e intentar acceder a ella con ``\"``."
   ],
   "cell_type": "markdown",
   "metadata": {}
  },
  {
   "cell_type": "code",
   "execution_count": 6,
   "metadata": {
    "tags": []
   },
   "outputs": [
    {
     "output_type": "stream",
     "name": "stdout",
     "text": "El peso de Ana es: 55.7\nEl peso de Pedro es: 80.6\n"
    }
   ],
   "source": [
    "print(f\"El peso de Ana es: {diccionario['ana']}\")\n",
    "print(f\"El peso de Pedro es: {diccionario['pedro']}\")"
   ]
  },
  {
   "source": [
    "Podemos añadir fácilmente más elementos al diccionario dándole directamente el valor correspondiente a la nueva ``key``:"
   ],
   "cell_type": "markdown",
   "metadata": {}
  },
  {
   "cell_type": "code",
   "execution_count": 7,
   "metadata": {
    "tags": []
   },
   "outputs": [
    {
     "output_type": "stream",
     "name": "stdout",
     "text": "{'ana': 55.7, 'pedro': 80.6, 'juan': 87.8, 'oscar': 75.4, 'julia': 60.1, 'emilio': 83.2}\n"
    }
   ],
   "source": [
    "diccionario['emilio'] = 83.2\n",
    "print(diccionario)"
   ]
  },
  {
   "source": [
    "Y también podemos eliminar elementos fácilmente con el método ``pop()``."
   ],
   "cell_type": "markdown",
   "metadata": {}
  },
  {
   "cell_type": "code",
   "execution_count": 8,
   "metadata": {
    "tags": []
   },
   "outputs": [
    {
     "output_type": "stream",
     "name": "stdout",
     "text": "{'ana': 55.7, 'pedro': 80.6, 'oscar': 75.4, 'julia': 60.1, 'emilio': 83.2}\n"
    }
   ],
   "source": [
    "diccionario.pop('juan')\n",
    "print(diccionario)"
   ]
  },
  {
   "source": [
    "#### Sin comprehension"
   ],
   "cell_type": "markdown",
   "metadata": {}
  },
  {
   "cell_type": "code",
   "execution_count": 9,
   "metadata": {
    "tags": []
   },
   "outputs": [
    {
     "output_type": "stream",
     "name": "stdout",
     "text": "{'ana': 55.7, 'pedro': 80.6, 'juan': 87.8, 'oscar': 75.4, 'julia': 60.1}\n"
    }
   ],
   "source": [
    "diccionario = {}\n",
    "\n",
    "for nombre, peso in zip(Nombre, Peso):\n",
    "    diccionario[nombre] = peso\n",
    "\n",
    "print(diccionario)"
   ]
  },
  {
   "source": [
    "#### Con comprehension"
   ],
   "cell_type": "markdown",
   "metadata": {}
  },
  {
   "cell_type": "code",
   "execution_count": 10,
   "metadata": {
    "tags": []
   },
   "outputs": [
    {
     "output_type": "stream",
     "name": "stdout",
     "text": "{'ana': 55.7, 'pedro': 80.6, 'juan': 87.8, 'oscar': 75.4, 'julia': 60.1}\n"
    }
   ],
   "source": [
    "diccionario = {nombre:peso for nombre, peso in zip(Nombre, Peso)}\n",
    "print(diccionario)"
   ]
  },
  {
   "cell_type": "code",
   "execution_count": 11,
   "metadata": {},
   "outputs": [],
   "source": [
    "size = 200\n",
    "min = 0\n",
    "max = 100\n",
    "Ejer8b = []\n",
    "Ejer8c = []\n",
    "\n",
    "for i in range(size):\n",
    "    Ejer8b.append(random.randrange(min, max))\n",
    "    Ejer8c.append(random.randrange(min, max))"
   ]
  },
  {
   "cell_type": "code",
   "execution_count": 12,
   "metadata": {},
   "outputs": [],
   "source": [
    "def uniques(lista):\n",
    "    unique = []\n",
    "    count = 0\n",
    "    for elemento in lista:\n",
    "        if elemento not in unique:\n",
    "            unique.append(elemento)\n",
    "            count += 1\n",
    "    return unique, count\n"
   ]
  },
  {
   "cell_type": "code",
   "execution_count": 13,
   "metadata": {},
   "outputs": [
    {
     "output_type": "error",
     "ename": "SyntaxError",
     "evalue": "invalid syntax (<ipython-input-13-62318dfb067e>, line 4)",
     "traceback": [
      "\u001b[1;36m  File \u001b[1;32m\"<ipython-input-13-62318dfb067e>\"\u001b[1;36m, line \u001b[1;32m4\u001b[0m\n\u001b[1;33m    for elemento1\u001b[0m\n\u001b[1;37m                 ^\u001b[0m\n\u001b[1;31mSyntaxError\u001b[0m\u001b[1;31m:\u001b[0m invalid syntax\n"
     ]
    }
   ],
   "source": [
    "def comun(lista1, lista2):\n",
    "    comunes = []\n",
    "    contador = 0\n",
    "    for elemento1"
   ]
  },
  {
   "cell_type": "code",
   "execution_count": 35,
   "metadata": {
    "tags": []
   },
   "outputs": [
    {
     "output_type": "stream",
     "name": "stdout",
     "text": "Hay 86 elementos únicos en la lista B.\nHay 89 elementos únicos en la lista C.\n"
    }
   ],
   "source": [
    "Ejer8b_uniques, Ejer8b_count = uniques(Ejer8b)\n",
    "Ejer8c_uniques, Ejer8c_count = uniques(Ejer8c)\n",
    "\n",
    "print(f\"Hay {Ejer8b_count} elementos únicos en la lista B.\")\n",
    "print(f\"Hay {Ejer8c_count} elementos únicos en la lista C.\")"
   ]
  },
  {
   "source": [
    "Para comparar dos conjuntos de cosas está bien utilizar los ''set''s, ya que tienen definidos ciertos métodos que nos pueden venir bien, como ``intersection()`` y ``diference()``, que nos sirven para ver los elementos que se comparten y los que difieren. "
   ],
   "cell_type": "markdown",
   "metadata": {}
  },
  {
   "cell_type": "code",
   "execution_count": 43,
   "metadata": {},
   "outputs": [],
   "source": [
    "setA = set(Ejer8a)\n",
    "setB = set(Ejer8b)\n",
    "setC = set(Ejer8c)"
   ]
  },
  {
   "cell_type": "code",
   "execution_count": 45,
   "metadata": {
    "tags": []
   },
   "outputs": [
    {
     "output_type": "stream",
     "name": "stdout",
     "text": "Intersección entre B y C: {0, 2, 5, 6, 7, 8, 9, 10, 11, 12, 13, 14, 15, 17, 19, 20, 21, 22, 23, 24, 25, 26, 27, 28, 30, 31, 33, 34, 35, 36, 38, 39, 40, 41, 43, 46, 47, 48, 50, 51, 52, 53, 54, 55, 56, 57, 58, 59, 61, 62, 63, 64, 65, 66, 67, 68, 72, 73, 74, 75, 76, 79, 80, 82, 83, 84, 85, 86, 87, 89, 90, 92, 94, 95, 96, 97, 98, 99}\nDiferencia entre B y A: {0, 2, 34, 5, 38, 82, 22, 26}\n"
    }
   ],
   "source": [
    "interseccion = setB.intersection(setC)\n",
    "diferencia = setB.difference(setA)\n",
    "print(f\"Intersección entre B y C: {interseccion}\")\n",
    "print(f\"Diferencia entre B y A: {diferencia}\")"
   ]
  },
  {
   "cell_type": "code",
   "execution_count": 15,
   "metadata": {
    "tags": []
   },
   "outputs": [
    {
     "output_type": "stream",
     "name": "stdout",
     "text": "{'ana': 0, 'pedro': 1, 'juan': 2, 'oscar': 3, 'julia': 4}\n"
    }
   ],
   "source": [
    "diccionario_2 = {}\n",
    "\n",
    "for indice, nombre in enumerate(Nombre):\n",
    "    diccionario_2[nombre] = indice\n",
    "diccionario_2 = {nombre:indice for indice, nombre in enumerate(Nombre)}\n",
    "\n",
    "print(diccionario_2)"
   ]
  },
  {
   "cell_type": "code",
   "execution_count": 48,
   "metadata": {
    "tags": []
   },
   "outputs": [
    {
     "output_type": "stream",
     "name": "stdout",
     "text": "['pedro', 'oscar', 'julia']\n"
    }
   ],
   "source": [
    "Nombre_4 = [nombre for nombre in Nombre if len(nombre) > 4]\n",
    "print(Nombre_4)"
   ]
  },
  {
   "cell_type": "code",
   "execution_count": 52,
   "metadata": {
    "tags": []
   },
   "outputs": [
    {
     "output_type": "stream",
     "name": "stdout",
     "text": "{'pedro': 80.6, 'juan': 87.8, 'oscar': 75.4}\n"
    }
   ],
   "source": [
    "diccionario_peso = {nombre:peso for nombre,peso in diccionario.items() if peso > 65.0} #Aprovechamos que el método .items() devuelve una tupla key:value\n",
    "print(diccionario_peso)"
   ]
  },
  {
   "cell_type": "code",
   "execution_count": null,
   "metadata": {},
   "outputs": [],
   "source": []
  }
 ]
}