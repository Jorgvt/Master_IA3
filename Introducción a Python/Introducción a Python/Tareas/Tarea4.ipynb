{
 "metadata": {
  "language_info": {
   "codemirror_mode": {
    "name": "ipython",
    "version": 3
   },
   "file_extension": ".py",
   "mimetype": "text/x-python",
   "name": "python",
   "nbconvert_exporter": "python",
   "pygments_lexer": "ipython3",
   "version": "3.8.5-final"
  },
  "orig_nbformat": 2,
  "kernelspec": {
   "name": "python_defaultSpec_1600686462269",
   "display_name": "Python 3.8.5 64-bit ('Master': conda)"
  }
 },
 "nbformat": 4,
 "nbformat_minor": 2,
 "cells": [
  {
   "source": [
    "## Tarea 4. Importación de funciones y Operadores Binarios"
   ],
   "cell_type": "markdown",
   "metadata": {}
  },
  {
   "source": [
    "Empezamos importando la librería ``Numpy`` para poder utilizar todas las funciones del módulo. Lo importamos con un alias para simplificar la utilización. También se podrían importar todas las funciones por separado escribiendo ``from numpy import *``"
   ],
   "cell_type": "markdown",
   "metadata": {}
  },
  {
   "cell_type": "code",
   "execution_count": 1,
   "metadata": {},
   "outputs": [],
   "source": [
    "import numpy as np"
   ]
  },
  {
   "source": [
    "Podemos crear un numpy array que contenga 5 unos empleando la función ``ones``."
   ],
   "cell_type": "markdown",
   "metadata": {}
  },
  {
   "cell_type": "code",
   "execution_count": 3,
   "metadata": {
    "tags": []
   },
   "outputs": [
    {
     "output_type": "stream",
     "name": "stdout",
     "text": "[1. 1. 1. 1. 1.]\n"
    }
   ],
   "source": [
    "array_1 = np.ones(5)\n",
    "print(array_1)"
   ]
  },
  {
   "source": [
    "Si quisieramos emplear únicamente la función ``ones`` del módulo ``numpy`` podríamos importarla por serparada como ``from numpy import ones``"
   ],
   "cell_type": "markdown",
   "metadata": {}
  },
  {
   "cell_type": "code",
   "execution_count": 4,
   "metadata": {},
   "outputs": [],
   "source": [
    "from numpy import ones"
   ]
  },
  {
   "cell_type": "code",
   "execution_count": 5,
   "metadata": {
    "tags": []
   },
   "outputs": [
    {
     "output_type": "stream",
     "name": "stdout",
     "text": "[1. 1. 1. 1. 1.]\n"
    }
   ],
   "source": [
    "array_1_2 = ones(5)\n",
    "print(array_1_2)"
   ]
  },
  {
   "source": [
    "Al igual que hemos importado el módulo ``numpy`` con un alias, podemos importar las funciones separadas con un alias también."
   ],
   "cell_type": "markdown",
   "metadata": {}
  },
  {
   "cell_type": "code",
   "execution_count": 6,
   "metadata": {},
   "outputs": [],
   "source": [
    "from numpy import ones as unos"
   ]
  },
  {
   "cell_type": "code",
   "execution_count": 7,
   "metadata": {
    "tags": []
   },
   "outputs": [
    {
     "output_type": "stream",
     "name": "stdout",
     "text": "[1. 1. 1. 1. 1.]\n"
    }
   ],
   "source": [
    "array_1_3 = unos(5)\n",
    "print(array_1_3)"
   ]
  },
  {
   "cell_type": "code",
   "execution_count": 2,
   "metadata": {},
   "outputs": [],
   "source": [
    "a = 'Master'\n",
    "b = \"Ciencia\"\n",
    "c = \"Datos\"\n",
    "d = 2\n",
    "h = 4\n",
    "i = 3\n",
    "f = 0.5\n",
    "g = '0.5'"
   ]
  },
  {
   "source": [
    "- h^f no está permitida porque no son ``bool``.\n",
    "- i/d sí está permitida porque los dos son ``int``.\n",
    "- f+g no está permitido porque no se pueden sumar un ``int`` y un ``str``.\n",
    "- a+b+c sí está pertmitido porque al sumar ``str`` lo que hacemos es concatenarlas.\n",
    "- a-d no está permitido porque no se pueden restar un ``str`` y un ``int``."
   ],
   "cell_type": "markdown",
   "metadata": {}
  },
  {
   "source": [
    "La variable ``a`` hace referencia a un objeto inmutable porque es un ``str`` y las ``str`` son objetos inmutables."
   ],
   "cell_type": "markdown",
   "metadata": {}
  },
  {
   "source": [
    "La función ``is`` lo que hace es comprobar si dos variables apuntan a la misma posición de memoria, mientras que el operador ``==`` comprueba si el valor de las variables es exactamente el mismo.\n",
    "Es importante conocer la diferencia porque se puede dar el caso en que tengamos dos variables con mismo valor pero que apunten a posiciones de memoria diferentes o viceversa.\n",
    "Hay que notar que los ``int`` entre [[-5, 256]] se almacenan en la misma posición de memoria."
   ],
   "cell_type": "markdown",
   "metadata": {}
  },
  {
   "cell_type": "code",
   "execution_count": null,
   "metadata": {},
   "outputs": [],
   "source": []
  }
 ]
}