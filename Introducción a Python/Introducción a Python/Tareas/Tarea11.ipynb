{
 "metadata": {
  "language_info": {
   "codemirror_mode": {
    "name": "ipython",
    "version": 3
   },
   "file_extension": ".py",
   "mimetype": "text/x-python",
   "name": "python",
   "nbconvert_exporter": "python",
   "pygments_lexer": "ipython3",
   "version": "3.8.5-final"
  },
  "orig_nbformat": 2,
  "kernelspec": {
   "name": "Python 3.8.5 64-bit ('Master': conda)",
   "display_name": "Python 3.8.5 64-bit ('Master': conda)",
   "metadata": {
    "interpreter": {
     "hash": "57d46a1f3f975f92cc34d815bf69a7d3644582cc16f1cedc66cb95f17202c91e"
    }
   }
  }
 },
 "nbformat": 4,
 "nbformat_minor": 2,
 "cells": [
  {
   "cell_type": "code",
   "execution_count": 2,
   "metadata": {},
   "outputs": [],
   "source": [
    "import numpy as np"
   ]
  },
  {
   "source": [
    "## Ejercicio 1"
   ],
   "cell_type": "markdown",
   "metadata": {}
  },
  {
   "cell_type": "code",
   "execution_count": 3,
   "metadata": {
    "tags": []
   },
   "outputs": [
    {
     "output_type": "stream",
     "name": "stdout",
     "text": "[20 21 22 23 24 25 26 27 28 29 30]\n"
    }
   ],
   "source": [
    "fila = np.arange(20, 31)\n",
    "print(fila)"
   ]
  },
  {
   "source": [
    "## Ejercicio 2"
   ],
   "cell_type": "markdown",
   "metadata": {}
  },
  {
   "cell_type": "code",
   "execution_count": 4,
   "metadata": {
    "tags": []
   },
   "outputs": [
    {
     "output_type": "stream",
     "name": "stdout",
     "text": "[20 21 22 23 24 25]\n"
    }
   ],
   "source": [
    "fila_corto = fila[:6]\n",
    "print(fila_corto)"
   ]
  },
  {
   "source": [
    "## Ejercicio 3"
   ],
   "cell_type": "markdown",
   "metadata": {}
  },
  {
   "cell_type": "code",
   "execution_count": 6,
   "metadata": {
    "tags": []
   },
   "outputs": [
    {
     "output_type": "stream",
     "name": "stdout",
     "text": "[100 101 102 103 104 105 106 107 108 109 110 111 112 113 114 115 116 117\n 118 119 120 121 122 123 124 125 126 127 128 129 130 131 132 133 134 135\n 136 137 138 139 140 141 142 143 144 145 146 147 148 149 150 151 152 153\n 154 155 156 157 158 159 160 161 162 163 164 165 166 167 168 169 170 171\n 172 173 174 175 176 177 178 179 180 181 182 183 184 185 186 187 188 189\n 190 191 192 193 194 195 196 197 198 199 200]\n[100 101 102 103 104 105 106 107 108 109]\n"
    }
   ],
   "source": [
    "Ejer3a = np.arange(100, 201)\n",
    "print(Ejer3a)\n",
    "Ejer3b = Ejer3a[:10].copy()\n",
    "print(Ejer3b)"
   ]
  },
  {
   "source": [
    "## Ejercicio 4"
   ],
   "cell_type": "markdown",
   "metadata": {}
  },
  {
   "cell_type": "code",
   "execution_count": 8,
   "metadata": {
    "tags": []
   },
   "outputs": [
    {
     "output_type": "stream",
     "name": "stdout",
     "text": "[100 101 102 103 104 105 106 107 108 109 110 111 112 113 114 115 116 117\n 118 119 120 121 122 123 124 125 126 127 128 129 130 131 132 133 134 135\n 136 137 138 139 140 141 142 143 144 145 146 147 148 149 150 151 152 153\n 154 155 156 157 158 159 160 161 162 163 164 165 166 167 168 169 170 171\n 172 173 174 175 176 177 178 179 180 181 182 183 184 185 186 187 188 189\n 190 191 192 193 194 195 196 197 198 199 200]\n[9999  101 9999  103 9999  105 9999  107 9999  109]\n"
    }
   ],
   "source": [
    "Ejer3b[::2] = 9999\n",
    "print(Ejer3a)\n",
    "print(Ejer3b)"
   ]
  },
  {
   "source": [
    "## Ejercicio 5\n",
    "\n",
    "Hay que tener cuidado que no se indexan por separado, que es como se indexan las listas."
   ],
   "cell_type": "markdown",
   "metadata": {}
  },
  {
   "cell_type": "code",
   "execution_count": 25,
   "metadata": {
    "tags": []
   },
   "outputs": [
    {
     "output_type": "stream",
     "name": "stdout",
     "text": "[[10  9  8]\n [ 7  6  5]\n [ 4  3  2]]\n[[10  9  8]\n [ 7  6  5]]\n[[10  9]\n [ 7  6]\n [ 4  3]]\n[[7 6]\n [4 3]]\n"
    }
   ],
   "source": [
    "Ejer5a = np.reshape(np.arange(10, 1, -1), (3,3))\n",
    "print(Ejer5a)\n",
    "Ejer5b = Ejer5a[:2].copy()\n",
    "print(Ejer5b)\n",
    "Ejer5c = Ejer5a[:,:2].copy()\n",
    "print(Ejer5c)\n",
    "Ejer5d = Ejer5a[1:,:2].copy()\n",
    "print(Ejer5d)"
   ]
  },
  {
   "cell_type": "code",
   "execution_count": null,
   "metadata": {},
   "outputs": [],
   "source": []
  }
 ]
}