{
 "metadata": {
  "language_info": {
   "codemirror_mode": {
    "name": "ipython",
    "version": 3
   },
   "file_extension": ".py",
   "mimetype": "text/x-python",
   "name": "python",
   "nbconvert_exporter": "python",
   "pygments_lexer": "ipython3",
   "version": "3.8.5-final"
  },
  "orig_nbformat": 2,
  "kernelspec": {
   "name": "Python 3.8.5 64-bit ('Master': conda)",
   "display_name": "Python 3.8.5 64-bit ('Master': conda)",
   "metadata": {
    "interpreter": {
     "hash": "57d46a1f3f975f92cc34d815bf69a7d3644582cc16f1cedc66cb95f17202c91e"
    }
   }
  }
 },
 "nbformat": 4,
 "nbformat_minor": 2,
 "cells": [
  {
   "cell_type": "code",
   "execution_count": 2,
   "metadata": {},
   "outputs": [],
   "source": [
    "import numpy as np"
   ]
  },
  {
   "source": [
    "## Ejercicio 1"
   ],
   "cell_type": "markdown",
   "metadata": {}
  },
  {
   "cell_type": "code",
   "execution_count": 4,
   "metadata": {
    "tags": []
   },
   "outputs": [
    {
     "output_type": "stream",
     "name": "stdout",
     "text": "[10 12 14 16]\n"
    }
   ],
   "source": [
    "array1 = np.array([10, 12, 14, 16])\n",
    "print(array1)"
   ]
  },
  {
   "source": [
    "## Ejercicio 2"
   ],
   "cell_type": "markdown",
   "metadata": {}
  },
  {
   "cell_type": "code",
   "execution_count": 8,
   "metadata": {
    "tags": []
   },
   "outputs": [
    {
     "output_type": "stream",
     "name": "stdout",
     "text": "array1 contiene datos de tipo int32.\n"
    }
   ],
   "source": [
    "print(f\"array1 contiene datos de tipo {array1.dtype}.\")"
   ]
  },
  {
   "source": [
    "## Ejercicio 3"
   ],
   "cell_type": "markdown",
   "metadata": {}
  },
  {
   "cell_type": "code",
   "execution_count": 10,
   "metadata": {
    "tags": []
   },
   "outputs": [
    {
     "output_type": "stream",
     "name": "stdout",
     "text": "El tamaño de array1 es (4,).\n"
    }
   ],
   "source": [
    "print(f\"El tamaño de array1 es {array1.shape}.\")"
   ]
  },
  {
   "source": [
    "## Ejercicio 4"
   ],
   "cell_type": "markdown",
   "metadata": {}
  },
  {
   "cell_type": "code",
   "execution_count": 11,
   "metadata": {
    "tags": []
   },
   "outputs": [
    {
     "output_type": "stream",
     "name": "stdout",
     "text": "[[0. 0. 0. 0.]\n [0. 0. 0. 0.]\n [0. 0. 0. 0.]\n [0. 0. 0. 0.]\n [0. 0. 0. 0.]]\n[[1. 1. 1. 1.]\n [1. 1. 1. 1.]\n [1. 1. 1. 1.]\n [1. 1. 1. 1.]\n [1. 1. 1. 1.]]\n"
    }
   ],
   "source": [
    "ceros = np.zeros((5,4))\n",
    "unos = np.ones((5,4))\n",
    "print(ceros)\n",
    "print(unos)"
   ]
  },
  {
   "source": [
    "## Ejercicio 5"
   ],
   "cell_type": "markdown",
   "metadata": {}
  },
  {
   "cell_type": "code",
   "execution_count": 14,
   "metadata": {
    "tags": []
   },
   "outputs": [
    {
     "output_type": "stream",
     "name": "stdout",
     "text": "[[1. 0. 0. 0. 0. 0. 0.]\n [0. 1. 0. 0. 0. 0. 0.]\n [0. 0. 1. 0. 0. 0. 0.]\n [0. 0. 0. 1. 0. 0. 0.]\n [0. 0. 0. 0. 1. 0. 0.]\n [0. 0. 0. 0. 0. 1. 0.]\n [0. 0. 0. 0. 0. 0. 1.]]\n"
    }
   ],
   "source": [
    "identidad = np.eye(7)\n",
    "print(identidad)"
   ]
  },
  {
   "source": [
    "## Ejercicio 6"
   ],
   "cell_type": "markdown",
   "metadata": {}
  },
  {
   "cell_type": "code",
   "execution_count": 15,
   "metadata": {
    "tags": []
   },
   "outputs": [
    {
     "output_type": "stream",
     "name": "stdout",
     "text": "[  1   2   3   4   5   6   7   8   9  10  11  12  13  14  15  16  17  18\n  19  20  21  22  23  24  25  26  27  28  29  30  31  32  33  34  35  36\n  37  38  39  40  41  42  43  44  45  46  47  48  49  50  51  52  53  54\n  55  56  57  58  59  60  61  62  63  64  65  66  67  68  69  70  71  72\n  73  74  75  76  77  78  79  80  81  82  83  84  85  86  87  88  89  90\n  91  92  93  94  95  96  97  98  99 100]\n"
    }
   ],
   "source": [
    "secuencia = np.arange(1,101)\n",
    "print(secuencia)"
   ]
  },
  {
   "source": [
    "## Ejercicio 7"
   ],
   "cell_type": "markdown",
   "metadata": {}
  },
  {
   "cell_type": "code",
   "execution_count": 21,
   "metadata": {
    "tags": []
   },
   "outputs": [
    {
     "output_type": "stream",
     "name": "stdout",
     "text": "[ 0  2  4  6  8 10 12 14 16]\n[[ 0  2  4]\n [ 6  8 10]\n [12 14 16]]\n[[ 1.  2.  4.]\n [ 6.  9. 10.]\n [12. 14. 17.]]\n"
    }
   ],
   "source": [
    "pares = np.arange(0, 18, 2)\n",
    "print(pares)\n",
    "pares = np.reshape(pares, (3,3))\n",
    "print(pares)\n",
    "pares = pares + np.eye(3)\n",
    "print(pares)"
   ]
  },
  {
   "source": [
    "## Ejercicio 8"
   ],
   "cell_type": "markdown",
   "metadata": {}
  },
  {
   "cell_type": "code",
   "execution_count": 22,
   "metadata": {
    "tags": []
   },
   "outputs": [
    {
     "output_type": "stream",
     "name": "stdout",
     "text": "[[1.         0.5        0.25      ]\n [0.16666667 0.11111111 0.1       ]\n [0.08333333 0.07142857 0.05882353]]\n"
    }
   ],
   "source": [
    "inv = 1 / pares\n",
    "print(inv)"
   ]
  },
  {
   "source": [
    "## Ejercicio 9"
   ],
   "cell_type": "markdown",
   "metadata": {}
  },
  {
   "cell_type": "code",
   "execution_count": 23,
   "metadata": {
    "tags": []
   },
   "outputs": [
    {
     "output_type": "stream",
     "name": "stdout",
     "text": "[[1.         0.70710678 0.5       ]\n [0.40824829 0.33333333 0.31622777]\n [0.28867513 0.26726124 0.24253563]]\n"
    }
   ],
   "source": [
    "raiz = np.sqrt(inv)\n",
    "print(raiz)"
   ]
  },
  {
   "cell_type": "code",
   "execution_count": null,
   "metadata": {},
   "outputs": [],
   "source": []
  }
 ]
}