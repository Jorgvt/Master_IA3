{
 "cells": [
  {
   "cell_type": "markdown",
   "metadata": {},
   "source": [
    "<img src=\"idal-logo.png\" align=\"right\" style=\"float\" width=\"400\">\n",
    "<font color=\"#CA3532\"><h1 align=\"left\">mIA3</h1></font>\n",
    "<font color=\"#6E6E6E\"><h2 align=\"left\">Tarea 12. Numpy.</h2></font> \n",
    "\n",
    "#### Juan Gómez-Sanchis"
   ]
  },
  {
   "cell_type": "code",
   "execution_count": 1,
   "metadata": {},
   "outputs": [
    {
     "data": {
      "text/plain": [
       "array([[ 1,  2,  3,  4,  5,  6,  7,  8,  9, 10],\n",
       "       [11, 12, 13, 14, 15, 16, 17, 18, 19, 20]])"
      ]
     },
     "execution_count": 1,
     "metadata": {},
     "output_type": "execute_result"
    }
   ],
   "source": [
    "import numpy as np\n",
    "\n",
    "Ejer1=np.arange(1,21,1).reshape(2,10)\n",
    "Ejer1"
   ]
  },
  {
   "cell_type": "code",
   "execution_count": 2,
   "metadata": {},
   "outputs": [
    {
     "data": {
      "text/plain": [
       "array([[ 550., 1550.],\n",
       "       [ 550., 1550.]])"
      ]
     },
     "execution_count": 2,
     "metadata": {},
     "output_type": "execute_result"
    }
   ],
   "source": [
    "Ejer2=np.ones((2,10))*10\n",
    "Ejer2\n",
    "np.dot(Ejer2,Ejer1.T)"
   ]
  },
  {
   "cell_type": "code",
   "execution_count": 3,
   "metadata": {},
   "outputs": [
    {
     "data": {
      "text/plain": [
       "array([[[  1,   2,   3,   4,   5],\n",
       "        [  6,   7,   8,   9,  10],\n",
       "        [ 11,  12,  13,  14,  15],\n",
       "        [ 16,  17,  18,  19,  20],\n",
       "        [ 21,  22,  23,  24,  25],\n",
       "        [ 26,  27,  28,  29,  30],\n",
       "        [ 31,  32,  33,  34,  35],\n",
       "        [ 36,  37,  38,  39,  40],\n",
       "        [ 41,  42,  43,  44,  45]],\n",
       "\n",
       "       [[ 46,  47,  48,  49,  50],\n",
       "        [ 51,  52,  53,  54,  55],\n",
       "        [ 56,  57,  58,  59,  60],\n",
       "        [ 61,  62,  63,  64,  65],\n",
       "        [ 66,  67,  68,  69,  70],\n",
       "        [ 71,  72,  73,  74,  75],\n",
       "        [ 76,  77,  78,  79,  80],\n",
       "        [ 81,  82,  83,  84,  85],\n",
       "        [ 86,  87,  88,  89,  90]],\n",
       "\n",
       "       [[ 91,  92,  93,  94,  95],\n",
       "        [ 96,  97,  98,  99, 100],\n",
       "        [101, 102, 103, 104, 105],\n",
       "        [106, 107, 108, 109, 110],\n",
       "        [111, 112, 113, 114, 115],\n",
       "        [116, 117, 118, 119, 120],\n",
       "        [121, 122, 123, 124, 125],\n",
       "        [126, 127, 128, 129, 130],\n",
       "        [131, 132, 133, 134, 135]],\n",
       "\n",
       "       [[136, 137, 138, 139, 140],\n",
       "        [141, 142, 143, 144, 145],\n",
       "        [146, 147, 148, 149, 150],\n",
       "        [151, 152, 153, 154, 155],\n",
       "        [156, 157, 158, 159, 160],\n",
       "        [161, 162, 163, 164, 165],\n",
       "        [166, 167, 168, 169, 170],\n",
       "        [171, 172, 173, 174, 175],\n",
       "        [176, 177, 178, 179, 180]],\n",
       "\n",
       "       [[181, 182, 183, 184, 185],\n",
       "        [186, 187, 188, 189, 190],\n",
       "        [191, 192, 193, 194, 195],\n",
       "        [196, 197, 198, 199, 200],\n",
       "        [201, 202, 203, 204, 205],\n",
       "        [206, 207, 208, 209, 210],\n",
       "        [211, 212, 213, 214, 215],\n",
       "        [216, 217, 218, 219, 220],\n",
       "        [221, 222, 223, 224, 225]],\n",
       "\n",
       "       [[226, 227, 228, 229, 230],\n",
       "        [231, 232, 233, 234, 235],\n",
       "        [236, 237, 238, 239, 240],\n",
       "        [241, 242, 243, 244, 245],\n",
       "        [246, 247, 248, 249, 250],\n",
       "        [251, 252, 253, 254, 255],\n",
       "        [256, 257, 258, 259, 260],\n",
       "        [261, 262, 263, 264, 265],\n",
       "        [266, 267, 268, 269, 270]],\n",
       "\n",
       "       [[271, 272, 273, 274, 275],\n",
       "        [276, 277, 278, 279, 280],\n",
       "        [281, 282, 283, 284, 285],\n",
       "        [286, 287, 288, 289, 290],\n",
       "        [291, 292, 293, 294, 295],\n",
       "        [296, 297, 298, 299, 300],\n",
       "        [301, 302, 303, 304, 305],\n",
       "        [306, 307, 308, 309, 310],\n",
       "        [311, 312, 313, 314, 315]],\n",
       "\n",
       "       [[316, 317, 318, 319, 320],\n",
       "        [321, 322, 323, 324, 325],\n",
       "        [326, 327, 328, 329, 330],\n",
       "        [331, 332, 333, 334, 335],\n",
       "        [336, 337, 338, 339, 340],\n",
       "        [341, 342, 343, 344, 345],\n",
       "        [346, 347, 348, 349, 350],\n",
       "        [351, 352, 353, 354, 355],\n",
       "        [356, 357, 358, 359, 360]],\n",
       "\n",
       "       [[361, 362, 363, 364, 365],\n",
       "        [366, 367, 368, 369, 370],\n",
       "        [371, 372, 373, 374, 375],\n",
       "        [376, 377, 378, 379, 380],\n",
       "        [381, 382, 383, 384, 385],\n",
       "        [386, 387, 388, 389, 390],\n",
       "        [391, 392, 393, 394, 395],\n",
       "        [396, 397, 398, 399, 400],\n",
       "        [401, 402, 403, 404, 405]],\n",
       "\n",
       "       [[406, 407, 408, 409, 410],\n",
       "        [411, 412, 413, 414, 415],\n",
       "        [416, 417, 418, 419, 420],\n",
       "        [421, 422, 423, 424, 425],\n",
       "        [426, 427, 428, 429, 430],\n",
       "        [431, 432, 433, 434, 435],\n",
       "        [436, 437, 438, 439, 440],\n",
       "        [441, 442, 443, 444, 445],\n",
       "        [446, 447, 448, 449, 450]]])"
      ]
     },
     "execution_count": 3,
     "metadata": {},
     "output_type": "execute_result"
    }
   ],
   "source": [
    "Ejer3=np.arange(1,451,1).reshape(10,9,5)\n",
    "Ejer3"
   ]
  },
  {
   "cell_type": "code",
   "execution_count": 4,
   "metadata": {},
   "outputs": [
    {
     "data": {
      "text/plain": [
       "array([[ 1,  2,  3,  4,  5],\n",
       "       [ 6,  7,  8,  9, 10],\n",
       "       [11, 12, 13, 14, 15],\n",
       "       [16, 17, 18, 19, 20],\n",
       "       [21, 22, 23, 24, 25],\n",
       "       [26, 27, 28, 29, 30],\n",
       "       [31, 32, 33, 34, 35],\n",
       "       [36, 37, 38, 39, 40],\n",
       "       [41, 42, 43, 44, 45]])"
      ]
     },
     "execution_count": 4,
     "metadata": {},
     "output_type": "execute_result"
    }
   ],
   "source": [
    "Ejer4a=Ejer3[0,:,:]\n",
    "Ejer4a"
   ]
  },
  {
   "cell_type": "code",
   "execution_count": 5,
   "metadata": {},
   "outputs": [
    {
     "data": {
      "text/plain": [
       "array([[406, 407, 408, 409, 410],\n",
       "       [411, 412, 413, 414, 415],\n",
       "       [416, 417, 418, 419, 420],\n",
       "       [421, 422, 423, 424, 425],\n",
       "       [426, 427, 428, 429, 430],\n",
       "       [431, 432, 433, 434, 435],\n",
       "       [436, 437, 438, 439, 440],\n",
       "       [441, 442, 443, 444, 445],\n",
       "       [446, 447, 448, 449, 450]])"
      ]
     },
     "execution_count": 5,
     "metadata": {},
     "output_type": "execute_result"
    }
   ],
   "source": [
    "Ejer4b=Ejer3[9,:,:]\n",
    "Ejer4b"
   ]
  },
  {
   "cell_type": "code",
   "execution_count": 6,
   "metadata": {},
   "outputs": [
    {
     "data": {
      "text/plain": [
       "array([[ 6130,  6205,  6280,  6355,  6430,  6505,  6580,  6655,  6730],\n",
       "       [16330, 16530, 16730, 16930, 17130, 17330, 17530, 17730, 17930],\n",
       "       [26530, 26855, 27180, 27505, 27830, 28155, 28480, 28805, 29130],\n",
       "       [36730, 37180, 37630, 38080, 38530, 38980, 39430, 39880, 40330],\n",
       "       [46930, 47505, 48080, 48655, 49230, 49805, 50380, 50955, 51530],\n",
       "       [57130, 57830, 58530, 59230, 59930, 60630, 61330, 62030, 62730],\n",
       "       [67330, 68155, 68980, 69805, 70630, 71455, 72280, 73105, 73930],\n",
       "       [77530, 78480, 79430, 80380, 81330, 82280, 83230, 84180, 85130],\n",
       "       [87730, 88805, 89880, 90955, 92030, 93105, 94180, 95255, 96330]])"
      ]
     },
     "execution_count": 6,
     "metadata": {},
     "output_type": "execute_result"
    }
   ],
   "source": [
    "np.dot(Ejer4a,Ejer4b.T)"
   ]
  },
  {
   "cell_type": "code",
   "execution_count": 7,
   "metadata": {},
   "outputs": [
    {
     "data": {
      "text/plain": [
       "array([51, 52, 53, 54, 55])"
      ]
     },
     "execution_count": 7,
     "metadata": {},
     "output_type": "execute_result"
    }
   ],
   "source": [
    "Ejer4c=Ejer3[1,1,:]\n",
    "Ejer4c"
   ]
  },
  {
   "cell_type": "code",
   "execution_count": 8,
   "metadata": {},
   "outputs": [
    {
     "data": {
      "text/plain": [
       "array([91, 92, 93, 94, 95])"
      ]
     },
     "execution_count": 8,
     "metadata": {},
     "output_type": "execute_result"
    }
   ],
   "source": [
    "Ejer4d=Ejer3[2,0,:]\n",
    "Ejer4d"
   ]
  },
  {
   "cell_type": "code",
   "execution_count": 9,
   "metadata": {},
   "outputs": [
    {
     "data": {
      "text/plain": [
       "24655"
      ]
     },
     "execution_count": 9,
     "metadata": {},
     "output_type": "execute_result"
    }
   ],
   "source": [
    "np.dot(Ejer4c,Ejer4d)"
   ]
  },
  {
   "cell_type": "code",
   "execution_count": 10,
   "metadata": {},
   "outputs": [
    {
     "data": {
      "text/plain": [
       "array([ 5, 10, 15, 20, 25, 30, 35, 40, 45])"
      ]
     },
     "execution_count": 10,
     "metadata": {},
     "output_type": "execute_result"
    }
   ],
   "source": [
    "Ejer4e=Ejer3[0,:,4]\n",
    "Ejer4e"
   ]
  },
  {
   "cell_type": "code",
   "execution_count": 11,
   "metadata": {},
   "outputs": [
    {
     "data": {
      "text/plain": [
       "array([138, 143, 148, 153, 158, 163, 168, 173, 178])"
      ]
     },
     "execution_count": 11,
     "metadata": {},
     "output_type": "execute_result"
    }
   ],
   "source": [
    "Ejer4f=Ejer3[3,:,2]\n",
    "Ejer4f"
   ]
  },
  {
   "cell_type": "code",
   "execution_count": 12,
   "metadata": {},
   "outputs": [
    {
     "data": {
      "text/plain": [
       "37050"
      ]
     },
     "execution_count": 12,
     "metadata": {},
     "output_type": "execute_result"
    }
   ],
   "source": [
    "np.dot(Ejer4e,Ejer4f)"
   ]
  },
  {
   "cell_type": "code",
   "execution_count": null,
   "metadata": {},
   "outputs": [],
   "source": []
  }
 ],
 "metadata": {
  "kernelspec": {
   "display_name": "Python 3",
   "language": "python",
   "name": "python3"
  },
  "language_info": {
   "codemirror_mode": {
    "name": "ipython",
    "version": 3
   },
   "file_extension": ".py",
   "mimetype": "text/x-python",
   "name": "python",
   "nbconvert_exporter": "python",
   "pygments_lexer": "ipython3",
   "version": "3.7.3"
  }
 },
 "nbformat": 4,
 "nbformat_minor": 2
}
