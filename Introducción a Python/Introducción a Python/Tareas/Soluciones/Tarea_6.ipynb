{
 "cells": [
  {
   "cell_type": "markdown",
   "metadata": {},
   "source": [
    "<img src=\"idal-logo.png\" align=\"right\" style=\"float\" width=\"400\">\n",
    "<font color=\"#CA3532\"><h1 align=\"left\">mIA3</h1></font>\n",
    "<font color=\"#6E6E6E\"><h2 align=\"left\">Tarea 6. Python Basics.</h2></font> \n",
    "\n",
    "#### Juan Gómez-Sanchis"
   ]
  },
  {
   "cell_type": "code",
   "execution_count": 1,
   "metadata": {},
   "outputs": [
    {
     "name": "stdout",
     "output_type": "stream",
     "text": [
      "53\n",
      "51039\n"
     ]
    }
   ],
   "source": [
    "contador=0\n",
    "test=0\n",
    "while test<50000:\n",
    "    contador=contador+1\n",
    "    test=test+(contador**2) #Cuidado con la potencia **\n",
    "\n",
    "print(contador)\n",
    "print(test)"
   ]
  },
  {
   "cell_type": "code",
   "execution_count": 2,
   "metadata": {},
   "outputs": [
    {
     "name": "stdout",
     "output_type": "stream",
     "text": [
      "Obesidad Grado I\n"
     ]
    }
   ],
   "source": [
    "Peso=92\n",
    "Altura=1.85\n",
    "IMC=Peso/(Altura**2)\n",
    "\n",
    "if IMC<17:\n",
    "    print('Infrapeso')\n",
    "elif (IMC>=17) & (IMC<18):\n",
    "    print('Bajo Peso')\n",
    "elif (IMC>=18) & (IMC<25):\n",
    "    print('Peso OK')\n",
    "elif (IMC>=25) & (IMC<30):\n",
    "    print('Obesidad Grado I')\n",
    "elif (IMC>=30) & (IMC<35):\n",
    "    print('Obesidad Grado II')\n",
    "elif (IMC>=35) & (IMC<40):\n",
    "    print('Obesidad Grado III')\n",
    "else:\n",
    "    print('Obesidad Grado IV')"
   ]
  },
  {
   "cell_type": "code",
   "execution_count": 4,
   "metadata": {},
   "outputs": [
    {
     "data": {
      "text/plain": [
       "6"
      ]
     },
     "execution_count": 4,
     "metadata": {},
     "output_type": "execute_result"
    }
   ],
   "source": [
    "#Cálculo rudimentario del factorial\n",
    "argumento=3\n",
    "\n",
    "\n",
    "if argumento==0:\n",
    "    factorial=1\n",
    "else:\n",
    "    factorial=1\n",
    "    for indice in range(1,argumento+1):\n",
    "        factorial=factorial*indice\n",
    "        #factorial*=indice\n",
    "\n",
    "factorial\n",
    "            "
   ]
  },
  {
   "cell_type": "code",
   "execution_count": 4,
   "metadata": {},
   "outputs": [
    {
     "name": "stdout",
     "output_type": "stream",
     "text": [
      "Imposible Conversión\n",
      "Juan\n"
     ]
    }
   ],
   "source": [
    "A='Juan' #Caso desfavorable\n",
    "#A='1.23' #Caso favorable\n",
    "#A=1.23 #Caso \n",
    "try:\n",
    "    A=float(A) #Intenta hacer la conversión\n",
    "except:\n",
    "    print('Imposible Conversión') #Si nopuede hacerla\n",
    "else:\n",
    "    print('Conversión OK') # Si la puede hacer\n",
    "finally:\n",
    "    print(A) # Y en cualquier caso mostrara el contenido de A\n",
    "    "
   ]
  },
  {
   "cell_type": "code",
   "execution_count": null,
   "metadata": {},
   "outputs": [],
   "source": []
  }
 ],
 "metadata": {
  "kernelspec": {
   "display_name": "Python 3",
   "language": "python",
   "name": "python3"
  },
  "language_info": {
   "codemirror_mode": {
    "name": "ipython",
    "version": 3
   },
   "file_extension": ".py",
   "mimetype": "text/x-python",
   "name": "python",
   "nbconvert_exporter": "python",
   "pygments_lexer": "ipython3",
   "version": "3.7.3"
  }
 },
 "nbformat": 4,
 "nbformat_minor": 2
}
