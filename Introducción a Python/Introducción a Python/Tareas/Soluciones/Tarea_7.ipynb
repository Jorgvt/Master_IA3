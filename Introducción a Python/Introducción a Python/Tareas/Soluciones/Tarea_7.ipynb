{
 "cells": [
  {
   "cell_type": "markdown",
   "metadata": {},
   "source": [
    "<img src=\"idal-logo.png\" align=\"right\" style=\"float\" width=\"400\">\n",
    "<font color=\"#CA3532\"><h1 align=\"left\">mIA3</h1></font>\n",
    "<font color=\"#6E6E6E\"><h2 align=\"left\">Tarea 7. Python Basics.</h2></font> \n",
    "\n",
    "#### Juan Gómez-Sanchis"
   ]
  },
  {
   "cell_type": "code",
   "execution_count": 4,
   "metadata": {},
   "outputs": [
    {
     "data": {
      "text/plain": [
       "['Juan', 'Gómez', 'Valencia']"
      ]
     },
     "execution_count": 4,
     "metadata": {},
     "output_type": "execute_result"
    }
   ],
   "source": [
    "A=['Juan', 'Gómez']\n",
    "A_bis=('Juan', 'Gómez','Sanchis')\n",
    "\n",
    "A.append('Sanchis')\n",
    "\n",
    "\n",
    "A[2]='Valencia'\n",
    "\n",
    "A\n",
    "#Tupla es un objeto inmutable y no puede ser modificado por indexado directo.\n",
    "\n",
    "#A_bis[2]='Valencia'"
   ]
  },
  {
   "cell_type": "code",
   "execution_count": 5,
   "metadata": {},
   "outputs": [
    {
     "data": {
      "text/plain": [
       "[['Juan', 'Gómez', 'Valencia'], (1, 3, 5), [2, 4, 6]]"
      ]
     },
     "execution_count": 5,
     "metadata": {},
     "output_type": "execute_result"
    }
   ],
   "source": [
    "B=[A,(1,3,5),[2,4,6]]\n",
    "B"
   ]
  },
  {
   "cell_type": "code",
   "execution_count": 9,
   "metadata": {},
   "outputs": [
    {
     "name": "stdout",
     "output_type": "stream",
     "text": [
      "Juan\n",
      "1\n",
      "4\n"
     ]
    }
   ],
   "source": [
    "print(B[0][0])\n",
    "print(B[1][0])\n",
    "print(B[2][1])"
   ]
  },
  {
   "cell_type": "code",
   "execution_count": 7,
   "metadata": {},
   "outputs": [
    {
     "name": "stdout",
     "output_type": "stream",
     "text": [
      "Imposible Ordenación\n",
      "<class 'int'>\n"
     ]
    }
   ],
   "source": [
    "C=[3,'Juan',8] #Desfavorable\n",
    "#C=[3.0,1,8] #Favorable\n",
    "\n",
    "try:\n",
    "    sorted(C)\n",
    "except:\n",
    "    print('Imposible Ordenación')\n",
    "else:\n",
    "    print('Lista Ordenada')\n",
    "    print(sorted(C))\n",
    "    \n",
    "    ##Otra forma....\n",
    "    #C.sort() #ordena C y el resultado ordenado lo mete en C\n",
    "    #print(C)\n",
    "\n",
    "finally:\n",
    "    print(type(C[0]))\n"
   ]
  }
 ],
 "metadata": {
  "kernelspec": {
   "display_name": "Python 3",
   "language": "python",
   "name": "python3"
  },
  "language_info": {
   "codemirror_mode": {
    "name": "ipython",
    "version": 3
   },
   "file_extension": ".py",
   "mimetype": "text/x-python",
   "name": "python",
   "nbconvert_exporter": "python",
   "pygments_lexer": "ipython3",
   "version": "3.7.3"
  }
 },
 "nbformat": 4,
 "nbformat_minor": 4
}
