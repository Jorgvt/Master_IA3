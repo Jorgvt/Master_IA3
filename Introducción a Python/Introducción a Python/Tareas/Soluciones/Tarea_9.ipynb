{
 "cells": [
  {
   "cell_type": "markdown",
   "metadata": {},
   "source": [
    "<img src=\"idal-logo.png\" align=\"right\" style=\"float\" width=\"400\">\n",
    "<font color=\"#CA3532\"><h1 align=\"left\">mIA3</h1></font>\n",
    "<font color=\"#6E6E6E\"><h2 align=\"left\">Tarea 9. Python Basics.</h2></font> \n",
    "\n",
    "#### Juan Gómez-Sanchis"
   ]
  },
  {
   "cell_type": "code",
   "execution_count": 3,
   "metadata": {},
   "outputs": [
    {
     "name": "stdout",
     "output_type": "stream",
     "text": [
      "Variable      Type        Data/Info\n",
      "-----------------------------------\n",
      "Mifactorial   function    <function Mifactorial at 0x7f94c430f158>\n"
     ]
    }
   ],
   "source": [
    "whos"
   ]
  },
  {
   "cell_type": "code",
   "execution_count": 2,
   "metadata": {},
   "outputs": [
    {
     "data": {
      "text/plain": [
       "24"
      ]
     },
     "execution_count": 2,
     "metadata": {},
     "output_type": "execute_result"
    }
   ],
   "source": [
    "def Mifactorial(x):\n",
    "    \n",
    "    if x==0:\n",
    "        factorial=1\n",
    "    else:\n",
    "        factorial=1\n",
    "        for i in range(x):\n",
    "            factorial=factorial*(i+1)\n",
    "    return factorial\n",
    "\n",
    "        \n",
    "    \n",
    "Mifactorial(4)"
   ]
  },
  {
   "cell_type": "code",
   "execution_count": 4,
   "metadata": {},
   "outputs": [
    {
     "name": "stdout",
     "output_type": "stream",
     "text": [
      "Cliente Normal\n"
     ]
    },
    {
     "data": {
      "text/plain": [
       "['Juan', 19.531249999999996]"
      ]
     },
     "execution_count": 4,
     "metadata": {},
     "output_type": "execute_result"
    }
   ],
   "source": [
    "def ICC(Gasto,Insatisfaccion,Nombre):\n",
    "    IC=Gasto/((Insatisfaccion+1)**2)\n",
    "    if IC<17:\n",
    "        print('Cliente Pesimo')\n",
    "    elif (IC>=17) & (IC<18):\n",
    "        print('Cliente Pesimo II')\n",
    "    elif (IC>=18) & (IC<25):\n",
    "        print('Cliente Normal')\n",
    "    elif (IC>=25) & (IC<30):\n",
    "        print('Cliente OK')\n",
    "    elif (IC>=30) & (IC<35):\n",
    "        print('Cliente OK II')\n",
    "    elif (IC>=35) & (IC<40):\n",
    "        print('Cliente OK III')\n",
    "    else:\n",
    "        print('Cliente Premium')\n",
    "    \n",
    "    return [Nombre,IC]\n",
    "\n",
    "ICC(50,0.6,'Juan')"
   ]
  },
  {
   "cell_type": "code",
   "execution_count": 5,
   "metadata": {},
   "outputs": [
    {
     "data": {
      "text/plain": [
       "{'Mariano': 41.666666666666664, 'Juan': 31.25}"
      ]
     },
     "execution_count": 5,
     "metadata": {},
     "output_type": "execute_result"
    }
   ],
   "source": [
    "def ICC_GLOBAL(Datos):\n",
    "    IC_dict={}\n",
    "    for i in range(len(Datos)):\n",
    "        IC_dict[list(Datos.keys())[i]]=list(Datos.values())[i][0]/((list(Datos.values())[i][1]+1**2))\n",
    "    \n",
    "    return IC_dict\n",
    "\n",
    "Datos_dict={'Mariano': [75,0.8], 'Juan':[50,0.6]}\n",
    "\n",
    "ICC_GLOBAL(Datos_dict)"
   ]
  },
  {
   "cell_type": "code",
   "execution_count": 7,
   "metadata": {},
   "outputs": [
    {
     "name": "stdout",
     "output_type": "stream",
     "text": [
      "No se puede calcular el IC, revisa los argumentos\n"
     ]
    },
    {
     "data": {
      "text/plain": [
       "{}"
      ]
     },
     "execution_count": 7,
     "metadata": {},
     "output_type": "execute_result"
    }
   ],
   "source": [
    "def ICC_GLOBAL(Datos):\n",
    "    IC_dict={}\n",
    "    for i in range(len(Datos)):\n",
    "        try:\n",
    "            IC_dict[list(Datos.keys())[i]]=list(Datos.values())[i][0]/((list(Datos.values())[i][1]+1)**2)\n",
    "        except:\n",
    "            IC_dict={}\n",
    "            print('No se puede calcular el IC, revisa los argumentos')\n",
    "            break\n",
    "    return IC_dict\n",
    "\n",
    "Datos_dict_OK={'Mariano': [75,0.8], 'Juan':[50,0.6]}\n",
    "\n",
    "Datos_dict_NoOK={'Mariano': [75,'0.8'], 'Juan':[50,0.6]}\n",
    "\n",
    "ICC_GLOBAL(Datos_dict_NoOK)"
   ]
  },
  {
   "cell_type": "code",
   "execution_count": null,
   "metadata": {},
   "outputs": [],
   "source": []
  },
  {
   "cell_type": "code",
   "execution_count": null,
   "metadata": {},
   "outputs": [],
   "source": []
  }
 ],
 "metadata": {
  "kernelspec": {
   "display_name": "Python 3",
   "language": "python",
   "name": "python3"
  },
  "language_info": {
   "codemirror_mode": {
    "name": "ipython",
    "version": 3
   },
   "file_extension": ".py",
   "mimetype": "text/x-python",
   "name": "python",
   "nbconvert_exporter": "python",
   "pygments_lexer": "ipython3",
   "version": "3.7.3"
  }
 },
 "nbformat": 4,
 "nbformat_minor": 2
}
