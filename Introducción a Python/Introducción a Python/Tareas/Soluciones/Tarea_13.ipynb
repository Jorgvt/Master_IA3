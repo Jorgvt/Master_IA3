{
 "cells": [
  {
   "cell_type": "markdown",
   "metadata": {},
   "source": [
    "<img src=\"idal-logo.png\" align=\"right\" style=\"float\" width=\"400\">\n",
    "<font color=\"#CA3532\"><h1 align=\"left\">mIA3</h1></font>\n",
    "<font color=\"#6E6E6E\"><h2 align=\"left\">Tarea 13. Numpy.</h2></font> \n",
    "\n",
    "#### Juan Gómez-Sanchis"
   ]
  },
  {
   "cell_type": "code",
   "execution_count": 3,
   "metadata": {},
   "outputs": [
    {
     "data": {
      "text/plain": [
       "array([[ 0.31682384,  1.54215552, -0.17296031, ...,  1.68472253,\n",
       "         0.45415627, -0.56754212],\n",
       "       [-1.73538659,  0.30636432, -0.68435858, ...,  0.68365662,\n",
       "        -0.28728943, -2.36467286],\n",
       "       [ 0.99958489,  2.87680708, -0.52012668, ...,  1.26224946,\n",
       "        -0.35144673,  0.4595206 ],\n",
       "       ...,\n",
       "       [ 1.64388475, -0.07882607,  2.32260867, ...,  0.69556902,\n",
       "         0.88746168, -0.72408836],\n",
       "       [ 1.04265815, -3.00525368, -1.67212891, ...,  0.16811479,\n",
       "         0.04895228, -0.04238123],\n",
       "       [ 1.07957225, -1.05710057, -0.79115468, ...,  1.40735492,\n",
       "        -1.77130014, -0.13668606]])"
      ]
     },
     "execution_count": 3,
     "metadata": {},
     "output_type": "execute_result"
    }
   ],
   "source": [
    "import numpy as np\n",
    "Ejer3=np.random.randn(2500).reshape(50,50)\n",
    "Ejer3"
   ]
  },
  {
   "cell_type": "code",
   "execution_count": 4,
   "metadata": {},
   "outputs": [
    {
     "name": "stdout",
     "output_type": "stream",
     "text": [
      "-0.004129224603971468\n",
      "1.0180870872732268\n",
      "[ 2.97042125e-01  9.74023507e+00  7.41979874e+00 -3.54039931e+00\n",
      " -4.16250048e+00  7.21974772e+00  4.01691939e+00  5.09203544e+00\n",
      " -5.69847441e+00  2.60034467e+00 -1.31721364e+01  3.32852171e-01\n",
      " -1.15031827e+00 -5.98139791e+00 -7.08907960e+00  4.32493048e+00\n",
      "  2.50195877e+00  4.82172910e+00 -1.01637974e+01  1.15949655e+01\n",
      "  1.79938176e-01  3.26966426e+00 -8.32986729e+00  5.93832365e+00\n",
      " -1.99482597e+00  1.15222340e+00 -2.47131953e+00  5.80354392e+00\n",
      "  1.88653484e+01 -1.73664821e+01 -6.53491322e+00 -1.02902294e+01\n",
      "  4.63777201e+00  1.80042275e-01 -5.26286849e+00  7.53021516e+00\n",
      "  2.29077435e+00  1.67515793e+01 -1.73383341e+00  9.74127889e+00\n",
      " -6.49846621e+00 -1.45353814e+01 -1.28666316e+01 -6.59329216e+00\n",
      " -2.15217221e-01 -1.57268142e+00 -6.17033771e-03  1.30546541e+01\n",
      " -8.51735845e-01 -1.15989592e+01]\n"
     ]
    },
    {
     "data": {
      "text/plain": [
       "array([ 11.75115254,  -1.59136682,  11.51726393,  -7.65852662,\n",
       "        12.30066964,   8.93930321,  -2.44808603, -19.85021202,\n",
       "       -11.5213246 ,  -0.60030354,   7.32184   ,   6.23325839,\n",
       "        -2.75266094,  -1.83036324,  -1.16651276,   3.95458607,\n",
       "        -7.55213927,  -5.29741572,   5.89060643,  -8.68438345,\n",
       "       -12.69869214,   4.5336871 ,  -9.91942939,   4.60554703,\n",
       "        12.0214293 , -15.82887946,   0.73786529,   3.0142582 ,\n",
       "         1.03379736,   1.07300241,   3.14557536, -10.82653709,\n",
       "         5.44000432,   1.48837171,   4.73610744,   9.54434756,\n",
       "        -8.30547508,   4.58326246,  -3.15983927,   3.28330089,\n",
       "        -9.00082387,  -7.19099175,   2.96026389,   4.84620276,\n",
       "         8.03994705,  -7.004924  ,  -7.00451143,   7.85524954,\n",
       "        10.09175443,  -9.37231732])"
      ]
     },
     "execution_count": 4,
     "metadata": {},
     "output_type": "execute_result"
    }
   ],
   "source": [
    "print(Ejer3.mean()) #Toda la matriz\n",
    "print(Ejer3.std())\n",
    "Ejer3.mean(0) #media por columnas (indice del cálculo de la media el  0,  filas)\n",
    "Ejer3.std(1) #desviación típica por filas (indice del cálculo de la media el  1, columnas)\n",
    "\n",
    "print(Ejer3.sum(0)) #media por columnas (indice del cálculo de la suma el  0,  filas)\n",
    "Ejer3.sum(1) #desviación típica por filas (indice del cálculo de la suma el  1, columnas)"
   ]
  },
  {
   "cell_type": "code",
   "execution_count": 6,
   "metadata": {},
   "outputs": [],
   "source": [
    "\n",
    "#Alamacenaje y carga de un array  \n",
    "np.save('array_almacenado1.npy',Ejer3)\n",
    "Ejer3_loaded_npy=np.load('array_almacenado1.npy')\n",
    "\n",
    "#Alamacenaje y carga de un array  comprimido \n",
    "np.savez('array_almacenado.npz',Ejer3)\n",
    "Ejer3_loaded_npz=np.load('array_almacenado.npz')\n",
    "\n",
    "#Alamacenaje y carga de dos array  comprimido \n",
    "np.savez('dos_arrays.npz', A=Ejer3,B=Ejer3)\n",
    "Ejer3_loaded_dos=np.load('dos_arrays.npz')\n",
    "Ejer3_loaded_dos['A']\n",
    "Ejer3_loaded_dos['B']\n",
    "\n",
    "#Alamacenaje y carga de un array formato texto\n",
    "np.savetxt('array_texto.txt',Ejer3,delimiter=';')\n",
    "Ejer3_loadedtxt=np.loadtxt('array_texto.txt',delimiter=';')"
   ]
  },
  {
   "cell_type": "code",
   "execution_count": null,
   "metadata": {},
   "outputs": [],
   "source": []
  }
 ],
 "metadata": {
  "kernelspec": {
   "display_name": "Python 3",
   "language": "python",
   "name": "python3"
  },
  "language_info": {
   "codemirror_mode": {
    "name": "ipython",
    "version": 3
   },
   "file_extension": ".py",
   "mimetype": "text/x-python",
   "name": "python",
   "nbconvert_exporter": "python",
   "pygments_lexer": "ipython3",
   "version": "3.7.3"
  }
 },
 "nbformat": 4,
 "nbformat_minor": 2
}
