{
 "cells": [
  {
   "cell_type": "markdown",
   "metadata": {},
   "source": [
    "<img src=\"idal-logo.png\" align=\"right\" style=\"float\" width=\"400\">\n",
    "<font color=\"#CA3532\"><h1 align=\"left\">mIA3</h1></font>\n",
    "<font color=\"#6E6E6E\"><h2 align=\"left\">Tarea 8. Python Basics.</h2></font> \n",
    "\n",
    "#### Juan Gómez-Sanchis"
   ]
  },
  {
   "cell_type": "code",
   "execution_count": 1,
   "metadata": {},
   "outputs": [
    {
     "data": {
      "text/plain": [
       "[0,\n",
       " 0,\n",
       " 1,\n",
       " 2,\n",
       " 2,\n",
       " 3,\n",
       " 3,\n",
       " 3,\n",
       " 4,\n",
       " 5,\n",
       " 5,\n",
       " 6,\n",
       " 6,\n",
       " 7,\n",
       " 9,\n",
       " 9,\n",
       " 10,\n",
       " 10,\n",
       " 11,\n",
       " 11,\n",
       " 12,\n",
       " 14,\n",
       " 14,\n",
       " 14,\n",
       " 15,\n",
       " 15,\n",
       " 16,\n",
       " 17,\n",
       " 18,\n",
       " 19,\n",
       " 19,\n",
       " 19,\n",
       " 19,\n",
       " 20,\n",
       " 21,\n",
       " 22,\n",
       " 22,\n",
       " 22,\n",
       " 23,\n",
       " 23,\n",
       " 24,\n",
       " 24,\n",
       " 24,\n",
       " 25,\n",
       " 25,\n",
       " 25,\n",
       " 25,\n",
       " 28,\n",
       " 28,\n",
       " 29,\n",
       " 31,\n",
       " 31,\n",
       " 32,\n",
       " 32,\n",
       " 33,\n",
       " 33,\n",
       " 34,\n",
       " 34,\n",
       " 34,\n",
       " 35,\n",
       " 35,\n",
       " 35,\n",
       " 35,\n",
       " 35,\n",
       " 36,\n",
       " 36,\n",
       " 37,\n",
       " 38,\n",
       " 39,\n",
       " 39,\n",
       " 39,\n",
       " 39,\n",
       " 39,\n",
       " 40,\n",
       " 40,\n",
       " 40,\n",
       " 41,\n",
       " 41,\n",
       " 42,\n",
       " 42,\n",
       " 42,\n",
       " 43,\n",
       " 45,\n",
       " 46,\n",
       " 46,\n",
       " 47,\n",
       " 47,\n",
       " 48,\n",
       " 48,\n",
       " 49,\n",
       " 49,\n",
       " 50,\n",
       " 50,\n",
       " 50,\n",
       " 50,\n",
       " 51,\n",
       " 51,\n",
       " 51,\n",
       " 52,\n",
       " 52,\n",
       " 52,\n",
       " 52,\n",
       " 55,\n",
       " 56,\n",
       " 57,\n",
       " 57,\n",
       " 59,\n",
       " 59,\n",
       " 59,\n",
       " 61,\n",
       " 62,\n",
       " 63,\n",
       " 63,\n",
       " 64,\n",
       " 64,\n",
       " 64,\n",
       " 64,\n",
       " 64,\n",
       " 65,\n",
       " 65,\n",
       " 65,\n",
       " 66,\n",
       " 67,\n",
       " 68,\n",
       " 68,\n",
       " 68,\n",
       " 69,\n",
       " 69,\n",
       " 69,\n",
       " 69,\n",
       " 69,\n",
       " 69,\n",
       " 70,\n",
       " 71,\n",
       " 71,\n",
       " 71,\n",
       " 71,\n",
       " 71,\n",
       " 72,\n",
       " 72,\n",
       " 73,\n",
       " 73,\n",
       " 73,\n",
       " 75,\n",
       " 76,\n",
       " 77,\n",
       " 77,\n",
       " 77,\n",
       " 77,\n",
       " 77,\n",
       " 78,\n",
       " 78,\n",
       " 79,\n",
       " 79,\n",
       " 79,\n",
       " 79,\n",
       " 79,\n",
       " 79,\n",
       " 80,\n",
       " 80,\n",
       " 80,\n",
       " 81,\n",
       " 81,\n",
       " 82,\n",
       " 82,\n",
       " 83,\n",
       " 83,\n",
       " 84,\n",
       " 84,\n",
       " 85,\n",
       " 87,\n",
       " 87,\n",
       " 87,\n",
       " 87,\n",
       " 87,\n",
       " 88,\n",
       " 88,\n",
       " 88,\n",
       " 88,\n",
       " 88,\n",
       " 90,\n",
       " 92,\n",
       " 92,\n",
       " 92,\n",
       " 92,\n",
       " 93,\n",
       " 93,\n",
       " 94,\n",
       " 94,\n",
       " 94,\n",
       " 94,\n",
       " 94,\n",
       " 95,\n",
       " 95,\n",
       " 96,\n",
       " 96,\n",
       " 96,\n",
       " 98,\n",
       " 99,\n",
       " 99]"
      ]
     },
     "execution_count": 1,
     "metadata": {},
     "output_type": "execute_result"
    }
   ],
   "source": [
    "from random import randrange \n",
    "\n",
    "Ejer8a=[]\n",
    "\n",
    "for i in range(200):\n",
    "    Ejer8a.append(randrange(100))\n",
    "\n",
    "#len(Ejer8a)\n",
    "Ejer8a\n",
    "\n",
    "#Para ordenar la lista, sorted\n",
    "sorted(Ejer8a)"
   ]
  },
  {
   "cell_type": "code",
   "execution_count": 2,
   "metadata": {},
   "outputs": [],
   "source": [
    "Nombre=['ana','pedro','juan','oscar', 'julia']\n",
    "Peso=[55.7, 80.6, 87.8, 75.4, 60.1]\n",
    "tupla_solucion=zip(Nombre,Peso)\n",
    "res=list(tupla_solucion) #Si no ponemos tuple, tenemos la expresión del iterador"
   ]
  },
  {
   "cell_type": "code",
   "execution_count": 3,
   "metadata": {},
   "outputs": [
    {
     "data": {
      "text/plain": [
       "{'ana': 55.7, 'pedro': 80.6, 'oscar': 75.4, 'julia': 60.1, 'Emilio': 83.2}"
      ]
     },
     "execution_count": 3,
     "metadata": {},
     "output_type": "execute_result"
    }
   ],
   "source": [
    "Nombre=['ana','pedro','juan','oscar', 'julia']\n",
    "Peso=[55.7, 80.6, 87.8, 75.4, 60.1]\n",
    "\n",
    "#Creamos el diccionario a partir de una tupla de tuplaa\n",
    "Diccionario_solucion=dict(zip(Nombre,Peso))\n",
    "\n",
    "#Accedemos a los pesos de ana y pedro\n",
    "Diccionario_solucion['ana']\n",
    "Diccionario_solucion['pedro']\n",
    "\n",
    "#Añadimos la clave emilio\n",
    "Diccionario_solucion['Emilio']=83.2\n",
    "\n",
    "Diccionario_solucion\n",
    "\n",
    "#Eliminamos la clave juan\n",
    "del Diccionario_solucion['juan']\n",
    "\n",
    "Diccionario_solucion"
   ]
  },
  {
   "cell_type": "code",
   "execution_count": 4,
   "metadata": {},
   "outputs": [
    {
     "data": {
      "text/plain": [
       "{55.7: 'ana', 80.6: 'pedro', 87.8: 'juan', 75.4: 'oscar', 60.1: 'julia'}"
      ]
     },
     "execution_count": 4,
     "metadata": {},
     "output_type": "execute_result"
    }
   ],
   "source": [
    "#Creo el diccionario empleando un bucle for, SIN comprehensions\n",
    "\n",
    "Diccionario_sol_2={}\n",
    "for clave,valor in zip(Nombre,Peso):\n",
    "    Diccionario_sol_2[clave]=valor\n",
    "Diccionario_sol_2\n",
    "\n",
    "\n",
    "#Tiramos de comprhension, sin condición\n",
    "\n",
    "Diccionario_sol_3={ nombre : posicion for posicion,nombre in zip(Nombre,Peso) } ##Diccionario!\n",
    "Diccionario_sol_3"
   ]
  },
  {
   "cell_type": "code",
   "execution_count": 4,
   "metadata": {},
   "outputs": [
    {
     "name": "stdout",
     "output_type": "stream",
     "text": [
      "[85, 37, 86, 85, 96, 71, 85, 73, 32, 35, 31, 19, 39, 58, 33, 46, 96, 49, 96, 57, 84, 91, 44, 10, 3, 79, 65, 65, 40, 78, 2, 81, 29, 19, 55, 17, 37, 61, 15, 7, 1, 33, 55, 77, 50, 70, 37, 6, 37, 39, 97, 25, 84, 58, 13, 73, 30, 90, 47, 44, 14, 77, 78, 3, 76, 72, 61, 76, 86, 98, 3, 58, 20, 87, 82, 86, 51, 85, 16, 89, 89, 63, 50, 57, 43, 62, 21, 78, 13, 44, 49, 85, 87, 68, 83, 14, 22, 32, 2, 67, 76, 38, 33, 21, 3, 41, 20, 74, 46, 2, 3, 72, 52, 56, 92, 50, 45, 90, 80, 93, 45, 48, 10, 12, 54, 41, 16, 19, 65, 11, 29, 63, 82, 8, 48, 43, 5, 33, 40, 0, 1, 65, 7, 82, 17, 87, 90, 99, 13, 96, 99, 81, 90, 89, 83, 5, 87, 83, 17, 80, 71, 59, 25, 57, 7, 34, 62, 49, 65, 12, 36, 35, 3, 98, 16, 7, 60, 86, 32, 61, 84, 8, 57, 31, 14, 99, 18, 30, 48, 80, 95, 59, 86, 84, 76, 15, 65, 22, 4, 49]\n",
      "{0, 1, 2, 3, 4, 5, 6, 7, 8, 10, 11, 12, 13, 14, 15, 16, 17, 18, 19, 20, 21, 22, 25, 29, 30, 31, 32, 33, 34, 35, 36, 37, 38, 39, 40, 41, 43, 44, 45, 46, 47, 48, 49, 50, 51, 52, 54, 55, 56, 57, 58, 59, 60, 61, 62, 63, 65, 67, 68, 70, 71, 72, 73, 74, 76, 77, 78, 79, 80, 81, 82, 83, 84, 85, 86, 87, 89, 90, 91, 92, 93, 95, 96, 97, 98, 99}\n",
      "{0, 2, 3, 4, 5, 6, 7, 8, 9, 11, 12, 13, 15, 16, 18, 19, 20, 21, 22, 24, 26, 27, 28, 29, 30, 31, 32, 33, 34, 35, 36, 37, 38, 39, 40, 41, 43, 44, 45, 46, 47, 49, 52, 53, 54, 55, 56, 57, 58, 60, 61, 62, 63, 64, 65, 67, 68, 69, 70, 71, 72, 73, 74, 75, 77, 78, 79, 80, 81, 82, 83, 85, 86, 87, 88, 89, 90, 91, 92, 93, 94, 95, 96, 97, 98, 99}\n",
      "{0, 2, 3, 4, 5, 6, 7, 8, 11, 12, 13, 15, 16, 18, 19, 20, 21, 22, 29, 30, 31, 32, 33, 34, 35, 36, 37, 38, 39, 40, 41, 43, 44, 45, 46, 47, 49, 52, 54, 55, 56, 57, 58, 60, 61, 62, 63, 65, 67, 68, 70, 71, 72, 73, 74, 77, 78, 79, 80, 81, 82, 83, 85, 86, 87, 89, 90, 91, 92, 93, 95, 96, 97, 98, 99}\n",
      "{1, 10, 76, 14, 48, 17, 50, 51, 84, 25, 59}\n"
     ]
    }
   ],
   "source": [
    "from random import randrange \n",
    "\n",
    "Ejer8b=[]\n",
    "Ejer8c=[]\n",
    "\n",
    "#Creo las listas\n",
    "for i in range(200):\n",
    "    Ejer8b.append(randrange(100))\n",
    "    Ejer8c.append(randrange(100))\n",
    "\n",
    "#Elementos únicos tirando de set    \n",
    "print(Ejer8b)\n",
    "print(set(Ejer8b))\n",
    "print(set(Ejer8c))\n",
    "\n",
    "#Elementos en común\n",
    "print( set(Ejer8b) & set(Ejer8c) )\n",
    "\n",
    "#Elementos únicos que estan en b y no en c\n",
    "print( set(Ejer8b) - set(Ejer8c) )\n"
   ]
  },
  {
   "cell_type": "code",
   "execution_count": 6,
   "metadata": {},
   "outputs": [
    {
     "data": {
      "text/plain": [
       "{'ana': 0, 'pedro': 1, 'juan': 2, 'oscar': 3, 'julia': 4}"
      ]
     },
     "execution_count": 6,
     "metadata": {},
     "output_type": "execute_result"
    }
   ],
   "source": [
    "Nombre=['ana','pedro','juan','oscar', 'julia']\n",
    "Peso=[55.7, 80.6, 87.8, 75.4, 60.1]\n",
    "\n",
    "#Cuidado esto no es lo que nos piden, nos piden clave (nombre) y valor posición\n",
    "Diccionario_solucion2=dict(enumerate(Nombre))\n",
    "Diccionario_solucion2\n",
    "\n",
    "\n",
    "#LAAAAA opción.....Tiramos de comprhension, sin condición\n",
    "\n",
    "{ nombre : posicion for posicion,nombre in enumerate(Nombre) } ##Diccionario!"
   ]
  },
  {
   "cell_type": "code",
   "execution_count": 7,
   "metadata": {},
   "outputs": [
    {
     "data": {
      "text/plain": [
       "['pedro', 'oscar', 'julia']"
      ]
     },
     "execution_count": 7,
     "metadata": {},
     "output_type": "execute_result"
    }
   ],
   "source": [
    "#### Tiramos de comprhension, con condición\n",
    "\n",
    "[ x for x in Nombre if len(x)> 4 ]  ## Lista!"
   ]
  },
  {
   "cell_type": "code",
   "execution_count": 8,
   "metadata": {},
   "outputs": [
    {
     "data": {
      "text/plain": [
       "{'pedro': 80.6, 'oscar': 75.4, 'Emilio': 83.2}"
      ]
     },
     "execution_count": 8,
     "metadata": {},
     "output_type": "execute_result"
    }
   ],
   "source": [
    "\n",
    "# La comprehension es un poco puñetera porque tenemos que pasar a lista las claves y valores...\n",
    "{ list(Diccionario_solucion.keys())[i]:list(Diccionario_solucion.values())[i] for i in range(len(Diccionario_solucion)) \n",
    " if list(Diccionario_solucion.values())[i]>65}"
   ]
  },
  {
   "cell_type": "code",
   "execution_count": null,
   "metadata": {},
   "outputs": [],
   "source": []
  }
 ],
 "metadata": {
  "kernelspec": {
   "display_name": "Python 3",
   "language": "python",
   "name": "python3"
  },
  "language_info": {
   "codemirror_mode": {
    "name": "ipython",
    "version": 3
   },
   "file_extension": ".py",
   "mimetype": "text/x-python",
   "name": "python",
   "nbconvert_exporter": "python",
   "pygments_lexer": "ipython3",
   "version": "3.7.3"
  }
 },
 "nbformat": 4,
 "nbformat_minor": 2
}
