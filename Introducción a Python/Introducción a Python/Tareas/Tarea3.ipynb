{
 "metadata": {
  "language_info": {
   "codemirror_mode": {
    "name": "ipython",
    "version": 3
   },
   "file_extension": ".py",
   "mimetype": "text/x-python",
   "name": "python",
   "nbconvert_exporter": "python",
   "pygments_lexer": "ipython3",
   "version": "3.8.5-final"
  },
  "orig_nbformat": 2,
  "kernelspec": {
   "name": "python_defaultSpec_1600686462439",
   "display_name": "Python 3.8.5 64-bit ('Master': conda)"
  }
 },
 "nbformat": 4,
 "nbformat_minor": 2,
 "cells": [
  {
   "source": [
    "## Tarea 3. Primeras líneas de código."
   ],
   "cell_type": "markdown",
   "metadata": {}
  },
  {
   "cell_type": "code",
   "execution_count": 1,
   "metadata": {},
   "outputs": [],
   "source": [
    "a = 7\n",
    "b = 8.5\n",
    "c = 'MasterDatos'"
   ]
  },
  {
   "source": [
    "Conociendo los conceptos básicos de Python podemos saber que la variable ``a`` es de tipo ``int``, la ``b`` es de tipo ``float`` y la ``c`` es de tipo ``string``. Podemos comprobarlo utilizando la función ``type`` o ``isinstance``."
   ],
   "cell_type": "markdown",
   "metadata": {}
  },
  {
   "cell_type": "code",
   "execution_count": 7,
   "metadata": {
    "tags": []
   },
   "outputs": [
    {
     "output_type": "stream",
     "name": "stdout",
     "text": "La variable a es de tipo: <class 'int'>.\n¿Y es instancia de int? True\nLa variable b es de tipo: <class 'float'>.\n¿Y es instancia de int? True\nLa variable c es de tipo: <class 'str'>.\n¿Y es instancia de int? True\n"
    }
   ],
   "source": [
    "print(f\"La variable a es de tipo: {type(a)}.\\n¿Y es instancia de int? {isinstance(a, int)}\")\n",
    "print(f\"La variable b es de tipo: {type(b)}.\\n¿Y es instancia de int? {isinstance(b, float)}\")\n",
    "print(f\"La variable c es de tipo: {type(c)}.\\n¿Y es instancia de int? {isinstance(c, str)}\")"
   ]
  },
  {
   "source": [
    "Podemos ver los atributos y métodos disponibles para cada objeto si escribimos objeto. y damos al tabulador."
   ],
   "cell_type": "markdown",
   "metadata": {}
  },
  {
   "source": [
    "También podemos añadir comentarios utilizando el símbolo # o aprovechar las funciones de Markdown de Jupyter Notebooks para comentar el código."
   ],
   "cell_type": "markdown",
   "metadata": {}
  },
  {
   "cell_type": "code",
   "execution_count": null,
   "metadata": {},
   "outputs": [],
   "source": []
  }
 ]
}