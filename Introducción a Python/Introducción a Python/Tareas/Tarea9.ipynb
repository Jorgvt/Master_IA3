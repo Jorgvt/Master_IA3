{
 "metadata": {
  "language_info": {
   "codemirror_mode": {
    "name": "ipython",
    "version": 3
   },
   "file_extension": ".py",
   "mimetype": "text/x-python",
   "name": "python",
   "nbconvert_exporter": "python",
   "pygments_lexer": "ipython3",
   "version": "3.8.5-final"
  },
  "orig_nbformat": 2,
  "kernelspec": {
   "name": "python_defaultSpec_1600694279038",
   "display_name": "Python 3.8.5 64-bit ('Master': conda)"
  }
 },
 "nbformat": 4,
 "nbformat_minor": 2,
 "cells": [
  {
   "source": [
    "## Tarea 9. Funciones"
   ],
   "cell_type": "markdown",
   "metadata": {}
  },
  {
   "cell_type": "code",
   "execution_count": 4,
   "metadata": {},
   "outputs": [
    {
     "output_type": "execute_result",
     "data": {
      "text/plain": "24"
     },
     "metadata": {},
     "execution_count": 4
    }
   ],
   "source": [
    "def Mifactorial(n):\n",
    "    factorial = 1\n",
    "\n",
    "    for i in range(n):\n",
    "        factorial *= i + 1\n",
    "\n",
    "    return factorial\n",
    "Mifactorial(4)"
   ]
  },
  {
   "cell_type": "code",
   "execution_count": 5,
   "metadata": {},
   "outputs": [],
   "source": [
    "def ICC(gasto, insatisfaccion, nombre):\n",
    "    icc_list = [nombre]\n",
    "\n",
    "    icc = gasto / (insatisfaccion + 1) ** 2\n",
    "    icc_list.append(icc)\n",
    "\n",
    "    return icc_list"
   ]
  },
  {
   "cell_type": "code",
   "execution_count": 7,
   "metadata": {},
   "outputs": [],
   "source": [
    "def ICC_GLOBAL(diccionario):\n",
    "\n",
    "    if not isinstance(diccionario.values(), float):\n",
    "        print(\"No se puede calcular el ICC, revisa los argumentos.\")\n",
    "        return\n",
    "\n",
    "    return {nombre:lista[0] / (lista[1] + 1) ** 2 for nombre, lista in diccionario.items()}"
   ]
  }
 ]
}