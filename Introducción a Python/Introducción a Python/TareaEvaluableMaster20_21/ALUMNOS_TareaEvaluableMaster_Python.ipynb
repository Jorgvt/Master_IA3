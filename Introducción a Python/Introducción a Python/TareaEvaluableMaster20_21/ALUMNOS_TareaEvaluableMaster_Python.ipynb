{
 "cells": [
  {
   "cell_type": "markdown",
   "metadata": {},
   "source": [
    "<img src=\"idal-logo.png\" align=\"right\" style=\"float\" width=\"400\">\n",
    "<font color=\"#CA3532\"><h1 align=\"left\">mIA3</h1></font>\n",
    "<font color=\"#6E6E6E\"><h2 align=\"left\">Tarea Evaluable. Python.</h2></font> \n",
    "\n",
    "#### Jorge Vila Tomás"
   ]
  },
  {
   "cell_type": "markdown",
   "metadata": {},
   "source": [
    "**Ejercicio 1. (2 puntos)** La criba de Eratóstenes es un método ideado por Eratóstenes, para conseguir los números primos entre el 1 y un determinado número entero n. Este ejercicio permite poner en práctica muchas de las sentencias de control que hemos visto.\n",
    "\n",
    "\n",
    "La criba de Eratostenes se puede programar como un algoritmo que consiste en formar  una tabla con todos los números naturales comprendidos entre 2 y n,  se van tachando los números que no son primos de la siguiente manera: \n",
    "\n",
    "* Comenzando por el 2 (considerado primo), se tachan todos sus múltiplos.\n",
    "* Comenzando de nuevo, cuando se encuentra un número entero que no ha sido tachado, ese número es declarado primo, y se procede a tachar todos sus múltiplos.\n",
    "* El proceso se repite iterativamente. El proceso termina cuando el cuadrado del siguiente número confirmado como primo es mayor que n.\n",
    "\n",
    "Con todo esto, \n",
    "\n",
    "* Crea una función denominada `Eratostenes(n)`, que devuelva los número primos inferiores o iguales a n. \n",
    "\n",
    "* El tipo computacional de n es entero, modifica la función anterior `Eratostenes_Err` y crea un nueva función  para que si se introduce un valor real como argumento de la función, no devuelva error y  muestre un mensaje por pantalla informando al usuario de que el argumento sea entero."
   ]
  },
  {
   "source": [
    "### Solución 1"
   ],
   "cell_type": "markdown",
   "metadata": {}
  },
  {
   "cell_type": "code",
   "execution_count": 1,
   "metadata": {
    "tags": []
   },
   "outputs": [
    {
     "output_type": "stream",
     "name": "stdout",
     "text": [
      "Primos: [1, 2, 3, 5, 7, 11, 13, 17, 19, 23, 29, 31, 37, 41, 43, 47]\n"
     ]
    }
   ],
   "source": [
    "def Eratostenes(n):\n",
    "    candidates = list(range(2,n+1))\n",
    "    primos = [1, 2]\n",
    "\n",
    "    for candidate in candidates: #Con esto quitamos los candidatos múltiplos de 2\n",
    "        if (candidate % 2 == 0):\n",
    "            candidates.remove(candidate)\n",
    "\n",
    "    while primos[-1] ** 2 < n:\n",
    "        if candidates[0] not in primos:\n",
    "            primos.append(candidates[0])\n",
    "        \n",
    "        for candidate in candidates:\n",
    "            if candidate % primos[-1] == 0:\n",
    "                candidates.remove(candidate)\n",
    "\n",
    "    return primos + candidates #El signo +  es equivalente a usar list.extend() pero es ligeramente más eficiente.\n",
    "\n",
    "primos = Eratostenes(50)\n",
    "print(f\"Primos: {primos}\")"
   ]
  },
  {
   "source": [
    "Podemos mejorar un poco la implementación del algoritmo si consideramos que, ya que los números pares se van a quitar siempre, podemos generar la lista de candidatos de forma que contenga únicamente los números impares. También añadimos *type hinting* para decirle a la función que el input debe ser, en este caso, de tipo ```int```. Si introducimos cualquier otro tipo de dato la función dará un error. Esto es práctico, como vemos en la Solución 2, porque nos permite utilizar las sentencias ```try/except``` para asegurar un buen uso de nuestra función."
   ],
   "cell_type": "markdown",
   "metadata": {}
  },
  {
   "source": [
    "### Solución 1 v2"
   ],
   "cell_type": "markdown",
   "metadata": {}
  },
  {
   "cell_type": "code",
   "execution_count": 13,
   "metadata": {
    "tags": []
   },
   "outputs": [
    {
     "output_type": "stream",
     "name": "stdout",
     "text": "Primos: [1, 2, 3, 5, 7, 11, 13, 17, 19, 23, 29, 31, 37, 41, 43, 47]\n"
    }
   ],
   "source": [
    "def Eratostenes(n: int):\n",
    "    candidates = list(range(3,n+1,2)) #Así te ahorras quitar los pares\n",
    "    primos = [1, 2]\n",
    "\n",
    "    while primos[-1] ** 2 < n:\n",
    "        if candidates[0] not in primos:\n",
    "            primos.append(candidates[0])\n",
    "        \n",
    "        for candidate in candidates:\n",
    "            if candidate % primos[-1] == 0:\n",
    "                candidates.remove(candidate)\n",
    "\n",
    "    return primos + candidates\n",
    "\n",
    "primos = Eratostenes(50)\n",
    "print(f\"Primos: {primos}\")"
   ]
  },
  {
   "source": [
    "### Solución 2"
   ],
   "cell_type": "markdown",
   "metadata": {}
  },
  {
   "cell_type": "code",
   "execution_count": 2,
   "metadata": {
    "tags": []
   },
   "outputs": [
    {
     "output_type": "stream",
     "name": "stdout",
     "text": [
      "El argumento de la función tiene que ser un número entero pero es de tipo <class 'float'>.\n"
     ]
    }
   ],
   "source": [
    "def Eratostenes_Err(n):\n",
    "    try:\n",
    "        primos = Eratostenes(n)\n",
    "    except:\n",
    "        print(f\"El argumento de la función tiene que ser un número entero pero es de tipo {type(n)}.\")\n",
    "    else:\n",
    "        return primos\n",
    "\n",
    "Eratostenes_Err(50)\n",
    "Eratostenes_Err(50.3)"
   ]
  },
  {
   "source": [
    "Como podemos ver, al introducir un valor que no es de tipo ```ìnt``` la función no da error, sino que devuelve un mensaje y nos recuerda que hemos de introducir un número entero. También podríamos haber utilizado una sentencia ```if isinstane(n,float)``` para filtrar únicamente los ```float``` (como pedía el enunciado), pero al hacerlo de esta forma se generaliza más el resultado."
   ],
   "cell_type": "markdown",
   "metadata": {}
  },
  {
   "cell_type": "markdown",
   "metadata": {},
   "source": [
    "**Ejercicio 2. (1 punto)** Crea una array 8x3 con los enteros entre 10 y 34 de uno en uno. Después crea 4 nuevos arrays 2x3 partiendo el array original de dos en dos filas. "
   ]
  },
  {
   "cell_type": "code",
   "execution_count": 15,
   "metadata": {},
   "outputs": [],
   "source": [
    "import numpy as np"
   ]
  },
  {
   "cell_type": "code",
   "execution_count": 16,
   "metadata": {
    "tags": []
   },
   "outputs": [
    {
     "output_type": "stream",
     "name": "stdout",
     "text": "Array:\n[[10 11 12]\n [13 14 15]\n [16 17 18]\n [19 20 21]\n [22 23 24]\n [25 26 27]\n [28 29 30]\n [31 32 33]] --&gt; Shape: (8, 3)\nArray:\n[[10 11 12]\n [13 14 15]] --&gt; Shape: (2, 3)\nArray:\n[[16 17 18]\n [19 20 21]] --&gt; Shape: (2, 3)\nArray:\n[[22 23 24]\n [25 26 27]] --&gt; Shape: (2, 3)\nArray:\n[[28 29 30]\n [31 32 33]] --&gt; Shape: (2, 3)\n"
    }
   ],
   "source": [
    "#Solución\n",
    "a = np.arange(10, 34).reshape((8,3)) #Arange nos permite crear un np.array con los valores que buscamos\n",
    "b = a.flatten()[:6].reshape((2,3)) #Para coger más fácilmente los subarrays utilizamos el método .flatten() y luego les damos la forma deseada\n",
    "c = a.flatten()[6:12].reshape((2,3))\n",
    "d = a.flatten()[12:18].reshape((2,3))\n",
    "e = a.flatten()[18:24].reshape((2,3))\n",
    "print(f\"Array:\\n{a} --> Shape: {a.shape}\")\n",
    "print(f\"Array:\\n{b} --> Shape: {b.shape}\")\n",
    "print(f\"Array:\\n{c} --> Shape: {c.shape}\")\n",
    "print(f\"Array:\\n{d} --> Shape: {d.shape}\")\n",
    "print(f\"Array:\\n{e} --> Shape: {e.shape}\")"
   ]
  },
  {
   "cell_type": "markdown",
   "metadata": {},
   "source": [
    "**Ejercicio 3. (1 punto)** Crea el siguiente array de numpy:\n",
    "\n",
    "\n",
    "[[34,43,73],[82,22,12],[53,94,66]]\n",
    "\n",
    "Calcula:\n",
    "\n",
    "* El máximo por filas\n",
    "* El mínimo por columnas \n",
    "* La media por columnas\n",
    "* La desviación típica por filas\n"
   ]
  },
  {
   "source": [
    "### Solución"
   ],
   "cell_type": "markdown",
   "metadata": {}
  },
  {
   "cell_type": "code",
   "execution_count": 17,
   "metadata": {
    "tags": []
   },
   "outputs": [
    {
     "output_type": "stream",
     "name": "stdout",
     "text": "Array original:\n[[34 43 73]\n [82 22 12]\n [53 94 66]]\nMáximo por filas: [73 82 94]\nMínimo por columnas: [34 22 12]\nMedia por columnas: [56.33333333 53.         50.33333333]\nDesviación típica por filas: [16.673332   30.91206165 17.10750323]\n"
    }
   ],
   "source": [
    "a = np.array([[34,43,73],[82,22,12],[53,94,66]])\n",
    "max_a = np.max(a, axis = 1) #axis = 0 corresponde a hacerlo por filas\n",
    "min_a = np.min(a, axis = 0) #y axis = 1 corresponde a hacerlo por columnas.\n",
    "mean_a = np.mean(a, axis = 0)\n",
    "std_a = np.std(a, axis = 1)\n",
    "\n",
    "print(f\"Array original:\\n{a}\")\n",
    "print(f\"Máximo por filas: {max_a}\")\n",
    "print(f\"Mínimo por columnas: {min_a}\")\n",
    "print(f\"Media por columnas: {mean_a}\")\n",
    "print(f\"Desviación típica por filas: {std_a}\")"
   ]
  },
  {
   "cell_type": "markdown",
   "metadata": {},
   "source": [
    "**Ejercicio 4. (2 puntos)** Carga el dataset `Coches_dataset_jgx_I.csv` empleando la librería `pandas` y sus funciones de importación.\n",
    "\n",
    "* Una vez cargado, visualiza las 5 primeras muestras del data frame.\n",
    "* Averigua el número de muestras del data frame.\n",
    "* Averigua el número de variables.\n",
    "* Crea una diccionario cuyas claves contengan las posición de la columna y el valor los nombres de las variables del dataframe.\n"
   ]
  },
  {
   "cell_type": "code",
   "execution_count": 18,
   "metadata": {},
   "outputs": [],
   "source": [
    "import pandas as pd"
   ]
  },
  {
   "cell_type": "code",
   "execution_count": 19,
   "metadata": {},
   "outputs": [],
   "source": [
    "#Carga del dataset / Comprobamos que todos los elementos se separan por punto y coma en lugar de comas y la primera fila tiene el nombre de las columnas\n",
    "coches = pd.read_csv(\"Coches_dataset_jgx_I.csv\", sep = \";\")"
   ]
  },
  {
   "source": [
    "###  Solución 1\n",
    "El método ```.head()``` permite visualizar, por defecto, las 5 primeras muestras del dataframe. Si quisieramos visualizar otra cantidad N de muestras tendríamos que utilizar ```.head(N)```."
   ],
   "cell_type": "markdown",
   "metadata": {}
  },
  {
   "cell_type": "code",
   "execution_count": 20,
   "metadata": {},
   "outputs": [
    {
     "output_type": "execute_result",
     "data": {
      "text/plain": "   index      company   body-style  wheel-base  length engine-type  \\\n0      0  alfa-romero  convertible        88.6   168.8        dohc   \n1      1  alfa-romero  convertible        88.6   168.8        dohc   \n2      2  alfa-romero    hatchback        94.5   171.2        ohcv   \n3      3         audi        sedan        99.8   176.6         ohc   \n4      4         audi        sedan        99.4   176.6         ohc   \n\n  num-of-cylinders  horsepower  average-mileage  price  \n0             four         111               21  13495  \n1             four         111               21  16500  \n2              six         154               19  16500  \n3             four         102               24  13950  \n4             five         115               18  17450  ",
      "text/html": "<div>\n<style scoped>\n    .dataframe tbody tr th:only-of-type {\n        vertical-align: middle;\n    }\n\n    .dataframe tbody tr th {\n        vertical-align: top;\n    }\n\n    .dataframe thead th {\n        text-align: right;\n    }\n</style>\n<table border=\"1\" class=\"dataframe\">\n  <thead>\n    <tr style=\"text-align: right;\">\n      <th></th>\n      <th>index</th>\n      <th>company</th>\n      <th>body-style</th>\n      <th>wheel-base</th>\n      <th>length</th>\n      <th>engine-type</th>\n      <th>num-of-cylinders</th>\n      <th>horsepower</th>\n      <th>average-mileage</th>\n      <th>price</th>\n    </tr>\n  </thead>\n  <tbody>\n    <tr>\n      <th>0</th>\n      <td>0</td>\n      <td>alfa-romero</td>\n      <td>convertible</td>\n      <td>88.6</td>\n      <td>168.8</td>\n      <td>dohc</td>\n      <td>four</td>\n      <td>111</td>\n      <td>21</td>\n      <td>13495</td>\n    </tr>\n    <tr>\n      <th>1</th>\n      <td>1</td>\n      <td>alfa-romero</td>\n      <td>convertible</td>\n      <td>88.6</td>\n      <td>168.8</td>\n      <td>dohc</td>\n      <td>four</td>\n      <td>111</td>\n      <td>21</td>\n      <td>16500</td>\n    </tr>\n    <tr>\n      <th>2</th>\n      <td>2</td>\n      <td>alfa-romero</td>\n      <td>hatchback</td>\n      <td>94.5</td>\n      <td>171.2</td>\n      <td>ohcv</td>\n      <td>six</td>\n      <td>154</td>\n      <td>19</td>\n      <td>16500</td>\n    </tr>\n    <tr>\n      <th>3</th>\n      <td>3</td>\n      <td>audi</td>\n      <td>sedan</td>\n      <td>99.8</td>\n      <td>176.6</td>\n      <td>ohc</td>\n      <td>four</td>\n      <td>102</td>\n      <td>24</td>\n      <td>13950</td>\n    </tr>\n    <tr>\n      <th>4</th>\n      <td>4</td>\n      <td>audi</td>\n      <td>sedan</td>\n      <td>99.4</td>\n      <td>176.6</td>\n      <td>ohc</td>\n      <td>five</td>\n      <td>115</td>\n      <td>18</td>\n      <td>17450</td>\n    </tr>\n  </tbody>\n</table>\n</div>"
     },
     "metadata": {},
     "execution_count": 20
    }
   ],
   "source": [
    "coches.head()"
   ]
  },
  {
   "source": [
    "### Solución 2\n",
    "Para averiguar el número de muestras del dataframe tenemos varias posibilidades:\n",
    "- Podemos hacer ```len(coches)```.\n",
    "- Podemos hacer ```len(coches[\"CualquierColumna\"])```.\n",
    "- Podemos hacer ```.describe()``` y observar la fila *count*.\n",
    "- Y podemos hacer ```coches.info()``` y fijarnos en *RangeIndex: N entries*."
   ],
   "cell_type": "markdown",
   "metadata": {}
  },
  {
   "cell_type": "code",
   "execution_count": 21,
   "metadata": {},
   "outputs": [
    {
     "output_type": "execute_result",
     "data": {
      "text/plain": "61"
     },
     "metadata": {},
     "execution_count": 21
    }
   ],
   "source": [
    "len(coches)"
   ]
  },
  {
   "cell_type": "code",
   "execution_count": 22,
   "metadata": {},
   "outputs": [
    {
     "output_type": "execute_result",
     "data": {
      "text/plain": "61"
     },
     "metadata": {},
     "execution_count": 22
    }
   ],
   "source": [
    "len(coches[\"company\"])"
   ]
  },
  {
   "cell_type": "code",
   "execution_count": 23,
   "metadata": {
    "tags": []
   },
   "outputs": [
    {
     "output_type": "execute_result",
     "data": {
      "text/plain": "           index  wheel-base      length  horsepower  average-mileage\ncount  61.000000   61.000000   61.000000   61.000000        61.000000\nmean   40.885246   98.481967  173.098361  107.852459        25.803279\nstd    25.429706    6.679234   14.021846   53.524398         8.129821\nmin     0.000000   88.400000  141.100000   48.000000        13.000000\n25%    18.000000   94.500000  159.100000   68.000000        19.000000\n50%    39.000000   96.300000  171.200000  100.000000        25.000000\n75%    61.000000  101.200000  177.300000  123.000000        31.000000\nmax    88.000000  120.900000  208.100000  288.000000        47.000000",
      "text/html": "<div>\n<style scoped>\n    .dataframe tbody tr th:only-of-type {\n        vertical-align: middle;\n    }\n\n    .dataframe tbody tr th {\n        vertical-align: top;\n    }\n\n    .dataframe thead th {\n        text-align: right;\n    }\n</style>\n<table border=\"1\" class=\"dataframe\">\n  <thead>\n    <tr style=\"text-align: right;\">\n      <th></th>\n      <th>index</th>\n      <th>wheel-base</th>\n      <th>length</th>\n      <th>horsepower</th>\n      <th>average-mileage</th>\n    </tr>\n  </thead>\n  <tbody>\n    <tr>\n      <th>count</th>\n      <td>61.000000</td>\n      <td>61.000000</td>\n      <td>61.000000</td>\n      <td>61.000000</td>\n      <td>61.000000</td>\n    </tr>\n    <tr>\n      <th>mean</th>\n      <td>40.885246</td>\n      <td>98.481967</td>\n      <td>173.098361</td>\n      <td>107.852459</td>\n      <td>25.803279</td>\n    </tr>\n    <tr>\n      <th>std</th>\n      <td>25.429706</td>\n      <td>6.679234</td>\n      <td>14.021846</td>\n      <td>53.524398</td>\n      <td>8.129821</td>\n    </tr>\n    <tr>\n      <th>min</th>\n      <td>0.000000</td>\n      <td>88.400000</td>\n      <td>141.100000</td>\n      <td>48.000000</td>\n      <td>13.000000</td>\n    </tr>\n    <tr>\n      <th>25%</th>\n      <td>18.000000</td>\n      <td>94.500000</td>\n      <td>159.100000</td>\n      <td>68.000000</td>\n      <td>19.000000</td>\n    </tr>\n    <tr>\n      <th>50%</th>\n      <td>39.000000</td>\n      <td>96.300000</td>\n      <td>171.200000</td>\n      <td>100.000000</td>\n      <td>25.000000</td>\n    </tr>\n    <tr>\n      <th>75%</th>\n      <td>61.000000</td>\n      <td>101.200000</td>\n      <td>177.300000</td>\n      <td>123.000000</td>\n      <td>31.000000</td>\n    </tr>\n    <tr>\n      <th>max</th>\n      <td>88.000000</td>\n      <td>120.900000</td>\n      <td>208.100000</td>\n      <td>288.000000</td>\n      <td>47.000000</td>\n    </tr>\n  </tbody>\n</table>\n</div>"
     },
     "metadata": {},
     "execution_count": 23
    }
   ],
   "source": [
    "coches.describe()"
   ]
  },
  {
   "cell_type": "code",
   "execution_count": 24,
   "metadata": {
    "tags": []
   },
   "outputs": [
    {
     "output_type": "stream",
     "name": "stdout",
     "text": "&lt;class &#39;pandas.core.frame.DataFrame&#39;&gt;\nRangeIndex: 61 entries, 0 to 60\nData columns (total 10 columns):\n #   Column            Non-Null Count  Dtype  \n---  ------            --------------  -----  \n 0   index             61 non-null     int64  \n 1   company           61 non-null     object \n 2   body-style        61 non-null     object \n 3   wheel-base        61 non-null     float64\n 4   length            61 non-null     float64\n 5   engine-type       61 non-null     object \n 6   num-of-cylinders  61 non-null     object \n 7   horsepower        61 non-null     int64  \n 8   average-mileage   61 non-null     int64  \n 9   price             58 non-null     object \ndtypes: float64(2), int64(3), object(5)\nmemory usage: 4.9+ KB\n"
    }
   ],
   "source": [
    "coches.info()"
   ]
  },
  {
   "source": [
    "###  Solución 3\n",
    "En un DataFrame, el número de variables corresponde a la cantidad de columnas y también podemos verlas de distintas formas:\n",
    "- ```len(coches.columns)``` nos permite acceder a las columnas del DataFrame y contarlas.\n",
    "- ```coches.info()``` también proporciona el número de columnas en *Data columns (total 10 columns)*."
   ],
   "cell_type": "markdown",
   "metadata": {}
  },
  {
   "cell_type": "code",
   "execution_count": 25,
   "metadata": {},
   "outputs": [
    {
     "output_type": "execute_result",
     "data": {
      "text/plain": "10"
     },
     "metadata": {},
     "execution_count": 25
    }
   ],
   "source": [
    "len(coches.columns)"
   ]
  },
  {
   "cell_type": "code",
   "execution_count": 26,
   "metadata": {
    "tags": []
   },
   "outputs": [
    {
     "output_type": "stream",
     "name": "stdout",
     "text": "&lt;class &#39;pandas.core.frame.DataFrame&#39;&gt;\nRangeIndex: 61 entries, 0 to 60\nData columns (total 10 columns):\n #   Column            Non-Null Count  Dtype  \n---  ------            --------------  -----  \n 0   index             61 non-null     int64  \n 1   company           61 non-null     object \n 2   body-style        61 non-null     object \n 3   wheel-base        61 non-null     float64\n 4   length            61 non-null     float64\n 5   engine-type       61 non-null     object \n 6   num-of-cylinders  61 non-null     object \n 7   horsepower        61 non-null     int64  \n 8   average-mileage   61 non-null     int64  \n 9   price             58 non-null     object \ndtypes: float64(2), int64(3), object(5)\nmemory usage: 4.9+ KB\n"
    }
   ],
   "source": [
    "coches.info()"
   ]
  },
  {
   "source": [
    "### Solucion 4\n",
    "Crea una diccionario cuyas claves contengan las posición de la columna y el valor los nombres de las variables del dataframe.\n",
    "Utilizando el primer atributo que comentábamos antes (```.columns```), accedemos a los nombres de las columnas del DataFrame y creamos el diccionario:"
   ],
   "cell_type": "markdown",
   "metadata": {
    "scrolled": true
   }
  },
  {
   "cell_type": "code",
   "execution_count": 27,
   "metadata": {},
   "outputs": [
    {
     "output_type": "execute_result",
     "data": {
      "text/plain": "{0: &#39;index&#39;,\n 1: &#39;company&#39;,\n 2: &#39;body-style&#39;,\n 3: &#39;wheel-base&#39;,\n 4: &#39;length&#39;,\n 5: &#39;engine-type&#39;,\n 6: &#39;num-of-cylinders&#39;,\n 7: &#39;horsepower&#39;,\n 8: &#39;average-mileage&#39;,\n 9: &#39;price&#39;}"
     },
     "metadata": {},
     "execution_count": 27
    }
   ],
   "source": [
    "dic_coches = {key:value for key, value in enumerate(coches.columns)}\n",
    "dic_coches"
   ]
  },
  {
   "cell_type": "markdown",
   "metadata": {},
   "source": [
    "**Ejercicio 5. (2 puntos)** Limpieza de un dataframe.\n",
    "\n",
    "* En el data frame existen datos ausentes codificados con símbolos `\"?\"` y `\"n.a\"`, reemplaza estos valores por `NaN`. Puedes tirar de sentencias de control, pero si eres hábil puedes utilizar una opción del  método `read_csv` para que en la carga del fichero se lleve a cabo lo que te pido. Almacena el resultado un data frame denominado `df_clean`.\n",
    "\n",
    "* Elimina la columna `index` del dataframe.\n",
    "* Elimina aquellas muestras que contengan algún NaN.\n",
    "* Almacena el data frame `df_clean` en el fichero  `Coches_dataset_jgx_I_clean.csv`empleando como delimitador de datos `;` y sin almacenar el índice de la muestra."
   ]
  },
  {
   "source": [
    "### Solución 1"
   ],
   "cell_type": "markdown",
   "metadata": {}
  },
  {
   "cell_type": "code",
   "execution_count": 28,
   "metadata": {},
   "outputs": [
    {
     "output_type": "execute_result",
     "data": {
      "text/plain": "   index      company   body-style  wheel-base  length engine-type  \\\n0      0  alfa-romero  convertible        88.6   168.8        dohc   \n1      1  alfa-romero  convertible        88.6   168.8        dohc   \n2      2  alfa-romero    hatchback        94.5   171.2        ohcv   \n3      3         audi        sedan        99.8   176.6         ohc   \n4      4         audi        sedan        99.4   176.6         ohc   \n\n  num-of-cylinders  horsepower  average-mileage    price  \n0             four         111               21  13495.0  \n1             four         111               21  16500.0  \n2              six         154               19  16500.0  \n3             four         102               24  13950.0  \n4             five         115               18  17450.0  ",
      "text/html": "<div>\n<style scoped>\n    .dataframe tbody tr th:only-of-type {\n        vertical-align: middle;\n    }\n\n    .dataframe tbody tr th {\n        vertical-align: top;\n    }\n\n    .dataframe thead th {\n        text-align: right;\n    }\n</style>\n<table border=\"1\" class=\"dataframe\">\n  <thead>\n    <tr style=\"text-align: right;\">\n      <th></th>\n      <th>index</th>\n      <th>company</th>\n      <th>body-style</th>\n      <th>wheel-base</th>\n      <th>length</th>\n      <th>engine-type</th>\n      <th>num-of-cylinders</th>\n      <th>horsepower</th>\n      <th>average-mileage</th>\n      <th>price</th>\n    </tr>\n  </thead>\n  <tbody>\n    <tr>\n      <th>0</th>\n      <td>0</td>\n      <td>alfa-romero</td>\n      <td>convertible</td>\n      <td>88.6</td>\n      <td>168.8</td>\n      <td>dohc</td>\n      <td>four</td>\n      <td>111</td>\n      <td>21</td>\n      <td>13495.0</td>\n    </tr>\n    <tr>\n      <th>1</th>\n      <td>1</td>\n      <td>alfa-romero</td>\n      <td>convertible</td>\n      <td>88.6</td>\n      <td>168.8</td>\n      <td>dohc</td>\n      <td>four</td>\n      <td>111</td>\n      <td>21</td>\n      <td>16500.0</td>\n    </tr>\n    <tr>\n      <th>2</th>\n      <td>2</td>\n      <td>alfa-romero</td>\n      <td>hatchback</td>\n      <td>94.5</td>\n      <td>171.2</td>\n      <td>ohcv</td>\n      <td>six</td>\n      <td>154</td>\n      <td>19</td>\n      <td>16500.0</td>\n    </tr>\n    <tr>\n      <th>3</th>\n      <td>3</td>\n      <td>audi</td>\n      <td>sedan</td>\n      <td>99.8</td>\n      <td>176.6</td>\n      <td>ohc</td>\n      <td>four</td>\n      <td>102</td>\n      <td>24</td>\n      <td>13950.0</td>\n    </tr>\n    <tr>\n      <th>4</th>\n      <td>4</td>\n      <td>audi</td>\n      <td>sedan</td>\n      <td>99.4</td>\n      <td>176.6</td>\n      <td>ohc</td>\n      <td>five</td>\n      <td>115</td>\n      <td>18</td>\n      <td>17450.0</td>\n    </tr>\n  </tbody>\n</table>\n</div>"
     },
     "metadata": {},
     "execution_count": 28
    }
   ],
   "source": [
    "df_clean = pd.read_csv(\"Coches_dataset_jgx_I.csv\", sep = \";\", na_values = [\"?\", \"n.a\"])\n",
    "df_clean.head()"
   ]
  },
  {
   "source": [
    "### Solución 2"
   ],
   "cell_type": "markdown",
   "metadata": {}
  },
  {
   "cell_type": "code",
   "execution_count": 29,
   "metadata": {},
   "outputs": [
    {
     "output_type": "execute_result",
     "data": {
      "text/plain": "       company   body-style  wheel-base  length engine-type num-of-cylinders  \\\n0  alfa-romero  convertible        88.6   168.8        dohc             four   \n1  alfa-romero  convertible        88.6   168.8        dohc             four   \n2  alfa-romero    hatchback        94.5   171.2        ohcv              six   \n3         audi        sedan        99.8   176.6         ohc             four   \n4         audi        sedan        99.4   176.6         ohc             five   \n\n   horsepower  average-mileage    price  \n0         111               21  13495.0  \n1         111               21  16500.0  \n2         154               19  16500.0  \n3         102               24  13950.0  \n4         115               18  17450.0  ",
      "text/html": "<div>\n<style scoped>\n    .dataframe tbody tr th:only-of-type {\n        vertical-align: middle;\n    }\n\n    .dataframe tbody tr th {\n        vertical-align: top;\n    }\n\n    .dataframe thead th {\n        text-align: right;\n    }\n</style>\n<table border=\"1\" class=\"dataframe\">\n  <thead>\n    <tr style=\"text-align: right;\">\n      <th></th>\n      <th>company</th>\n      <th>body-style</th>\n      <th>wheel-base</th>\n      <th>length</th>\n      <th>engine-type</th>\n      <th>num-of-cylinders</th>\n      <th>horsepower</th>\n      <th>average-mileage</th>\n      <th>price</th>\n    </tr>\n  </thead>\n  <tbody>\n    <tr>\n      <th>0</th>\n      <td>alfa-romero</td>\n      <td>convertible</td>\n      <td>88.6</td>\n      <td>168.8</td>\n      <td>dohc</td>\n      <td>four</td>\n      <td>111</td>\n      <td>21</td>\n      <td>13495.0</td>\n    </tr>\n    <tr>\n      <th>1</th>\n      <td>alfa-romero</td>\n      <td>convertible</td>\n      <td>88.6</td>\n      <td>168.8</td>\n      <td>dohc</td>\n      <td>four</td>\n      <td>111</td>\n      <td>21</td>\n      <td>16500.0</td>\n    </tr>\n    <tr>\n      <th>2</th>\n      <td>alfa-romero</td>\n      <td>hatchback</td>\n      <td>94.5</td>\n      <td>171.2</td>\n      <td>ohcv</td>\n      <td>six</td>\n      <td>154</td>\n      <td>19</td>\n      <td>16500.0</td>\n    </tr>\n    <tr>\n      <th>3</th>\n      <td>audi</td>\n      <td>sedan</td>\n      <td>99.8</td>\n      <td>176.6</td>\n      <td>ohc</td>\n      <td>four</td>\n      <td>102</td>\n      <td>24</td>\n      <td>13950.0</td>\n    </tr>\n    <tr>\n      <th>4</th>\n      <td>audi</td>\n      <td>sedan</td>\n      <td>99.4</td>\n      <td>176.6</td>\n      <td>ohc</td>\n      <td>five</td>\n      <td>115</td>\n      <td>18</td>\n      <td>17450.0</td>\n    </tr>\n  </tbody>\n</table>\n</div>"
     },
     "metadata": {},
     "execution_count": 29
    }
   ],
   "source": [
    "df_clean.drop(labels = \"index\", axis = \"columns\", inplace = True) \n",
    "df_clean.head()"
   ]
  },
  {
   "source": [
    "### Solución 3"
   ],
   "cell_type": "markdown",
   "metadata": {}
  },
  {
   "cell_type": "code",
   "execution_count": 30,
   "metadata": {
    "tags": []
   },
   "outputs": [
    {
     "output_type": "stream",
     "name": "stdout",
     "text": "El DataFrame tiene 61 columnas antes de quitar los NaN.\nEl DataFrame tiene 53 columnas después de quitar los NaN.\n"
    }
   ],
   "source": [
    "print(f\"El DataFrame tiene {len(df_clean)} columnas antes de quitar los NaN.\")\n",
    "df_clean.dropna(inplace = True)\n",
    "print(f\"El DataFrame tiene {len(df_clean)} columnas después de quitar los NaN.\")"
   ]
  },
  {
   "source": [
    "### Solución 4"
   ],
   "cell_type": "markdown",
   "metadata": {}
  },
  {
   "cell_type": "code",
   "execution_count": 31,
   "metadata": {},
   "outputs": [],
   "source": [
    "df_clean.to_csv(\"Coches_dataset_jgx_I_clean.csv\", sep = \";\", index = False)"
   ]
  },
  {
   "cell_type": "markdown",
   "metadata": {},
   "source": [
    "**Ejercicio 6. (2 puntos)** Manipulando y extrayendo información del data frame.\n",
    "\n",
    "* Carga el dataset `Coches_dataset_jgx_I_clean.csv` que has almacenado en el ejercicio anterior. \n",
    "* Programa un segmento de código que te permita conocer que marca tiene el coche más caro y su precio.\n",
    "* Programa un segmento de código que te permita acceder a las muestras correspondientes a los coches `toyota`\n",
    "* Averigua el número de coches de cada marca hay en el dataset.\n",
    "* Averigua cual es el coche más caro de cada  marca, su estilo (`'body-style'`), la potencia (`'horsepower'`) y el precio ('price').\n",
    "* Ordena las muestras del data frame por por precio (`'price'`) y potencia (`'horsepower'`)\n",
    "* Calcula los principales estadísticos (mean, std, min, max, percetiles 25%, 50%, 75% y el número de muestras diferentes de NaN) de las variables numéricas del dataframe. "
   ]
  },
  {
   "source": [
    "###  Solución 1"
   ],
   "cell_type": "markdown",
   "metadata": {}
  },
  {
   "cell_type": "code",
   "execution_count": 32,
   "metadata": {},
   "outputs": [
    {
     "output_type": "execute_result",
     "data": {
      "text/plain": "       company   body-style  wheel-base  length engine-type num-of-cylinders  \\\n0  alfa-romero  convertible        88.6   168.8        dohc             four   \n1  alfa-romero  convertible        88.6   168.8        dohc             four   \n2  alfa-romero    hatchback        94.5   171.2        ohcv              six   \n3         audi        sedan        99.8   176.6         ohc             four   \n4         audi        sedan        99.4   176.6         ohc             five   \n\n   horsepower  average-mileage    price  \n0         111               21  13495.0  \n1         111               21  16500.0  \n2         154               19  16500.0  \n3         102               24  13950.0  \n4         115               18  17450.0  ",
      "text/html": "<div>\n<style scoped>\n    .dataframe tbody tr th:only-of-type {\n        vertical-align: middle;\n    }\n\n    .dataframe tbody tr th {\n        vertical-align: top;\n    }\n\n    .dataframe thead th {\n        text-align: right;\n    }\n</style>\n<table border=\"1\" class=\"dataframe\">\n  <thead>\n    <tr style=\"text-align: right;\">\n      <th></th>\n      <th>company</th>\n      <th>body-style</th>\n      <th>wheel-base</th>\n      <th>length</th>\n      <th>engine-type</th>\n      <th>num-of-cylinders</th>\n      <th>horsepower</th>\n      <th>average-mileage</th>\n      <th>price</th>\n    </tr>\n  </thead>\n  <tbody>\n    <tr>\n      <th>0</th>\n      <td>alfa-romero</td>\n      <td>convertible</td>\n      <td>88.6</td>\n      <td>168.8</td>\n      <td>dohc</td>\n      <td>four</td>\n      <td>111</td>\n      <td>21</td>\n      <td>13495.0</td>\n    </tr>\n    <tr>\n      <th>1</th>\n      <td>alfa-romero</td>\n      <td>convertible</td>\n      <td>88.6</td>\n      <td>168.8</td>\n      <td>dohc</td>\n      <td>four</td>\n      <td>111</td>\n      <td>21</td>\n      <td>16500.0</td>\n    </tr>\n    <tr>\n      <th>2</th>\n      <td>alfa-romero</td>\n      <td>hatchback</td>\n      <td>94.5</td>\n      <td>171.2</td>\n      <td>ohcv</td>\n      <td>six</td>\n      <td>154</td>\n      <td>19</td>\n      <td>16500.0</td>\n    </tr>\n    <tr>\n      <th>3</th>\n      <td>audi</td>\n      <td>sedan</td>\n      <td>99.8</td>\n      <td>176.6</td>\n      <td>ohc</td>\n      <td>four</td>\n      <td>102</td>\n      <td>24</td>\n      <td>13950.0</td>\n    </tr>\n    <tr>\n      <th>4</th>\n      <td>audi</td>\n      <td>sedan</td>\n      <td>99.4</td>\n      <td>176.6</td>\n      <td>ohc</td>\n      <td>five</td>\n      <td>115</td>\n      <td>18</td>\n      <td>17450.0</td>\n    </tr>\n  </tbody>\n</table>\n</div>"
     },
     "metadata": {},
     "execution_count": 32
    }
   ],
   "source": [
    "coches_clean = pd.read_csv(\"Coches_dataset_jgx_I_clean.csv\", sep = \";\")\n",
    "coches_clean.head()"
   ]
  },
  {
   "source": [
    "###  Solución 2 "
   ],
   "cell_type": "markdown",
   "metadata": {}
  },
  {
   "cell_type": "code",
   "execution_count": 33,
   "metadata": {},
   "outputs": [
    {
     "output_type": "execute_result",
     "data": {
      "text/plain": "          company   body-style  wheel-base  length engine-type  \\\n32  mercedes-benz      hardtop       112.0   199.2        ohcv   \n11            bmw        sedan       103.5   193.8         ohc   \n31  mercedes-benz        sedan       120.9   208.1        ohcv   \n42        porsche  convertible        89.5   168.9        ohcf   \n12            bmw        sedan       110.0   197.0         ohc   \n\n   num-of-cylinders  horsepower  average-mileage    price  \n32            eight         184               14  45400.0  \n11              six         182               16  41315.0  \n31            eight         184               14  40960.0  \n42              six         207               17  37028.0  \n12              six         182               15  36880.0  ",
      "text/html": "<div>\n<style scoped>\n    .dataframe tbody tr th:only-of-type {\n        vertical-align: middle;\n    }\n\n    .dataframe tbody tr th {\n        vertical-align: top;\n    }\n\n    .dataframe thead th {\n        text-align: right;\n    }\n</style>\n<table border=\"1\" class=\"dataframe\">\n  <thead>\n    <tr style=\"text-align: right;\">\n      <th></th>\n      <th>company</th>\n      <th>body-style</th>\n      <th>wheel-base</th>\n      <th>length</th>\n      <th>engine-type</th>\n      <th>num-of-cylinders</th>\n      <th>horsepower</th>\n      <th>average-mileage</th>\n      <th>price</th>\n    </tr>\n  </thead>\n  <tbody>\n    <tr>\n      <th>32</th>\n      <td>mercedes-benz</td>\n      <td>hardtop</td>\n      <td>112.0</td>\n      <td>199.2</td>\n      <td>ohcv</td>\n      <td>eight</td>\n      <td>184</td>\n      <td>14</td>\n      <td>45400.0</td>\n    </tr>\n    <tr>\n      <th>11</th>\n      <td>bmw</td>\n      <td>sedan</td>\n      <td>103.5</td>\n      <td>193.8</td>\n      <td>ohc</td>\n      <td>six</td>\n      <td>182</td>\n      <td>16</td>\n      <td>41315.0</td>\n    </tr>\n    <tr>\n      <th>31</th>\n      <td>mercedes-benz</td>\n      <td>sedan</td>\n      <td>120.9</td>\n      <td>208.1</td>\n      <td>ohcv</td>\n      <td>eight</td>\n      <td>184</td>\n      <td>14</td>\n      <td>40960.0</td>\n    </tr>\n    <tr>\n      <th>42</th>\n      <td>porsche</td>\n      <td>convertible</td>\n      <td>89.5</td>\n      <td>168.9</td>\n      <td>ohcf</td>\n      <td>six</td>\n      <td>207</td>\n      <td>17</td>\n      <td>37028.0</td>\n    </tr>\n    <tr>\n      <th>12</th>\n      <td>bmw</td>\n      <td>sedan</td>\n      <td>110.0</td>\n      <td>197.0</td>\n      <td>ohc</td>\n      <td>six</td>\n      <td>182</td>\n      <td>15</td>\n      <td>36880.0</td>\n    </tr>\n  </tbody>\n</table>\n</div>"
     },
     "metadata": {},
     "execution_count": 33
    }
   ],
   "source": [
    "coches_precio = coches_clean.sort_values(\"price\", ascending = False)\n",
    "coches_precio.head()"
   ]
  },
  {
   "source": [
    "Vemos que el coche más caro pertenece a la marca Mercedes-Benz y tiene un precio de 45400€."
   ],
   "cell_type": "markdown",
   "metadata": {}
  },
  {
   "source": [
    "### Solución 3"
   ],
   "cell_type": "markdown",
   "metadata": {}
  },
  {
   "cell_type": "code",
   "execution_count": 34,
   "metadata": {},
   "outputs": [
    {
     "output_type": "execute_result",
     "data": {
      "text/plain": "   company body-style  wheel-base  length engine-type num-of-cylinders  \\\n43  toyota  hatchback        95.7   158.7         ohc             four   \n44  toyota  hatchback        95.7   158.7         ohc             four   \n45  toyota  hatchback        95.7   158.7         ohc             four   \n46  toyota      wagon        95.7   169.7         ohc             four   \n47  toyota      wagon        95.7   169.7         ohc             four   \n\n    horsepower  average-mileage   price  \n43          62               35  5348.0  \n44          62               31  6338.0  \n45          62               31  6488.0  \n46          62               31  6918.0  \n47          62               27  7898.0  ",
      "text/html": "<div>\n<style scoped>\n    .dataframe tbody tr th:only-of-type {\n        vertical-align: middle;\n    }\n\n    .dataframe tbody tr th {\n        vertical-align: top;\n    }\n\n    .dataframe thead th {\n        text-align: right;\n    }\n</style>\n<table border=\"1\" class=\"dataframe\">\n  <thead>\n    <tr style=\"text-align: right;\">\n      <th></th>\n      <th>company</th>\n      <th>body-style</th>\n      <th>wheel-base</th>\n      <th>length</th>\n      <th>engine-type</th>\n      <th>num-of-cylinders</th>\n      <th>horsepower</th>\n      <th>average-mileage</th>\n      <th>price</th>\n    </tr>\n  </thead>\n  <tbody>\n    <tr>\n      <th>43</th>\n      <td>toyota</td>\n      <td>hatchback</td>\n      <td>95.7</td>\n      <td>158.7</td>\n      <td>ohc</td>\n      <td>four</td>\n      <td>62</td>\n      <td>35</td>\n      <td>5348.0</td>\n    </tr>\n    <tr>\n      <th>44</th>\n      <td>toyota</td>\n      <td>hatchback</td>\n      <td>95.7</td>\n      <td>158.7</td>\n      <td>ohc</td>\n      <td>four</td>\n      <td>62</td>\n      <td>31</td>\n      <td>6338.0</td>\n    </tr>\n    <tr>\n      <th>45</th>\n      <td>toyota</td>\n      <td>hatchback</td>\n      <td>95.7</td>\n      <td>158.7</td>\n      <td>ohc</td>\n      <td>four</td>\n      <td>62</td>\n      <td>31</td>\n      <td>6488.0</td>\n    </tr>\n    <tr>\n      <th>46</th>\n      <td>toyota</td>\n      <td>wagon</td>\n      <td>95.7</td>\n      <td>169.7</td>\n      <td>ohc</td>\n      <td>four</td>\n      <td>62</td>\n      <td>31</td>\n      <td>6918.0</td>\n    </tr>\n    <tr>\n      <th>47</th>\n      <td>toyota</td>\n      <td>wagon</td>\n      <td>95.7</td>\n      <td>169.7</td>\n      <td>ohc</td>\n      <td>four</td>\n      <td>62</td>\n      <td>27</td>\n      <td>7898.0</td>\n    </tr>\n  </tbody>\n</table>\n</div>"
     },
     "metadata": {},
     "execution_count": 34
    }
   ],
   "source": [
    "toyota = coches_clean[coches_clean[\"company\"] == \"toyota\"]\n",
    "toyota.head()"
   ]
  },
  {
   "source": [
    "###  Solución 4\n",
    "La funcioón ```crosstab``` nos permite crear un DataFrame que \"cruce\" las características que queramos. Sería equivalente a crear una tabla de contingencia. Al utilizar el argumento *count* simplemente nos cuenta las muestras que corresponden a cada compañia."
   ],
   "cell_type": "markdown",
   "metadata": {}
  },
  {
   "cell_type": "code",
   "execution_count": 35,
   "metadata": {},
   "outputs": [
    {
     "output_type": "execute_result",
     "data": {
      "text/plain": "col_0        count\ncompany           \nalfa-romero      3\naudi             4\nbmw              6\nchevrolet        3\ndodge            2",
      "text/html": "<div>\n<style scoped>\n    .dataframe tbody tr th:only-of-type {\n        vertical-align: middle;\n    }\n\n    .dataframe tbody tr th {\n        vertical-align: top;\n    }\n\n    .dataframe thead th {\n        text-align: right;\n    }\n</style>\n<table border=\"1\" class=\"dataframe\">\n  <thead>\n    <tr style=\"text-align: right;\">\n      <th>col_0</th>\n      <th>count</th>\n    </tr>\n    <tr>\n      <th>company</th>\n      <th></th>\n    </tr>\n  </thead>\n  <tbody>\n    <tr>\n      <th>alfa-romero</th>\n      <td>3</td>\n    </tr>\n    <tr>\n      <th>audi</th>\n      <td>4</td>\n    </tr>\n    <tr>\n      <th>bmw</th>\n      <td>6</td>\n    </tr>\n    <tr>\n      <th>chevrolet</th>\n      <td>3</td>\n    </tr>\n    <tr>\n      <th>dodge</th>\n      <td>2</td>\n    </tr>\n  </tbody>\n</table>\n</div>"
     },
     "metadata": {},
     "execution_count": 35
    }
   ],
   "source": [
    "coches_marca = pd.crosstab(coches_clean[\"company\"], \"count\")\n",
    "coches_marca.head()"
   ]
  },
  {
   "source": [
    "###  Solución 5 \n",
    "Como ya hemos ordenado antes el DataFrame en función del precio, podemos utilizar el método ```.drop_duplicates``` para eliminar todas las entradas que tienen la misma compañia y así nos quedamos con un DataFrame ordenado por precio que solamente nos muestra el coche más caro de cada marca junto al resto de atributos. Si queremos ver únicamente el estilo, la potencia y el precio también podemos hacerlo seleccionando estas columnas del nuevo DataFrame."
   ],
   "cell_type": "markdown",
   "metadata": {}
  },
  {
   "cell_type": "code",
   "execution_count": 36,
   "metadata": {},
   "outputs": [
    {
     "output_type": "execute_result",
     "data": {
      "text/plain": "          company   body-style  wheel-base  length engine-type  \\\n32  mercedes-benz      hardtop       112.0   199.2        ohcv   \n11            bmw        sedan       103.5   193.8         ohc   \n42        porsche  convertible        89.5   168.9        ohcf   \n24         jaguar        sedan       102.0   191.7        ohcv   \n6            audi        wagon       105.8   192.7         ohc   \n29          mazda        sedan       104.9   175.0         ohc   \n2     alfa-romero    hatchback        94.5   171.2        ohcv   \n48         toyota        wagon       104.5   187.8        dohc   \n40         nissan        sedan       100.4   184.6        ohcv   \n19          honda        sedan        96.5   175.4         ohc   \n52     volkswagen        sedan        97.3   171.7         ohc   \n36     mitsubishi        sedan        96.3   172.4         ohc   \n21          isuzu        sedan        94.3   170.7         ohc   \n15      chevrolet        sedan        94.5   158.8         ohc   \n16          dodge    hatchback        93.7   157.3         ohc   \n\n   num-of-cylinders  horsepower  average-mileage    price  \n32            eight         184               14  45400.0  \n11              six         182               16  41315.0  \n42              six         207               17  37028.0  \n24           twelve         262               13  36000.0  \n6              five         110               19  18920.0  \n29             four          72               31  18344.0  \n2               six         154               19  16500.0  \n48              six         156               19  15750.0  \n40              six         152               19  13499.0  \n19             four         101               24  12945.0  \n52             four         100               26   9995.0  \n36             four          88               25   8189.0  \n21             four          78               24   6785.0  \n15             four          70               38   6575.0  \n16             four          68               31   6377.0  ",
      "text/html": "<div>\n<style scoped>\n    .dataframe tbody tr th:only-of-type {\n        vertical-align: middle;\n    }\n\n    .dataframe tbody tr th {\n        vertical-align: top;\n    }\n\n    .dataframe thead th {\n        text-align: right;\n    }\n</style>\n<table border=\"1\" class=\"dataframe\">\n  <thead>\n    <tr style=\"text-align: right;\">\n      <th></th>\n      <th>company</th>\n      <th>body-style</th>\n      <th>wheel-base</th>\n      <th>length</th>\n      <th>engine-type</th>\n      <th>num-of-cylinders</th>\n      <th>horsepower</th>\n      <th>average-mileage</th>\n      <th>price</th>\n    </tr>\n  </thead>\n  <tbody>\n    <tr>\n      <th>32</th>\n      <td>mercedes-benz</td>\n      <td>hardtop</td>\n      <td>112.0</td>\n      <td>199.2</td>\n      <td>ohcv</td>\n      <td>eight</td>\n      <td>184</td>\n      <td>14</td>\n      <td>45400.0</td>\n    </tr>\n    <tr>\n      <th>11</th>\n      <td>bmw</td>\n      <td>sedan</td>\n      <td>103.5</td>\n      <td>193.8</td>\n      <td>ohc</td>\n      <td>six</td>\n      <td>182</td>\n      <td>16</td>\n      <td>41315.0</td>\n    </tr>\n    <tr>\n      <th>42</th>\n      <td>porsche</td>\n      <td>convertible</td>\n      <td>89.5</td>\n      <td>168.9</td>\n      <td>ohcf</td>\n      <td>six</td>\n      <td>207</td>\n      <td>17</td>\n      <td>37028.0</td>\n    </tr>\n    <tr>\n      <th>24</th>\n      <td>jaguar</td>\n      <td>sedan</td>\n      <td>102.0</td>\n      <td>191.7</td>\n      <td>ohcv</td>\n      <td>twelve</td>\n      <td>262</td>\n      <td>13</td>\n      <td>36000.0</td>\n    </tr>\n    <tr>\n      <th>6</th>\n      <td>audi</td>\n      <td>wagon</td>\n      <td>105.8</td>\n      <td>192.7</td>\n      <td>ohc</td>\n      <td>five</td>\n      <td>110</td>\n      <td>19</td>\n      <td>18920.0</td>\n    </tr>\n    <tr>\n      <th>29</th>\n      <td>mazda</td>\n      <td>sedan</td>\n      <td>104.9</td>\n      <td>175.0</td>\n      <td>ohc</td>\n      <td>four</td>\n      <td>72</td>\n      <td>31</td>\n      <td>18344.0</td>\n    </tr>\n    <tr>\n      <th>2</th>\n      <td>alfa-romero</td>\n      <td>hatchback</td>\n      <td>94.5</td>\n      <td>171.2</td>\n      <td>ohcv</td>\n      <td>six</td>\n      <td>154</td>\n      <td>19</td>\n      <td>16500.0</td>\n    </tr>\n    <tr>\n      <th>48</th>\n      <td>toyota</td>\n      <td>wagon</td>\n      <td>104.5</td>\n      <td>187.8</td>\n      <td>dohc</td>\n      <td>six</td>\n      <td>156</td>\n      <td>19</td>\n      <td>15750.0</td>\n    </tr>\n    <tr>\n      <th>40</th>\n      <td>nissan</td>\n      <td>sedan</td>\n      <td>100.4</td>\n      <td>184.6</td>\n      <td>ohcv</td>\n      <td>six</td>\n      <td>152</td>\n      <td>19</td>\n      <td>13499.0</td>\n    </tr>\n    <tr>\n      <th>19</th>\n      <td>honda</td>\n      <td>sedan</td>\n      <td>96.5</td>\n      <td>175.4</td>\n      <td>ohc</td>\n      <td>four</td>\n      <td>101</td>\n      <td>24</td>\n      <td>12945.0</td>\n    </tr>\n    <tr>\n      <th>52</th>\n      <td>volkswagen</td>\n      <td>sedan</td>\n      <td>97.3</td>\n      <td>171.7</td>\n      <td>ohc</td>\n      <td>four</td>\n      <td>100</td>\n      <td>26</td>\n      <td>9995.0</td>\n    </tr>\n    <tr>\n      <th>36</th>\n      <td>mitsubishi</td>\n      <td>sedan</td>\n      <td>96.3</td>\n      <td>172.4</td>\n      <td>ohc</td>\n      <td>four</td>\n      <td>88</td>\n      <td>25</td>\n      <td>8189.0</td>\n    </tr>\n    <tr>\n      <th>21</th>\n      <td>isuzu</td>\n      <td>sedan</td>\n      <td>94.3</td>\n      <td>170.7</td>\n      <td>ohc</td>\n      <td>four</td>\n      <td>78</td>\n      <td>24</td>\n      <td>6785.0</td>\n    </tr>\n    <tr>\n      <th>15</th>\n      <td>chevrolet</td>\n      <td>sedan</td>\n      <td>94.5</td>\n      <td>158.8</td>\n      <td>ohc</td>\n      <td>four</td>\n      <td>70</td>\n      <td>38</td>\n      <td>6575.0</td>\n    </tr>\n    <tr>\n      <th>16</th>\n      <td>dodge</td>\n      <td>hatchback</td>\n      <td>93.7</td>\n      <td>157.3</td>\n      <td>ohc</td>\n      <td>four</td>\n      <td>68</td>\n      <td>31</td>\n      <td>6377.0</td>\n    </tr>\n  </tbody>\n</table>\n</div>"
     },
     "metadata": {},
     "execution_count": 36
    }
   ],
   "source": [
    "coches_precio_top = coches_precio.drop_duplicates(subset = [\"company\"])\n",
    "coches_precio_top"
   ]
  },
  {
   "cell_type": "code",
   "execution_count": 37,
   "metadata": {},
   "outputs": [
    {
     "output_type": "execute_result",
     "data": {
      "text/plain": "          company   body-style  horsepower    price\n32  mercedes-benz      hardtop         184  45400.0\n11            bmw        sedan         182  41315.0\n42        porsche  convertible         207  37028.0\n24         jaguar        sedan         262  36000.0\n6            audi        wagon         110  18920.0\n29          mazda        sedan          72  18344.0\n2     alfa-romero    hatchback         154  16500.0\n48         toyota        wagon         156  15750.0\n40         nissan        sedan         152  13499.0\n19          honda        sedan         101  12945.0\n52     volkswagen        sedan         100   9995.0\n36     mitsubishi        sedan          88   8189.0\n21          isuzu        sedan          78   6785.0\n15      chevrolet        sedan          70   6575.0\n16          dodge    hatchback          68   6377.0",
      "text/html": "<div>\n<style scoped>\n    .dataframe tbody tr th:only-of-type {\n        vertical-align: middle;\n    }\n\n    .dataframe tbody tr th {\n        vertical-align: top;\n    }\n\n    .dataframe thead th {\n        text-align: right;\n    }\n</style>\n<table border=\"1\" class=\"dataframe\">\n  <thead>\n    <tr style=\"text-align: right;\">\n      <th></th>\n      <th>company</th>\n      <th>body-style</th>\n      <th>horsepower</th>\n      <th>price</th>\n    </tr>\n  </thead>\n  <tbody>\n    <tr>\n      <th>32</th>\n      <td>mercedes-benz</td>\n      <td>hardtop</td>\n      <td>184</td>\n      <td>45400.0</td>\n    </tr>\n    <tr>\n      <th>11</th>\n      <td>bmw</td>\n      <td>sedan</td>\n      <td>182</td>\n      <td>41315.0</td>\n    </tr>\n    <tr>\n      <th>42</th>\n      <td>porsche</td>\n      <td>convertible</td>\n      <td>207</td>\n      <td>37028.0</td>\n    </tr>\n    <tr>\n      <th>24</th>\n      <td>jaguar</td>\n      <td>sedan</td>\n      <td>262</td>\n      <td>36000.0</td>\n    </tr>\n    <tr>\n      <th>6</th>\n      <td>audi</td>\n      <td>wagon</td>\n      <td>110</td>\n      <td>18920.0</td>\n    </tr>\n    <tr>\n      <th>29</th>\n      <td>mazda</td>\n      <td>sedan</td>\n      <td>72</td>\n      <td>18344.0</td>\n    </tr>\n    <tr>\n      <th>2</th>\n      <td>alfa-romero</td>\n      <td>hatchback</td>\n      <td>154</td>\n      <td>16500.0</td>\n    </tr>\n    <tr>\n      <th>48</th>\n      <td>toyota</td>\n      <td>wagon</td>\n      <td>156</td>\n      <td>15750.0</td>\n    </tr>\n    <tr>\n      <th>40</th>\n      <td>nissan</td>\n      <td>sedan</td>\n      <td>152</td>\n      <td>13499.0</td>\n    </tr>\n    <tr>\n      <th>19</th>\n      <td>honda</td>\n      <td>sedan</td>\n      <td>101</td>\n      <td>12945.0</td>\n    </tr>\n    <tr>\n      <th>52</th>\n      <td>volkswagen</td>\n      <td>sedan</td>\n      <td>100</td>\n      <td>9995.0</td>\n    </tr>\n    <tr>\n      <th>36</th>\n      <td>mitsubishi</td>\n      <td>sedan</td>\n      <td>88</td>\n      <td>8189.0</td>\n    </tr>\n    <tr>\n      <th>21</th>\n      <td>isuzu</td>\n      <td>sedan</td>\n      <td>78</td>\n      <td>6785.0</td>\n    </tr>\n    <tr>\n      <th>15</th>\n      <td>chevrolet</td>\n      <td>sedan</td>\n      <td>70</td>\n      <td>6575.0</td>\n    </tr>\n    <tr>\n      <th>16</th>\n      <td>dodge</td>\n      <td>hatchback</td>\n      <td>68</td>\n      <td>6377.0</td>\n    </tr>\n  </tbody>\n</table>\n</div>"
     },
     "metadata": {},
     "execution_count": 37
    }
   ],
   "source": [
    "coches_precio_top[[\"company\", \"body-style\", \"horsepower\", \"price\"]]"
   ]
  },
  {
   "source": [
    "###  Solución 6\n",
    "Utilizando de nuevo el método ```.sort_values``` podemos ordenar el DataFrame por precio y HorsePower.\n",
    "Al introducir más de una columna para realizar la ordenación, primero se fija en la primera columna y utiliza las siguientes cuándo se encuentra duplicados."
   ],
   "cell_type": "markdown",
   "metadata": {}
  },
  {
   "cell_type": "code",
   "execution_count": 38,
   "metadata": {},
   "outputs": [
    {
     "output_type": "execute_result",
     "data": {
      "text/plain": "          company   body-style  wheel-base  length engine-type  \\\n32  mercedes-benz      hardtop       112.0   199.2        ohcv   \n11            bmw        sedan       103.5   193.8         ohc   \n31  mercedes-benz        sedan       120.9   208.1        ohcv   \n42        porsche  convertible        89.5   168.9        ohcf   \n12            bmw        sedan       110.0   197.0         ohc   \n\n   num-of-cylinders  horsepower  average-mileage    price  \n32            eight         184               14  45400.0  \n11              six         182               16  41315.0  \n31            eight         184               14  40960.0  \n42              six         207               17  37028.0  \n12              six         182               15  36880.0  ",
      "text/html": "<div>\n<style scoped>\n    .dataframe tbody tr th:only-of-type {\n        vertical-align: middle;\n    }\n\n    .dataframe tbody tr th {\n        vertical-align: top;\n    }\n\n    .dataframe thead th {\n        text-align: right;\n    }\n</style>\n<table border=\"1\" class=\"dataframe\">\n  <thead>\n    <tr style=\"text-align: right;\">\n      <th></th>\n      <th>company</th>\n      <th>body-style</th>\n      <th>wheel-base</th>\n      <th>length</th>\n      <th>engine-type</th>\n      <th>num-of-cylinders</th>\n      <th>horsepower</th>\n      <th>average-mileage</th>\n      <th>price</th>\n    </tr>\n  </thead>\n  <tbody>\n    <tr>\n      <th>32</th>\n      <td>mercedes-benz</td>\n      <td>hardtop</td>\n      <td>112.0</td>\n      <td>199.2</td>\n      <td>ohcv</td>\n      <td>eight</td>\n      <td>184</td>\n      <td>14</td>\n      <td>45400.0</td>\n    </tr>\n    <tr>\n      <th>11</th>\n      <td>bmw</td>\n      <td>sedan</td>\n      <td>103.5</td>\n      <td>193.8</td>\n      <td>ohc</td>\n      <td>six</td>\n      <td>182</td>\n      <td>16</td>\n      <td>41315.0</td>\n    </tr>\n    <tr>\n      <th>31</th>\n      <td>mercedes-benz</td>\n      <td>sedan</td>\n      <td>120.9</td>\n      <td>208.1</td>\n      <td>ohcv</td>\n      <td>eight</td>\n      <td>184</td>\n      <td>14</td>\n      <td>40960.0</td>\n    </tr>\n    <tr>\n      <th>42</th>\n      <td>porsche</td>\n      <td>convertible</td>\n      <td>89.5</td>\n      <td>168.9</td>\n      <td>ohcf</td>\n      <td>six</td>\n      <td>207</td>\n      <td>17</td>\n      <td>37028.0</td>\n    </tr>\n    <tr>\n      <th>12</th>\n      <td>bmw</td>\n      <td>sedan</td>\n      <td>110.0</td>\n      <td>197.0</td>\n      <td>ohc</td>\n      <td>six</td>\n      <td>182</td>\n      <td>15</td>\n      <td>36880.0</td>\n    </tr>\n  </tbody>\n</table>\n</div>"
     },
     "metadata": {},
     "execution_count": 38
    }
   ],
   "source": [
    "coches_clean.sort_values([\"price\", \"horsepower\"], ascending = False).head()"
   ]
  },
  {
   "source": [
    "###  Solución 7 \n",
    "\n",
    "Para calcular los principales estadísticos de un DataFrame podemos utilizar el método ```.describe()```:"
   ],
   "cell_type": "markdown",
   "metadata": {}
  },
  {
   "cell_type": "code",
   "execution_count": 39,
   "metadata": {},
   "outputs": [
    {
     "output_type": "execute_result",
     "data": {
      "text/plain": "       wheel-base      length  horsepower  average-mileage         price\ncount   53.000000   53.000000   53.000000        53.000000     53.000000\nmean    98.324528  172.888679  106.962264        25.566038  15554.943396\nstd      6.821541   14.119090   50.500176         8.238067  11669.705287\nmin     88.400000  141.100000   48.000000        13.000000   5151.000000\n25%     94.500000  159.100000   68.000000        19.000000   6785.000000\n50%     96.300000  171.200000  100.000000        25.000000  10345.000000\n75%    101.200000  176.800000  123.000000        31.000000  18344.000000\nmax    120.900000  208.100000  262.000000        47.000000  45400.000000",
      "text/html": "<div>\n<style scoped>\n    .dataframe tbody tr th:only-of-type {\n        vertical-align: middle;\n    }\n\n    .dataframe tbody tr th {\n        vertical-align: top;\n    }\n\n    .dataframe thead th {\n        text-align: right;\n    }\n</style>\n<table border=\"1\" class=\"dataframe\">\n  <thead>\n    <tr style=\"text-align: right;\">\n      <th></th>\n      <th>wheel-base</th>\n      <th>length</th>\n      <th>horsepower</th>\n      <th>average-mileage</th>\n      <th>price</th>\n    </tr>\n  </thead>\n  <tbody>\n    <tr>\n      <th>count</th>\n      <td>53.000000</td>\n      <td>53.000000</td>\n      <td>53.000000</td>\n      <td>53.000000</td>\n      <td>53.000000</td>\n    </tr>\n    <tr>\n      <th>mean</th>\n      <td>98.324528</td>\n      <td>172.888679</td>\n      <td>106.962264</td>\n      <td>25.566038</td>\n      <td>15554.943396</td>\n    </tr>\n    <tr>\n      <th>std</th>\n      <td>6.821541</td>\n      <td>14.119090</td>\n      <td>50.500176</td>\n      <td>8.238067</td>\n      <td>11669.705287</td>\n    </tr>\n    <tr>\n      <th>min</th>\n      <td>88.400000</td>\n      <td>141.100000</td>\n      <td>48.000000</td>\n      <td>13.000000</td>\n      <td>5151.000000</td>\n    </tr>\n    <tr>\n      <th>25%</th>\n      <td>94.500000</td>\n      <td>159.100000</td>\n      <td>68.000000</td>\n      <td>19.000000</td>\n      <td>6785.000000</td>\n    </tr>\n    <tr>\n      <th>50%</th>\n      <td>96.300000</td>\n      <td>171.200000</td>\n      <td>100.000000</td>\n      <td>25.000000</td>\n      <td>10345.000000</td>\n    </tr>\n    <tr>\n      <th>75%</th>\n      <td>101.200000</td>\n      <td>176.800000</td>\n      <td>123.000000</td>\n      <td>31.000000</td>\n      <td>18344.000000</td>\n    </tr>\n    <tr>\n      <th>max</th>\n      <td>120.900000</td>\n      <td>208.100000</td>\n      <td>262.000000</td>\n      <td>47.000000</td>\n      <td>45400.000000</td>\n    </tr>\n  </tbody>\n</table>\n</div>"
     },
     "metadata": {},
     "execution_count": 39
    }
   ],
   "source": [
    "coches_clean.describe()"
   ]
  },
  {
   "cell_type": "code",
   "execution_count": null,
   "metadata": {},
   "outputs": [],
   "source": []
  }
 ],
 "metadata": {
  "kernelspec": {
   "display_name": "Python 3",
   "language": "python",
   "name": "python3"
  },
  "language_info": {
   "codemirror_mode": {
    "name": "ipython",
    "version": 3
   },
   "file_extension": ".py",
   "mimetype": "text/x-python",
   "name": "python",
   "nbconvert_exporter": "python",
   "pygments_lexer": "ipython3",
   "version": "3.8.5-final"
  }
 },
 "nbformat": 4,
 "nbformat_minor": 4
}