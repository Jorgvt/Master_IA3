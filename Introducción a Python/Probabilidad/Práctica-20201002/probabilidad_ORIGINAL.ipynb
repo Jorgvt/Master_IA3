{
 "cells": [
  {
   "cell_type": "markdown",
   "metadata": {},
   "source": [
    "# Herramientas de AI: probabilidad\n",
    "## Máster en Inteligencia Artificial Avanzada y Aplicada\n",
    "En este notebooks vamos a introducir el concepto de probabilidad al mismo tiempo que repasamos los conceptos básicos acerca del uso y representación de datos en Python.  \n",
    "### Ejemplo de probabilidad (frecuentista): encuesta de helados"
   ]
  },
  {
   "cell_type": "code",
   "execution_count": null,
   "metadata": {},
   "outputs": [],
   "source": [
    "import numpy as np\n",
    "import pandas as pd\n",
    "import matplotlib.pyplot as plt\n",
    "%matplotlib inline\n",
    "import seaborn as sns"
   ]
  },
  {
   "cell_type": "code",
   "execution_count": null,
   "metadata": {},
   "outputs": [],
   "source": [
    "#definimos un DataFrame en Pandas con los resultados de la encuesta\n",
    "encuesta = pd.DataFrame({'chocolate': [100, 350], 'vainilla': [120, 200], 'fresa': [60, 90]}, index = ['hombre', 'mujer'])\n",
    "encuesta"
   ]
  },
  {
   "cell_type": "code",
   "execution_count": null,
   "metadata": {},
   "outputs": [],
   "source": [
    "#Podemos sumar las filas para ver totales por columnas\n",
    "encuesta.sum(axis='index')"
   ]
  },
  {
   "cell_type": "code",
   "execution_count": null,
   "metadata": {},
   "outputs": [],
   "source": [
    "#O podemos sumar las columnas para ver totales por filas\n",
    "\n",
    "##COMPLETAR"
   ]
  },
  {
   "cell_type": "code",
   "execution_count": null,
   "metadata": {},
   "outputs": [],
   "source": [
    "#Totales de la tabla\n",
    "N = encuesta.sum().sum()\n",
    "N"
   ]
  },
  {
   "cell_type": "markdown",
   "metadata": {},
   "source": [
    "#### Probabilidad conjunta\n",
    "La probabilidad de que sucedan dos eventos a la vez."
   ]
  },
  {
   "cell_type": "code",
   "execution_count": null,
   "metadata": {},
   "outputs": [],
   "source": [
    "P = encuesta / N\n",
    "P"
   ]
  },
  {
   "cell_type": "markdown",
   "metadata": {},
   "source": [
    "Ejemplo, de los 920 participantes de la encuesta, ¿Cuál es la probabilidad de que el participante sea un hombre y prefiera el chocolate, $P(hombre, chocolate)$?"
   ]
  },
  {
   "cell_type": "code",
   "execution_count": null,
   "metadata": {},
   "outputs": [],
   "source": [
    "P.loc['hombre', 'chocolate']"
   ]
  },
  {
   "cell_type": "markdown",
   "metadata": {},
   "source": [
    "¿Cuál es la probabilidad de que el participante sea una mujer y prefiera la vainilla, $P(mujer, vainilla)$?"
   ]
  },
  {
   "cell_type": "code",
   "execution_count": null,
   "metadata": {},
   "outputs": [],
   "source": [
    "##COMPLETAR"
   ]
  },
  {
   "cell_type": "markdown",
   "metadata": {},
   "source": [
    "#### Probabilidad marginal\n",
    "La probabilidad marginal de una probabilidad conjunta se obtiene eliminando el efecto de un evento sobre la probabilidad conjunta (regla de la suma).  "
   ]
  },
  {
   "cell_type": "code",
   "execution_count": null,
   "metadata": {},
   "outputs": [],
   "source": [
    "P_sabor = P.sum(axis='index')\n",
    "P_sabor"
   ]
  },
  {
   "cell_type": "markdown",
   "metadata": {},
   "source": [
    "Ejemplo: la probabilidad de que un participante cualquiera prefiera el chocolate, $P(chocolate)$, es"
   ]
  },
  {
   "cell_type": "code",
   "execution_count": null,
   "metadata": {},
   "outputs": [],
   "source": [
    "P_sabor['chocolate']"
   ]
  },
  {
   "cell_type": "markdown",
   "metadata": {},
   "source": [
    "Este valor equivale a la suma  $P(hombre, chocolate) + P(mujer, chocolate)$"
   ]
  },
  {
   "cell_type": "code",
   "execution_count": null,
   "metadata": {},
   "outputs": [],
   "source": [
    "##COMPROBAR"
   ]
  },
  {
   "cell_type": "markdown",
   "metadata": {},
   "source": [
    "#### Probabilidad condicionada\n",
    "La probabilidad de que suceda un evento dado que ha sucedido otro evento.  \n",
    "Ejemplo, si sabemos que el participante de la encuesta es un hombre, ¿cuál es la probilidad de que prefiera el chocolate, $P(chocolate|hombre)$?"
   ]
  },
  {
   "cell_type": "code",
   "execution_count": null,
   "metadata": {},
   "outputs": [],
   "source": [
    "P_genero = P.sum(axis='columns')\n",
    "P_choco_hombre = P.loc['hombre', 'chocolate'] / P_genero['hombre']\n",
    "P_choco_hombre"
   ]
  },
  {
   "cell_type": "code",
   "execution_count": null,
   "metadata": {},
   "outputs": [],
   "source": [
    "#Podemos calcular la probabilidad condicionada por género para cada entrada de la tabla\n",
    "#dividimos cada columna (sabor) por la P_genero\n",
    "#convertimos en numpy array para hacer broadcasting\n",
    "#añdimos una dimensión a P_genero para convertirlo en vector columna\n",
    "\n",
    "from numpy import newaxis\n",
    "P_s_g = P.to_numpy() / P_genero.to_numpy()[:,newaxis]\n",
    "P_s_g"
   ]
  },
  {
   "cell_type": "code",
   "execution_count": null,
   "metadata": {},
   "outputs": [],
   "source": [
    "P_s_g = pd.DataFrame(P_s_g, columns = encuesta.columns, index = encuesta.index)\n",
    "display(P_s_g)"
   ]
  },
  {
   "cell_type": "markdown",
   "metadata": {},
   "source": [
    "la probabilidad de que siendo mujer le guste la fresa es"
   ]
  },
  {
   "cell_type": "code",
   "execution_count": null,
   "metadata": {},
   "outputs": [],
   "source": [
    "P_s_g.loc['mujer', 'fresa']"
   ]
  },
  {
   "cell_type": "markdown",
   "metadata": {},
   "source": [
    "#### Ley de la probabilidad total\n",
    "Se puede calcular la probabilidad de un evento como la suma de todas sus probabilidades condicionales.  \n",
    "Ejemplo: la probabilidad de que el participante de la encuesta prefiera el chocolate es la suma:  \n",
    "$P(chocolate|hombre) \\times P(hombre) + P(chocolate|mujer) \\times P(mujer)$  "
   ]
  },
  {
   "cell_type": "code",
   "execution_count": null,
   "metadata": {},
   "outputs": [],
   "source": [
    "P_choco_mujer = #COMPLETAR\n",
    "\n",
    "P_choco = P_choco_hombre * P_genero['hombre'] + P_choco_mujer * P_genero['mujer']\n",
    "P_choco"
   ]
  },
  {
   "cell_type": "code",
   "execution_count": null,
   "metadata": {},
   "outputs": [],
   "source": [
    "#La probabilidad total de cada sabor se puede calcular con el producto matricial\n",
    "# P_genero x P_sabor_genero\n",
    "P_genero.to_numpy().dot(P_s_g)"
   ]
  },
  {
   "cell_type": "markdown",
   "metadata": {},
   "source": [
    "#### Independencia\n",
    "Dos eventos son independientes si $P(A, B) = P(A) \\cdot P(B)$   \n",
    "¿se cumple para los datos de la encuesta?"
   ]
  },
  {
   "cell_type": "code",
   "execution_count": null,
   "metadata": {},
   "outputs": [],
   "source": [
    "assert(P.loc['hombre', 'chocolate'] == P_choco * P_genero['hombre'])"
   ]
  },
  {
   "cell_type": "code",
   "execution_count": null,
   "metadata": {},
   "outputs": [],
   "source": [
    "P.loc['hombre', 'chocolate']"
   ]
  },
  {
   "cell_type": "code",
   "execution_count": null,
   "metadata": {},
   "outputs": [],
   "source": [
    "P_choco * P_genero['hombre']"
   ]
  },
  {
   "cell_type": "markdown",
   "metadata": {},
   "source": [
    "## Ejemplo práctico\n",
    "### Dataset 'Titanic'\n",
    "Vamos a utilizar un listado de pasajeros del Titanic para estudiar probabilidades de supervivencia de los pasajeros en función de su género y su clase. \n",
    "Primero cargamos los datos en Pandas.  "
   ]
  },
  {
   "cell_type": "code",
   "execution_count": null,
   "metadata": {},
   "outputs": [],
   "source": [
    "#Cargamos el dataset\n",
    "titanic = #COMPLETAR"
   ]
  },
  {
   "cell_type": "code",
   "execution_count": null,
   "metadata": {},
   "outputs": [],
   "source": [
    "#Mostramos primeras columnas como ejemplo\n",
    "titanic.head()"
   ]
  },
  {
   "cell_type": "code",
   "execution_count": null,
   "metadata": {},
   "outputs": [],
   "source": [
    "#Convertimos columna 'Pclass' a cadena de texto\n",
    "titanic['Pclass'] = titanic['Pclass'].astype('str')"
   ]
  },
  {
   "cell_type": "markdown",
   "metadata": {},
   "source": [
    "Para calcular las probabilidades necesitamos obtener la tabla de frecuencias de cada combinación (supervicencia, clase, género)"
   ]
  },
  {
   "cell_type": "code",
   "execution_count": null,
   "metadata": {},
   "outputs": [],
   "source": [
    "#Tabla de contingencia: nº de pasajeros por clase y sexo\n",
    "pd.crosstab(index=titanic['Pclass'], columns=titanic['Sex'])"
   ]
  },
  {
   "cell_type": "code",
   "execution_count": null,
   "metadata": {},
   "outputs": [],
   "source": [
    "#Tabla de contingencia: supervivientes por clase y sexo\n",
    "titanic_frec = pd.crosstab(index=titanic['Survived'], columns=[titanic['Sex'],titanic['Pclass']])\n",
    "titanic_frec"
   ]
  },
  {
   "cell_type": "markdown",
   "metadata": {},
   "source": [
    "### Ejercicio  \n",
    "Calcula las probabilidades condicionales siguientes:  \n",
    " * $P(Survived=True|Género=male)$ \n",
    " * $P(Survived=True|Género=female)$ \n",
    " * $P(Survived=True|Género=male, Clase=1)$  \n",
    " * $P(Survived=True|Género=male, Clase=2)$  \n",
    " * $P(Survived=True|Género=male, Clase=3)$  \n",
    " * $P(Survived=True|Género=female, Clase=1)$  \n",
    " * $P(Survived=True|Género=female, Clase=2)$  \n",
    " * $P(Survived=True|Género=female, Clase=3)$  "
   ]
  },
  {
   "cell_type": "code",
   "execution_count": null,
   "metadata": {},
   "outputs": [],
   "source": [
    "#Solución\n",
    "#COMPLETAR"
   ]
  },
  {
   "cell_type": "markdown",
   "metadata": {},
   "source": [
    "## Teorema de Bayes\n",
    "### Ejercicio práctico: sistema de diagnóstico de Meningitis  \n",
    "* La meningitis causa rigidez de cuello en un 50% de los casos: $P(S|M)=0.5$    \n",
    "* se conoce también la probabilidad a priori de que un paciente tenga meningitis: $P(M)=1/50000$    \n",
    "* se conoce la probabilidad a priori de que un paciente tenga rigidez de cuello $P(S)=1/20$    \n",
    "\n",
    "Por tanto podemos calcular $P(M|S)$ (probabilidad de que un paciente con rigidez de cuello sufra una meningitis"
   ]
  },
  {
   "cell_type": "code",
   "execution_count": null,
   "metadata": {},
   "outputs": [],
   "source": [
    "pM = 1/50000\n",
    "pS = 1/20\n",
    "pS_M = 0.5\n",
    "\n",
    "#teorema de Bayes\n",
    "pM_S = (pS_M*pM) / pS"
   ]
  },
  {
   "cell_type": "code",
   "execution_count": null,
   "metadata": {},
   "outputs": [],
   "source": [
    "#probabilidad a priori de tener meningitis\n",
    "pM"
   ]
  },
  {
   "cell_type": "code",
   "execution_count": null,
   "metadata": {},
   "outputs": [],
   "source": [
    "#probabilidad a posteriori de tener meningitis\n",
    "pM_S"
   ]
  },
  {
   "cell_type": "code",
   "execution_count": null,
   "metadata": {},
   "outputs": [],
   "source": [
    "#la probabilidad de tener meningitis si se tiene rigidez de cuello aumenta 10 veces\n",
    "pM_S / pM"
   ]
  },
  {
   "cell_type": "markdown",
   "metadata": {},
   "source": [
    "Ahora evaluamos cómo varía $P(M|S)$ cuando varía $P(S)$   "
   ]
  },
  {
   "cell_type": "code",
   "execution_count": null,
   "metadata": {},
   "outputs": [],
   "source": [
    "pSarray = np.arange(start=1/20, stop=1, step=1/20)\n",
    "pM_Sarray = [pS_M*pM/pS for pS in pSarray]\n",
    "\n",
    "pM_Sarray"
   ]
  },
  {
   "cell_type": "code",
   "execution_count": null,
   "metadata": {},
   "outputs": [],
   "source": [
    "#Representa gráficamente"
   ]
  },
  {
   "cell_type": "markdown",
   "metadata": {},
   "source": [
    "Cuando más probable es el síntoma, menos informativo es para nuestros propósitos"
   ]
  },
  {
   "cell_type": "markdown",
   "metadata": {},
   "source": [
    "## Variables aleatorias\n",
    "Una variable aleatoria es una variable que toma valores numéricos de un fenómeno aleatorio. Las variables aleatorias pueden ser `discretas` o `continuas`.  \n",
    "### Variables discretas\n",
    "Suponemos que tenemos una población con los números enteros del 1 al 6 (por ejemplo al lanzar un dado de 6 caras).  "
   ]
  },
  {
   "cell_type": "code",
   "execution_count": null,
   "metadata": {},
   "outputs": [],
   "source": [
    "np.random.seed(1234)\n",
    "x=np.arange(6)+1\n",
    "\n",
    "x"
   ]
  },
  {
   "cell_type": "code",
   "execution_count": null,
   "metadata": {},
   "outputs": [],
   "source": [
    "#Permutación de la población\n",
    "np.random.shuffle(x) #Ojo, no devuelve un array sino que modifica el original\n",
    "x"
   ]
  },
  {
   "cell_type": "code",
   "execution_count": null,
   "metadata": {},
   "outputs": [],
   "source": [
    "#otra manera\n",
    "np.random.permutation(x) #devuelve un array con las permutaciones"
   ]
  },
  {
   "cell_type": "code",
   "execution_count": null,
   "metadata": {},
   "outputs": [],
   "source": [
    "#última manera\n",
    "np.random.permutation(6)+1 #genera un array de [0...5] y lo permuta"
   ]
  },
  {
   "cell_type": "code",
   "execution_count": null,
   "metadata": {},
   "outputs": [],
   "source": [
    "#muestreo de la población\n",
    "np.random.choice(x, 3, replace=False)"
   ]
  },
  {
   "cell_type": "code",
   "execution_count": null,
   "metadata": {},
   "outputs": [],
   "source": [
    "#muestreo con repetición\n",
    "np.random.choice(x, 10, replace=True)"
   ]
  },
  {
   "cell_type": "code",
   "execution_count": null,
   "metadata": {},
   "outputs": [],
   "source": [
    "#repetición del experimento 10 veces\n",
    "np.array([np.random.choice(x, 3, replace=True) for i in range(10)])"
   ]
  },
  {
   "cell_type": "markdown",
   "metadata": {},
   "source": [
    "## Distribuciones de probabilidad"
   ]
  },
  {
   "cell_type": "markdown",
   "metadata": {},
   "source": [
    "La distribución de probabilidad (PDF de sus siglas en inglés) de una variable discreta es una lista de las probabilidades asociadas a cada valor posible.  \n",
    "La función de distribución acumulativa (CDF) es una función de la probabilidad de que un variable aleatoria X sea menor o igual que x para cada x.  \n",
    "En Python, podemos obtener las funciones de distribución en el paquete `numpy.random.Generator` (https://numpy.org/doc/stable/reference/random/generator.html).  "
   ]
  },
  {
   "cell_type": "markdown",
   "metadata": {},
   "source": [
    "### Distribución uniforme\n",
    "Lo podemos obtener con `np.random.Generator.uniform`\n"
   ]
  },
  {
   "cell_type": "code",
   "execution_count": null,
   "metadata": {},
   "outputs": [],
   "source": [
    "size = 1000\n",
    "s = np.random.default_rng().uniform(size=size)"
   ]
  },
  {
   "cell_type": "code",
   "execution_count": null,
   "metadata": {},
   "outputs": [],
   "source": [
    "count, bins, ignored = plt.hist(s, 15, density=True, label='Simulación')\n",
    "plt.axhline(y=1, linewidth=2, color='r', label='PDF uniforme')\n",
    "plt.legend()\n",
    "plt.show()"
   ]
  },
  {
   "cell_type": "markdown",
   "metadata": {},
   "source": [
    "### Distribución normal\n",
    "Lo podemos obtener con `np.random.Generator.normal`\n"
   ]
  },
  {
   "cell_type": "code",
   "execution_count": null,
   "metadata": {},
   "outputs": [],
   "source": [
    "mu, sigma = 0, 0.1 # mean and standard deviation\n",
    "s = np.random.default_rng().normal(mu, sigma, size)"
   ]
  },
  {
   "cell_type": "code",
   "execution_count": null,
   "metadata": {},
   "outputs": [],
   "source": [
    "from scipy.stats import norm\n",
    "count, bins, ignored = plt.hist(s, 50, density=True, label='Simulación')\n",
    "plt.plot(bins, norm.pdf(bins, mu, sigma), linewidth=2, color='r', label='PDF normal')\n",
    "plt.legend()\n",
    "plt.show()"
   ]
  },
  {
   "cell_type": "markdown",
   "metadata": {},
   "source": [
    "### Distribución binomial\n",
    "P. ej. si la probabilidad de que suceda un evento es p=0.3 y repetimos el evento 10 veces, ¿cuál es la probabilidad de que suceda el evento $x$ veces ( $PDF(x, n=10, p=0,3)$ )?  \n",
    "Lo simulamos con `np.random.default_rng().binomial`"
   ]
  },
  {
   "cell_type": "code",
   "execution_count": null,
   "metadata": {},
   "outputs": [],
   "source": [
    "from scipy.stats import binom\n",
    "n = 10\n",
    "p = 0.3\n",
    "s = np.random.default_rng().binomial(n, p, size)"
   ]
  },
  {
   "cell_type": "code",
   "execution_count": null,
   "metadata": {},
   "outputs": [],
   "source": [
    "fig, ax = plt.subplots()\n",
    "ax = sns.countplot(s, label='Simulación', color='b')\n",
    "ax.set_xlabel(\"Número de aciertos\",fontsize=16)\n",
    "ax.set_ylabel(\"Frecuencia\",fontsize=16)\n",
    "x = range(n+1)\n",
    "ax.plot(x, binom.pmf(x, n, p)*size, 'ro', label='PDF binomial')\n",
    "ax.vlines(x, 0, binom.pmf(x, n, p)*size, colors='r', lw=5, alpha=0.5)\n",
    "plt.legend()\n",
    "plt.show()"
   ]
  },
  {
   "cell_type": "markdown",
   "metadata": {},
   "source": [
    "#### Ejemplo\n",
    "Si realizamos un cuestionario con n=15 preguntas con 4 opciones cada respuesta, y la persona que realiza la prueba responde al azar, ¿Cuál es la nota esperada? ¿Y si penalizamos con 1/4 la respuesta equivocada?"
   ]
  },
  {
   "cell_type": "code",
   "execution_count": null,
   "metadata": {},
   "outputs": [],
   "source": [
    "#Solución: sin penalización\n",
    "n = 15\n",
    "p = 1/4\n",
    "#la probabilidad de acertar x preguntas sigue una distribución binomial\n",
    "x = range(n+1)\n",
    "p_x = binom.pmf(x, n, p)"
   ]
  },
  {
   "cell_type": "code",
   "execution_count": null,
   "metadata": {},
   "outputs": [],
   "source": [
    "#Representa la probabilidad de cada nota"
   ]
  },
  {
   "cell_type": "code",
   "execution_count": null,
   "metadata": {},
   "outputs": [],
   "source": [
    "#la nota esperada es la suma de cada x por su probabilidad (sobre 15 ptos)\n",
    "nota_esperada = np.sum(x*p_x)\n",
    "nota_esperada/15*10"
   ]
  },
  {
   "cell_type": "code",
   "execution_count": null,
   "metadata": {},
   "outputs": [],
   "source": [
    "#Solución: con penalización\n",
    "\n",
    "#si acierta x preguntas, falla n-x preguntas con una penalización de -1/4\n",
    "nota_esperada = np.sum(x*p_x) - np.sum((np.ones(n+1)*n-x)*p_x*1/4)\n",
    "nota_esperada/15*10"
   ]
  },
  {
   "cell_type": "markdown",
   "metadata": {},
   "source": [
    "### Distribución multinomial\n",
    "Es una generalización de la distribución binomial, en la que cada experimento puede tomar un valor de entre  $p$  valores posibles.  \n",
    "Ejemplo: si lanzamos un dado (equilibrado) 20 veces, ¿cuántas veces sale cada valor?"
   ]
  },
  {
   "cell_type": "code",
   "execution_count": null,
   "metadata": {},
   "outputs": [],
   "source": [
    "veces = 20\n",
    "p = [1/6]*6\n",
    "s = np.random.default_rng().multinomial(veces, p, size=1)\n",
    "s"
   ]
  },
  {
   "cell_type": "code",
   "execution_count": null,
   "metadata": {},
   "outputs": [],
   "source": [
    "np.sum(s)"
   ]
  },
  {
   "cell_type": "markdown",
   "metadata": {},
   "source": [
    "Si repetimos el experimento muchas veces, dado que la probabilidad es igual para todo los lados, la tendencia es a tener una distribución uniforme de valores"
   ]
  },
  {
   "cell_type": "code",
   "execution_count": null,
   "metadata": {},
   "outputs": [],
   "source": [
    "s = np.random.default_rng().multinomial(veces, p, size=1000)\n",
    "np.mean(s, axis=0)"
   ]
  },
  {
   "cell_type": "code",
   "execution_count": null,
   "metadata": {},
   "outputs": [],
   "source": [
    "plt.bar(x=np.arange(6)+1, height=np.mean(s, axis=0))\n",
    "plt.show()"
   ]
  },
  {
   "cell_type": "code",
   "execution_count": null,
   "metadata": {},
   "outputs": [],
   "source": [
    "np.sum(np.mean(s, axis=0))"
   ]
  },
  {
   "cell_type": "markdown",
   "metadata": {},
   "source": [
    "### Distribución de Poisson\n",
    "Es una generalización de la distribución binomial para valores grandes de N.  \n",
    "Ejemplo: nº de coches que pasan por una carretera en 1 hora para una estimación de 100 coches/hora"
   ]
  },
  {
   "cell_type": "code",
   "execution_count": null,
   "metadata": {},
   "outputs": [],
   "source": [
    "from scipy.stats import poisson\n",
    "\n",
    "lam = 100\n",
    "s = np.random.default_rng().poisson(lam, size=1000) #simulamos 1000 horas\n",
    "count, bins, ignored = plt.hist(s, 25, density=True, label='Simulación')\n",
    "x = np.arange(poisson.ppf(0.01, lam),\n",
    "               poisson.ppf(0.99, lam))\n",
    "plt.plot(x, poisson.pmf(x, lam), linewidth=2, color='r', label='PDF Poisson')\n",
    "plt.legend()\n",
    "plt.show()"
   ]
  },
  {
   "cell_type": "markdown",
   "metadata": {},
   "source": [
    "## Método de Monte Carlo\n",
    "Vamos a calcular las probabilidades de ganar en el juego de Monty Hall según se cambie o no la puerta mediante simulación."
   ]
  },
  {
   "cell_type": "code",
   "execution_count": null,
   "metadata": {},
   "outputs": [],
   "source": [
    "#Monty Hall (esto lo pondremos al final)\n",
    "def juego(cambio):\n",
    "    \"\"\"Calcula la probabilidad de ganar en el juego de Monty Hall\n",
    "    en función de si cambiamos (cambio=1) o no la puerta\"\"\"\n",
    "    P = np.arange(3) #puertas posibles\n",
    "    E = np.random.choice(3, 1) #puerta elegida\n",
    "    C = np.random.choice(3, 1) #puerta con el coche, sucesos independientes\n",
    "    Monty = np.random.choice(np.setdiff1d(P, np.union1d(E, C)), 1) #selección de Monty\n",
    "    E = E if cambio==0 else np.setdiff1d(P, np.union1d(E, Monty)) #elección final\n",
    "    \n",
    "    return(E==C)"
   ]
  },
  {
   "cell_type": "code",
   "execution_count": null,
   "metadata": {},
   "outputs": [],
   "source": [
    "N = 1000\n",
    "ganados = [juego(0) for i in range(N)]\n",
    "p_ganar = np.sum(ganados) / N\n",
    "\n",
    "plt.plot(np.cumsum(ganados)/(np.arange(N)+1))\n",
    "plt.xlabel('Nº de intentos')\n",
    "plt.ylabel('% inttentos ganados')\n",
    "plt.title('porc. de intentos ganados cuando NO se cambia')\n",
    "plt.show()\n",
    "print(f'Gana un {p_ganar*100:.2f}% de las veces')"
   ]
  },
  {
   "cell_type": "code",
   "execution_count": null,
   "metadata": {},
   "outputs": [],
   "source": [
    "N = 1000\n",
    "ganados = [juego(1) for i in range(N)]\n",
    "p_ganar = np.sum(ganados) / N\n",
    "\n",
    "plt.plot(np.cumsum(ganados)/(np.arange(N)+1))\n",
    "plt.xlabel('Nº de intentos')\n",
    "plt.ylabel('% inttentos ganados')\n",
    "plt.title('porc. de intentos ganados cuando SI se cambia')\n",
    "plt.show()\n",
    "print(f'Gana un {p_ganar*100:.2f}% de las veces')"
   ]
  },
  {
   "cell_type": "markdown",
   "metadata": {},
   "source": [
    "### Estimación del valor de Pi\n",
    "Suponemos que tenemos un círculo de radio $r=1$ dentro de un cuadrado del mismo tamaño. Sabiendo que el área de un círculo tiene el valor $A=\\pi \\times r^2$,  lanzamos aleatoriamente dardos en toda la superficie del cuadrado, la proporción $p$ de dardos que quedan dentro del cículo deben de ser:\n",
    "$p=\\frac{\\pi \\times r^2}{(2r)^2}=\\frac{\\pi}{4}$   \n",
    "Luego:\n",
    "$\\pi=p \\times 4$  "
   ]
  },
  {
   "cell_type": "code",
   "execution_count": null,
   "metadata": {},
   "outputs": [],
   "source": [
    "import random as r\n",
    "import math as m\n",
    "\n",
    "# Número de dardos que caen dentro del círculo.\n",
    "inside = 0\n",
    "# Número total de dardos lanzados.\n",
    "total = 1000\n",
    "\n",
    "# Iteramos para el total de dardos.\n",
    "for i in range(0, total):\n",
    "  # Generamos posición del dardo (x, y) en el rango [0, 1] con una distr. uniforme\n",
    "  \n",
    "    x = r.random()\n",
    "    y = r.random()\n",
    "  # Incrementamos el contador si el dardo cae dentro.\n",
    "    if m.sqrt(x**2 + y**2) < 1.0:\n",
    "        inside += 1\n",
    "\n",
    "# dentro / total = pi / 4\n",
    "pi = (float(inside) / total) * 4\n",
    "print(pi)"
   ]
  },
  {
   "cell_type": "code",
   "execution_count": null,
   "metadata": {},
   "outputs": [],
   "source": [
    "#Versión vectorizada con numPy\n",
    "#COMPLETAR"
   ]
  },
  {
   "cell_type": "markdown",
   "metadata": {},
   "source": [
    "### Ejercicio\n",
    "Analizar cómo mejora la precisión de la estimación de $\\pi$ al aumentar el nº de dardos en la simulación.  \n",
    "Para eso hay que crear una función que calcule la estimación de $\\pi$ en función del nº de dardos (N) y hacer un barrido de N"
   ]
  },
  {
   "cell_type": "code",
   "execution_count": null,
   "metadata": {},
   "outputs": [],
   "source": [
    "#Mejora de la precisión de la simulación con el número de dardos\n",
    "def calcula_pi(total):\n",
    "    #COMPLETAR\n",
    "    \n",
    "    return(pi)\n",
    "\n",
    "N = 1000\n",
    "pi_estimado = [calcula_pi(i+1) for i in range(N)]"
   ]
  },
  {
   "cell_type": "code",
   "execution_count": null,
   "metadata": {},
   "outputs": [],
   "source": [
    "#Representa gráficamente"
   ]
  }
 ],
 "metadata": {
  "kernelspec": {
   "display_name": "Python 3",
   "language": "python",
   "name": "python3"
  },
  "language_info": {
   "codemirror_mode": {
    "name": "ipython",
    "version": 3
   },
   "file_extension": ".py",
   "mimetype": "text/x-python",
   "name": "python",
   "nbconvert_exporter": "python",
   "pygments_lexer": "ipython3",
   "version": "3.7.4"
  }
 },
 "nbformat": 4,
 "nbformat_minor": 4
}
