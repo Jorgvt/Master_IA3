{
 "metadata": {
  "language_info": {
   "codemirror_mode": {
    "name": "ipython",
    "version": 3
   },
   "file_extension": ".py",
   "mimetype": "text/x-python",
   "name": "python",
   "nbconvert_exporter": "python",
   "pygments_lexer": "ipython3",
   "version": "3.8.5-final"
  },
  "orig_nbformat": 2,
  "kernelspec": {
   "name": "Python 3.8.5 64-bit ('Master': conda)",
   "display_name": "Python 3.8.5 64-bit ('Master': conda)",
   "metadata": {
    "interpreter": {
     "hash": "57d46a1f3f975f92cc34d815bf69a7d3644582cc16f1cedc66cb95f17202c91e"
    }
   }
  }
 },
 "nbformat": 4,
 "nbformat_minor": 2,
 "cells": [
  {
   "source": [
    "# Probabilidad - Ejercicio 2\n",
    "\n",
    "Esta tarea consiste en analizar el dataset 'credit.csv', que contiene un conjunto de datos sobre impagos en créditos bancarios. El dataset contiene una serie de variables numéricos, otras categóricas y la variable impago ('default').\n",
    "\n",
    "Sobre este dataset tenéis que calcular:\n",
    "\n",
    "- Probabilidad de impago, P(default=2)\n",
    "- Probabilidad de impago condicionado a la variable 'housing' (considerad todos los valores de la variable)\n",
    "- Probabilidad de impago condicionado a las variables 'dependents'=2 y 'telephone'='none'\n",
    "- Probabilidad de impago condicionado a las variables 'dependents'=1, 'telephone'='yes' y 'personal_status'='female'\n",
    "\n",
    "Además, debéis comprobar si las variables 'housing' y 'property' son independientes.\n",
    "\n",
    "Debéis realizar la tarea en un Notebook de Jupyter, que debéis entregar ejecutado y sin errores."
   ],
   "cell_type": "markdown",
   "metadata": {}
  },
  {
   "source": [
    "# Resolución\n",
    "## Carga y exploración del dataset\n",
    "Lo primero que hacemos es importar los paquetes que utilzaremos y cargar el dataset que se nos proporciona. Como es un dataset con muchas columnas podemos ver sus nombres accediendo al atributo correspondiente del dataframe. Para ver la cantidad de valores diferentes que puede tomar la variable ```default``` podemos utilizar la función ```pd.unique```."
   ],
   "cell_type": "markdown",
   "metadata": {}
  },
  {
   "cell_type": "code",
   "execution_count": 1,
   "metadata": {},
   "outputs": [],
   "source": [
    "import numpy as np\n",
    "import matplotlib.pyplot as plt\n",
    "import pandas as pd"
   ]
  },
  {
   "cell_type": "code",
   "execution_count": 2,
   "metadata": {},
   "outputs": [
    {
     "output_type": "execute_result",
     "data": {
      "text/plain": [
       "  checking_balance  months_loan_duration credit_history    purpose  amount  \\\n",
       "0           < 0 DM                     6       critical   radio/tv    1169   \n",
       "1       1 - 200 DM                    48         repaid   radio/tv    5951   \n",
       "2          unknown                    12       critical  education    2096   \n",
       "3           < 0 DM                    42         repaid  furniture    7882   \n",
       "4           < 0 DM                    24        delayed  car (new)    4870   \n",
       "\n",
       "  savings_balance employment_length  installment_rate personal_status  \\\n",
       "0         unknown           > 7 yrs                 4     single male   \n",
       "1        < 100 DM         1 - 4 yrs                 2          female   \n",
       "2        < 100 DM         4 - 7 yrs                 2     single male   \n",
       "3        < 100 DM         4 - 7 yrs                 2     single male   \n",
       "4        < 100 DM         1 - 4 yrs                 3     single male   \n",
       "\n",
       "  other_debtors  ...                  property age  installment_plan  \\\n",
       "0          none  ...               real estate  67              none   \n",
       "1          none  ...               real estate  22              none   \n",
       "2          none  ...               real estate  49              none   \n",
       "3     guarantor  ...  building society savings  45              none   \n",
       "4          none  ...              unknown/none  53              none   \n",
       "\n",
       "    housing existing_credits  default  dependents  telephone foreign_worker  \\\n",
       "0       own                2        1           1        yes            yes   \n",
       "1       own                1        2           1       none            yes   \n",
       "2       own                1        1           2       none            yes   \n",
       "3  for free                1        1           2       none            yes   \n",
       "4  for free                2        2           2       none            yes   \n",
       "\n",
       "                  job  \n",
       "0    skilled employee  \n",
       "1    skilled employee  \n",
       "2  unskilled resident  \n",
       "3    skilled employee  \n",
       "4    skilled employee  \n",
       "\n",
       "[5 rows x 21 columns]"
      ],
      "text/html": "<div>\n<style scoped>\n    .dataframe tbody tr th:only-of-type {\n        vertical-align: middle;\n    }\n\n    .dataframe tbody tr th {\n        vertical-align: top;\n    }\n\n    .dataframe thead th {\n        text-align: right;\n    }\n</style>\n<table border=\"1\" class=\"dataframe\">\n  <thead>\n    <tr style=\"text-align: right;\">\n      <th></th>\n      <th>checking_balance</th>\n      <th>months_loan_duration</th>\n      <th>credit_history</th>\n      <th>purpose</th>\n      <th>amount</th>\n      <th>savings_balance</th>\n      <th>employment_length</th>\n      <th>installment_rate</th>\n      <th>personal_status</th>\n      <th>other_debtors</th>\n      <th>...</th>\n      <th>property</th>\n      <th>age</th>\n      <th>installment_plan</th>\n      <th>housing</th>\n      <th>existing_credits</th>\n      <th>default</th>\n      <th>dependents</th>\n      <th>telephone</th>\n      <th>foreign_worker</th>\n      <th>job</th>\n    </tr>\n  </thead>\n  <tbody>\n    <tr>\n      <th>0</th>\n      <td>&lt; 0 DM</td>\n      <td>6</td>\n      <td>critical</td>\n      <td>radio/tv</td>\n      <td>1169</td>\n      <td>unknown</td>\n      <td>&gt; 7 yrs</td>\n      <td>4</td>\n      <td>single male</td>\n      <td>none</td>\n      <td>...</td>\n      <td>real estate</td>\n      <td>67</td>\n      <td>none</td>\n      <td>own</td>\n      <td>2</td>\n      <td>1</td>\n      <td>1</td>\n      <td>yes</td>\n      <td>yes</td>\n      <td>skilled employee</td>\n    </tr>\n    <tr>\n      <th>1</th>\n      <td>1 - 200 DM</td>\n      <td>48</td>\n      <td>repaid</td>\n      <td>radio/tv</td>\n      <td>5951</td>\n      <td>&lt; 100 DM</td>\n      <td>1 - 4 yrs</td>\n      <td>2</td>\n      <td>female</td>\n      <td>none</td>\n      <td>...</td>\n      <td>real estate</td>\n      <td>22</td>\n      <td>none</td>\n      <td>own</td>\n      <td>1</td>\n      <td>2</td>\n      <td>1</td>\n      <td>none</td>\n      <td>yes</td>\n      <td>skilled employee</td>\n    </tr>\n    <tr>\n      <th>2</th>\n      <td>unknown</td>\n      <td>12</td>\n      <td>critical</td>\n      <td>education</td>\n      <td>2096</td>\n      <td>&lt; 100 DM</td>\n      <td>4 - 7 yrs</td>\n      <td>2</td>\n      <td>single male</td>\n      <td>none</td>\n      <td>...</td>\n      <td>real estate</td>\n      <td>49</td>\n      <td>none</td>\n      <td>own</td>\n      <td>1</td>\n      <td>1</td>\n      <td>2</td>\n      <td>none</td>\n      <td>yes</td>\n      <td>unskilled resident</td>\n    </tr>\n    <tr>\n      <th>3</th>\n      <td>&lt; 0 DM</td>\n      <td>42</td>\n      <td>repaid</td>\n      <td>furniture</td>\n      <td>7882</td>\n      <td>&lt; 100 DM</td>\n      <td>4 - 7 yrs</td>\n      <td>2</td>\n      <td>single male</td>\n      <td>guarantor</td>\n      <td>...</td>\n      <td>building society savings</td>\n      <td>45</td>\n      <td>none</td>\n      <td>for free</td>\n      <td>1</td>\n      <td>1</td>\n      <td>2</td>\n      <td>none</td>\n      <td>yes</td>\n      <td>skilled employee</td>\n    </tr>\n    <tr>\n      <th>4</th>\n      <td>&lt; 0 DM</td>\n      <td>24</td>\n      <td>delayed</td>\n      <td>car (new)</td>\n      <td>4870</td>\n      <td>&lt; 100 DM</td>\n      <td>1 - 4 yrs</td>\n      <td>3</td>\n      <td>single male</td>\n      <td>none</td>\n      <td>...</td>\n      <td>unknown/none</td>\n      <td>53</td>\n      <td>none</td>\n      <td>for free</td>\n      <td>2</td>\n      <td>2</td>\n      <td>2</td>\n      <td>none</td>\n      <td>yes</td>\n      <td>skilled employee</td>\n    </tr>\n  </tbody>\n</table>\n<p>5 rows × 21 columns</p>\n</div>"
     },
     "metadata": {},
     "execution_count": 2
    }
   ],
   "source": [
    "df = pd.read_csv(\"credit.csv\")\n",
    "df.head()"
   ]
  },
  {
   "cell_type": "code",
   "execution_count": 3,
   "metadata": {},
   "outputs": [
    {
     "output_type": "execute_result",
     "data": {
      "text/plain": [
       "Index(['checking_balance', 'months_loan_duration', 'credit_history', 'purpose',\n",
       "       'amount', 'savings_balance', 'employment_length', 'installment_rate',\n",
       "       'personal_status', 'other_debtors', 'residence_history', 'property',\n",
       "       'age', 'installment_plan', 'housing', 'existing_credits', 'default',\n",
       "       'dependents', 'telephone', 'foreign_worker', 'job'],\n",
       "      dtype='object')"
      ]
     },
     "metadata": {},
     "execution_count": 3
    }
   ],
   "source": [
    "df.columns"
   ]
  },
  {
   "cell_type": "code",
   "execution_count": 4,
   "metadata": {},
   "outputs": [
    {
     "output_type": "execute_result",
     "data": {
      "text/plain": [
       "array([1, 2], dtype=int64)"
      ]
     },
     "metadata": {},
     "execution_count": 4
    }
   ],
   "source": [
    "pd.unique(df['default'])"
   ]
  },
  {
   "source": [
    "### Probabilidad de impago, P(default=2)"
   ],
   "cell_type": "markdown",
   "metadata": {}
  },
  {
   "cell_type": "code",
   "execution_count": 5,
   "metadata": {},
   "outputs": [
    {
     "output_type": "execute_result",
     "data": {
      "text/plain": [
       "col_0    count\n",
       "default       \n",
       "1          700\n",
       "2          300"
      ],
      "text/html": "<div>\n<style scoped>\n    .dataframe tbody tr th:only-of-type {\n        vertical-align: middle;\n    }\n\n    .dataframe tbody tr th {\n        vertical-align: top;\n    }\n\n    .dataframe thead th {\n        text-align: right;\n    }\n</style>\n<table border=\"1\" class=\"dataframe\">\n  <thead>\n    <tr style=\"text-align: right;\">\n      <th>col_0</th>\n      <th>count</th>\n    </tr>\n    <tr>\n      <th>default</th>\n      <th></th>\n    </tr>\n  </thead>\n  <tbody>\n    <tr>\n      <th>1</th>\n      <td>700</td>\n    </tr>\n    <tr>\n      <th>2</th>\n      <td>300</td>\n    </tr>\n  </tbody>\n</table>\n</div>"
     },
     "metadata": {},
     "execution_count": 5
    }
   ],
   "source": [
    "df_impago = pd.crosstab(df[\"default\"], \"count\")\n",
    "df_impago"
   ]
  },
  {
   "cell_type": "code",
   "execution_count": 6,
   "metadata": {
    "tags": []
   },
   "outputs": [
    {
     "output_type": "stream",
     "name": "stdout",
     "text": [
      "La probabilidad de impago es: 0.3\n"
     ]
    }
   ],
   "source": [
    "prob_impago = df_impago.loc[2].sum() / df_impago.sum().sum()\n",
    "print(f\"La probabilidad de impago es: {prob_impago}\")"
   ]
  },
  {
   "source": [
    "### Probabilidad de impago condicionado a la variable 'housing' (considerad todos los valores de la variable)"
   ],
   "cell_type": "markdown",
   "metadata": {}
  },
  {
   "cell_type": "code",
   "execution_count": 7,
   "metadata": {},
   "outputs": [
    {
     "output_type": "execute_result",
     "data": {
      "text/plain": [
       "housing  for free  own  rent\n",
       "default                     \n",
       "1              64  527   109\n",
       "2              44  186    70"
      ],
      "text/html": "<div>\n<style scoped>\n    .dataframe tbody tr th:only-of-type {\n        vertical-align: middle;\n    }\n\n    .dataframe tbody tr th {\n        vertical-align: top;\n    }\n\n    .dataframe thead th {\n        text-align: right;\n    }\n</style>\n<table border=\"1\" class=\"dataframe\">\n  <thead>\n    <tr style=\"text-align: right;\">\n      <th>housing</th>\n      <th>for free</th>\n      <th>own</th>\n      <th>rent</th>\n    </tr>\n    <tr>\n      <th>default</th>\n      <th></th>\n      <th></th>\n      <th></th>\n    </tr>\n  </thead>\n  <tbody>\n    <tr>\n      <th>1</th>\n      <td>64</td>\n      <td>527</td>\n      <td>109</td>\n    </tr>\n    <tr>\n      <th>2</th>\n      <td>44</td>\n      <td>186</td>\n      <td>70</td>\n    </tr>\n  </tbody>\n</table>\n</div>"
     },
     "metadata": {},
     "execution_count": 7
    }
   ],
   "source": [
    "df_impago_housing = pd.crosstab(df[\"default\"], df[\"housing\"])\n",
    "df_impago_housing"
   ]
  },
  {
   "source": [
    "A partir de la expresión de la probabilidad condicionada podemos escribirla para este caso particular: \n",
    "$$ P(A|B) = \\frac{P(A \\cap B)}{P(B)} \\rightarrow P(default = 2|housing) = \\frac{P(default = 2 \\cap housing)}{P(housing)}$$\n",
    "Para obtener las $P(default = 2 \\cap housing)$ solamente tenemos que mirar la tabla y dividir por el número total de elementos, y para $P(housing)$ sumamos las columnas y divimos entre el total de elementos.\n",
    "\n",
    "Como podemos observar, en ambos casos dividimos por el total de elementos, por lo que podríamos mejorar el proceso si normlizasemos la tabla anterior al total de elementos y así tendríamos directamente las probabilidad, pero en este ejercicio lo vamos a dejar así para familizarizarnos con el cálculo de las probabilidades."
   ],
   "cell_type": "markdown",
   "metadata": {}
  },
  {
   "cell_type": "code",
   "execution_count": 8,
   "metadata": {
    "tags": []
   },
   "outputs": [
    {
     "output_type": "stream",
     "name": "stdout",
     "text": [
      "La probabilidad de impago condicionado a for free es: 0.41\nLa probabilidad de impago condicionado a own es: 0.26\nLa probabilidad de impago condicionado a rent es: 0.39\n"
     ]
    }
   ],
   "source": [
    "p_impago_housing = [(df_impago_housing.loc[2,housing] / df_impago_housing.sum().sum()) / (df_impago_housing[housing].sum() / df_impago_housing.sum().sum()) for housing in df_impago_housing.columns]\n",
    "for i, housing in enumerate(df_impago_housing.columns):\n",
    "    print(f\"La probabilidad de impago condicionado a {housing} es: {p_impago_housing[i]:.2f}\")"
   ]
  },
  {
   "cell_type": "code",
   "execution_count": 9,
   "metadata": {},
   "outputs": [
    {
     "output_type": "execute_result",
     "data": {
      "text/plain": [
       "dependents    1         2    \n",
       "telephone  none  yes none yes\n",
       "default                      \n",
       "1           349  242   60  49\n",
       "2           152  102   35  11"
      ],
      "text/html": "<div>\n<style scoped>\n    .dataframe tbody tr th:only-of-type {\n        vertical-align: middle;\n    }\n\n    .dataframe tbody tr th {\n        vertical-align: top;\n    }\n\n    .dataframe thead tr th {\n        text-align: left;\n    }\n\n    .dataframe thead tr:last-of-type th {\n        text-align: right;\n    }\n</style>\n<table border=\"1\" class=\"dataframe\">\n  <thead>\n    <tr>\n      <th>dependents</th>\n      <th colspan=\"2\" halign=\"left\">1</th>\n      <th colspan=\"2\" halign=\"left\">2</th>\n    </tr>\n    <tr>\n      <th>telephone</th>\n      <th>none</th>\n      <th>yes</th>\n      <th>none</th>\n      <th>yes</th>\n    </tr>\n    <tr>\n      <th>default</th>\n      <th></th>\n      <th></th>\n      <th></th>\n      <th></th>\n    </tr>\n  </thead>\n  <tbody>\n    <tr>\n      <th>1</th>\n      <td>349</td>\n      <td>242</td>\n      <td>60</td>\n      <td>49</td>\n    </tr>\n    <tr>\n      <th>2</th>\n      <td>152</td>\n      <td>102</td>\n      <td>35</td>\n      <td>11</td>\n    </tr>\n  </tbody>\n</table>\n</div>"
     },
     "metadata": {},
     "execution_count": 9
    }
   ],
   "source": [
    "df_impago_dep_tel = pd.crosstab(df[\"default\"], [df[\"dependents\"], df[\"telephone\"]])\n",
    "df_impago_dep_tel"
   ]
  },
  {
   "source": [
    "### Probabilidad de impago condicionado a las variables 'dependents'=2 y 'telephone'='none'"
   ],
   "cell_type": "markdown",
   "metadata": {}
  },
  {
   "cell_type": "code",
   "execution_count": 10,
   "metadata": {
    "tags": []
   },
   "outputs": [
    {
     "output_type": "stream",
     "name": "stdout",
     "text": [
      "La probabilidad de impago condicionada a dependentes = 2 y telephone = 'none' es: 0.37\n"
     ]
    }
   ],
   "source": [
    "p_imp_2_none = df_impago_dep_tel.loc[2][(2, \"none\")] / df_impago_dep_tel.sum().sum()\n",
    "p_2_none = df_impago_dep_tel[(2, \"none\")].sum() / df_impago_dep_tel.sum().sum()\n",
    "\n",
    "p_imp_cond_2_none = p_imp_2_none / p_2_none\n",
    "print(f\"La probabilidad de impago condicionada a dependentes = 2 y telephone = 'none' es: {p_imp_cond_2_none:.2f}\")"
   ]
  },
  {
   "source": [
    "### Probabilidad de impago condicionado a las variables 'dependents'=1, 'telephone'='yes' y 'personal_status'='female'"
   ],
   "cell_type": "markdown",
   "metadata": {}
  },
  {
   "cell_type": "code",
   "execution_count": 11,
   "metadata": {},
   "outputs": [
    {
     "output_type": "execute_result",
     "data": {
      "text/plain": [
       "dependents                  1                                                \\\n",
       "telephone                none                                           yes   \n",
       "personal_status divorced male female married male single male divorced male   \n",
       "default                                                                       \n",
       "1                          14    123           43         169            13   \n",
       "2                          12     69           15          56             8   \n",
       "\n",
       "dependents                                                  2         \\\n",
       "telephone                                                none          \n",
       "personal_status female married male single male divorced male female   \n",
       "default                                                                \n",
       "1                   70           23         136             2      5   \n",
       "2                   34            9          51             0      5   \n",
       "\n",
       "dependents                                                                  \\\n",
       "telephone                                          yes                       \n",
       "personal_status married male single male divorced male female married male   \n",
       "default                                                                      \n",
       "1                          0          53             1      3            1   \n",
       "2                          1          29             0      1            0   \n",
       "\n",
       "dependents                   \n",
       "telephone                    \n",
       "personal_status single male  \n",
       "default                      \n",
       "1                        44  \n",
       "2                        10  "
      ],
      "text/html": "<div>\n<style scoped>\n    .dataframe tbody tr th:only-of-type {\n        vertical-align: middle;\n    }\n\n    .dataframe tbody tr th {\n        vertical-align: top;\n    }\n\n    .dataframe thead tr th {\n        text-align: left;\n    }\n\n    .dataframe thead tr:last-of-type th {\n        text-align: right;\n    }\n</style>\n<table border=\"1\" class=\"dataframe\">\n  <thead>\n    <tr>\n      <th>dependents</th>\n      <th colspan=\"8\" halign=\"left\">1</th>\n      <th colspan=\"8\" halign=\"left\">2</th>\n    </tr>\n    <tr>\n      <th>telephone</th>\n      <th colspan=\"4\" halign=\"left\">none</th>\n      <th colspan=\"4\" halign=\"left\">yes</th>\n      <th colspan=\"4\" halign=\"left\">none</th>\n      <th colspan=\"4\" halign=\"left\">yes</th>\n    </tr>\n    <tr>\n      <th>personal_status</th>\n      <th>divorced male</th>\n      <th>female</th>\n      <th>married male</th>\n      <th>single male</th>\n      <th>divorced male</th>\n      <th>female</th>\n      <th>married male</th>\n      <th>single male</th>\n      <th>divorced male</th>\n      <th>female</th>\n      <th>married male</th>\n      <th>single male</th>\n      <th>divorced male</th>\n      <th>female</th>\n      <th>married male</th>\n      <th>single male</th>\n    </tr>\n    <tr>\n      <th>default</th>\n      <th></th>\n      <th></th>\n      <th></th>\n      <th></th>\n      <th></th>\n      <th></th>\n      <th></th>\n      <th></th>\n      <th></th>\n      <th></th>\n      <th></th>\n      <th></th>\n      <th></th>\n      <th></th>\n      <th></th>\n      <th></th>\n    </tr>\n  </thead>\n  <tbody>\n    <tr>\n      <th>1</th>\n      <td>14</td>\n      <td>123</td>\n      <td>43</td>\n      <td>169</td>\n      <td>13</td>\n      <td>70</td>\n      <td>23</td>\n      <td>136</td>\n      <td>2</td>\n      <td>5</td>\n      <td>0</td>\n      <td>53</td>\n      <td>1</td>\n      <td>3</td>\n      <td>1</td>\n      <td>44</td>\n    </tr>\n    <tr>\n      <th>2</th>\n      <td>12</td>\n      <td>69</td>\n      <td>15</td>\n      <td>56</td>\n      <td>8</td>\n      <td>34</td>\n      <td>9</td>\n      <td>51</td>\n      <td>0</td>\n      <td>5</td>\n      <td>1</td>\n      <td>29</td>\n      <td>0</td>\n      <td>1</td>\n      <td>0</td>\n      <td>10</td>\n    </tr>\n  </tbody>\n</table>\n</div>"
     },
     "metadata": {},
     "execution_count": 11
    }
   ],
   "source": [
    "df_impago_dep_tel_ps = pd.crosstab(df[\"default\"], [df[\"dependents\"], df[\"telephone\"], df[\"personal_status\"]])\n",
    "df_impago_dep_tel_ps"
   ]
  },
  {
   "cell_type": "code",
   "execution_count": 12,
   "metadata": {
    "tags": []
   },
   "outputs": [
    {
     "output_type": "stream",
     "name": "stdout",
     "text": [
      "La probabilidad de impago condicionada a dependentes = 1, telephone = 'yes' y personal_status = 'female' es: 0.33\n"
     ]
    }
   ],
   "source": [
    "p_imp_1_yes_fem = df_impago_dep_tel_ps.loc[2][(1, 'yes', 'female')] / df_impago_dep_tel_ps.sum().sum()\n",
    "p_1_yes_fem = df_impago_dep_tel_ps[(1, 'yes', 'female')].sum() / df_impago_dep_tel_ps.sum().sum()\n",
    "\n",
    "p_imp_cond_1_yes_fem = p_imp_1_yes_fem / p_1_yes_fem\n",
    "print(f\"La probabilidad de impago condicionada a dependentes = 1, telephone = 'yes' y personal_status = 'female' es: {p_imp_cond_1_yes_fem:.2f}\")"
   ]
  },
  {
   "source": [
    "### Comprobar si las variables 'housing' y 'property' son independientes"
   ],
   "cell_type": "markdown",
   "metadata": {}
  },
  {
   "source": [
    "Sabemos que dos variables son independientes cuándo la probabilidad conjunta es igual al producto de las probabilidades de cada uno de ellos. Matemáticamente esto se expresa como:\n",
    "$$ P(A \\cap B) = P(A)P(B) $$\n",
    "Introduciendo esta expresión en la ecuación de la probabilidad condicionada:\n",
    "$$ P(A|B) = \\frac{P(A \\cap B)}{P(B)} = \\frac{P(A)P(B)}{P(B)} = P(A) $$\n",
    "Partiendo de esto, si queremos comprobar si las variabes *housing* y *property* son independientes, podemos calcular su probablidad y comprobar si se cumple la igualdad anterior."
   ],
   "cell_type": "markdown",
   "metadata": {}
  },
  {
   "cell_type": "code",
   "execution_count": 13,
   "metadata": {},
   "outputs": [
    {
     "output_type": "execute_result",
     "data": {
      "text/plain": [
       "property  building society savings  other  real estate  unknown/none\n",
       "housing                                                             \n",
       "for free                         2      1            1           104\n",
       "own                            184    271          226            32\n",
       "rent                            46     60           55            18"
      ],
      "text/html": "<div>\n<style scoped>\n    .dataframe tbody tr th:only-of-type {\n        vertical-align: middle;\n    }\n\n    .dataframe tbody tr th {\n        vertical-align: top;\n    }\n\n    .dataframe thead th {\n        text-align: right;\n    }\n</style>\n<table border=\"1\" class=\"dataframe\">\n  <thead>\n    <tr style=\"text-align: right;\">\n      <th>property</th>\n      <th>building society savings</th>\n      <th>other</th>\n      <th>real estate</th>\n      <th>unknown/none</th>\n    </tr>\n    <tr>\n      <th>housing</th>\n      <th></th>\n      <th></th>\n      <th></th>\n      <th></th>\n    </tr>\n  </thead>\n  <tbody>\n    <tr>\n      <th>for free</th>\n      <td>2</td>\n      <td>1</td>\n      <td>1</td>\n      <td>104</td>\n    </tr>\n    <tr>\n      <th>own</th>\n      <td>184</td>\n      <td>271</td>\n      <td>226</td>\n      <td>32</td>\n    </tr>\n    <tr>\n      <th>rent</th>\n      <td>46</td>\n      <td>60</td>\n      <td>55</td>\n      <td>18</td>\n    </tr>\n  </tbody>\n</table>\n</div>"
     },
     "metadata": {},
     "execution_count": 13
    }
   ],
   "source": [
    "df_housing_property = pd.crosstab(df[\"housing\"], df[\"property\"])\n",
    "df_housing_property"
   ]
  },
  {
   "cell_type": "code",
   "execution_count": 14,
   "metadata": {
    "tags": []
   },
   "outputs": [
    {
     "output_type": "stream",
     "name": "stdout",
     "text": [
      "La probabilidad de housing = own es: 0.713.\nLa probabilidad de property = real estate es: 0.282.\n"
     ]
    }
   ],
   "source": [
    "p_own = len(df[df[\"housing\"] == \"own\"]) / len(df)\n",
    "p_realestate = len(df[df[\"property\"] == \"real estate\"]) / len(df)\n",
    "\n",
    "print(f\"La probabilidad de housing = own es: {p_own}.\\nLa probabilidad de property = real estate es: {p_realestate}.\")"
   ]
  },
  {
   "cell_type": "code",
   "execution_count": 15,
   "metadata": {
    "tags": []
   },
   "outputs": [
    {
     "output_type": "stream",
     "name": "stdout",
     "text": [
      "La probabilidad de own condicionada a real estate es: 0.80\nMientras que la probabilidad de own es: 0.71\nPor lo que no se cumple la igualdad y no son variables independientes.\n"
     ]
    }
   ],
   "source": [
    "p_own = df_housing_property.loc[\"own\"].sum() / df_housing_property.sum().sum()\n",
    "p_own_re = df_housing_property.loc[\"own\"][\"real estate\"] / df_housing_property.sum().sum()\n",
    "p_re = df_housing_property[\"real estate\"].sum() / df_housing_property.sum().sum()\n",
    "\n",
    "p_own_cond_re = p_own_re / p_re\n",
    "\n",
    "print(f\"La probabilidad de own condicionada a real estate es: {p_own_cond_re:.2f}\")\n",
    "print(f\"Mientras que la probabilidad de own es: {p_own:.2f}\")\n",
    "\n",
    "if p_own == p_own_cond_re:\n",
    "    print(\"Por lo que se cumple la igualdad y son variables independientes.\")\n",
    "else:\n",
    "    print(\"Por lo que no se cumple la igualdad y no son variables independientes.\")"
   ]
  },
  {
   "source": [
    "En este caso hemos decidido comprobarlo utilizando \"onw\" y \"real state\" pero el resultado sería el mismo independientemente del 'housing' y el 'property' elegidos."
   ],
   "cell_type": "markdown",
   "metadata": {}
  },
  {
   "cell_type": "code",
   "execution_count": null,
   "metadata": {},
   "outputs": [],
   "source": []
  }
 ]
}